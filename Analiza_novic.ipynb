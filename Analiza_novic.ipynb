{
 "cells": [
  {
   "cell_type": "markdown",
   "metadata": {
    "collapsed": true
   },
   "source": [
    "# Analiza podstrani(subredditov) r/news in r/worldnews spletne strani Reddit"
   ]
  },
  {
   "cell_type": "markdown",
   "metadata": {},
   "source": [
    "Reddit je ameriška zabavna, družbena in novičarska spletna stran.\n",
    "Na Reddit uporabniki objavljajo razne povezave (večinoma na druge spletne strani), ki jih lahko drugi uporabniki ocenijo pozitivno (upvote) ali negativno (downvote) in komentirajo. Razdeljena je na več podstrani-subredditov.\n",
    "\n",
    "Podstrani r/news in r/worldnews sta privzeti. Objave privzetih strani se pokažejo neregistriranim in novim uporabnikom na naslovnici(front page), ker se večina uporabnikov od podstrani ne odjavi, le prijavi, imajo tako privzete strani avtomatsko največ uporabnikov.\n",
    "\n",
    "Primerjala sem novice dveh takih večjih podstrani r/news-novice in r/worldnews-svetovne novice. Podstrani so razdeljene na več delov, analizirala sem top-najboljše in contraversial-kontraverzno.\n",
    "\n",
    "## Hipoteze\n",
    "    - 1. r/news bo imel več ameriških virov novic kot r/worldnews.\n",
    "    - 2. Viri r/worldnews bodo kvalitetnejše od virov r/news. (The Guardian > FoxNews ) \n",
    "    - 3. Novice iz predela kontraverzno bodo iz tabloidov, rumenega tiska ali z zavajujočo vsebino*.\n",
    "## Zanimivosti\n",
    "    - Kateri viri so najbolje ocenjeni v posamezni kategoriji?\n",
    "    - Kratek pregled 5 najbolje ocenjenih novic vsake kategorije\n",
    "    - Kateri vir je najbolje ocenjen v r/news in r/worldnews skupaj\n",
    "    - Kateri viri najbolj odstopajo (so izrazito bolje ocenjeni v posamezni kategoriji)\n",
    "    - Primerjava povprečnih ocen in komentarjev najpogostejših virov, ki se pojavljajo v kategorijah kontraverzno in najboljse\n",
    "    \n",
    "\\* Kontraverzne/manj kvalitetnejše vire sem določila s pomočjo lastnih izkušenj prebiranja novic in s pomočjo opisov škandalov na Wikipediji (<https://en.wikipedia.org/wiki/Main_Page>)."
   ]
  },
  {
   "cell_type": "code",
   "execution_count": 74,
   "metadata": {
    "collapsed": false
   },
   "outputs": [],
   "source": [
    "import pandas as pd\n",
    "%matplotlib inline\n",
    "pd.set_option('max_colwidth',400)"
   ]
  },
  {
   "cell_type": "code",
   "execution_count": 75,
   "metadata": {
    "collapsed": false
   },
   "outputs": [],
   "source": [
    "news_con=pd.read_csv('news_con.csv')\n",
    "news_top=pd.read_csv('news_top.csv')\n",
    "wnews_con=pd.read_csv('wnews_con.csv')\n",
    "wnews_top=pd.read_csv('wnews_top.csv')"
   ]
  },
  {
   "cell_type": "code",
   "execution_count": 76,
   "metadata": {
    "collapsed": false
   },
   "outputs": [],
   "source": [
    "news_con_viri=news_con.groupby(['Vir'],as_index=False)\n",
    "news_top_viri=news_top.groupby(['Vir'],as_index=False)\n",
    "wnews_con_viri=wnews_con.groupby(['Vir'],as_index=False)\n",
    "wnews_top_viri=wnews_top.groupby(['Vir'],as_index=False)"
   ]
  },
  {
   "cell_type": "markdown",
   "metadata": {},
   "source": [
    "### Hipoteza 1: r/news bo imel več ameriških virov novic kot r/worldnews\n",
    "Že v samem opisu podstrani r/worldnews je zapisano, da stran dovoljuje povezave na vse novice, razen notranjih zadev in politike ZDA. Tako še s preštetjem pojavitve virov potrdimo, da hipoteza drži."
   ]
  },
  {
   "cell_type": "markdown",
   "metadata": {},
   "source": [
    "Združila sem skupaj število novic posameznega vira r/news in r/worldnews. Tako sem dobila vpogled v seznam najpogostejših virov na posamezni strani."
   ]
  },
  {
   "cell_type": "code",
   "execution_count": 77,
   "metadata": {
    "collapsed": false
   },
   "outputs": [],
   "source": [
    "viri_news=pd.concat([news_con,news_top]).groupby(by='Vir',as_index=False).count()\n",
    "viri_wnews=pd.concat([wnews_con,wnews_top]).groupby(by='Vir',as_index=False).count()"
   ]
  },
  {
   "cell_type": "code",
   "execution_count": 5,
   "metadata": {
    "collapsed": false,
    "scrolled": false
   },
   "outputs": [
    {
     "data": {
      "text/html": [
       "<div>\n",
       "<table border=\"1\" class=\"dataframe\">\n",
       "  <thead>\n",
       "    <tr style=\"text-align: right;\">\n",
       "      <th></th>\n",
       "      <th>Naslov</th>\n",
       "    </tr>\n",
       "    <tr>\n",
       "      <th>Vir</th>\n",
       "      <th></th>\n",
       "    </tr>\n",
       "  </thead>\n",
       "  <tbody>\n",
       "    <tr>\n",
       "      <th>washingtonpost.com</th>\n",
       "      <td>58</td>\n",
       "    </tr>\n",
       "    <tr>\n",
       "      <th>theguardian.com</th>\n",
       "      <td>48</td>\n",
       "    </tr>\n",
       "    <tr>\n",
       "      <th>foxnews.com</th>\n",
       "      <td>25</td>\n",
       "    </tr>\n",
       "    <tr>\n",
       "      <th>nytimes.com</th>\n",
       "      <td>23</td>\n",
       "    </tr>\n",
       "    <tr>\n",
       "      <th>news.yahoo.com</th>\n",
       "      <td>22</td>\n",
       "    </tr>\n",
       "    <tr>\n",
       "      <th>nbcnews.com</th>\n",
       "      <td>21</td>\n",
       "    </tr>\n",
       "    <tr>\n",
       "      <th>abcnews.go.com</th>\n",
       "      <td>19</td>\n",
       "    </tr>\n",
       "    <tr>\n",
       "      <th>cnn.com</th>\n",
       "      <td>19</td>\n",
       "    </tr>\n",
       "    <tr>\n",
       "      <th>independent.co.uk</th>\n",
       "      <td>19</td>\n",
       "    </tr>\n",
       "    <tr>\n",
       "      <th>usatoday.com</th>\n",
       "      <td>17</td>\n",
       "    </tr>\n",
       "  </tbody>\n",
       "</table>\n",
       "</div>"
      ],
      "text/plain": [
       "                    Naslov\n",
       "Vir                       \n",
       "washingtonpost.com      58\n",
       "theguardian.com         48\n",
       "foxnews.com             25\n",
       "nytimes.com             23\n",
       "news.yahoo.com          22\n",
       "nbcnews.com             21\n",
       "abcnews.go.com          19\n",
       "cnn.com                 19\n",
       "independent.co.uk       19\n",
       "usatoday.com            17"
      ]
     },
     "execution_count": 5,
     "metadata": {},
     "output_type": "execute_result"
    }
   ],
   "source": [
    "pogosti_news=viri_news[['Vir','Naslov']].sort_values(by='Naslov',ascending=False).head(n=10).set_index(['Vir'])\n",
    "pogosti_news"
   ]
  },
  {
   "cell_type": "code",
   "execution_count": 36,
   "metadata": {
    "collapsed": false
   },
   "outputs": [
    {
     "data": {
      "text/plain": [
       "<matplotlib.axes._subplots.AxesSubplot at 0x7f8c1ec60b00>"
      ]
     },
     "execution_count": 36,
     "metadata": {},
     "output_type": "execute_result"
    },
    {
     "data": {
      "image/png": "[encoded data removed]",
      "text/plain": [
       "<matplotlib.figure.Figure at 0x7f8c1eb75080>"
      ]
     },
     "metadata": {},
     "output_type": "display_data"
    }
   ],
   "source": [
    "pogosti_news.plot(kind='barh',figsize =(13,7),fontsize=13)"
   ]
  },
  {
   "cell_type": "code",
   "execution_count": 16,
   "metadata": {
    "collapsed": false,
    "scrolled": false
   },
   "outputs": [
    {
     "data": {
      "text/html": [
       "<div>\n",
       "<table border=\"1\" class=\"dataframe\">\n",
       "  <thead>\n",
       "    <tr style=\"text-align: right;\">\n",
       "      <th></th>\n",
       "      <th>Naslov</th>\n",
       "    </tr>\n",
       "    <tr>\n",
       "      <th>Vir</th>\n",
       "      <th></th>\n",
       "    </tr>\n",
       "  </thead>\n",
       "  <tbody>\n",
       "    <tr>\n",
       "      <th>theguardian.com</th>\n",
       "      <td>64</td>\n",
       "    </tr>\n",
       "    <tr>\n",
       "      <th>rt.com</th>\n",
       "      <td>54</td>\n",
       "    </tr>\n",
       "    <tr>\n",
       "      <th>bbc.co.uk</th>\n",
       "      <td>36</td>\n",
       "    </tr>\n",
       "    <tr>\n",
       "      <th>dailymail.co.uk</th>\n",
       "      <td>31</td>\n",
       "    </tr>\n",
       "    <tr>\n",
       "      <th>independent.co.uk</th>\n",
       "      <td>30</td>\n",
       "    </tr>\n",
       "    <tr>\n",
       "      <th>bbc.com</th>\n",
       "      <td>29</td>\n",
       "    </tr>\n",
       "    <tr>\n",
       "      <th>nytimes.com</th>\n",
       "      <td>24</td>\n",
       "    </tr>\n",
       "    <tr>\n",
       "      <th>reuters.com</th>\n",
       "      <td>21</td>\n",
       "    </tr>\n",
       "    <tr>\n",
       "      <th>self.worldnews</th>\n",
       "      <td>16</td>\n",
       "    </tr>\n",
       "    <tr>\n",
       "      <th>washingtonpost.com</th>\n",
       "      <td>15</td>\n",
       "    </tr>\n",
       "  </tbody>\n",
       "</table>\n",
       "</div>"
      ],
      "text/plain": [
       "                    Naslov\n",
       "Vir                       \n",
       "theguardian.com         64\n",
       "rt.com                  54\n",
       "bbc.co.uk               36\n",
       "dailymail.co.uk         31\n",
       "independent.co.uk       30\n",
       "bbc.com                 29\n",
       "nytimes.com             24\n",
       "reuters.com             21\n",
       "self.worldnews          16\n",
       "washingtonpost.com      15"
      ]
     },
     "execution_count": 16,
     "metadata": {},
     "output_type": "execute_result"
    }
   ],
   "source": [
    "pogosti_wnews=viri_wnews[['Vir','Naslov']].sort_values(by='Naslov',ascending=False).head(n=10).set_index(['Vir'])\n",
    "pogosti_wnews"
   ]
  },
  {
   "cell_type": "code",
   "execution_count": 37,
   "metadata": {
    "collapsed": false
   },
   "outputs": [
    {
     "data": {
      "text/plain": [
       "<matplotlib.axes._subplots.AxesSubplot at 0x7f8c1eb1a828>"
      ]
     },
     "execution_count": 37,
     "metadata": {},
     "output_type": "execute_result"
    },
    {
     "data": {
      "image/png": "[encoded data removed]",
      "text/plain": [
       "<matplotlib.figure.Figure at 0x7f8c1eaf5198>"
      ]
     },
     "metadata": {},
     "output_type": "display_data"
    }
   ],
   "source": [
    "pogosti_wnews.plot(kind='barh',figsize =(10,7),fontsize=15)"
   ]
  },
  {
   "cell_type": "markdown",
   "metadata": {},
   "source": [
    "Komentar: \n",
    "(Analiziram samo 10 najpogostejših virov)\n",
    "V razdelku r/news se pojavi samo 2 neameriška vira (theguardian.com in independent.co.uk).\n",
    "V razdelku r/worldnews sta tudi samo 2 ameriška vira(nytimes.com, washingtonpost.com) uvrstila med 10 najpogostejših.\n",
    "\n",
    "Predvidevem lahko, da so bralci in naročniki r/news večinoma prebivalci ZDA, ki jih seveda zanimajo novice povezane z ZDA, bralci r/worldnews pa so ostali obiskovalci Reddita.\n",
    "\n",
    "Moja hipoteza je potrjena. V r/news je 8 ameriških virov, v r/wnews pa le 2."
   ]
  },
  {
   "cell_type": "markdown",
   "metadata": {},
   "source": [
    "###  Hipoteza 2:Viri r/worldnews bodo kvalitetnejše od virov r/news.\n"
   ]
  },
  {
   "cell_type": "markdown",
   "metadata": {},
   "source": [
    "S pomočjo prejšnih tabel ugotovimo, da se med najpogostejšimi viri r/news izstopa samo foxnews.com, za katerega bi lahko trdili, da ne poroča najbolj objektivneje.\n",
    "\n",
    "Med najpogostejšimi viri r/worldnews zasledimo 2, ki bi ju lahko uvrstili med pristranski in rumeni tisk. To sta na drugem mestu po pogostosti ruska spletna stran rt.com in britanski tabloid dailymail.co.uk.\n",
    "\n",
    "Moja hipoteza ne drži. Viri r/worldnews in r/news so si enakovredni."
   ]
  },
  {
   "cell_type": "markdown",
   "metadata": {},
   "source": [
    "### Hipoteza 3 : Novice iz predela kontraverzno bodo iz tabloidov, rumenega tiska ali z zavajujočo vsebino.\n",
    "Sedaj združim vire novic kontraverzno in najboljše."
   ]
  },
  {
   "cell_type": "code",
   "execution_count": 139,
   "metadata": {
    "collapsed": false
   },
   "outputs": [],
   "source": [
    "novice_kontraverzno=pd.concat([wnews_con,news_con])\n",
    "novice_najboljse=pd.concat([wnews_top,news_top])\n",
    "novice_kontraverzno_viri=pd.concat([wnews_con,news_con]).groupby(by='Vir',as_index=False).count()\n",
    "novice_najboljse_viri=pd.concat([wnews_top,news_top]).groupby(by='Vir',as_index=False).count()\n",
    "novice_kontraverzno['povprecje']=(novice_kontraverzno.Komentarji+novice_kontraverzno.Score)/2\n",
    "novice_najboljse['povprecje']=(novice_najboljse.Komentarji+novice_najboljse.Score)/2"
   ]
  },
  {
   "cell_type": "code",
   "execution_count": 140,
   "metadata": {
    "collapsed": false,
    "scrolled": true
   },
   "outputs": [
    {
     "data": {
      "text/html": [
       "<div>\n",
       "<table border=\"1\" class=\"dataframe\">\n",
       "  <thead>\n",
       "    <tr style=\"text-align: right;\">\n",
       "      <th></th>\n",
       "      <th>Vir</th>\n",
       "      <th>Naslov</th>\n",
       "    </tr>\n",
       "  </thead>\n",
       "  <tbody>\n",
       "    <tr>\n",
       "      <th>396</th>\n",
       "      <td>rt.com</td>\n",
       "      <td>50</td>\n",
       "    </tr>\n",
       "    <tr>\n",
       "      <th>95</th>\n",
       "      <td>dailymail.co.uk</td>\n",
       "      <td>34</td>\n",
       "    </tr>\n",
       "    <tr>\n",
       "      <th>440</th>\n",
       "      <td>theguardian.com</td>\n",
       "      <td>28</td>\n",
       "    </tr>\n",
       "    <tr>\n",
       "      <th>168</th>\n",
       "      <td>foxnews.com</td>\n",
       "      <td>22</td>\n",
       "    </tr>\n",
       "    <tr>\n",
       "      <th>508</th>\n",
       "      <td>washingtonpost.com</td>\n",
       "      <td>21</td>\n",
       "    </tr>\n",
       "    <tr>\n",
       "      <th>43</th>\n",
       "      <td>bbc.co.uk</td>\n",
       "      <td>20</td>\n",
       "    </tr>\n",
       "    <tr>\n",
       "      <th>328</th>\n",
       "      <td>news.yahoo.com</td>\n",
       "      <td>18</td>\n",
       "    </tr>\n",
       "    <tr>\n",
       "      <th>345</th>\n",
       "      <td>nytimes.com</td>\n",
       "      <td>17</td>\n",
       "    </tr>\n",
       "    <tr>\n",
       "      <th>215</th>\n",
       "      <td>independent.co.uk</td>\n",
       "      <td>16</td>\n",
       "    </tr>\n",
       "    <tr>\n",
       "      <th>469</th>\n",
       "      <td>timesofisrael.com</td>\n",
       "      <td>15</td>\n",
       "    </tr>\n",
       "  </tbody>\n",
       "</table>\n",
       "</div>"
      ],
      "text/plain": [
       "                    Vir  Naslov\n",
       "396              rt.com      50\n",
       "95      dailymail.co.uk      34\n",
       "440     theguardian.com      28\n",
       "168         foxnews.com      22\n",
       "508  washingtonpost.com      21\n",
       "43            bbc.co.uk      20\n",
       "328      news.yahoo.com      18\n",
       "345         nytimes.com      17\n",
       "215   independent.co.uk      16\n",
       "469   timesofisrael.com      15"
      ]
     },
     "execution_count": 140,
     "metadata": {},
     "output_type": "execute_result"
    }
   ],
   "source": [
    "naj10_con=novice_kontraverzno_viri[['Vir','Naslov']].sort_values(by='Naslov',ascending=False).head(n=10)\n",
    "naj10_con"
   ]
  },
  {
   "cell_type": "code",
   "execution_count": 141,
   "metadata": {
    "collapsed": false,
    "scrolled": false
   },
   "outputs": [
    {
     "data": {
      "text/html": [
       "<div>\n",
       "<table border=\"1\" class=\"dataframe\">\n",
       "  <thead>\n",
       "    <tr style=\"text-align: right;\">\n",
       "      <th></th>\n",
       "      <th>Vir</th>\n",
       "      <th>Naslov</th>\n",
       "    </tr>\n",
       "  </thead>\n",
       "  <tbody>\n",
       "    <tr>\n",
       "      <th>366</th>\n",
       "      <td>theguardian.com</td>\n",
       "      <td>84</td>\n",
       "    </tr>\n",
       "    <tr>\n",
       "      <th>415</th>\n",
       "      <td>washingtonpost.com</td>\n",
       "      <td>52</td>\n",
       "    </tr>\n",
       "    <tr>\n",
       "      <th>28</th>\n",
       "      <td>bbc.com</td>\n",
       "      <td>33</td>\n",
       "    </tr>\n",
       "    <tr>\n",
       "      <th>173</th>\n",
       "      <td>independent.co.uk</td>\n",
       "      <td>33</td>\n",
       "    </tr>\n",
       "    <tr>\n",
       "      <th>284</th>\n",
       "      <td>nytimes.com</td>\n",
       "      <td>30</td>\n",
       "    </tr>\n",
       "    <tr>\n",
       "      <th>309</th>\n",
       "      <td>reuters.com</td>\n",
       "      <td>27</td>\n",
       "    </tr>\n",
       "    <tr>\n",
       "      <th>27</th>\n",
       "      <td>bbc.co.uk</td>\n",
       "      <td>26</td>\n",
       "    </tr>\n",
       "    <tr>\n",
       "      <th>254</th>\n",
       "      <td>nbcnews.com</td>\n",
       "      <td>19</td>\n",
       "    </tr>\n",
       "    <tr>\n",
       "      <th>268</th>\n",
       "      <td>news.yahoo.com</td>\n",
       "      <td>18</td>\n",
       "    </tr>\n",
       "    <tr>\n",
       "      <th>31</th>\n",
       "      <td>bigstory.ap.org</td>\n",
       "      <td>17</td>\n",
       "    </tr>\n",
       "  </tbody>\n",
       "</table>\n",
       "</div>"
      ],
      "text/plain": [
       "                    Vir  Naslov\n",
       "366     theguardian.com      84\n",
       "415  washingtonpost.com      52\n",
       "28              bbc.com      33\n",
       "173   independent.co.uk      33\n",
       "284         nytimes.com      30\n",
       "309         reuters.com      27\n",
       "27            bbc.co.uk      26\n",
       "254         nbcnews.com      19\n",
       "268      news.yahoo.com      18\n",
       "31      bigstory.ap.org      17"
      ]
     },
     "execution_count": 141,
     "metadata": {},
     "output_type": "execute_result"
    }
   ],
   "source": [
    "naj10_top=novice_najboljse_viri[['Vir','Naslov']].sort_values(by='Naslov',ascending=False).head(n=10)\n",
    "naj10_top"
   ]
  },
  {
   "cell_type": "markdown",
   "metadata": {},
   "source": [
    "Na vrhu kontraverzno opazimo medij ruske vladne propagande. rt.com (Russia Today) slovi \n",
    "kot pristranska (seveda, v korist rusom) in zavajajoča novinarska hiša, znana po širjenju napačnih informacij.\n",
    "V spodnji tabeli je zapisanih 5 najbolje ocenjenih novic rt.com. Opazimo, da so novice nenaklonjene ZDA (85, 123,433) (ZDA ne marajo Snowdena...) in seveda vzmirjajočo novico za uporabnike spleta (235)."
   ]
  },
  {
   "cell_type": "code",
   "execution_count": 142,
   "metadata": {
    "collapsed": false,
    "scrolled": true
   },
   "outputs": [
    {
     "data": {
      "text/html": [
       "<div>\n",
       "<table border=\"1\" class=\"dataframe\">\n",
       "  <thead>\n",
       "    <tr style=\"text-align: right;\">\n",
       "      <th></th>\n",
       "      <th>Naslov</th>\n",
       "      <th>Score</th>\n",
       "      <th>Komentarji</th>\n",
       "      <th>Vir</th>\n",
       "      <th>povprecje</th>\n",
       "    </tr>\n",
       "  </thead>\n",
       "  <tbody>\n",
       "    <tr>\n",
       "      <th>85</th>\n",
       "      <td>The US has been voted as the most significant threat to world peace in a survey across 68 different countries</td>\n",
       "      <td>2233</td>\n",
       "      <td>5979</td>\n",
       "      <td>rt.com</td>\n",
       "      <td>4106.0</td>\n",
       "    </tr>\n",
       "    <tr>\n",
       "      <th>235</th>\n",
       "      <td>UK: Man jailed for 33 months for pirating ‘Fast &amp;amp; Furious’</td>\n",
       "      <td>2396</td>\n",
       "      <td>3245</td>\n",
       "      <td>rt.com</td>\n",
       "      <td>2820.5</td>\n",
       "    </tr>\n",
       "    <tr>\n",
       "      <th>433</th>\n",
       "      <td>Snowden nominated for Nobel Peace Prize by Swedish professor. \"[H]eroic effort at great personal cost.”</td>\n",
       "      <td>2169</td>\n",
       "      <td>687</td>\n",
       "      <td>rt.com</td>\n",
       "      <td>1428.0</td>\n",
       "    </tr>\n",
       "    <tr>\n",
       "      <th>16</th>\n",
       "      <td>Obama considers ending NSA surveillance programs.</td>\n",
       "      <td>1252</td>\n",
       "      <td>1060</td>\n",
       "      <td>rt.com</td>\n",
       "      <td>1156.0</td>\n",
       "    </tr>\n",
       "    <tr>\n",
       "      <th>123</th>\n",
       "      <td>New video: Edward Snowden receives award from NSA, CIA, FBI and DOJ officials, breaks silence on NSA programs for the first time in Russia. Reveals new details on how mass surveillance makes us less - not more - safe.</td>\n",
       "      <td>1593</td>\n",
       "      <td>575</td>\n",
       "      <td>rt.com</td>\n",
       "      <td>1084.0</td>\n",
       "    </tr>\n",
       "  </tbody>\n",
       "</table>\n",
       "</div>"
      ],
      "text/plain": [
       "                                                                                                                                                                                                                        Naslov  \\\n",
       "85                                                                                                               The US has been voted as the most significant threat to world peace in a survey across 68 different countries   \n",
       "235                                                                                                                                                             UK: Man jailed for 33 months for pirating ‘Fast &amp; Furious’   \n",
       "433                                                                                                                    Snowden nominated for Nobel Peace Prize by Swedish professor. \"[H]eroic effort at great personal cost.”   \n",
       "16                                                                                                                                                                           Obama considers ending NSA surveillance programs.   \n",
       "123  New video: Edward Snowden receives award from NSA, CIA, FBI and DOJ officials, breaks silence on NSA programs for the first time in Russia. Reveals new details on how mass surveillance makes us less - not more - safe.   \n",
       "\n",
       "     Score  Komentarji     Vir  povprecje  \n",
       "85    2233        5979  rt.com     4106.0  \n",
       "235   2396        3245  rt.com     2820.5  \n",
       "433   2169         687  rt.com     1428.0  \n",
       "16    1252        1060  rt.com     1156.0  \n",
       "123   1593         575  rt.com     1084.0  "
      ]
     },
     "execution_count": 142,
     "metadata": {},
     "output_type": "execute_result"
    }
   ],
   "source": [
    "novice_kontraverzno[novice_kontraverzno['Vir'] =='rt.com'].sort_values('povprecje', ascending=False).head()"
   ]
  },
  {
   "cell_type": "markdown",
   "metadata": {},
   "source": [
    "Na drugo mesto po pogostosti virov kontraverznih novic je britanski rumeni tračarski časopis dailymail.co.uk.\n",
    "Znani konservativni tabloid je znan po nenatančnem, pristranskem in senzacionalnem poročanju. Večkrat se zatekajo k razdvajanju javnosti in napihovanju težav. To potrdi tudi seznam 4 najbolje ocenjenih novic. (Ena je bila na strani objavljena dvakrat). \n",
    "Novice so povezane s spolnim nasiljem(61), nasiljem (192,307) in krščanstvom(178). "
   ]
  },
  {
   "cell_type": "code",
   "execution_count": 143,
   "metadata": {
    "collapsed": false
   },
   "outputs": [
    {
     "data": {
      "text/html": [
       "<div>\n",
       "<table border=\"1\" class=\"dataframe\">\n",
       "  <thead>\n",
       "    <tr style=\"text-align: right;\">\n",
       "      <th></th>\n",
       "      <th>Naslov</th>\n",
       "      <th>Score</th>\n",
       "      <th>Komentarji</th>\n",
       "      <th>Vir</th>\n",
       "      <th>povprecje</th>\n",
       "    </tr>\n",
       "  </thead>\n",
       "  <tbody>\n",
       "    <tr>\n",
       "      <th>192</th>\n",
       "      <td>Mobs of 'hundreds' of masked men rampage through Stockholm central station beating up refugee children</td>\n",
       "      <td>3339</td>\n",
       "      <td>6268</td>\n",
       "      <td>dailymail.co.uk</td>\n",
       "      <td>4803.5</td>\n",
       "    </tr>\n",
       "    <tr>\n",
       "      <th>61</th>\n",
       "      <td>Roman Catholic church's paedophile investigator jailed for possessing thousnds of child porn images</td>\n",
       "      <td>772</td>\n",
       "      <td>784</td>\n",
       "      <td>dailymail.co.uk</td>\n",
       "      <td>778.0</td>\n",
       "    </tr>\n",
       "    <tr>\n",
       "      <th>307</th>\n",
       "      <td>'Someone's coming to get me': Terrified phone-hacking whistleblower feared for his life before he was found dead.\\r\\n</td>\n",
       "      <td>359</td>\n",
       "      <td>149</td>\n",
       "      <td>dailymail.co.uk</td>\n",
       "      <td>254.0</td>\n",
       "    </tr>\n",
       "    <tr>\n",
       "      <th>184</th>\n",
       "      <td>'Someone's coming to get me': Terrified phone-hacking whistleblower feared for his life before he was found dead.\\r\\n</td>\n",
       "      <td>246</td>\n",
       "      <td>87</td>\n",
       "      <td>dailymail.co.uk</td>\n",
       "      <td>166.5</td>\n",
       "    </tr>\n",
       "    <tr>\n",
       "      <th>178</th>\n",
       "      <td>Secret £14million Bible in which 'Jesus predicts coming of Prophet Muhammad' unearthed in Turkey</td>\n",
       "      <td>83</td>\n",
       "      <td>151</td>\n",
       "      <td>dailymail.co.uk</td>\n",
       "      <td>117.0</td>\n",
       "    </tr>\n",
       "  </tbody>\n",
       "</table>\n",
       "</div>"
      ],
      "text/plain": [
       "                                                                                                                    Naslov  \\\n",
       "192                 Mobs of 'hundreds' of masked men rampage through Stockholm central station beating up refugee children   \n",
       "61                     Roman Catholic church's paedophile investigator jailed for possessing thousnds of child porn images   \n",
       "307  'Someone's coming to get me': Terrified phone-hacking whistleblower feared for his life before he was found dead.\\r\\n   \n",
       "184  'Someone's coming to get me': Terrified phone-hacking whistleblower feared for his life before he was found dead.\\r\\n   \n",
       "178                       Secret £14million Bible in which 'Jesus predicts coming of Prophet Muhammad' unearthed in Turkey   \n",
       "\n",
       "     Score  Komentarji              Vir  povprecje  \n",
       "192   3339        6268  dailymail.co.uk     4803.5  \n",
       "61     772         784  dailymail.co.uk      778.0  \n",
       "307    359         149  dailymail.co.uk      254.0  \n",
       "184    246          87  dailymail.co.uk      166.5  \n",
       "178     83         151  dailymail.co.uk      117.0  "
      ]
     },
     "execution_count": 143,
     "metadata": {},
     "output_type": "execute_result"
    }
   ],
   "source": [
    "novice_kontraverzno[novice_kontraverzno['Vir'] =='dailymail.co.uk'].sort_values('Score', ascending=False).head()"
   ]
  },
  {
   "cell_type": "markdown",
   "metadata": {},
   "source": [
    "V kategoriji najboljše se med desetimi najpogostejšimi viri ne pojavi vir \"vprašljive\" kakovosti. \n",
    "Za primerjavo kakovosti novic, si poglejmo 5 najbolje ocenjenih novic vira guardian.com. \n",
    "\n",
    "Opazna je razlika v jeziku. Guadrianovi naslovi so daljši in jezik je na 'višjem nivoju'. \n",
    "Primer: **Gurardian(359)** *'Death tolls reach 158 in Paris.'*  Naslov nam pove vse o novici. Če nas zanima več podrobnosti jo kliknemo. Medtem pa **dailymail.com(307)** *''Someone's coming to get me': Terrified phone-hacking whistleblower feared for his life before he was found dead.'*  uborabi sezancionalistični naslov, ki bralca pritegne, a mu ne razkrije osnovnih informacij o novici. (clickbait novica). Po hitrem preledu novic na spletni strani dailymail.co.uk sem ugotovila, da pogosteje uporabljajo pogovorni jezik in tvorijo preprostejše stavke.\n",
    "   "
   ]
  },
  {
   "cell_type": "code",
   "execution_count": 145,
   "metadata": {
    "collapsed": false,
    "scrolled": true
   },
   "outputs": [
    {
     "data": {
      "text/html": [
       "<div>\n",
       "<table border=\"1\" class=\"dataframe\">\n",
       "  <thead>\n",
       "    <tr style=\"text-align: right;\">\n",
       "      <th></th>\n",
       "      <th>Naslov</th>\n",
       "      <th>Score</th>\n",
       "      <th>Komentarji</th>\n",
       "      <th>Vir</th>\n",
       "      <th>povprecje</th>\n",
       "    </tr>\n",
       "  </thead>\n",
       "  <tbody>\n",
       "    <tr>\n",
       "      <th>244</th>\n",
       "      <td>Putin calls Turkey 'accomplices of terrorists' after Russian jet shot down</td>\n",
       "      <td>6299</td>\n",
       "      <td>11169</td>\n",
       "      <td>theguardian.com</td>\n",
       "      <td>8734.0</td>\n",
       "    </tr>\n",
       "    <tr>\n",
       "      <th>359</th>\n",
       "      <td>Death tolls reach 158 in Paris.</td>\n",
       "      <td>5974</td>\n",
       "      <td>9428</td>\n",
       "      <td>theguardian.com</td>\n",
       "      <td>7701.0</td>\n",
       "    </tr>\n",
       "    <tr>\n",
       "      <th>76</th>\n",
       "      <td>Vaping is 95% safer than smoking and could lead to the demise of the traditional cigarette, Public Health England (PHE) has said in the first official recognition that e-cigarettes are less damaging to health than smoking tobacco.</td>\n",
       "      <td>7360</td>\n",
       "      <td>6822</td>\n",
       "      <td>theguardian.com</td>\n",
       "      <td>7091.0</td>\n",
       "    </tr>\n",
       "    <tr>\n",
       "      <th>9</th>\n",
       "      <td>France decrees new rooftops must be covered in plants or solar panels. All new buildings in commercial zones across the country must comply with new environmental legislation</td>\n",
       "      <td>9952</td>\n",
       "      <td>4038</td>\n",
       "      <td>theguardian.com</td>\n",
       "      <td>6995.0</td>\n",
       "    </tr>\n",
       "    <tr>\n",
       "      <th>339</th>\n",
       "      <td>A California gun statute going into effect on 1 January gives the police or family members the option to petition the courts to seize the guns and ammunition of someone they think poses a threat, the first law of its kind in the country.</td>\n",
       "      <td>5672</td>\n",
       "      <td>7959</td>\n",
       "      <td>theguardian.com</td>\n",
       "      <td>6815.5</td>\n",
       "    </tr>\n",
       "  </tbody>\n",
       "</table>\n",
       "</div>"
      ],
      "text/plain": [
       "                                                                                                                                                                                                                                            Naslov  \\\n",
       "244                                                                                                                                                                     Putin calls Turkey 'accomplices of terrorists' after Russian jet shot down   \n",
       "359                                                                                                                                                                                                                Death tolls reach 158 in Paris.   \n",
       "76          Vaping is 95% safer than smoking and could lead to the demise of the traditional cigarette, Public Health England (PHE) has said in the first official recognition that e-cigarettes are less damaging to health than smoking tobacco.   \n",
       "9                                                                   France decrees new rooftops must be covered in plants or solar panels. All new buildings in commercial zones across the country must comply with new environmental legislation   \n",
       "339  A California gun statute going into effect on 1 January gives the police or family members the option to petition the courts to seize the guns and ammunition of someone they think poses a threat, the first law of its kind in the country.   \n",
       "\n",
       "     Score  Komentarji              Vir  povprecje  \n",
       "244   6299       11169  theguardian.com     8734.0  \n",
       "359   5974        9428  theguardian.com     7701.0  \n",
       "76    7360        6822  theguardian.com     7091.0  \n",
       "9     9952        4038  theguardian.com     6995.0  \n",
       "339   5672        7959  theguardian.com     6815.5  "
      ]
     },
     "execution_count": 145,
     "metadata": {},
     "output_type": "execute_result"
    }
   ],
   "source": [
    "novice_najboljse[novice_najboljse['Vir'] =='theguardian.com'].sort_values('povprecje', ascending=False).head(n=5)"
   ]
  },
  {
   "cell_type": "markdown",
   "metadata": {},
   "source": [
    "Viri najboljse ne vsebujejo nobenega vira 'vprašljivega' porekla. \n",
    "\n",
    "Kaže, da je moja hipoteza pravilna, vendar je slabo podprta.\n",
    "Ustvarila bom še seznam 'manj' kvalitetnih virov in preverila, kolikokrat se pojavijo v kontraverzno in kolikokrat v najboljse."
   ]
  },
  {
   "cell_type": "code",
   "execution_count": 234,
   "metadata": {
    "collapsed": true
   },
   "outputs": [],
   "source": [
    "seznam_mviri=['foxnews.com','rt.com','dailymail.com','mirror.co.uk','timesofisrael.com','tmz.com','msnbc.msn.com','haaretz.com','wnd.com']"
   ]
  },
  {
   "cell_type": "code",
   "execution_count": 258,
   "metadata": {
    "collapsed": false,
    "scrolled": false
   },
   "outputs": [
    {
     "data": {
      "text/plain": [
       "112"
      ]
     },
     "execution_count": 258,
     "metadata": {},
     "output_type": "execute_result"
    }
   ],
   "source": [
    "novice_kontraverzno[(novice_kontraverzno['Vir'] == seznam_mviri[0]) |\n",
    "                    (novice_kontraverzno['Vir'] == seznam_mviri[1]) |\n",
    "                    (novice_kontraverzno['Vir'] == seznam_mviri[2]) | \n",
    "                    (novice_kontraverzno['Vir'] == seznam_mviri[3]) |\n",
    "                    (novice_kontraverzno['Vir'] == seznam_mviri[4]) | \n",
    "                    (novice_kontraverzno['Vir'] == seznam_mviri[5]) |\n",
    "                    (novice_kontraverzno['Vir'] == seznam_mviri[6]) | \n",
    "                    (novice_kontraverzno['Vir'] == seznam_mviri[7]) |\n",
    "                    (novice_kontraverzno['Vir'] == seznam_mviri[8]) \n",
    "                   ].count()['Naslov']"
   ]
  },
  {
   "cell_type": "code",
   "execution_count": 260,
   "metadata": {
    "collapsed": false
   },
   "outputs": [
    {
     "data": {
      "text/plain": [
       "22"
      ]
     },
     "execution_count": 260,
     "metadata": {},
     "output_type": "execute_result"
    }
   ],
   "source": [
    "novice_najboljse[(novice_najboljse['Vir'] == seznam_mviri[0]) |\n",
    "                    (novice_najboljse['Vir'] == seznam_mviri[1]) |\n",
    "                    (novice_najboljse['Vir'] == seznam_mviri[2]) | \n",
    "                    (novice_najboljse['Vir'] == seznam_mviri[3]) |\n",
    "                    (novice_najboljse['Vir'] == seznam_mviri[4]) | \n",
    "                    (novice_najboljse['Vir'] == seznam_mviri[5]) |\n",
    "                    (novice_najboljse['Vir'] == seznam_mviri[6]) | \n",
    "                    (novice_najboljse['Vir'] == seznam_mviri[7]) |\n",
    "                    (novice_najboljse['Vir'] == seznam_mviri[8]) \n",
    "                   ].count()['Naslov']"
   ]
  },
  {
   "cell_type": "markdown",
   "metadata": {},
   "source": [
    "Moja hipoteza je potrjena. V kontraverzno se pojavi veliko več novic kontraverznih virov kot v najboljše."
   ]
  },
  {
   "cell_type": "markdown",
   "metadata": {},
   "source": [
    "### Zanimivosti"
   ]
  },
  {
   "cell_type": "code",
   "execution_count": 110,
   "metadata": {
    "collapsed": false
   },
   "outputs": [],
   "source": [
    "#tabela vseh novic\n",
    "vse_novice=pd.concat([news_con,wnews_con,news_top,wnews_top])\n",
    "#tabela vseh virov\n",
    "vse_novice_viri=vse_novice.groupby(by='Vir')"
   ]
  },
  {
   "cell_type": "code",
   "execution_count": 111,
   "metadata": {
    "collapsed": false
   },
   "outputs": [],
   "source": [
    "#vse 4 datoteke združene na skupen vir\n",
    "news_viri=pd.merge(news_con,news_top,on='Vir', suffixes=('_news_con', '_news_top')).groupby(by='Vir', as_index=False).mean()\n",
    "wnews_viri=pd.merge(wnews_con,wnews_top,on='Vir', suffixes=('_wnews_con', '_wnews_top')).groupby(by='Vir', as_index=False).mean()\n",
    "vsi_viri=pd.merge(news_viri,wnews_viri,on='Vir').groupby(by='Vir', as_index=False).mean()"
   ]
  },
  {
   "cell_type": "markdown",
   "metadata": {},
   "source": [
    "#### Kateri vir je najboljši v kateri posamezni kategoriji?"
   ]
  },
  {
   "cell_type": "code",
   "execution_count": 146,
   "metadata": {
    "collapsed": false,
    "scrolled": true
   },
   "outputs": [
    {
     "data": {
      "text/html": [
       "<div>\n",
       "<table border=\"1\" class=\"dataframe\">\n",
       "  <thead>\n",
       "    <tr style=\"text-align: right;\">\n",
       "      <th></th>\n",
       "      <th>Vir</th>\n",
       "      <th>Score</th>\n",
       "      <th>Komentarji</th>\n",
       "      <th>povprecje</th>\n",
       "    </tr>\n",
       "  </thead>\n",
       "  <tbody>\n",
       "    <tr>\n",
       "      <th>251</th>\n",
       "      <td>thelocal.dk</td>\n",
       "      <td>4138</td>\n",
       "      <td>10511</td>\n",
       "      <td>7324.5</td>\n",
       "    </tr>\n",
       "    <tr>\n",
       "      <th>84</th>\n",
       "      <td>fox26houston.com</td>\n",
       "      <td>4313</td>\n",
       "      <td>5955</td>\n",
       "      <td>5134.0</td>\n",
       "    </tr>\n",
       "    <tr>\n",
       "      <th>170</th>\n",
       "      <td>nbcbayarea.com</td>\n",
       "      <td>3307</td>\n",
       "      <td>4782</td>\n",
       "      <td>4044.5</td>\n",
       "    </tr>\n",
       "    <tr>\n",
       "      <th>127</th>\n",
       "      <td>kansasfirstnews.com</td>\n",
       "      <td>2604</td>\n",
       "      <td>5371</td>\n",
       "      <td>3987.5</td>\n",
       "    </tr>\n",
       "    <tr>\n",
       "      <th>188</th>\n",
       "      <td>nj.com</td>\n",
       "      <td>3306</td>\n",
       "      <td>4227</td>\n",
       "      <td>3766.5</td>\n",
       "    </tr>\n",
       "  </tbody>\n",
       "</table>\n",
       "</div>"
      ],
      "text/plain": [
       "                     Vir  Score  Komentarji  povprecje\n",
       "251          thelocal.dk   4138       10511     7324.5\n",
       "84      fox26houston.com   4313        5955     5134.0\n",
       "170       nbcbayarea.com   3307        4782     4044.5\n",
       "127  kansasfirstnews.com   2604        5371     3987.5\n",
       "188               nj.com   3306        4227     3766.5"
      ]
     },
     "execution_count": 146,
     "metadata": {},
     "output_type": "execute_result"
    }
   ],
   "source": [
    "#najpopularnejsi v r/news kontraverzno\n",
    "viri_povprecje_con=news_con_viri.mean()\n",
    "viri_povprecje_con['povprecje']=((news_con_viri.mean().Score) + (news_con_viri.mean().Komentarji))/2\n",
    "viri_povprecje_con.sort_values(['povprecje'],ascending=False).head()"
   ]
  },
  {
   "cell_type": "code",
   "execution_count": 147,
   "metadata": {
    "collapsed": false
   },
   "outputs": [
    {
     "data": {
      "text/html": [
       "<div>\n",
       "<table border=\"1\" class=\"dataframe\">\n",
       "  <thead>\n",
       "    <tr style=\"text-align: right;\">\n",
       "      <th></th>\n",
       "      <th>Naslov</th>\n",
       "      <th>Score</th>\n",
       "      <th>Komentarji</th>\n",
       "      <th>Vir</th>\n",
       "    </tr>\n",
       "  </thead>\n",
       "  <tbody>\n",
       "    <tr>\n",
       "      <th>377</th>\n",
       "      <td>Danish teen fought off her attacker - now she'll face fine. A 17-year-old girl who was physically and sexually attacked in Sønderborg will herself face charges for using pepper spray to fend off her assailant.</td>\n",
       "      <td>4138</td>\n",
       "      <td>10511</td>\n",
       "      <td>thelocal.dk</td>\n",
       "    </tr>\n",
       "  </tbody>\n",
       "</table>\n",
       "</div>"
      ],
      "text/plain": [
       "                                                                                                                                                                                                                Naslov  \\\n",
       "377  Danish teen fought off her attacker - now she'll face fine. A 17-year-old girl who was physically and sexually attacked in Sønderborg will herself face charges for using pepper spray to fend off her assailant.   \n",
       "\n",
       "     Score  Komentarji          Vir  \n",
       "377   4138       10511  thelocal.dk  "
      ]
     },
     "execution_count": 147,
     "metadata": {},
     "output_type": "execute_result"
    }
   ],
   "source": [
    "#Kakšne novice ima?\n",
    "news_con[news_con['Vir']=='thelocal.dk']"
   ]
  },
  {
   "cell_type": "code",
   "execution_count": 148,
   "metadata": {
    "collapsed": false,
    "scrolled": false
   },
   "outputs": [
    {
     "data": {
      "text/html": [
       "<div>\n",
       "<table border=\"1\" class=\"dataframe\">\n",
       "  <thead>\n",
       "    <tr style=\"text-align: right;\">\n",
       "      <th></th>\n",
       "      <th>Vir</th>\n",
       "      <th>Score</th>\n",
       "      <th>Komentarji</th>\n",
       "      <th>povprecje</th>\n",
       "    </tr>\n",
       "  </thead>\n",
       "  <tbody>\n",
       "    <tr>\n",
       "      <th>130</th>\n",
       "      <td>ktla.com</td>\n",
       "      <td>5823.5</td>\n",
       "      <td>27226</td>\n",
       "      <td>16524.75</td>\n",
       "    </tr>\n",
       "    <tr>\n",
       "      <th>249</th>\n",
       "      <td>wdbj7.com</td>\n",
       "      <td>6780.0</td>\n",
       "      <td>23868</td>\n",
       "      <td>15324.00</td>\n",
       "    </tr>\n",
       "    <tr>\n",
       "      <th>156</th>\n",
       "      <td>mysanantonio.com</td>\n",
       "      <td>7292.0</td>\n",
       "      <td>13895</td>\n",
       "      <td>10593.50</td>\n",
       "    </tr>\n",
       "    <tr>\n",
       "      <th>125</th>\n",
       "      <td>krdo.com</td>\n",
       "      <td>5517.0</td>\n",
       "      <td>14963</td>\n",
       "      <td>10240.00</td>\n",
       "    </tr>\n",
       "    <tr>\n",
       "      <th>57</th>\n",
       "      <td>dailykos.com</td>\n",
       "      <td>5350.0</td>\n",
       "      <td>10616</td>\n",
       "      <td>7983.00</td>\n",
       "    </tr>\n",
       "  </tbody>\n",
       "</table>\n",
       "</div>"
      ],
      "text/plain": [
       "                  Vir   Score  Komentarji  povprecje\n",
       "130          ktla.com  5823.5       27226   16524.75\n",
       "249         wdbj7.com  6780.0       23868   15324.00\n",
       "156  mysanantonio.com  7292.0       13895   10593.50\n",
       "125          krdo.com  5517.0       14963   10240.00\n",
       "57       dailykos.com  5350.0       10616    7983.00"
      ]
     },
     "execution_count": 148,
     "metadata": {},
     "output_type": "execute_result"
    }
   ],
   "source": [
    "#najpopularnejsi v r/news najboljse \n",
    "viri_povprecje_top=news_top_viri.mean()\n",
    "viri_povprecje_top['povprecje']=((news_top_viri.mean().Score) + (news_top_viri.mean().Komentarji))/2\n",
    "viri_povprecje_top.sort_values(['povprecje'],ascending=False).head()"
   ]
  },
  {
   "cell_type": "code",
   "execution_count": 149,
   "metadata": {
    "collapsed": false,
    "scrolled": true
   },
   "outputs": [
    {
     "data": {
      "text/html": [
       "<div>\n",
       "<table border=\"1\" class=\"dataframe\">\n",
       "  <thead>\n",
       "    <tr style=\"text-align: right;\">\n",
       "      <th></th>\n",
       "      <th>Naslov</th>\n",
       "      <th>Score</th>\n",
       "      <th>Komentarji</th>\n",
       "      <th>Vir</th>\n",
       "    </tr>\n",
       "  </thead>\n",
       "  <tbody>\n",
       "    <tr>\n",
       "      <th>198</th>\n",
       "      <td>Authorities Respond to “20 Victim Shooting” Incident in San Bernardino: Fire Dept.</td>\n",
       "      <td>6076</td>\n",
       "      <td>48770</td>\n",
       "      <td>ktla.com</td>\n",
       "    </tr>\n",
       "    <tr>\n",
       "      <th>392</th>\n",
       "      <td>9 Arrested After Black Lives Matter Activists Shut Down Southbound 405 Fwy Near LAX</td>\n",
       "      <td>5571</td>\n",
       "      <td>5682</td>\n",
       "      <td>ktla.com</td>\n",
       "    </tr>\n",
       "  </tbody>\n",
       "</table>\n",
       "</div>"
      ],
      "text/plain": [
       "                                                                                  Naslov  \\\n",
       "198   Authorities Respond to “20 Victim Shooting” Incident in San Bernardino: Fire Dept.   \n",
       "392  9 Arrested After Black Lives Matter Activists Shut Down Southbound 405 Fwy Near LAX   \n",
       "\n",
       "     Score  Komentarji       Vir  \n",
       "198   6076       48770  ktla.com  \n",
       "392   5571        5682  ktla.com  "
      ]
     },
     "execution_count": 149,
     "metadata": {},
     "output_type": "execute_result"
    }
   ],
   "source": [
    "#Kakšne novice ima?\n",
    "news_top[news_top['Vir']=='ktla.com']\n",
    "# Zato to je zaslužna novica 198 z ogromno komentarji!"
   ]
  },
  {
   "cell_type": "code",
   "execution_count": 150,
   "metadata": {
    "collapsed": false
   },
   "outputs": [
    {
     "data": {
      "text/html": [
       "<div>\n",
       "<table border=\"1\" class=\"dataframe\">\n",
       "  <thead>\n",
       "    <tr style=\"text-align: right;\">\n",
       "      <th></th>\n",
       "      <th>Vir</th>\n",
       "      <th>Score</th>\n",
       "      <th>Komentarji</th>\n",
       "      <th>povprecje</th>\n",
       "    </tr>\n",
       "  </thead>\n",
       "  <tbody>\n",
       "    <tr>\n",
       "      <th>45</th>\n",
       "      <td>cphpost.dk</td>\n",
       "      <td>2410</td>\n",
       "      <td>10659</td>\n",
       "      <td>6534.5</td>\n",
       "    </tr>\n",
       "    <tr>\n",
       "      <th>96</th>\n",
       "      <td>foxnews.com</td>\n",
       "      <td>1954</td>\n",
       "      <td>9534</td>\n",
       "      <td>5744.0</td>\n",
       "    </tr>\n",
       "    <tr>\n",
       "      <th>241</th>\n",
       "      <td>thehill.com</td>\n",
       "      <td>2206</td>\n",
       "      <td>6497</td>\n",
       "      <td>4351.5</td>\n",
       "    </tr>\n",
       "    <tr>\n",
       "      <th>42</th>\n",
       "      <td>cbc.ca</td>\n",
       "      <td>2412</td>\n",
       "      <td>4897</td>\n",
       "      <td>3654.5</td>\n",
       "    </tr>\n",
       "    <tr>\n",
       "      <th>253</th>\n",
       "      <td>theweek.co.uk</td>\n",
       "      <td>1300</td>\n",
       "      <td>5293</td>\n",
       "      <td>3296.5</td>\n",
       "    </tr>\n",
       "  </tbody>\n",
       "</table>\n",
       "</div>"
      ],
      "text/plain": [
       "               Vir  Score  Komentarji  povprecje\n",
       "45      cphpost.dk   2410       10659     6534.5\n",
       "96     foxnews.com   1954        9534     5744.0\n",
       "241    thehill.com   2206        6497     4351.5\n",
       "42          cbc.ca   2412        4897     3654.5\n",
       "253  theweek.co.uk   1300        5293     3296.5"
      ]
     },
     "execution_count": 150,
     "metadata": {},
     "output_type": "execute_result"
    }
   ],
   "source": [
    "#najpopularnejsi v r/wnews kontraverzno\n",
    "viri_povprecje_wcon=wnews_con_viri.mean()\n",
    "viri_povprecje_wcon['povprecje']=((wnews_con_viri.mean().Score) + (wnews_con_viri.mean().Komentarji))/2\n",
    "viri_povprecje_wcon.sort_values(['povprecje'],ascending=False).head()"
   ]
  },
  {
   "cell_type": "code",
   "execution_count": 151,
   "metadata": {
    "collapsed": false
   },
   "outputs": [
    {
     "data": {
      "text/html": [
       "<div>\n",
       "<table border=\"1\" class=\"dataframe\">\n",
       "  <thead>\n",
       "    <tr style=\"text-align: right;\">\n",
       "      <th></th>\n",
       "      <th>Naslov</th>\n",
       "      <th>Score</th>\n",
       "      <th>Komentarji</th>\n",
       "      <th>Vir</th>\n",
       "    </tr>\n",
       "  </thead>\n",
       "  <tbody>\n",
       "    <tr>\n",
       "      <th>438</th>\n",
       "      <td>Denmark may soon be the first country in the world to issue a ban on non-therapeutic circumcision of boys. Calls it \"Genital Mutilation\". Meanwhile, Israel tries hard to block changes that are broadly perceived in Europe as a clear step forward in children's human rights.</td>\n",
       "      <td>2410</td>\n",
       "      <td>10659</td>\n",
       "      <td>cphpost.dk</td>\n",
       "    </tr>\n",
       "  </tbody>\n",
       "</table>\n",
       "</div>"
      ],
      "text/plain": [
       "                                                                                                                                                                                                                                                                               Naslov  \\\n",
       "438  Denmark may soon be the first country in the world to issue a ban on non-therapeutic circumcision of boys. Calls it \"Genital Mutilation\". Meanwhile, Israel tries hard to block changes that are broadly perceived in Europe as a clear step forward in children's human rights.   \n",
       "\n",
       "     Score  Komentarji         Vir  \n",
       "438   2410       10659  cphpost.dk  "
      ]
     },
     "execution_count": 151,
     "metadata": {},
     "output_type": "execute_result"
    }
   ],
   "source": [
    "#Kakšne novice ima?\n",
    "wnews_con[wnews_con['Vir']=='cphpost.dk']"
   ]
  },
  {
   "cell_type": "code",
   "execution_count": 152,
   "metadata": {
    "collapsed": false,
    "scrolled": true
   },
   "outputs": [
    {
     "data": {
      "text/html": [
       "<div>\n",
       "<table border=\"1\" class=\"dataframe\">\n",
       "  <thead>\n",
       "    <tr style=\"text-align: right;\">\n",
       "      <th></th>\n",
       "      <th>Vir</th>\n",
       "      <th>Score</th>\n",
       "      <th>Komentarji</th>\n",
       "      <th>povprecje</th>\n",
       "    </tr>\n",
       "  </thead>\n",
       "  <tbody>\n",
       "    <tr>\n",
       "      <th>165</th>\n",
       "      <td>self.worldnews</td>\n",
       "      <td>7834.0</td>\n",
       "      <td>15149</td>\n",
       "      <td>11491.50</td>\n",
       "    </tr>\n",
       "    <tr>\n",
       "      <th>212</th>\n",
       "      <td>translate.google.com</td>\n",
       "      <td>5593.0</td>\n",
       "      <td>15415</td>\n",
       "      <td>10504.00</td>\n",
       "    </tr>\n",
       "    <tr>\n",
       "      <th>42</th>\n",
       "      <td>digitaljournal.com</td>\n",
       "      <td>13632.5</td>\n",
       "      <td>2521</td>\n",
       "      <td>8076.75</td>\n",
       "    </tr>\n",
       "    <tr>\n",
       "      <th>73</th>\n",
       "      <td>gu.com</td>\n",
       "      <td>9417.0</td>\n",
       "      <td>5801</td>\n",
       "      <td>7609.00</td>\n",
       "    </tr>\n",
       "    <tr>\n",
       "      <th>74</th>\n",
       "      <td>guardian.co.uk</td>\n",
       "      <td>8866.0</td>\n",
       "      <td>6151</td>\n",
       "      <td>7508.50</td>\n",
       "    </tr>\n",
       "  </tbody>\n",
       "</table>\n",
       "</div>"
      ],
      "text/plain": [
       "                      Vir    Score  Komentarji  povprecje\n",
       "165        self.worldnews   7834.0       15149   11491.50\n",
       "212  translate.google.com   5593.0       15415   10504.00\n",
       "42     digitaljournal.com  13632.5        2521    8076.75\n",
       "73                 gu.com   9417.0        5801    7609.00\n",
       "74         guardian.co.uk   8866.0        6151    7508.50"
      ]
     },
     "execution_count": 152,
     "metadata": {},
     "output_type": "execute_result"
    }
   ],
   "source": [
    "#najpopularnejsi v r/wnews najboljse \n",
    "viri_povprecje_wtop=wnews_top_viri.mean()\n",
    "viri_povprecje_wtop['povprecje']=((wnews_top_viri.mean().Score) + (wnews_top_viri.mean().Komentarji))/2\n",
    "viri_povprecje_wtop.sort_values(['povprecje'],ascending=False).head()"
   ]
  },
  {
   "cell_type": "code",
   "execution_count": 153,
   "metadata": {
    "collapsed": false,
    "scrolled": true
   },
   "outputs": [
    {
     "data": {
      "text/html": [
       "<div>\n",
       "<table border=\"1\" class=\"dataframe\">\n",
       "  <thead>\n",
       "    <tr style=\"text-align: right;\">\n",
       "      <th></th>\n",
       "      <th>Naslov</th>\n",
       "      <th>Score</th>\n",
       "      <th>Komentarji</th>\n",
       "      <th>Vir</th>\n",
       "    </tr>\n",
       "  </thead>\n",
       "  <tbody>\n",
       "    <tr>\n",
       "      <th>47</th>\n",
       "      <td>Reports of sexual assaults on women across European cities, including Cologne, Hamburg, Zürich, Salzburg, Helsinki during NYE festivities</td>\n",
       "      <td>7834</td>\n",
       "      <td>15149</td>\n",
       "      <td>self.worldnews</td>\n",
       "    </tr>\n",
       "  </tbody>\n",
       "</table>\n",
       "</div>"
      ],
      "text/plain": [
       "                                                                                                                                       Naslov  \\\n",
       "47  Reports of sexual assaults on women across European cities, including Cologne, Hamburg, Zürich, Salzburg, Helsinki during NYE festivities   \n",
       "\n",
       "    Score  Komentarji             Vir  \n",
       "47   7834       15149  self.worldnews  "
      ]
     },
     "execution_count": 153,
     "metadata": {},
     "output_type": "execute_result"
    }
   ],
   "source": [
    "#Kakšne novice ima?\n",
    "wnews_top[wnews_top['Vir']=='self.worldnews']"
   ]
  },
  {
   "cell_type": "markdown",
   "metadata": {},
   "source": [
    "self.worldnews ni vir novic, to so administratorji podstrani r/worldnews. Objava s tem naslovom vključuje več povezav na različne vire novice povezane s to temo. \n",
    "\n",
    "Vsak najbolje ocenjen vir (iz posamezne kategorije in nasplošno) ima po eno novico (razen ktla.com, ki ima 2). Pojavitev ene same novice enostavno pojasnii visoko povprečje novice, saj nobena slabše ocenjena novica ne pokvari povprečja kot pri virih z več novicami."
   ]
  },
  {
   "cell_type": "markdown",
   "metadata": {},
   "source": [
    "#### Najboljši vir nasploh\n",
    "Poiščem najbolje ocenjen in komentiran vir v vseh kategorijah. "
   ]
  },
  {
   "cell_type": "code",
   "execution_count": 154,
   "metadata": {
    "collapsed": false
   },
   "outputs": [],
   "source": [
    "povprecje_kategorij=vsi_viri.mean()\n",
    "seznam_kategorij=list (povprecje_kategorij.reset_index()['index'])\n",
    "#relativne ocene in komentarji posameznega vira za vsako kategorijo\n",
    "for i in seznam_kategorij:\n",
    "    vsi_viri['{0}'.format(i)] = vsi_viri['{0}'.format(i)]/(vsi_viri.mean()['{0}'.format(i)])"
   ]
  },
  {
   "cell_type": "code",
   "execution_count": 155,
   "metadata": {
    "collapsed": false
   },
   "outputs": [],
   "source": [
    "#Vire razvrstim glede na mediano\n",
    "vsi_viri['median']=vsi_viri.iloc[:, 1:].median(axis=1)"
   ]
  },
  {
   "cell_type": "code",
   "execution_count": 156,
   "metadata": {
    "collapsed": false,
    "scrolled": true
   },
   "outputs": [
    {
     "data": {
      "text/html": [
       "<div>\n",
       "<table border=\"1\" class=\"dataframe\">\n",
       "  <thead>\n",
       "    <tr style=\"text-align: right;\">\n",
       "      <th></th>\n",
       "      <th>Vir</th>\n",
       "      <th>Score_news_con</th>\n",
       "      <th>Komentarji_news_con</th>\n",
       "      <th>Score_news_top</th>\n",
       "      <th>Komentarji_news_top</th>\n",
       "      <th>Score_wnews_con</th>\n",
       "      <th>Komentarji_wnews_con</th>\n",
       "      <th>Score_wnews_top</th>\n",
       "      <th>Komentarji_wnews_top</th>\n",
       "      <th>median</th>\n",
       "    </tr>\n",
       "  </thead>\n",
       "  <tbody>\n",
       "    <tr>\n",
       "      <th>8</th>\n",
       "      <td>guardian.co.uk</td>\n",
       "      <td>0.085882</td>\n",
       "      <td>0.148928</td>\n",
       "      <td>0.925726</td>\n",
       "      <td>1.305866</td>\n",
       "      <td>1.255269</td>\n",
       "      <td>0.693280</td>\n",
       "      <td>1.359426</td>\n",
       "      <td>2.086806</td>\n",
       "      <td>1.090497</td>\n",
       "    </tr>\n",
       "    <tr>\n",
       "      <th>0</th>\n",
       "      <td>bbc.co.uk</td>\n",
       "      <td>0.015615</td>\n",
       "      <td>0.047954</td>\n",
       "      <td>0.935046</td>\n",
       "      <td>2.224182</td>\n",
       "      <td>1.401500</td>\n",
       "      <td>1.130969</td>\n",
       "      <td>1.025012</td>\n",
       "      <td>1.433518</td>\n",
       "      <td>1.077991</td>\n",
       "    </tr>\n",
       "    <tr>\n",
       "      <th>16</th>\n",
       "      <td>nytimes.com</td>\n",
       "      <td>6.075498</td>\n",
       "      <td>3.113295</td>\n",
       "      <td>0.987341</td>\n",
       "      <td>1.158635</td>\n",
       "      <td>0.362908</td>\n",
       "      <td>0.077363</td>\n",
       "      <td>0.939004</td>\n",
       "      <td>1.158718</td>\n",
       "      <td>1.072988</td>\n",
       "    </tr>\n",
       "    <tr>\n",
       "      <th>10</th>\n",
       "      <td>independent.co.uk</td>\n",
       "      <td>2.210376</td>\n",
       "      <td>5.560357</td>\n",
       "      <td>0.966310</td>\n",
       "      <td>1.071659</td>\n",
       "      <td>1.594160</td>\n",
       "      <td>0.883904</td>\n",
       "      <td>1.004213</td>\n",
       "      <td>0.956278</td>\n",
       "      <td>1.037936</td>\n",
       "    </tr>\n",
       "    <tr>\n",
       "      <th>4</th>\n",
       "      <td>cbc.ca</td>\n",
       "      <td>0.023422</td>\n",
       "      <td>0.200934</td>\n",
       "      <td>0.984683</td>\n",
       "      <td>0.856641</td>\n",
       "      <td>4.418401</td>\n",
       "      <td>4.504137</td>\n",
       "      <td>1.019970</td>\n",
       "      <td>1.260098</td>\n",
       "      <td>1.002326</td>\n",
       "    </tr>\n",
       "  </tbody>\n",
       "</table>\n",
       "</div>"
      ],
      "text/plain": [
       "                  Vir  Score_news_con  Komentarji_news_con  Score_news_top  \\\n",
       "8      guardian.co.uk        0.085882             0.148928        0.925726   \n",
       "0           bbc.co.uk        0.015615             0.047954        0.935046   \n",
       "16        nytimes.com        6.075498             3.113295        0.987341   \n",
       "10  independent.co.uk        2.210376             5.560357        0.966310   \n",
       "4              cbc.ca        0.023422             0.200934        0.984683   \n",
       "\n",
       "    Komentarji_news_top  Score_wnews_con  Komentarji_wnews_con  \\\n",
       "8              1.305866         1.255269              0.693280   \n",
       "0              2.224182         1.401500              1.130969   \n",
       "16             1.158635         0.362908              0.077363   \n",
       "10             1.071659         1.594160              0.883904   \n",
       "4              0.856641         4.418401              4.504137   \n",
       "\n",
       "    Score_wnews_top  Komentarji_wnews_top    median  \n",
       "8          1.359426              2.086806  1.090497  \n",
       "0          1.025012              1.433518  1.077991  \n",
       "16         0.939004              1.158718  1.072988  \n",
       "10         1.004213              0.956278  1.037936  \n",
       "4          1.019970              1.260098  1.002326  "
      ]
     },
     "execution_count": 156,
     "metadata": {},
     "output_type": "execute_result"
    }
   ],
   "source": [
    "naj_viri_5=vsi_viri.sort_values(by='median',ascending=False).head()\n",
    "naj_viri_5"
   ]
  },
  {
   "cell_type": "code",
   "execution_count": 157,
   "metadata": {
    "collapsed": false
   },
   "outputs": [
    {
     "data": {
      "text/plain": [
       "<matplotlib.axes._subplots.AxesSubplot at 0x7f8c1e459b38>"
      ]
     },
     "execution_count": 157,
     "metadata": {},
     "output_type": "execute_result"
    },
    {
     "data": {
      "image/png": "[encoded data removed]",
      "text/plain": [
       "<matplotlib.figure.Figure at 0x7f8c1e3f52e8>"
      ]
     },
     "metadata": {},
     "output_type": "display_data"
    }
   ],
   "source": [
    "naj_viri_5[['Vir','median']].plot(kind='barh',x='Vir', y='median',figsize=(10,7))"
   ]
  },
  {
   "cell_type": "code",
   "execution_count": 159,
   "metadata": {
    "collapsed": false
   },
   "outputs": [
    {
     "data": {
      "text/html": [
       "<div>\n",
       "<table border=\"1\" class=\"dataframe\">\n",
       "  <thead>\n",
       "    <tr style=\"text-align: right;\">\n",
       "      <th></th>\n",
       "      <th>Naslov</th>\n",
       "      <th>Score</th>\n",
       "      <th>Komentarji</th>\n",
       "      <th>Vir</th>\n",
       "      <th>povprecje</th>\n",
       "    </tr>\n",
       "  </thead>\n",
       "  <tbody>\n",
       "    <tr>\n",
       "      <th>18</th>\n",
       "      <td>NASA announces discovery of flowing water in Mars</td>\n",
       "      <td>8866</td>\n",
       "      <td>6151</td>\n",
       "      <td>guardian.co.uk</td>\n",
       "      <td>7508.5</td>\n",
       "    </tr>\n",
       "    <tr>\n",
       "      <th>375</th>\n",
       "      <td>Obama calls for police to wear body cameras as part of $263m reform package</td>\n",
       "      <td>5595</td>\n",
       "      <td>4404</td>\n",
       "      <td>guardian.co.uk</td>\n",
       "      <td>4999.5</td>\n",
       "    </tr>\n",
       "    <tr>\n",
       "      <th>150</th>\n",
       "      <td>Stephen Hawking joins academic boycott of Israel</td>\n",
       "      <td>1773</td>\n",
       "      <td>2253</td>\n",
       "      <td>guardian.co.uk</td>\n",
       "      <td>2013.0</td>\n",
       "    </tr>\n",
       "    <tr>\n",
       "      <th>395</th>\n",
       "      <td>The scale of unpaid tax now outstrips the national deficit. Forcing the elite to pay up is now a matter of justice and necessity.</td>\n",
       "      <td>2016</td>\n",
       "      <td>1875</td>\n",
       "      <td>guardian.co.uk</td>\n",
       "      <td>1945.5</td>\n",
       "    </tr>\n",
       "    <tr>\n",
       "      <th>574</th>\n",
       "      <td>Richard Dawkins celebrates a victory over creationists</td>\n",
       "      <td>1259</td>\n",
       "      <td>1491</td>\n",
       "      <td>guardian.co.uk</td>\n",
       "      <td>1375.0</td>\n",
       "    </tr>\n",
       "  </tbody>\n",
       "</table>\n",
       "</div>"
      ],
      "text/plain": [
       "                                                                                                                                Naslov  \\\n",
       "18                                                                                   NASA announces discovery of flowing water in Mars   \n",
       "375                                                        Obama calls for police to wear body cameras as part of $263m reform package   \n",
       "150                                                                                   Stephen Hawking joins academic boycott of Israel   \n",
       "395  The scale of unpaid tax now outstrips the national deficit. Forcing the elite to pay up is now a matter of justice and necessity.   \n",
       "574                                                                             Richard Dawkins celebrates a victory over creationists   \n",
       "\n",
       "     Score  Komentarji             Vir  povprecje  \n",
       "18    8866        6151  guardian.co.uk     7508.5  \n",
       "375   5595        4404  guardian.co.uk     4999.5  \n",
       "150   1773        2253  guardian.co.uk     2013.0  \n",
       "395   2016        1875  guardian.co.uk     1945.5  \n",
       "574   1259        1491  guardian.co.uk     1375.0  "
      ]
     },
     "execution_count": 159,
     "metadata": {},
     "output_type": "execute_result"
    }
   ],
   "source": [
    "vse_novice['povprecje']=((vse_novice.Score) + (vse_novice.Komentarji))/2\n",
    "vse_novice[vse_novice['Vir']=='guardian.co.uk'].sort_values(['povprecje'],ascending=False).head()"
   ]
  },
  {
   "cell_type": "markdown",
   "metadata": {},
   "source": [
    "#### Primerjava povprečnih ocen in komentarjev najpogostejših virov, ki se pojavijo v  kategorijah kontraverzno in najboljše "
   ]
  },
  {
   "cell_type": "code",
   "execution_count": 261,
   "metadata": {
    "collapsed": false
   },
   "outputs": [],
   "source": [
    "#združimo po skupinah najboljše in kontraverzno po virih\n",
    "kontraverznoV=pd.merge(news_con_viri.mean(),wnews_con_viri.mean(),on='Vir', suffixes=('_wnews_con', '_news_con'))\n",
    "najboljseV=pd.merge(news_top_viri.mean(),wnews_top_viri.mean(),on='Vir', suffixes=('_wnews_top', '_news_top'))\n",
    "kontraverznoV['median_con']=kontraverznoV.median(axis=1)\n",
    "najboljseV['median_top']=najboljseV.median(axis=1)\n",
    "\n",
    "sez_naj10_con=list (naj10_con['Vir'])\n",
    "sez_naj10_top=list (naj10_top['Vir'])"
   ]
  },
  {
   "cell_type": "code",
   "execution_count": 262,
   "metadata": {
    "collapsed": false
   },
   "outputs": [
    {
     "data": {
      "text/html": [
       "<div>\n",
       "<table border=\"1\" class=\"dataframe\">\n",
       "  <thead>\n",
       "    <tr style=\"text-align: right;\">\n",
       "      <th></th>\n",
       "      <th>Vir</th>\n",
       "      <th>Score_wnews_con</th>\n",
       "      <th>Komentarji_wnews_con</th>\n",
       "      <th>Score_news_con</th>\n",
       "      <th>Komentarji_news_con</th>\n",
       "      <th>median_con</th>\n",
       "    </tr>\n",
       "  </thead>\n",
       "  <tbody>\n",
       "    <tr>\n",
       "      <th>3</th>\n",
       "      <td>bbc.co.uk</td>\n",
       "      <td>0.018348</td>\n",
       "      <td>0.068645</td>\n",
       "      <td>1.893099</td>\n",
       "      <td>1.719555</td>\n",
       "      <td>1.400422</td>\n",
       "    </tr>\n",
       "    <tr>\n",
       "      <th>12</th>\n",
       "      <td>dailymail.co.uk</td>\n",
       "      <td>0.162911</td>\n",
       "      <td>0.166735</td>\n",
       "      <td>0.514996</td>\n",
       "      <td>0.498760</td>\n",
       "      <td>0.424102</td>\n",
       "    </tr>\n",
       "    <tr>\n",
       "      <th>17</th>\n",
       "      <td>foxnews.com</td>\n",
       "      <td>0.118827</td>\n",
       "      <td>0.573011</td>\n",
       "      <td>4.834959</td>\n",
       "      <td>13.332814</td>\n",
       "      <td>3.682819</td>\n",
       "    </tr>\n",
       "    <tr>\n",
       "      <th>25</th>\n",
       "      <td>independent.co.uk</td>\n",
       "      <td>2.597306</td>\n",
       "      <td>7.959554</td>\n",
       "      <td>2.153338</td>\n",
       "      <td>1.343910</td>\n",
       "      <td>3.308124</td>\n",
       "    </tr>\n",
       "    <tr>\n",
       "      <th>37</th>\n",
       "      <td>news.yahoo.com</td>\n",
       "      <td>0.147296</td>\n",
       "      <td>0.335572</td>\n",
       "      <td>0.249089</td>\n",
       "      <td>0.396227</td>\n",
       "      <td>0.271424</td>\n",
       "    </tr>\n",
       "    <tr>\n",
       "      <th>39</th>\n",
       "      <td>nytimes.com</td>\n",
       "      <td>7.139025</td>\n",
       "      <td>4.456628</td>\n",
       "      <td>0.490204</td>\n",
       "      <td>0.117625</td>\n",
       "      <td>1.547454</td>\n",
       "    </tr>\n",
       "    <tr>\n",
       "      <th>42</th>\n",
       "      <td>rt.com</td>\n",
       "      <td>3.888824</td>\n",
       "      <td>2.236774</td>\n",
       "      <td>0.474296</td>\n",
       "      <td>0.415880</td>\n",
       "      <td>1.134267</td>\n",
       "    </tr>\n",
       "    <tr>\n",
       "      <th>46</th>\n",
       "      <td>theguardian.com</td>\n",
       "      <td>2.240024</td>\n",
       "      <td>1.684771</td>\n",
       "      <td>1.982193</td>\n",
       "      <td>0.642820</td>\n",
       "      <td>1.492005</td>\n",
       "    </tr>\n",
       "    <tr>\n",
       "      <th>50</th>\n",
       "      <td>timesofisrael.com</td>\n",
       "      <td>0.018348</td>\n",
       "      <td>0.135357</td>\n",
       "      <td>0.013895</td>\n",
       "      <td>0.061424</td>\n",
       "      <td>0.046274</td>\n",
       "    </tr>\n",
       "    <tr>\n",
       "      <th>55</th>\n",
       "      <td>washingtonpost.com</td>\n",
       "      <td>2.773654</td>\n",
       "      <td>7.037885</td>\n",
       "      <td>0.000000</td>\n",
       "      <td>0.033563</td>\n",
       "      <td>0.862596</td>\n",
       "    </tr>\n",
       "  </tbody>\n",
       "</table>\n",
       "</div>"
      ],
      "text/plain": [
       "                   Vir  Score_wnews_con  Komentarji_wnews_con  Score_news_con  \\\n",
       "3            bbc.co.uk         0.018348              0.068645        1.893099   \n",
       "12     dailymail.co.uk         0.162911              0.166735        0.514996   \n",
       "17         foxnews.com         0.118827              0.573011        4.834959   \n",
       "25   independent.co.uk         2.597306              7.959554        2.153338   \n",
       "37      news.yahoo.com         0.147296              0.335572        0.249089   \n",
       "39         nytimes.com         7.139025              4.456628        0.490204   \n",
       "42              rt.com         3.888824              2.236774        0.474296   \n",
       "46     theguardian.com         2.240024              1.684771        1.982193   \n",
       "50   timesofisrael.com         0.018348              0.135357        0.013895   \n",
       "55  washingtonpost.com         2.773654              7.037885        0.000000   \n",
       "\n",
       "    Komentarji_news_con  median_con  \n",
       "3              1.719555    1.400422  \n",
       "12             0.498760    0.424102  \n",
       "17            13.332814    3.682819  \n",
       "25             1.343910    3.308124  \n",
       "37             0.396227    0.271424  \n",
       "39             0.117625    1.547454  \n",
       "42             0.415880    1.134267  \n",
       "46             0.642820    1.492005  \n",
       "50             0.061424    0.046274  \n",
       "55             0.033563    0.862596  "
      ]
     },
     "execution_count": 262,
     "metadata": {},
     "output_type": "execute_result"
    }
   ],
   "source": [
    "seznam_kategorij2=list (kontraverznoV.mean().reset_index()['index'])\n",
    "\n",
    "for i in seznam_kategorij2:\n",
    "    kontraverznoV['{0}'.format(i)] = kontraverznoV['{0}'.format(i)]/(kontraverznoV.mean()['{0}'.format(i)])\n",
    "\n",
    "Kontraverzno_pogosti=kontraverznoV[(kontraverznoV['Vir']==sez_naj10_con[0])|\n",
    "              (kontraverznoV['Vir']==sez_naj10_con[1])|\n",
    "              (kontraverznoV['Vir']==sez_naj10_con[2])|\n",
    "              (kontraverznoV['Vir']==sez_naj10_con[3])|\n",
    "              (kontraverznoV['Vir']==sez_naj10_con[4])|\n",
    "              (kontraverznoV['Vir']==sez_naj10_con[5])|\n",
    "              (kontraverznoV['Vir']==sez_naj10_con[6])|\n",
    "              (kontraverznoV['Vir']==sez_naj10_con[7])|\n",
    "              (kontraverznoV['Vir']==sez_naj10_con[8])|\n",
    "              (kontraverznoV['Vir']==sez_naj10_con[9])]\n",
    "Kontraverzno_pogosti"
   ]
  },
  {
   "cell_type": "code",
   "execution_count": 263,
   "metadata": {
    "collapsed": false
   },
   "outputs": [
    {
     "data": {
      "text/plain": [
       "<matplotlib.axes._subplots.AxesSubplot at 0x7f8c582da358>"
      ]
     },
     "execution_count": 263,
     "metadata": {},
     "output_type": "execute_result"
    },
    {
     "data": {
      "image/png": "[encoded data removed]",
      "text/plain": [
       "<matplotlib.figure.Figure at 0x7f8c582da2b0>"
      ]
     },
     "metadata": {},
     "output_type": "display_data"
    }
   ],
   "source": [
    "#primerjava komentarjev\n",
    "Kontraverzno_pogosti[['Vir','Komentarji_news_con','Komentarji_wnews_con']].plot(x='Vir',kind='barh',stacked=False,figsize=(20,20),fontsize=25)"
   ]
  },
  {
   "cell_type": "code",
   "execution_count": 264,
   "metadata": {
    "collapsed": false
   },
   "outputs": [
    {
     "data": {
      "text/plain": [
       "<matplotlib.axes._subplots.AxesSubplot at 0x7f8c582bcba8>"
      ]
     },
     "execution_count": 264,
     "metadata": {},
     "output_type": "execute_result"
    },
    {
     "data": {
      "image/png": "[encoded data removed]",
      "text/plain": [
       "<matplotlib.figure.Figure at 0x7f8c583292e8>"
      ]
     },
     "metadata": {},
     "output_type": "display_data"
    }
   ],
   "source": [
    "#primerjava ocen kontraverzno\n",
    "Kontraverzno_pogosti[['Vir','Score_news_con','Score_wnews_con']].plot(x='Vir',kind='barh',stacked=False,figsize=(20,20),fontsize=25)"
   ]
  },
  {
   "cell_type": "code",
   "execution_count": 202,
   "metadata": {
    "collapsed": false
   },
   "outputs": [
    {
     "data": {
      "text/html": [
       "<div>\n",
       "<table border=\"1\" class=\"dataframe\">\n",
       "  <thead>\n",
       "    <tr style=\"text-align: right;\">\n",
       "      <th></th>\n",
       "      <th>Vir</th>\n",
       "      <th>Score_wnews_top</th>\n",
       "      <th>Komentarji_wnews_top</th>\n",
       "      <th>Score_news_top</th>\n",
       "      <th>Komentarji_news_top</th>\n",
       "      <th>median_top</th>\n",
       "    </tr>\n",
       "  </thead>\n",
       "  <tbody>\n",
       "    <tr>\n",
       "      <th>4</th>\n",
       "      <td>bbc.co.uk</td>\n",
       "      <td>0.941324</td>\n",
       "      <td>2.654068</td>\n",
       "      <td>1.015126</td>\n",
       "      <td>1.666923</td>\n",
       "      <td>1.359803</td>\n",
       "    </tr>\n",
       "    <tr>\n",
       "      <th>5</th>\n",
       "      <td>bbc.com</td>\n",
       "      <td>1.003665</td>\n",
       "      <td>1.129562</td>\n",
       "      <td>0.981161</td>\n",
       "      <td>1.298628</td>\n",
       "      <td>1.027036</td>\n",
       "    </tr>\n",
       "    <tr>\n",
       "      <th>6</th>\n",
       "      <td>bigstory.ap.org</td>\n",
       "      <td>1.106114</td>\n",
       "      <td>0.479556</td>\n",
       "      <td>1.077803</td>\n",
       "      <td>0.775442</td>\n",
       "      <td>0.948650</td>\n",
       "    </tr>\n",
       "    <tr>\n",
       "      <th>25</th>\n",
       "      <td>independent.co.uk</td>\n",
       "      <td>0.972797</td>\n",
       "      <td>1.278787</td>\n",
       "      <td>0.994527</td>\n",
       "      <td>1.111978</td>\n",
       "      <td>1.042138</td>\n",
       "    </tr>\n",
       "    <tr>\n",
       "      <th>31</th>\n",
       "      <td>nbcnews.com</td>\n",
       "      <td>0.936261</td>\n",
       "      <td>1.202708</td>\n",
       "      <td>0.967901</td>\n",
       "      <td>1.594969</td>\n",
       "      <td>1.065231</td>\n",
       "    </tr>\n",
       "    <tr>\n",
       "      <th>35</th>\n",
       "      <td>news.yahoo.com</td>\n",
       "      <td>0.970967</td>\n",
       "      <td>0.731611</td>\n",
       "      <td>0.924281</td>\n",
       "      <td>1.092522</td>\n",
       "      <td>0.947810</td>\n",
       "    </tr>\n",
       "    <tr>\n",
       "      <th>40</th>\n",
       "      <td>nytimes.com</td>\n",
       "      <td>0.993970</td>\n",
       "      <td>1.382573</td>\n",
       "      <td>0.929948</td>\n",
       "      <td>1.347380</td>\n",
       "      <td>1.088481</td>\n",
       "    </tr>\n",
       "    <tr>\n",
       "      <th>42</th>\n",
       "      <td>reuters.com</td>\n",
       "      <td>0.950869</td>\n",
       "      <td>0.787269</td>\n",
       "      <td>0.948454</td>\n",
       "      <td>1.441607</td>\n",
       "      <td>1.032047</td>\n",
       "    </tr>\n",
       "    <tr>\n",
       "      <th>47</th>\n",
       "      <td>theguardian.com</td>\n",
       "      <td>0.983337</td>\n",
       "      <td>0.840818</td>\n",
       "      <td>1.000260</td>\n",
       "      <td>1.077998</td>\n",
       "      <td>0.951937</td>\n",
       "    </tr>\n",
       "    <tr>\n",
       "      <th>55</th>\n",
       "      <td>washingtonpost.com</td>\n",
       "      <td>1.039043</td>\n",
       "      <td>0.938158</td>\n",
       "      <td>0.949548</td>\n",
       "      <td>1.076566</td>\n",
       "      <td>0.988402</td>\n",
       "    </tr>\n",
       "  </tbody>\n",
       "</table>\n",
       "</div>"
      ],
      "text/plain": [
       "                   Vir  Score_wnews_top  Komentarji_wnews_top  Score_news_top  \\\n",
       "4            bbc.co.uk         0.941324              2.654068        1.015126   \n",
       "5              bbc.com         1.003665              1.129562        0.981161   \n",
       "6      bigstory.ap.org         1.106114              0.479556        1.077803   \n",
       "25   independent.co.uk         0.972797              1.278787        0.994527   \n",
       "31         nbcnews.com         0.936261              1.202708        0.967901   \n",
       "35      news.yahoo.com         0.970967              0.731611        0.924281   \n",
       "40         nytimes.com         0.993970              1.382573        0.929948   \n",
       "42         reuters.com         0.950869              0.787269        0.948454   \n",
       "47     theguardian.com         0.983337              0.840818        1.000260   \n",
       "55  washingtonpost.com         1.039043              0.938158        0.949548   \n",
       "\n",
       "    Komentarji_news_top  median_top  \n",
       "4              1.666923    1.359803  \n",
       "5              1.298628    1.027036  \n",
       "6              0.775442    0.948650  \n",
       "25             1.111978    1.042138  \n",
       "31             1.594969    1.065231  \n",
       "35             1.092522    0.947810  \n",
       "40             1.347380    1.088481  \n",
       "42             1.441607    1.032047  \n",
       "47             1.077998    0.951937  \n",
       "55             1.076566    0.988402  "
      ]
     },
     "execution_count": 202,
     "metadata": {},
     "output_type": "execute_result"
    }
   ],
   "source": [
    "seznam_kategorij3 = list (najboljseV.mean().reset_index()['index'])\n",
    "\n",
    "for i in seznam_kategorij3:\n",
    "    najboljseV['{0}'.format(i)] = najboljseV['{0}'.format(i)]/(najboljseV.mean()['{0}'.format(i)])\n",
    "\n",
    "Najboljse_pogosti=najboljseV[(najboljseV['Vir']==sez_naj10_top[0])|\n",
    "              (najboljseV['Vir']==sez_naj10_top[1])|\n",
    "              (najboljseV['Vir']==sez_naj10_top[2])|\n",
    "              (najboljseV['Vir']==sez_naj10_top[3])|\n",
    "              (najboljseV['Vir']==sez_naj10_top[4])|\n",
    "              (najboljseV['Vir']==sez_naj10_top[5])|\n",
    "              (najboljseV['Vir']==sez_naj10_top[6])|\n",
    "              (najboljseV['Vir']==sez_naj10_top[7])|\n",
    "              (najboljseV['Vir']==sez_naj10_top[8])|\n",
    "              (najboljseV['Vir']==sez_naj10_top[9])]\n",
    "Najboljse_pogosti\n"
   ]
  },
  {
   "cell_type": "code",
   "execution_count": 203,
   "metadata": {
    "collapsed": false
   },
   "outputs": [
    {
     "data": {
      "text/plain": [
       "<matplotlib.axes._subplots.AxesSubplot at 0x7f8c585c65f8>"
      ]
     },
     "execution_count": 203,
     "metadata": {},
     "output_type": "execute_result"
    },
    {
     "data": {
      "image/png": "[encoded data removed]",
      "text/plain": [
       "<matplotlib.figure.Figure at 0x7f8c584b5ef0>"
      ]
     },
     "metadata": {},
     "output_type": "display_data"
    }
   ],
   "source": [
    "#primerjava komentarjev najboljse\n",
    "Najboljse_pogosti[['Vir','Komentarji_news_top','Komentarji_wnews_top']].plot(x='Vir',kind='barh',stacked=False,figsize=(20,20),fontsize=25)"
   ]
  },
  {
   "cell_type": "code",
   "execution_count": 204,
   "metadata": {
    "collapsed": false
   },
   "outputs": [
    {
     "data": {
      "text/plain": [
       "<matplotlib.axes._subplots.AxesSubplot at 0x7f8c584b5e48>"
      ]
     },
     "execution_count": 204,
     "metadata": {},
     "output_type": "execute_result"
    },
    {
     "data": {
      "image/png": "[encoded data removed]",
      "text/plain": [
       "<matplotlib.figure.Figure at 0x7f8c5842dc18>"
      ]
     },
     "metadata": {},
     "output_type": "display_data"
    }
   ],
   "source": [
    "#primerjava ocen najboljse\n",
    "Najboljse_pogosti[['Vir','Score_news_top','Score_wnews_top']].plot(x='Vir',kind='barh',stacked=False,figsize=(20,20),fontsize=25)"
   ]
  },
  {
   "cell_type": "markdown",
   "metadata": {},
   "source": []
  },
  {
   "cell_type": "markdown",
   "metadata": {},
   "source": [
    "#### Kateri viri so izrazito kontraverzni?"
   ]
  },
  {
   "cell_type": "code",
   "execution_count": 205,
   "metadata": {
    "collapsed": false
   },
   "outputs": [],
   "source": [
    "skupna_viri=pd.merge(kontraverznoV,najboljseV,on= 'Vir')\n",
    "skupna_viri['relativno']=skupna_viri.median_con-skupna_viri.median_top"
   ]
  },
  {
   "cell_type": "code",
   "execution_count": 215,
   "metadata": {
    "collapsed": false,
    "scrolled": true
   },
   "outputs": [
    {
     "data": {
      "text/html": [
       "<div>\n",
       "<table border=\"1\" class=\"dataframe\">\n",
       "  <thead>\n",
       "    <tr style=\"text-align: right;\">\n",
       "      <th></th>\n",
       "      <th>Vir</th>\n",
       "      <th>relativno</th>\n",
       "    </tr>\n",
       "  </thead>\n",
       "  <tbody>\n",
       "    <tr>\n",
       "      <th>1</th>\n",
       "      <td>bbc.com</td>\n",
       "      <td>3.497304</td>\n",
       "    </tr>\n",
       "    <tr>\n",
       "      <th>4</th>\n",
       "      <td>cbc.ca</td>\n",
       "      <td>3.368605</td>\n",
       "    </tr>\n",
       "    <tr>\n",
       "      <th>7</th>\n",
       "      <td>foxnews.com</td>\n",
       "      <td>2.706213</td>\n",
       "    </tr>\n",
       "    <tr>\n",
       "      <th>10</th>\n",
       "      <td>independent.co.uk</td>\n",
       "      <td>2.265986</td>\n",
       "    </tr>\n",
       "    <tr>\n",
       "      <th>17</th>\n",
       "      <td>reuters.com</td>\n",
       "      <td>1.200857</td>\n",
       "    </tr>\n",
       "  </tbody>\n",
       "</table>\n",
       "</div>"
      ],
      "text/plain": [
       "                  Vir  relativno\n",
       "1             bbc.com   3.497304\n",
       "4              cbc.ca   3.368605\n",
       "7         foxnews.com   2.706213\n",
       "10  independent.co.uk   2.265986\n",
       "17        reuters.com   1.200857"
      ]
     },
     "execution_count": 215,
     "metadata": {},
     "output_type": "execute_result"
    }
   ],
   "source": [
    "skupna_viri.sort_values('relativno',ascending=False)[['Vir','relativno']].head()"
   ]
  },
  {
   "cell_type": "markdown",
   "metadata": {},
   "source": [
    "#### Kateri viri so izrazito najboljsi?"
   ]
  },
  {
   "cell_type": "code",
   "execution_count": 216,
   "metadata": {
    "collapsed": false,
    "scrolled": true
   },
   "outputs": [
    {
     "data": {
      "text/html": [
       "<div>\n",
       "<table border=\"1\" class=\"dataframe\">\n",
       "  <thead>\n",
       "    <tr style=\"text-align: right;\">\n",
       "      <th></th>\n",
       "      <th>Vir</th>\n",
       "      <th>relativno</th>\n",
       "    </tr>\n",
       "  </thead>\n",
       "  <tbody>\n",
       "    <tr>\n",
       "      <th>3</th>\n",
       "      <td>bloomberg.com</td>\n",
       "      <td>-1.024710</td>\n",
       "    </tr>\n",
       "    <tr>\n",
       "      <th>9</th>\n",
       "      <td>hosted.ap.org</td>\n",
       "      <td>-1.008147</td>\n",
       "    </tr>\n",
       "    <tr>\n",
       "      <th>11</th>\n",
       "      <td>latimes.com</td>\n",
       "      <td>-0.988747</td>\n",
       "    </tr>\n",
       "    <tr>\n",
       "      <th>22</th>\n",
       "      <td>usatoday.com</td>\n",
       "      <td>-0.965741</td>\n",
       "    </tr>\n",
       "    <tr>\n",
       "      <th>18</th>\n",
       "      <td>smh.com.au</td>\n",
       "      <td>-0.957847</td>\n",
       "    </tr>\n",
       "  </tbody>\n",
       "</table>\n",
       "</div>"
      ],
      "text/plain": [
       "              Vir  relativno\n",
       "3   bloomberg.com  -1.024710\n",
       "9   hosted.ap.org  -1.008147\n",
       "11    latimes.com  -0.988747\n",
       "22   usatoday.com  -0.965741\n",
       "18     smh.com.au  -0.957847"
      ]
     },
     "execution_count": 216,
     "metadata": {},
     "output_type": "execute_result"
    }
   ],
   "source": [
    "skupna_viri.sort_values('relativno')[['Vir','relativno']].head()"
   ]
  }
 ],
 "metadata": {
  "kernelspec": {
   "display_name": "Python 3",
   "language": "python",
   "name": "python3"
  },
  "language_info": {
   "codemirror_mode": {
    "name": "ipython",
    "version": 3
   },
   "file_extension": ".py",
   "mimetype": "text/x-python",
   "name": "python",
   "nbconvert_exporter": "python",
   "pygments_lexer": "ipython3",
   "version": "3.4.3"
  }
 },
 "nbformat": 4,
 "nbformat_minor": 0
}
