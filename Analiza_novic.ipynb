{
 "cells": [
  {
   "cell_type": "markdown",
   "metadata": {
    "collapsed": true
   },
   "source": [
    "# Analiza podstrani(subredditov) r/news in r/worldnews spletne strani Reddit"
   ]
  },
  {
   "cell_type": "markdown",
   "metadata": {},
   "source": [
    "Reddit je ameriška zabavna, družbena in novičarska spletna stran.\n",
    "Na Reddit uporabniki objavljajo razne povezave (večinoma na druge spletne strani), ki jih lahko drugi uporabniki ocenijo pozitivno (upvote) ali negativno (downvote) in komentirajo. Razdeljena je na več podstrani-subredditov.\n",
    "\n",
    "Podstrani r/news in r/worldnews sta privzeti. Objave privzetih strani se pokažejo neregistriranim in novim uporabnikom na naslovnici(front page), ker se večina uporabnikov od podstrani ne odjavi, le prijavi, imajo tako privzete strani avtomatsko največ uporabnikov.\n",
    "\n",
    "Primerjala sem novice dveh takih večjih podstrani r/news-novice in r/worldnews-svetovne novice. Podstrani so razdeljene na več delov, analizirala sem top-najboljše in contraversial-kontraverzno.\n",
    "\n",
    "## Hipoteze\n",
    "    - 1. r/news bo imel več ameriških virov novic kot r/worldnews.\n",
    "    - 2. Viri r/worldnews bodo kvalitetnejše od virov r/news. (The Guardian > FoxNews ) \n",
    "    - 3. Novice iz predela kontraverzno bodo iz tabloidov, rumenega tiska ali z zavajujočo vsebino.\n",
    "## Primerjave\n",
    "    - Primerjava povprečnih ocen in komentarjev vseh kategorji\n",
    "    - Primerjava povprečnih ocen in komentarjev najpogostejših virov\n",
    "    - Pregled 5 najbolj komentiranih in  najbolje ocenjenih novic posameznih kategorij"
   ]
  },
  {
   "cell_type": "code",
   "execution_count": 1,
   "metadata": {
    "collapsed": false
   },
   "outputs": [],
   "source": [
    "import pandas as pd\n",
    "%matplotlib inline\n",
    "pd.set_option('max_colwidth',400)"
   ]
  },
  {
   "cell_type": "code",
   "execution_count": 2,
   "metadata": {
    "collapsed": false
   },
   "outputs": [],
   "source": [
    "news_con=pd.read_csv('news_con.csv')\n",
    "news_top=pd.read_csv('news_top.csv')\n",
    "wnews_con=pd.read_csv('wnews_con.csv')\n",
    "wnews_top=pd.read_csv('wnews_top.csv')"
   ]
  },
  {
   "cell_type": "code",
   "execution_count": 3,
   "metadata": {
    "collapsed": false
   },
   "outputs": [],
   "source": [
    "news_con_viri=news_con.groupby(['Vir'],as_index=False)\n",
    "news_top_viri=news_top.groupby(['Vir'],as_index=False)\n",
    "wnews_con_viri=wnews_con.groupby(['Vir'],as_index=False)\n",
    "wnews_top_viri=wnews_top.groupby(['Vir'],as_index=False)"
   ]
  },
  {
   "cell_type": "code",
   "execution_count": 4,
   "metadata": {
    "collapsed": false
   },
   "outputs": [],
   "source": [
    "viri_kontraverzno=pd.merge(news_con_viri.count()[['Vir','Naslov']],wnews_con_viri.count()[['Vir','Naslov']],on='Vir', suffixes=('_news', '_wnews'))"
   ]
  },
  {
   "cell_type": "markdown",
   "metadata": {},
   "source": [
    "### Hipoteza 1: r/news bo imel več ameriških virov novic kot r/worldnews\n",
    "Že v samem opisu podstrani r/worldnews je zapisano, da stran dovoljuje povezave na vse novice, razen notranjih zadev in politike ZDA. Tako še s preštetjem pojavitve virov potrdimo, da hipoteza drži."
   ]
  },
  {
   "cell_type": "markdown",
   "metadata": {},
   "source": [
    "Združila sem skupaj število novic posameznega vira r/news in r/worldnews. Tako sem dobila vpogled v seznam najpogostejših virov na posamezni strani."
   ]
  },
  {
   "cell_type": "code",
   "execution_count": 5,
   "metadata": {
    "collapsed": false
   },
   "outputs": [],
   "source": [
    "viri_news=pd.merge(news_con_viri.count()[['Vir','Naslov']],news_top_viri.count()[['Vir','Naslov']],on='Vir')\n",
    "viri_wnews=pd.merge(wnews_con_viri.count()[['Vir','Naslov']],wnews_top_viri.count()[['Vir','Naslov']],on='Vir')\n",
    "viri_news['skupni_naslovi'] = viri_news.Naslov_x + viri_news.Naslov_y\n",
    "viri_wnews['skupni_naslovi']=viri_wnews.Naslov_x + viri_wnews.Naslov_y"
   ]
  },
  {
   "cell_type": "code",
   "execution_count": 6,
   "metadata": {
    "collapsed": false,
    "scrolled": true
   },
   "outputs": [
    {
     "data": {
      "text/html": [
       "<div>\n",
       "<table border=\"1\" class=\"dataframe\">\n",
       "  <thead>\n",
       "    <tr style=\"text-align: right;\">\n",
       "      <th></th>\n",
       "      <th>Vir</th>\n",
       "      <th>skupni_naslovi</th>\n",
       "    </tr>\n",
       "  </thead>\n",
       "  <tbody>\n",
       "    <tr>\n",
       "      <th>71</th>\n",
       "      <td>washingtonpost.com</td>\n",
       "      <td>58</td>\n",
       "    </tr>\n",
       "    <tr>\n",
       "      <th>66</th>\n",
       "      <td>theguardian.com</td>\n",
       "      <td>48</td>\n",
       "    </tr>\n",
       "    <tr>\n",
       "      <th>24</th>\n",
       "      <td>foxnews.com</td>\n",
       "      <td>25</td>\n",
       "    </tr>\n",
       "    <tr>\n",
       "      <th>56</th>\n",
       "      <td>nytimes.com</td>\n",
       "      <td>23</td>\n",
       "    </tr>\n",
       "    <tr>\n",
       "      <th>49</th>\n",
       "      <td>news.yahoo.com</td>\n",
       "      <td>22</td>\n",
       "    </tr>\n",
       "    <tr>\n",
       "      <th>45</th>\n",
       "      <td>nbcnews.com</td>\n",
       "      <td>21</td>\n",
       "    </tr>\n",
       "    <tr>\n",
       "      <th>1</th>\n",
       "      <td>abcnews.go.com</td>\n",
       "      <td>19</td>\n",
       "    </tr>\n",
       "    <tr>\n",
       "      <th>13</th>\n",
       "      <td>cnn.com</td>\n",
       "      <td>19</td>\n",
       "    </tr>\n",
       "    <tr>\n",
       "      <th>31</th>\n",
       "      <td>independent.co.uk</td>\n",
       "      <td>19</td>\n",
       "    </tr>\n",
       "    <tr>\n",
       "      <th>70</th>\n",
       "      <td>usatoday.com</td>\n",
       "      <td>17</td>\n",
       "    </tr>\n",
       "  </tbody>\n",
       "</table>\n",
       "</div>"
      ],
      "text/plain": [
       "                   Vir  skupni_naslovi\n",
       "71  washingtonpost.com              58\n",
       "66     theguardian.com              48\n",
       "24         foxnews.com              25\n",
       "56         nytimes.com              23\n",
       "49      news.yahoo.com              22\n",
       "45         nbcnews.com              21\n",
       "1       abcnews.go.com              19\n",
       "13             cnn.com              19\n",
       "31   independent.co.uk              19\n",
       "70        usatoday.com              17"
      ]
     },
     "execution_count": 6,
     "metadata": {},
     "output_type": "execute_result"
    }
   ],
   "source": [
    "viri_news[['Vir','skupni_naslovi']].sort_values(by='skupni_naslovi',ascending=False).head(n=10)"
   ]
  },
  {
   "cell_type": "code",
   "execution_count": 7,
   "metadata": {
    "collapsed": false,
    "scrolled": true
   },
   "outputs": [
    {
     "data": {
      "text/html": [
       "<div>\n",
       "<table border=\"1\" class=\"dataframe\">\n",
       "  <thead>\n",
       "    <tr style=\"text-align: right;\">\n",
       "      <th></th>\n",
       "      <th>Vir</th>\n",
       "      <th>skupni_naslovi</th>\n",
       "    </tr>\n",
       "  </thead>\n",
       "  <tbody>\n",
       "    <tr>\n",
       "      <th>58</th>\n",
       "      <td>theguardian.com</td>\n",
       "      <td>64</td>\n",
       "    </tr>\n",
       "    <tr>\n",
       "      <th>51</th>\n",
       "      <td>rt.com</td>\n",
       "      <td>54</td>\n",
       "    </tr>\n",
       "    <tr>\n",
       "      <th>3</th>\n",
       "      <td>bbc.co.uk</td>\n",
       "      <td>36</td>\n",
       "    </tr>\n",
       "    <tr>\n",
       "      <th>13</th>\n",
       "      <td>dailymail.co.uk</td>\n",
       "      <td>31</td>\n",
       "    </tr>\n",
       "    <tr>\n",
       "      <th>34</th>\n",
       "      <td>independent.co.uk</td>\n",
       "      <td>30</td>\n",
       "    </tr>\n",
       "    <tr>\n",
       "      <th>4</th>\n",
       "      <td>bbc.com</td>\n",
       "      <td>29</td>\n",
       "    </tr>\n",
       "    <tr>\n",
       "      <th>45</th>\n",
       "      <td>nytimes.com</td>\n",
       "      <td>24</td>\n",
       "    </tr>\n",
       "    <tr>\n",
       "      <th>50</th>\n",
       "      <td>reuters.com</td>\n",
       "      <td>21</td>\n",
       "    </tr>\n",
       "    <tr>\n",
       "      <th>53</th>\n",
       "      <td>self.worldnews</td>\n",
       "      <td>16</td>\n",
       "    </tr>\n",
       "    <tr>\n",
       "      <th>74</th>\n",
       "      <td>washingtonpost.com</td>\n",
       "      <td>15</td>\n",
       "    </tr>\n",
       "  </tbody>\n",
       "</table>\n",
       "</div>"
      ],
      "text/plain": [
       "                   Vir  skupni_naslovi\n",
       "58     theguardian.com              64\n",
       "51              rt.com              54\n",
       "3            bbc.co.uk              36\n",
       "13     dailymail.co.uk              31\n",
       "34   independent.co.uk              30\n",
       "4              bbc.com              29\n",
       "45         nytimes.com              24\n",
       "50         reuters.com              21\n",
       "53      self.worldnews              16\n",
       "74  washingtonpost.com              15"
      ]
     },
     "execution_count": 7,
     "metadata": {},
     "output_type": "execute_result"
    }
   ],
   "source": [
    "viri_wnews[['Vir','skupni_naslovi']].sort_values(by='skupni_naslovi',ascending=False).head(n=10)"
   ]
  },
  {
   "cell_type": "markdown",
   "metadata": {},
   "source": [
    "Komentar: \n",
    "(Analiziram samo 10 najpogostejših virov)\n",
    "V razdelku r/news se pojavi samo 2 neameriška vira (theguardian.com in independent.co.uk).\n",
    "V razdelku r/worldnews sta tudi samo 2 ameriška vira(nytimes.com, washingtonpost.com) uvrstila med 10 najpogostejših.\n",
    "\n",
    "Predvidevem lahko, da so bralci in naročniki r/news večinoma prebivalci ZDA, ki jih seveda zanimajo novice povezane z ZDA, bralci r/worldnews pa so ostali obiskovalci Reddita.\n",
    "\n",
    "Moja hipoteza je potrjena. V r/news je 8 ameriških virov, v r/wnews pa le 2."
   ]
  },
  {
   "cell_type": "markdown",
   "metadata": {},
   "source": [
    "###  Hipoteza 2:Viri r/worldnews bodo kvalitetnejše od virov r/news.\n"
   ]
  },
  {
   "cell_type": "markdown",
   "metadata": {},
   "source": [
    "S pomočjo prejšnih tabel ugotovimo, da se med najpogostejšimi viri r/news izstopa samo foxnews.com, za katerega bi lahko trdili, da ne poroča najbolj objektivneje.\n",
    "\n",
    "Med najpogostejšimi viri r/worldnews zasledimo 2, ki bi ju lahko uvrstili med pristranski in rumeni tisk. To sta na drugem mestu po pogostosti ruska spletna stran rt.com in britanski tabloid dailymail.co.uk.\n",
    "\n",
    "Moja hipoteza ne drži. Viri r/worldnews in r/news so si enakovredni."
   ]
  },
  {
   "cell_type": "markdown",
   "metadata": {},
   "source": [
    "### Hipoteza 3 : Novice iz predela kontraverzno bodo iz tabloidov, rumenega tiska ali z zavajujočo vsebino.\n",
    "Sedaj združim vire novic kontraverzno in najboljše."
   ]
  },
  {
   "cell_type": "code",
   "execution_count": 24,
   "metadata": {
    "collapsed": false
   },
   "outputs": [],
   "source": [
    "viri_kontraverzno=pd.merge(news_con_viri.count()[['Vir','Naslov']],wnews_con_viri.count()[['Vir','Naslov']],on='Vir', suffixes=('_news', '_wnews'))\n",
    "viri_najboljse=pd.merge(news_top_viri.count()[['Vir','Naslov']],wnews_top_viri.count()[['Vir','Naslov']],on='Vir', suffixes=('_news', '_wnews'))\n",
    "viri_kontraverzno['Skupno_naslov'] = viri_kontraverzno.Naslov_news+viri_kontraverzno.Naslov_wnews\n",
    "viri_najboljse['Skupno_naslov'] = viri_najboljse.Naslov_news+viri_najboljse.Naslov_wnews\n",
    "novice_kontraverzno=pd.concat([wnews_con,news_con])\n",
    "novice_najboljse=pd.concat([wnews_top,news_top])"
   ]
  },
  {
   "cell_type": "code",
   "execution_count": 9,
   "metadata": {
    "collapsed": false,
    "scrolled": true
   },
   "outputs": [
    {
     "data": {
      "text/html": [
       "<div>\n",
       "<table border=\"1\" class=\"dataframe\">\n",
       "  <thead>\n",
       "    <tr style=\"text-align: right;\">\n",
       "      <th></th>\n",
       "      <th>Vir</th>\n",
       "      <th>Skupno_naslov</th>\n",
       "    </tr>\n",
       "  </thead>\n",
       "  <tbody>\n",
       "    <tr>\n",
       "      <th>42</th>\n",
       "      <td>rt.com</td>\n",
       "      <td>50</td>\n",
       "    </tr>\n",
       "    <tr>\n",
       "      <th>12</th>\n",
       "      <td>dailymail.co.uk</td>\n",
       "      <td>34</td>\n",
       "    </tr>\n",
       "    <tr>\n",
       "      <th>46</th>\n",
       "      <td>theguardian.com</td>\n",
       "      <td>28</td>\n",
       "    </tr>\n",
       "    <tr>\n",
       "      <th>17</th>\n",
       "      <td>foxnews.com</td>\n",
       "      <td>22</td>\n",
       "    </tr>\n",
       "    <tr>\n",
       "      <th>55</th>\n",
       "      <td>washingtonpost.com</td>\n",
       "      <td>21</td>\n",
       "    </tr>\n",
       "    <tr>\n",
       "      <th>3</th>\n",
       "      <td>bbc.co.uk</td>\n",
       "      <td>20</td>\n",
       "    </tr>\n",
       "    <tr>\n",
       "      <th>37</th>\n",
       "      <td>news.yahoo.com</td>\n",
       "      <td>18</td>\n",
       "    </tr>\n",
       "    <tr>\n",
       "      <th>39</th>\n",
       "      <td>nytimes.com</td>\n",
       "      <td>17</td>\n",
       "    </tr>\n",
       "    <tr>\n",
       "      <th>25</th>\n",
       "      <td>independent.co.uk</td>\n",
       "      <td>16</td>\n",
       "    </tr>\n",
       "    <tr>\n",
       "      <th>50</th>\n",
       "      <td>timesofisrael.com</td>\n",
       "      <td>15</td>\n",
       "    </tr>\n",
       "  </tbody>\n",
       "</table>\n",
       "</div>"
      ],
      "text/plain": [
       "                   Vir  Skupno_naslov\n",
       "42              rt.com             50\n",
       "12     dailymail.co.uk             34\n",
       "46     theguardian.com             28\n",
       "17         foxnews.com             22\n",
       "55  washingtonpost.com             21\n",
       "3            bbc.co.uk             20\n",
       "37      news.yahoo.com             18\n",
       "39         nytimes.com             17\n",
       "25   independent.co.uk             16\n",
       "50   timesofisrael.com             15"
      ]
     },
     "execution_count": 9,
     "metadata": {},
     "output_type": "execute_result"
    }
   ],
   "source": [
    "viri_kontraverzno[['Vir','Skupno_naslov']].sort_values(by='Skupno_naslov',ascending=False).head(n=10)"
   ]
  },
  {
   "cell_type": "code",
   "execution_count": 10,
   "metadata": {
    "collapsed": false,
    "scrolled": false
   },
   "outputs": [
    {
     "data": {
      "text/html": [
       "<div>\n",
       "<table border=\"1\" class=\"dataframe\">\n",
       "  <thead>\n",
       "    <tr style=\"text-align: right;\">\n",
       "      <th></th>\n",
       "      <th>Vir</th>\n",
       "      <th>Skupno_naslov</th>\n",
       "    </tr>\n",
       "  </thead>\n",
       "  <tbody>\n",
       "    <tr>\n",
       "      <th>47</th>\n",
       "      <td>theguardian.com</td>\n",
       "      <td>84</td>\n",
       "    </tr>\n",
       "    <tr>\n",
       "      <th>55</th>\n",
       "      <td>washingtonpost.com</td>\n",
       "      <td>52</td>\n",
       "    </tr>\n",
       "    <tr>\n",
       "      <th>5</th>\n",
       "      <td>bbc.com</td>\n",
       "      <td>33</td>\n",
       "    </tr>\n",
       "    <tr>\n",
       "      <th>25</th>\n",
       "      <td>independent.co.uk</td>\n",
       "      <td>33</td>\n",
       "    </tr>\n",
       "    <tr>\n",
       "      <th>40</th>\n",
       "      <td>nytimes.com</td>\n",
       "      <td>30</td>\n",
       "    </tr>\n",
       "    <tr>\n",
       "      <th>42</th>\n",
       "      <td>reuters.com</td>\n",
       "      <td>27</td>\n",
       "    </tr>\n",
       "    <tr>\n",
       "      <th>4</th>\n",
       "      <td>bbc.co.uk</td>\n",
       "      <td>26</td>\n",
       "    </tr>\n",
       "    <tr>\n",
       "      <th>31</th>\n",
       "      <td>nbcnews.com</td>\n",
       "      <td>19</td>\n",
       "    </tr>\n",
       "    <tr>\n",
       "      <th>35</th>\n",
       "      <td>news.yahoo.com</td>\n",
       "      <td>18</td>\n",
       "    </tr>\n",
       "    <tr>\n",
       "      <th>6</th>\n",
       "      <td>bigstory.ap.org</td>\n",
       "      <td>17</td>\n",
       "    </tr>\n",
       "  </tbody>\n",
       "</table>\n",
       "</div>"
      ],
      "text/plain": [
       "                   Vir  Skupno_naslov\n",
       "47     theguardian.com             84\n",
       "55  washingtonpost.com             52\n",
       "5              bbc.com             33\n",
       "25   independent.co.uk             33\n",
       "40         nytimes.com             30\n",
       "42         reuters.com             27\n",
       "4            bbc.co.uk             26\n",
       "31         nbcnews.com             19\n",
       "35      news.yahoo.com             18\n",
       "6      bigstory.ap.org             17"
      ]
     },
     "execution_count": 10,
     "metadata": {},
     "output_type": "execute_result"
    }
   ],
   "source": [
    "viri_najboljse[['Vir','Skupno_naslov']].sort_values(by='Skupno_naslov',ascending=False).head(n=10)"
   ]
  },
  {
   "cell_type": "markdown",
   "metadata": {},
   "source": [
    "Na vrhu kontraverzno opazimo medij ruske vladne propagande. rt.com (Russia Today) slovi \n",
    "kot pristranska (seveda, v korist rusom) in zavajajoča novinarska hiša, znana po širjenju napačnih informacij.\n",
    "V spodnji tabeli je zapisanih 5 najbolje ocenjenih novic rt.com."
   ]
  },
  {
   "cell_type": "code",
   "execution_count": 27,
   "metadata": {
    "collapsed": false,
    "scrolled": true
   },
   "outputs": [
    {
     "data": {
      "text/html": [
       "<div>\n",
       "<table border=\"1\" class=\"dataframe\">\n",
       "  <thead>\n",
       "    <tr style=\"text-align: right;\">\n",
       "      <th></th>\n",
       "      <th>Naslov</th>\n",
       "      <th>Score</th>\n",
       "      <th>Komentarji</th>\n",
       "      <th>Vir</th>\n",
       "    </tr>\n",
       "  </thead>\n",
       "  <tbody>\n",
       "    <tr>\n",
       "      <th>235</th>\n",
       "      <td>UK: Man jailed for 33 months for pirating ‘Fast &amp;amp; Furious’</td>\n",
       "      <td>2396</td>\n",
       "      <td>3245</td>\n",
       "      <td>rt.com</td>\n",
       "    </tr>\n",
       "    <tr>\n",
       "      <th>85</th>\n",
       "      <td>The US has been voted as the most significant threat to world peace in a survey across 68 different countries</td>\n",
       "      <td>2233</td>\n",
       "      <td>5979</td>\n",
       "      <td>rt.com</td>\n",
       "    </tr>\n",
       "    <tr>\n",
       "      <th>433</th>\n",
       "      <td>Snowden nominated for Nobel Peace Prize by Swedish professor. \"[H]eroic effort at great personal cost.”</td>\n",
       "      <td>2169</td>\n",
       "      <td>687</td>\n",
       "      <td>rt.com</td>\n",
       "    </tr>\n",
       "    <tr>\n",
       "      <th>123</th>\n",
       "      <td>New video: Edward Snowden receives award from NSA, CIA, FBI and DOJ officials, breaks silence on NSA programs for the first time in Russia. Reveals new details on how mass surveillance makes us less - not more - safe.</td>\n",
       "      <td>1593</td>\n",
       "      <td>575</td>\n",
       "      <td>rt.com</td>\n",
       "    </tr>\n",
       "    <tr>\n",
       "      <th>16</th>\n",
       "      <td>Obama considers ending NSA surveillance programs.</td>\n",
       "      <td>1252</td>\n",
       "      <td>1060</td>\n",
       "      <td>rt.com</td>\n",
       "    </tr>\n",
       "  </tbody>\n",
       "</table>\n",
       "</div>"
      ],
      "text/plain": [
       "                                                                                                                                                                                                                        Naslov  \\\n",
       "235                                                                                                                                                             UK: Man jailed for 33 months for pirating ‘Fast &amp; Furious’   \n",
       "85                                                                                                               The US has been voted as the most significant threat to world peace in a survey across 68 different countries   \n",
       "433                                                                                                                    Snowden nominated for Nobel Peace Prize by Swedish professor. \"[H]eroic effort at great personal cost.”   \n",
       "123  New video: Edward Snowden receives award from NSA, CIA, FBI and DOJ officials, breaks silence on NSA programs for the first time in Russia. Reveals new details on how mass surveillance makes us less - not more - safe.   \n",
       "16                                                                                                                                                                           Obama considers ending NSA surveillance programs.   \n",
       "\n",
       "     Score  Komentarji     Vir  \n",
       "235   2396        3245  rt.com  \n",
       "85    2233        5979  rt.com  \n",
       "433   2169         687  rt.com  \n",
       "123   1593         575  rt.com  \n",
       "16    1252        1060  rt.com  "
      ]
     },
     "execution_count": 27,
     "metadata": {},
     "output_type": "execute_result"
    }
   ],
   "source": [
    "novice_kontraverzno[novice_kontraverzno['Vir'] =='rt.com'].sort_values('Score', ascending=False).head()"
   ]
  },
  {
   "cell_type": "markdown",
   "metadata": {},
   "source": [
    "Na drugo mesto po pogostosti virov kontraverznih novic je britanski rumeni tračarski časopis dailymail.co.uk.\n",
    "Znani konservativni tabloid je znan po nenatančnem, pristranskem in senzacionalnem poročanju. To potrdi tudi seznam 4 najbolje ocenjenih novic. (Ena je bila na strani objavljena dvakrat). \n",
    "Novice so povezane s spolnim nasiljem(61), nasiljem (192,307) in krščanstvom(178). "
   ]
  },
  {
   "cell_type": "code",
   "execution_count": 28,
   "metadata": {
    "collapsed": false
   },
   "outputs": [
    {
     "data": {
      "text/html": [
       "<div>\n",
       "<table border=\"1\" class=\"dataframe\">\n",
       "  <thead>\n",
       "    <tr style=\"text-align: right;\">\n",
       "      <th></th>\n",
       "      <th>Naslov</th>\n",
       "      <th>Score</th>\n",
       "      <th>Komentarji</th>\n",
       "      <th>Vir</th>\n",
       "    </tr>\n",
       "  </thead>\n",
       "  <tbody>\n",
       "    <tr>\n",
       "      <th>192</th>\n",
       "      <td>Mobs of 'hundreds' of masked men rampage through Stockholm central station beating up refugee children</td>\n",
       "      <td>3339</td>\n",
       "      <td>6268</td>\n",
       "      <td>dailymail.co.uk</td>\n",
       "    </tr>\n",
       "    <tr>\n",
       "      <th>61</th>\n",
       "      <td>Roman Catholic church's paedophile investigator jailed for possessing thousnds of child porn images</td>\n",
       "      <td>772</td>\n",
       "      <td>784</td>\n",
       "      <td>dailymail.co.uk</td>\n",
       "    </tr>\n",
       "    <tr>\n",
       "      <th>307</th>\n",
       "      <td>'Someone's coming to get me': Terrified phone-hacking whistleblower feared for his life before he was found dead.\\r\\n</td>\n",
       "      <td>359</td>\n",
       "      <td>149</td>\n",
       "      <td>dailymail.co.uk</td>\n",
       "    </tr>\n",
       "    <tr>\n",
       "      <th>184</th>\n",
       "      <td>'Someone's coming to get me': Terrified phone-hacking whistleblower feared for his life before he was found dead.\\r\\n</td>\n",
       "      <td>246</td>\n",
       "      <td>87</td>\n",
       "      <td>dailymail.co.uk</td>\n",
       "    </tr>\n",
       "    <tr>\n",
       "      <th>178</th>\n",
       "      <td>Secret £14million Bible in which 'Jesus predicts coming of Prophet Muhammad' unearthed in Turkey</td>\n",
       "      <td>83</td>\n",
       "      <td>151</td>\n",
       "      <td>dailymail.co.uk</td>\n",
       "    </tr>\n",
       "  </tbody>\n",
       "</table>\n",
       "</div>"
      ],
      "text/plain": [
       "                                                                                                                    Naslov  \\\n",
       "192                 Mobs of 'hundreds' of masked men rampage through Stockholm central station beating up refugee children   \n",
       "61                     Roman Catholic church's paedophile investigator jailed for possessing thousnds of child porn images   \n",
       "307  'Someone's coming to get me': Terrified phone-hacking whistleblower feared for his life before he was found dead.\\r\\n   \n",
       "184  'Someone's coming to get me': Terrified phone-hacking whistleblower feared for his life before he was found dead.\\r\\n   \n",
       "178                       Secret £14million Bible in which 'Jesus predicts coming of Prophet Muhammad' unearthed in Turkey   \n",
       "\n",
       "     Score  Komentarji              Vir  \n",
       "192   3339        6268  dailymail.co.uk  \n",
       "61     772         784  dailymail.co.uk  \n",
       "307    359         149  dailymail.co.uk  \n",
       "184    246          87  dailymail.co.uk  \n",
       "178     83         151  dailymail.co.uk  "
      ]
     },
     "execution_count": 28,
     "metadata": {},
     "output_type": "execute_result"
    }
   ],
   "source": [
    "novice_kontraverzno[novice_kontraverzno['Vir'] =='dailymail.co.uk'].sort_values('Score', ascending=False).head()"
   ]
  },
  {
   "cell_type": "markdown",
   "metadata": {},
   "source": [
    "V kategoriji najboljše se med desetimi najpogostejšimi viri ne pojavi vir \"vprašljive\" kakovosti. \n",
    "Za primerjavo kakovosti novice, si poglejmo 5 najbolje ocenjenih novic vira guardian.com."
   ]
  },
  {
   "cell_type": "code",
   "execution_count": 30,
   "metadata": {
    "collapsed": false,
    "scrolled": true
   },
   "outputs": [
    {
     "data": {
      "text/html": [
       "<div>\n",
       "<table border=\"1\" class=\"dataframe\">\n",
       "  <thead>\n",
       "    <tr style=\"text-align: right;\">\n",
       "      <th></th>\n",
       "      <th>Naslov</th>\n",
       "      <th>Score</th>\n",
       "      <th>Komentarji</th>\n",
       "      <th>Vir</th>\n",
       "    </tr>\n",
       "  </thead>\n",
       "  <tbody>\n",
       "    <tr>\n",
       "      <th>74</th>\n",
       "      <td>Christopher Lee dies at the age of 93</td>\n",
       "      <td>3355</td>\n",
       "      <td>734</td>\n",
       "      <td>theguardian.com</td>\n",
       "    </tr>\n",
       "    <tr>\n",
       "      <th>446</th>\n",
       "      <td>\"An unarmed black man was shot three times by Los Angeles police officers, once each in the back, side and arm... The autopsy, which was first obtained by the Los Angeles Times, officially classifies Ford’s death as a homicide.\"</td>\n",
       "      <td>1587</td>\n",
       "      <td>821</td>\n",
       "      <td>theguardian.com</td>\n",
       "    </tr>\n",
       "    <tr>\n",
       "      <th>0</th>\n",
       "      <td>ISIS orders all women and girls in Mosul to undergo Female Genital Mutilation</td>\n",
       "      <td>343</td>\n",
       "      <td>1123</td>\n",
       "      <td>theguardian.com</td>\n",
       "    </tr>\n",
       "    <tr>\n",
       "      <th>352</th>\n",
       "      <td>Fewer mass shootings occur in states with more background checks</td>\n",
       "      <td>241</td>\n",
       "      <td>235</td>\n",
       "      <td>theguardian.com</td>\n",
       "    </tr>\n",
       "    <tr>\n",
       "      <th>134</th>\n",
       "      <td>Radio host sues Taylor Swift for accusing him of touching her bottom</td>\n",
       "      <td>175</td>\n",
       "      <td>124</td>\n",
       "      <td>theguardian.com</td>\n",
       "    </tr>\n",
       "  </tbody>\n",
       "</table>\n",
       "</div>"
      ],
      "text/plain": [
       "                                                                                                                                                                                                                                   Naslov  \\\n",
       "74                                                                                                                                                                                                  Christopher Lee dies at the age of 93   \n",
       "446  \"An unarmed black man was shot three times by Los Angeles police officers, once each in the back, side and arm... The autopsy, which was first obtained by the Los Angeles Times, officially classifies Ford’s death as a homicide.\"   \n",
       "0                                                                                                                                                           ISIS orders all women and girls in Mosul to undergo Female Genital Mutilation   \n",
       "352                                                                                                                                                                      Fewer mass shootings occur in states with more background checks   \n",
       "134                                                                                                                                                                  Radio host sues Taylor Swift for accusing him of touching her bottom   \n",
       "\n",
       "     Score  Komentarji              Vir  \n",
       "74    3355         734  theguardian.com  \n",
       "446   1587         821  theguardian.com  \n",
       "0      343        1123  theguardian.com  \n",
       "352    241         235  theguardian.com  \n",
       "134    175         124  theguardian.com  "
      ]
     },
     "execution_count": 30,
     "metadata": {},
     "output_type": "execute_result"
    }
   ],
   "source": [
    "news_con[news_con['Vir'] =='theguardian.com'].sort_values('Score', ascending=False).head(n=5)"
   ]
  },
  {
   "cell_type": "markdown",
   "metadata": {},
   "source": [
    "\n",
    "\n",
    "\n",
    "Komentar:\n",
    "Moja hipoteza je ovržena. Izkazalo se je, da se razlika pojavi v kategoriji kontraverzo. "
   ]
  },
  {
   "cell_type": "markdown",
   "metadata": {},
   "source": [
    "### Primerjave\n",
    "Najprej raziščem, kakšna je razlika v komentarjih in ocenah za različne vire v naših kategorijah.\n",
    "Ker sem ugotovila, da viri se podobni viri pojavijo v skupnih podstraneh(najboljše in kontraverzno) bom primerjala r/news in r/worldnews kontraverzno in r/news in r/worldnews najboljše."
   ]
  },
  {
   "cell_type": "code",
   "execution_count": 56,
   "metadata": {
    "collapsed": false
   },
   "outputs": [
    {
     "data": {
      "text/plain": [
       "Score         281.991304\n",
       "Komentarji    416.194783\n",
       "dtype: float64"
      ]
     },
     "execution_count": 56,
     "metadata": {},
     "output_type": "execute_result"
    }
   ],
   "source": [
    "wnews_con.mean()"
   ]
  },
  {
   "cell_type": "code",
   "execution_count": 55,
   "metadata": {
    "collapsed": false
   },
   "outputs": [
    {
     "data": {
      "text/plain": [
       "Score         256.160000\n",
       "Komentarji    310.295652\n",
       "dtype: float64"
      ]
     },
     "execution_count": 55,
     "metadata": {},
     "output_type": "execute_result"
    }
   ],
   "source": [
    "news_con.mean()"
   ]
  },
  {
   "cell_type": "code",
   "execution_count": 31,
   "metadata": {
    "collapsed": false,
    "scrolled": true
   },
   "outputs": [],
   "source": [
    "vse_novice=pd.concat([news_con,wnews_con,news_top,wnews_top])"
   ]
  },
  {
   "cell_type": "markdown",
   "metadata": {},
   "source": [
    "Kateri vir ima najboljše povprečje ocen?"
   ]
  },
  {
   "cell_type": "code",
   "execution_count": 42,
   "metadata": {
    "collapsed": false,
    "scrolled": true
   },
   "outputs": [
    {
     "data": {
      "text/html": [
       "<div>\n",
       "<table border=\"1\" class=\"dataframe\">\n",
       "  <thead>\n",
       "    <tr style=\"text-align: right;\">\n",
       "      <th></th>\n",
       "      <th>Score</th>\n",
       "      <th>Komentarji</th>\n",
       "    </tr>\n",
       "    <tr>\n",
       "      <th>Vir</th>\n",
       "      <th></th>\n",
       "      <th></th>\n",
       "    </tr>\n",
       "  </thead>\n",
       "  <tbody>\n",
       "    <tr>\n",
       "      <th>sydneycriminallawyers.com.au</th>\n",
       "      <td>12334</td>\n",
       "      <td>1978</td>\n",
       "    </tr>\n",
       "  </tbody>\n",
       "</table>\n",
       "</div>"
      ],
      "text/plain": [
       "                              Score  Komentarji\n",
       "Vir                                            \n",
       "sydneycriminallawyers.com.au  12334        1978"
      ]
     },
     "execution_count": 42,
     "metadata": {},
     "output_type": "execute_result"
    }
   ],
   "source": [
    "vse_novice.groupby(['Vir']).mean().sort_values('Score',ascending=False).head(n=1)"
   ]
  },
  {
   "cell_type": "code",
   "execution_count": 38,
   "metadata": {
    "collapsed": false,
    "scrolled": true
   },
   "outputs": [
    {
     "data": {
      "text/html": [
       "<div>\n",
       "<table border=\"1\" class=\"dataframe\">\n",
       "  <thead>\n",
       "    <tr style=\"text-align: right;\">\n",
       "      <th></th>\n",
       "      <th>Naslov</th>\n",
       "      <th>Score</th>\n",
       "      <th>Komentarji</th>\n",
       "      <th>Vir</th>\n",
       "    </tr>\n",
       "  </thead>\n",
       "  <tbody>\n",
       "    <tr>\n",
       "      <th>2</th>\n",
       "      <td>The police officer who leaked the footage of the surfers paradise police brutality, where the victims blood was washed away by officers, has been criminally charged for bringing it to the publics view. Officers who did the bashing get nothing.</td>\n",
       "      <td>12334</td>\n",
       "      <td>1978</td>\n",
       "      <td>sydneycriminallawyers.com.au</td>\n",
       "    </tr>\n",
       "  </tbody>\n",
       "</table>\n",
       "</div>"
      ],
      "text/plain": [
       "                                                                                                                                                                                                                                                Naslov  \\\n",
       "2  The police officer who leaked the footage of the surfers paradise police brutality, where the victims blood was washed away by officers, has been criminally charged for bringing it to the publics view. Officers who did the bashing get nothing.   \n",
       "\n",
       "   Score  Komentarji                           Vir  \n",
       "2  12334        1978  sydneycriminallawyers.com.au  "
      ]
     },
     "execution_count": 38,
     "metadata": {},
     "output_type": "execute_result"
    }
   ],
   "source": [
    "#Zakaj? Poglejmo si novice tega vira.\n",
    "vse_novice[vse_novice['Vir'] =='sydneycriminallawyers.com.au'].sort_values('Score', ascending=False).head(n=5)"
   ]
  },
  {
   "cell_type": "markdown",
   "metadata": {},
   "source": [
    "Ugotovimo, da ima samo eno novico. Nima ostalih novic, ki bi znižale povprečje. \n",
    "\n",
    "Kateri vir je najbolj komentiran?"
   ]
  },
  {
   "cell_type": "code",
   "execution_count": 43,
   "metadata": {
    "collapsed": false,
    "scrolled": true
   },
   "outputs": [
    {
     "data": {
      "text/html": [
       "<div>\n",
       "<table border=\"1\" class=\"dataframe\">\n",
       "  <thead>\n",
       "    <tr style=\"text-align: right;\">\n",
       "      <th></th>\n",
       "      <th>Score</th>\n",
       "      <th>Komentarji</th>\n",
       "    </tr>\n",
       "    <tr>\n",
       "      <th>Vir</th>\n",
       "      <th></th>\n",
       "      <th></th>\n",
       "    </tr>\n",
       "  </thead>\n",
       "  <tbody>\n",
       "    <tr>\n",
       "      <th>ktla.com</th>\n",
       "      <td>5823.5</td>\n",
       "      <td>27226</td>\n",
       "    </tr>\n",
       "  </tbody>\n",
       "</table>\n",
       "</div>"
      ],
      "text/plain": [
       "           Score  Komentarji\n",
       "Vir                         \n",
       "ktla.com  5823.5       27226"
      ]
     },
     "execution_count": 43,
     "metadata": {},
     "output_type": "execute_result"
    }
   ],
   "source": [
    "vse_novice.groupby(['Vir']).mean().sort_values('Komentarji',ascending=False).head(n=1)"
   ]
  },
  {
   "cell_type": "code",
   "execution_count": null,
   "metadata": {
    "collapsed": true
   },
   "outputs": [],
   "source": [
    "#KTLA je vir iz Los Angelesa. Poglejmo si novice tega vira."
   ]
  },
  {
   "cell_type": "code",
   "execution_count": 48,
   "metadata": {
    "collapsed": false
   },
   "outputs": [
    {
     "data": {
      "text/html": [
       "<div>\n",
       "<table border=\"1\" class=\"dataframe\">\n",
       "  <thead>\n",
       "    <tr style=\"text-align: right;\">\n",
       "      <th></th>\n",
       "      <th>Naslov</th>\n",
       "      <th>Score</th>\n",
       "      <th>Komentarji</th>\n",
       "      <th>Vir</th>\n",
       "    </tr>\n",
       "  </thead>\n",
       "  <tbody>\n",
       "    <tr>\n",
       "      <th>198</th>\n",
       "      <td>Authorities Respond to “20 Victim Shooting” Incident in San Bernardino: Fire Dept.</td>\n",
       "      <td>6076</td>\n",
       "      <td>48770</td>\n",
       "      <td>ktla.com</td>\n",
       "    </tr>\n",
       "    <tr>\n",
       "      <th>392</th>\n",
       "      <td>9 Arrested After Black Lives Matter Activists Shut Down Southbound 405 Fwy Near LAX</td>\n",
       "      <td>5571</td>\n",
       "      <td>5682</td>\n",
       "      <td>ktla.com</td>\n",
       "    </tr>\n",
       "  </tbody>\n",
       "</table>\n",
       "</div>"
      ],
      "text/plain": [
       "                                                                                  Naslov  \\\n",
       "198   Authorities Respond to “20 Victim Shooting” Incident in San Bernardino: Fire Dept.   \n",
       "392  9 Arrested After Black Lives Matter Activists Shut Down Southbound 405 Fwy Near LAX   \n",
       "\n",
       "     Score  Komentarji       Vir  \n",
       "198   6076       48770  ktla.com  \n",
       "392   5571        5682  ktla.com  "
      ]
     },
     "execution_count": 48,
     "metadata": {},
     "output_type": "execute_result"
    }
   ],
   "source": [
    "vse_novice[vse_novice['Vir'] =='ktla.com'].sort_values('Score', ascending=False).head(n=5)"
   ]
  },
  {
   "cell_type": "markdown",
   "metadata": {},
   "source": [
    "###Primerjava povprečnih ocen in komentarjev najpogostejših virov"
   ]
  },
  {
   "cell_type": "code",
   "execution_count": 68,
   "metadata": {
    "collapsed": false
   },
   "outputs": [],
   "source": [
    "#povprečje komentarjev in ocen za vsak vir\n",
    "news_con_viri2=news_con_viri.mean()\n",
    "news_top_viri2=news_top_viri.mean()\n",
    "wnews_con_viri2=wnews_con_viri.mean()\n",
    "wnews_top_viri2=wnews_top_viri.mean()\n",
    "#združimo po skupinah najboljše in kontraverzno po virih\n",
    "kontraverznoV=pd.merge(news_con_viri2,wnews_con_viri2,on='Vir', suffixes=('_wnews_con', '_news_con'))\n",
    "najboljseV=pd.merge(news_top_viri2,wnews_top_viri2,on='Vir', suffixes=('_wnews_top', '_news_top'))"
   ]
  },
  {
   "cell_type": "code",
   "execution_count": 69,
   "metadata": {
    "collapsed": false,
    "scrolled": false
   },
   "outputs": [
    {
     "data": {
      "text/html": [
       "<div>\n",
       "<table border=\"1\" class=\"dataframe\">\n",
       "  <thead>\n",
       "    <tr style=\"text-align: right;\">\n",
       "      <th></th>\n",
       "      <th>Vir</th>\n",
       "      <th>Score_wnews_con</th>\n",
       "      <th>Komentarji_wnews_con</th>\n",
       "      <th>Score_news_con</th>\n",
       "      <th>Komentarji_news_con</th>\n",
       "    </tr>\n",
       "  </thead>\n",
       "  <tbody>\n",
       "    <tr>\n",
       "      <th>5</th>\n",
       "      <td>bgr.com</td>\n",
       "      <td>2925.000000</td>\n",
       "      <td>1183.000000</td>\n",
       "      <td>1345.000000</td>\n",
       "      <td>2391.000000</td>\n",
       "    </tr>\n",
       "    <tr>\n",
       "      <th>24</th>\n",
       "      <td>i.imgur.com</td>\n",
       "      <td>100.000000</td>\n",
       "      <td>100.000000</td>\n",
       "      <td>308.000000</td>\n",
       "      <td>302.000000</td>\n",
       "    </tr>\n",
       "    <tr>\n",
       "      <th>25</th>\n",
       "      <td>independent.co.uk</td>\n",
       "      <td>424.666667</td>\n",
       "      <td>1176.083333</td>\n",
       "      <td>870.250000</td>\n",
       "      <td>961.000000</td>\n",
       "    </tr>\n",
       "    <tr>\n",
       "      <th>29</th>\n",
       "      <td>marketwatch.com</td>\n",
       "      <td>99.000000</td>\n",
       "      <td>251.000000</td>\n",
       "      <td>750.000000</td>\n",
       "      <td>853.000000</td>\n",
       "    </tr>\n",
       "    <tr>\n",
       "      <th>33</th>\n",
       "      <td>nbcnews.com</td>\n",
       "      <td>753.000000</td>\n",
       "      <td>552.600000</td>\n",
       "      <td>105.000000</td>\n",
       "      <td>449.000000</td>\n",
       "    </tr>\n",
       "    <tr>\n",
       "      <th>39</th>\n",
       "      <td>nytimes.com</td>\n",
       "      <td>1167.250000</td>\n",
       "      <td>658.500000</td>\n",
       "      <td>198.111111</td>\n",
       "      <td>84.111111</td>\n",
       "    </tr>\n",
       "    <tr>\n",
       "      <th>42</th>\n",
       "      <td>rt.com</td>\n",
       "      <td>635.833333</td>\n",
       "      <td>330.500000</td>\n",
       "      <td>191.681818</td>\n",
       "      <td>297.386364</td>\n",
       "    </tr>\n",
       "    <tr>\n",
       "      <th>46</th>\n",
       "      <td>theguardian.com</td>\n",
       "      <td>366.250000</td>\n",
       "      <td>248.937500</td>\n",
       "      <td>801.083333</td>\n",
       "      <td>459.666667</td>\n",
       "    </tr>\n",
       "    <tr>\n",
       "      <th>47</th>\n",
       "      <td>theregister.co.uk</td>\n",
       "      <td>131.000000</td>\n",
       "      <td>208.500000</td>\n",
       "      <td>90.000000</td>\n",
       "      <td>60.000000</td>\n",
       "    </tr>\n",
       "    <tr>\n",
       "      <th>49</th>\n",
       "      <td>time.com</td>\n",
       "      <td>1223.000000</td>\n",
       "      <td>625.800000</td>\n",
       "      <td>145.000000</td>\n",
       "      <td>162.333333</td>\n",
       "    </tr>\n",
       "    <tr>\n",
       "      <th>52</th>\n",
       "      <td>twitter.com</td>\n",
       "      <td>104.000000</td>\n",
       "      <td>142.000000</td>\n",
       "      <td>944.500000</td>\n",
       "      <td>1895.000000</td>\n",
       "    </tr>\n",
       "    <tr>\n",
       "      <th>56</th>\n",
       "      <td>washingtontimes.com</td>\n",
       "      <td>181.250000</td>\n",
       "      <td>225.375000</td>\n",
       "      <td>617.500000</td>\n",
       "      <td>959.500000</td>\n",
       "    </tr>\n",
       "  </tbody>\n",
       "</table>\n",
       "</div>"
      ],
      "text/plain": [
       "                    Vir  Score_wnews_con  Komentarji_wnews_con  \\\n",
       "5               bgr.com      2925.000000           1183.000000   \n",
       "24          i.imgur.com       100.000000            100.000000   \n",
       "25    independent.co.uk       424.666667           1176.083333   \n",
       "29      marketwatch.com        99.000000            251.000000   \n",
       "33          nbcnews.com       753.000000            552.600000   \n",
       "39          nytimes.com      1167.250000            658.500000   \n",
       "42               rt.com       635.833333            330.500000   \n",
       "46      theguardian.com       366.250000            248.937500   \n",
       "47    theregister.co.uk       131.000000            208.500000   \n",
       "49             time.com      1223.000000            625.800000   \n",
       "52          twitter.com       104.000000            142.000000   \n",
       "56  washingtontimes.com       181.250000            225.375000   \n",
       "\n",
       "    Score_news_con  Komentarji_news_con  \n",
       "5      1345.000000          2391.000000  \n",
       "24      308.000000           302.000000  \n",
       "25      870.250000           961.000000  \n",
       "29      750.000000           853.000000  \n",
       "33      105.000000           449.000000  \n",
       "39      198.111111            84.111111  \n",
       "42      191.681818           297.386364  \n",
       "46      801.083333           459.666667  \n",
       "47       90.000000            60.000000  \n",
       "49      145.000000           162.333333  \n",
       "52      944.500000          1895.000000  \n",
       "56      617.500000           959.500000  "
      ]
     },
     "execution_count": 69,
     "metadata": {},
     "output_type": "execute_result"
    }
   ],
   "source": [
    "#naredimo izbor primernih virov, ki se povsod enakomerno povavijo\n",
    "kontraverznoV_10=kontraverznoV[((kontraverznoV['Score_wnews_con']>50) & (kontraverznoV['Score_news_con']>50)& (kontraverznoV['Komentarji_news_con']>40)& (kontraverznoV['Komentarji_wnews_con']>40))]\n",
    "kontraverznoV_10"
   ]
  },
  {
   "cell_type": "code",
   "execution_count": 96,
   "metadata": {
    "collapsed": false
   },
   "outputs": [
    {
     "data": {
      "text/plain": [
       "<matplotlib.axes._subplots.AxesSubplot at 0x7f77243ad0f0>"
      ]
     },
     "execution_count": 96,
     "metadata": {},
     "output_type": "execute_result"
    },
    {
     "data": {
      "image/png": "[encoded data removed]",
      "text/plain": [
       "<matplotlib.figure.Figure at 0x7f77242dc7b8>"
      ]
     },
     "metadata": {},
     "output_type": "display_data"
    }
   ],
   "source": [
    "kontraverznoV_10.plot(x='Vir',kind='barh',stacked=False,figsize=(20,20),fontsize=25)"
   ]
  },
  {
   "cell_type": "markdown",
   "metadata": {},
   "source": [
    "Izstopa vir bgr.com.(Boy Genius Report, stran poroča o tehnologiji in pametnih napravah.) Izkaže se, da ima po eno novico v vsaki kategoriji. Obe novici sta tudi zelo dobro ocenjeni, zato ima v povprečju višje ocene od ostalih. "
   ]
  },
  {
   "cell_type": "code",
   "execution_count": 71,
   "metadata": {
    "collapsed": false
   },
   "outputs": [
    {
     "data": {
      "text/html": [
       "<div>\n",
       "<table border=\"1\" class=\"dataframe\">\n",
       "  <thead>\n",
       "    <tr style=\"text-align: right;\">\n",
       "      <th></th>\n",
       "      <th>Naslov</th>\n",
       "      <th>Score</th>\n",
       "      <th>Komentarji</th>\n",
       "      <th>Vir</th>\n",
       "    </tr>\n",
       "  </thead>\n",
       "  <tbody>\n",
       "    <tr>\n",
       "      <th>475</th>\n",
       "      <td>The FCC is now pretending to back down from its controversial net neutrality plan</td>\n",
       "      <td>2925</td>\n",
       "      <td>1183</td>\n",
       "      <td>bgr.com</td>\n",
       "    </tr>\n",
       "  </tbody>\n",
       "</table>\n",
       "</div>"
      ],
      "text/plain": [
       "                                                                                Naslov  \\\n",
       "475  The FCC is now pretending to back down from its controversial net neutrality plan   \n",
       "\n",
       "     Score  Komentarji      Vir  \n",
       "475   2925        1183  bgr.com  "
      ]
     },
     "execution_count": 71,
     "metadata": {},
     "output_type": "execute_result"
    }
   ],
   "source": [
    "news_con[news_con['Vir'] =='bgr.com']"
   ]
  },
  {
   "cell_type": "code",
   "execution_count": 72,
   "metadata": {
    "collapsed": false,
    "scrolled": true
   },
   "outputs": [
    {
     "data": {
      "text/html": [
       "<div>\n",
       "<table border=\"1\" class=\"dataframe\">\n",
       "  <thead>\n",
       "    <tr style=\"text-align: right;\">\n",
       "      <th></th>\n",
       "      <th>Naslov</th>\n",
       "      <th>Score</th>\n",
       "      <th>Komentarji</th>\n",
       "      <th>Vir</th>\n",
       "    </tr>\n",
       "  </thead>\n",
       "  <tbody>\n",
       "    <tr>\n",
       "      <th>15</th>\n",
       "      <td>NSA can turn on your iPhone’s camera, mic without you knowing</td>\n",
       "      <td>1345</td>\n",
       "      <td>2391</td>\n",
       "      <td>bgr.com</td>\n",
       "    </tr>\n",
       "  </tbody>\n",
       "</table>\n",
       "</div>"
      ],
      "text/plain": [
       "                                                           Naslov  Score  \\\n",
       "15  NSA can turn on your iPhone’s camera, mic without you knowing   1345   \n",
       "\n",
       "    Komentarji      Vir  \n",
       "15        2391  bgr.com  "
      ]
     },
     "execution_count": 72,
     "metadata": {},
     "output_type": "execute_result"
    }
   ],
   "source": [
    "wnews_con[wnews_con['Vir'] =='bgr.com']"
   ]
  },
  {
   "cell_type": "code",
   "execution_count": 73,
   "metadata": {
    "collapsed": false,
    "scrolled": false
   },
   "outputs": [
    {
     "data": {
      "text/html": [
       "<div>\n",
       "<table border=\"1\" class=\"dataframe\">\n",
       "  <thead>\n",
       "    <tr style=\"text-align: right;\">\n",
       "      <th></th>\n",
       "      <th>Vir</th>\n",
       "      <th>Score_wnews_top</th>\n",
       "      <th>Komentarji_wnews_top</th>\n",
       "      <th>Score_news_top</th>\n",
       "      <th>Komentarji_news_top</th>\n",
       "    </tr>\n",
       "  </thead>\n",
       "  <tbody>\n",
       "    <tr>\n",
       "      <th>1</th>\n",
       "      <td>abcnews.go.com</td>\n",
       "      <td>5677.428571</td>\n",
       "      <td>3068.714286</td>\n",
       "      <td>5865.400000</td>\n",
       "      <td>3398.200000</td>\n",
       "    </tr>\n",
       "    <tr>\n",
       "      <th>4</th>\n",
       "      <td>bbc.co.uk</td>\n",
       "      <td>5651.333333</td>\n",
       "      <td>7501.000000</td>\n",
       "      <td>6685.000000</td>\n",
       "      <td>4225.391304</td>\n",
       "    </tr>\n",
       "    <tr>\n",
       "      <th>5</th>\n",
       "      <td>bbc.com</td>\n",
       "      <td>6025.600000</td>\n",
       "      <td>3192.400000</td>\n",
       "      <td>6461.321429</td>\n",
       "      <td>3291.821429</td>\n",
       "    </tr>\n",
       "    <tr>\n",
       "      <th>19</th>\n",
       "      <td>finance.yahoo.com</td>\n",
       "      <td>5664.500000</td>\n",
       "      <td>5418.500000</td>\n",
       "      <td>6183.333333</td>\n",
       "      <td>4284.000000</td>\n",
       "    </tr>\n",
       "    <tr>\n",
       "      <th>22</th>\n",
       "      <td>guardian.co.uk</td>\n",
       "      <td>5595.000000</td>\n",
       "      <td>4404.000000</td>\n",
       "      <td>8866.000000</td>\n",
       "      <td>6151.000000</td>\n",
       "    </tr>\n",
       "    <tr>\n",
       "      <th>27</th>\n",
       "      <td>mashable.com</td>\n",
       "      <td>5724.000000</td>\n",
       "      <td>3650.000000</td>\n",
       "      <td>7125.000000</td>\n",
       "      <td>4180.000000</td>\n",
       "    </tr>\n",
       "    <tr>\n",
       "      <th>31</th>\n",
       "      <td>nbcnews.com</td>\n",
       "      <td>5620.937500</td>\n",
       "      <td>3399.125000</td>\n",
       "      <td>6374.000000</td>\n",
       "      <td>4043.000000</td>\n",
       "    </tr>\n",
       "    <tr>\n",
       "      <th>40</th>\n",
       "      <td>nytimes.com</td>\n",
       "      <td>5967.400000</td>\n",
       "      <td>3907.466667</td>\n",
       "      <td>6124.066667</td>\n",
       "      <td>3415.400000</td>\n",
       "    </tr>\n",
       "    <tr>\n",
       "      <th>46</th>\n",
       "      <td>thedailybeast.com</td>\n",
       "      <td>5670.500000</td>\n",
       "      <td>5280.000000</td>\n",
       "      <td>6562.333333</td>\n",
       "      <td>3725.333333</td>\n",
       "    </tr>\n",
       "  </tbody>\n",
       "</table>\n",
       "</div>"
      ],
      "text/plain": [
       "                  Vir  Score_wnews_top  Komentarji_wnews_top  Score_news_top  \\\n",
       "1      abcnews.go.com      5677.428571           3068.714286     5865.400000   \n",
       "4           bbc.co.uk      5651.333333           7501.000000     6685.000000   \n",
       "5             bbc.com      6025.600000           3192.400000     6461.321429   \n",
       "19  finance.yahoo.com      5664.500000           5418.500000     6183.333333   \n",
       "22     guardian.co.uk      5595.000000           4404.000000     8866.000000   \n",
       "27       mashable.com      5724.000000           3650.000000     7125.000000   \n",
       "31        nbcnews.com      5620.937500           3399.125000     6374.000000   \n",
       "40        nytimes.com      5967.400000           3907.466667     6124.066667   \n",
       "46  thedailybeast.com      5670.500000           5280.000000     6562.333333   \n",
       "\n",
       "    Komentarji_news_top  \n",
       "1           3398.200000  \n",
       "4           4225.391304  \n",
       "5           3291.821429  \n",
       "19          4284.000000  \n",
       "22          6151.000000  \n",
       "27          4180.000000  \n",
       "31          4043.000000  \n",
       "40          3415.400000  \n",
       "46          3725.333333  "
      ]
     },
     "execution_count": 73,
     "metadata": {},
     "output_type": "execute_result"
    }
   ],
   "source": [
    "#tukaj je več virov, zaostrimo kriterij\n",
    "najboljseV_10=najboljseV[((najboljseV['Score_wnews_top']>5000) & (najboljseV['Score_news_top']>5000)& (najboljseV['Komentarji_news_top']>3000)& (najboljseV['Komentarji_wnews_top']>3000))]\n",
    "najboljseV_10"
   ]
  },
  {
   "cell_type": "code",
   "execution_count": 100,
   "metadata": {
    "collapsed": false,
    "scrolled": true
   },
   "outputs": [
    {
     "data": {
      "text/plain": [
       "<matplotlib.axes._subplots.AxesSubplot at 0x7f77241de208>"
      ]
     },
     "execution_count": 100,
     "metadata": {},
     "output_type": "execute_result"
    },
    {
     "data": {
      "image/png": "[encoded data removed]",
      "text/plain": [
       "<matplotlib.figure.Figure at 0x7f772413f748>"
      ]
     },
     "metadata": {},
     "output_type": "display_data"
    }
   ],
   "source": [
    "najboljseV_10.plot(x='Vir',kind='barh',stacked=False,legend=True,figsize=(20,20),fontsize=25)"
   ]
  },
  {
   "cell_type": "code",
   "execution_count": 75,
   "metadata": {
    "collapsed": true
   },
   "outputs": [],
   "source": [
    "###Pregled 5 najbolj komentiranih in  najbolje ocenjenih novic posameznih kategorij"
   ]
  },
  {
   "cell_type": "code",
   "execution_count": 76,
   "metadata": {
    "collapsed": false
   },
   "outputs": [
    {
     "data": {
      "text/html": [
       "<div>\n",
       "<table border=\"1\" class=\"dataframe\">\n",
       "  <thead>\n",
       "    <tr style=\"text-align: right;\">\n",
       "      <th></th>\n",
       "      <th>Naslov</th>\n",
       "      <th>Score</th>\n",
       "      <th>Komentarji</th>\n",
       "      <th>Vir</th>\n",
       "    </tr>\n",
       "  </thead>\n",
       "  <tbody>\n",
       "    <tr>\n",
       "      <th>338</th>\n",
       "      <td>Supreme Court legalizes gay marriage</td>\n",
       "      <td>5170</td>\n",
       "      <td>17086</td>\n",
       "      <td>washingtonpost.com</td>\n",
       "    </tr>\n",
       "    <tr>\n",
       "      <th>353</th>\n",
       "      <td>[CNN Money] Ellen Pao resignation petition reaches 150,000 signatures</td>\n",
       "      <td>4604</td>\n",
       "      <td>4511</td>\n",
       "      <td>money.cnn.com</td>\n",
       "    </tr>\n",
       "    <tr>\n",
       "      <th>467</th>\n",
       "      <td>US Marshals arresting people for not paying their federal student loans</td>\n",
       "      <td>4313</td>\n",
       "      <td>5955</td>\n",
       "      <td>fox26houston.com</td>\n",
       "    </tr>\n",
       "    <tr>\n",
       "      <th>377</th>\n",
       "      <td>Danish teen fought off her attacker - now she'll face fine. A 17-year-old girl who was physically and sexually attacked in Sønderborg will herself face charges for using pepper spray to fend off her assailant.</td>\n",
       "      <td>4138</td>\n",
       "      <td>10511</td>\n",
       "      <td>thelocal.dk</td>\n",
       "    </tr>\n",
       "    <tr>\n",
       "      <th>156</th>\n",
       "      <td>Ahmed Mohamed demands $15m compensation and written apology for homemade clock arrest</td>\n",
       "      <td>3711</td>\n",
       "      <td>10919</td>\n",
       "      <td>independent.co.uk</td>\n",
       "    </tr>\n",
       "    <tr>\n",
       "      <th>448</th>\n",
       "      <td>50,000 people sign petition to stop Kanye West from playing Pan Am Games closing ceremony</td>\n",
       "      <td>3569</td>\n",
       "      <td>3210</td>\n",
       "      <td>nme.com</td>\n",
       "    </tr>\n",
       "    <tr>\n",
       "      <th>225</th>\n",
       "      <td>The family of 24-year-old Jessica Ghawi, a victim in the 2012 movie theater shooting in Aurora, Colorado, is faced with more than $200,000 in legal costs after a federal judge ordered them to pay attorney’s fees for four ammunition dealers the family attempted to sue.</td>\n",
       "      <td>3307</td>\n",
       "      <td>4782</td>\n",
       "      <td>nbcbayarea.com</td>\n",
       "    </tr>\n",
       "    <tr>\n",
       "      <th>240</th>\n",
       "      <td>The Powerball winning numbers are in. The numbers are: 8, 27, 34, 4, 19; The Powerball is: 10</td>\n",
       "      <td>3306</td>\n",
       "      <td>4227</td>\n",
       "      <td>nj.com</td>\n",
       "    </tr>\n",
       "  </tbody>\n",
       "</table>\n",
       "</div>"
      ],
      "text/plain": [
       "                                                                                                                                                                                                                                                                           Naslov  \\\n",
       "338                                                                                                                                                                                                                                          Supreme Court legalizes gay marriage   \n",
       "353                                                                                                                                                                                                         [CNN Money] Ellen Pao resignation petition reaches 150,000 signatures   \n",
       "467                                                                                                                                                                                                       US Marshals arresting people for not paying their federal student loans   \n",
       "377                                                             Danish teen fought off her attacker - now she'll face fine. A 17-year-old girl who was physically and sexually attacked in Sønderborg will herself face charges for using pepper spray to fend off her assailant.   \n",
       "156                                                                                                                                                                                         Ahmed Mohamed demands $15m compensation and written apology for homemade clock arrest   \n",
       "448                                                                                                                                                                                     50,000 people sign petition to stop Kanye West from playing Pan Am Games closing ceremony   \n",
       "225  The family of 24-year-old Jessica Ghawi, a victim in the 2012 movie theater shooting in Aurora, Colorado, is faced with more than $200,000 in legal costs after a federal judge ordered them to pay attorney’s fees for four ammunition dealers the family attempted to sue.   \n",
       "240                                                                                                                                                                                 The Powerball winning numbers are in. The numbers are: 8, 27, 34, 4, 19; The Powerball is: 10   \n",
       "\n",
       "     Score  Komentarji                 Vir  \n",
       "338   5170       17086  washingtonpost.com  \n",
       "353   4604        4511       money.cnn.com  \n",
       "467   4313        5955    fox26houston.com  \n",
       "377   4138       10511         thelocal.dk  \n",
       "156   3711       10919   independent.co.uk  \n",
       "448   3569        3210             nme.com  \n",
       "225   3307        4782      nbcbayarea.com  \n",
       "240   3306        4227              nj.com  "
      ]
     },
     "execution_count": 76,
     "metadata": {},
     "output_type": "execute_result"
    }
   ],
   "source": [
    "news_con[(news_con['Score']>3000)&(news_con['Komentarji']>3000)].sort_values(by='Score',ascending=False)"
   ]
  },
  {
   "cell_type": "code",
   "execution_count": 77,
   "metadata": {
    "collapsed": false
   },
   "outputs": [
    {
     "data": {
      "text/html": [
       "<div>\n",
       "<table border=\"1\" class=\"dataframe\">\n",
       "  <thead>\n",
       "    <tr style=\"text-align: right;\">\n",
       "      <th></th>\n",
       "      <th>Naslov</th>\n",
       "      <th>Score</th>\n",
       "      <th>Komentarji</th>\n",
       "      <th>Vir</th>\n",
       "    </tr>\n",
       "  </thead>\n",
       "  <tbody>\n",
       "    <tr>\n",
       "      <th>380</th>\n",
       "      <td>Mercedes-Benz, Honda, Mazda and Mitsubishi have been found to be part of the diesel emission scandal.</td>\n",
       "      <td>4081</td>\n",
       "      <td>2417</td>\n",
       "      <td>theguardian.com</td>\n",
       "    </tr>\n",
       "    <tr>\n",
       "      <th>125</th>\n",
       "      <td>Microsoft co-founder's yacht tears up protected coral reef in Cayman Islands. Paul Allen’s 330ft vessel destroys 80% of reef in protected zone</td>\n",
       "      <td>3610</td>\n",
       "      <td>2398</td>\n",
       "      <td>theguardian.com</td>\n",
       "    </tr>\n",
       "    <tr>\n",
       "      <th>192</th>\n",
       "      <td>Mobs of 'hundreds' of masked men rampage through Stockholm central station beating up refugee children</td>\n",
       "      <td>3339</td>\n",
       "      <td>6268</td>\n",
       "      <td>dailymail.co.uk</td>\n",
       "    </tr>\n",
       "    <tr>\n",
       "      <th>224</th>\n",
       "      <td>One in three Germans say capitalism to blame for poverty, hunger | The survey found that more than 60 percent of Germans believe there is no genuine democracy in their country because industry has too much political influence and that the voice of the voters plays only a subordinate role.</td>\n",
       "      <td>2925</td>\n",
       "      <td>2453</td>\n",
       "      <td>reuters.com</td>\n",
       "    </tr>\n",
       "    <tr>\n",
       "      <th>40</th>\n",
       "      <td>Forty percent of Germans want Merkel to resign over refugee policy</td>\n",
       "      <td>2535</td>\n",
       "      <td>3187</td>\n",
       "      <td>reuters.com</td>\n",
       "    </tr>\n",
       "    <tr>\n",
       "      <th>94</th>\n",
       "      <td>Germany 1 - 0 Argentina. Germany win the 2014 FIFA World Cup!</td>\n",
       "      <td>2461</td>\n",
       "      <td>3934</td>\n",
       "      <td>bbc.com</td>\n",
       "    </tr>\n",
       "    <tr>\n",
       "      <th>326</th>\n",
       "      <td>62% of British public says Israel committing war crimes, as polls show sympathy for Palestinians</td>\n",
       "      <td>2450</td>\n",
       "      <td>2918</td>\n",
       "      <td>middleeastmonitor.com</td>\n",
       "    </tr>\n",
       "    <tr>\n",
       "      <th>454</th>\n",
       "      <td>Taxing the rich is good for the economy, IMF says - Business</td>\n",
       "      <td>2412</td>\n",
       "      <td>4897</td>\n",
       "      <td>cbc.ca</td>\n",
       "    </tr>\n",
       "    <tr>\n",
       "      <th>438</th>\n",
       "      <td>Denmark may soon be the first country in the world to issue a ban on non-therapeutic circumcision of boys. Calls it \"Genital Mutilation\". Meanwhile, Israel tries hard to block changes that are broadly perceived in Europe as a clear step forward in children's human rights.</td>\n",
       "      <td>2410</td>\n",
       "      <td>10659</td>\n",
       "      <td>cphpost.dk</td>\n",
       "    </tr>\n",
       "    <tr>\n",
       "      <th>235</th>\n",
       "      <td>UK: Man jailed for 33 months for pirating ‘Fast &amp;amp; Furious’</td>\n",
       "      <td>2396</td>\n",
       "      <td>3245</td>\n",
       "      <td>rt.com</td>\n",
       "    </tr>\n",
       "    <tr>\n",
       "      <th>217</th>\n",
       "      <td>Pope Francis is TIME’s Person of the Year for 2013</td>\n",
       "      <td>2326</td>\n",
       "      <td>3298</td>\n",
       "      <td>poy.time.com</td>\n",
       "    </tr>\n",
       "  </tbody>\n",
       "</table>\n",
       "</div>"
      ],
      "text/plain": [
       "                                                                                                                                                                                                                                                                                                Naslov  \\\n",
       "380                                                                                                                                                                                              Mercedes-Benz, Honda, Mazda and Mitsubishi have been found to be part of the diesel emission scandal.   \n",
       "125                                                                                                                                                     Microsoft co-founder's yacht tears up protected coral reef in Cayman Islands. Paul Allen’s 330ft vessel destroys 80% of reef in protected zone   \n",
       "192                                                                                                                                                                                             Mobs of 'hundreds' of masked men rampage through Stockholm central station beating up refugee children   \n",
       "224  One in three Germans say capitalism to blame for poverty, hunger | The survey found that more than 60 percent of Germans believe there is no genuine democracy in their country because industry has too much political influence and that the voice of the voters plays only a subordinate role.   \n",
       "40                                                                                                                                                                                                                                  Forty percent of Germans want Merkel to resign over refugee policy   \n",
       "94                                                                                                                                                                                                                                       Germany 1 - 0 Argentina. Germany win the 2014 FIFA World Cup!   \n",
       "326                                                                                                                                                                                                   62% of British public says Israel committing war crimes, as polls show sympathy for Palestinians   \n",
       "454                                                                                                                                                                                                                                       Taxing the rich is good for the economy, IMF says - Business   \n",
       "438                   Denmark may soon be the first country in the world to issue a ban on non-therapeutic circumcision of boys. Calls it \"Genital Mutilation\". Meanwhile, Israel tries hard to block changes that are broadly perceived in Europe as a clear step forward in children's human rights.   \n",
       "235                                                                                                                                                                                                                                     UK: Man jailed for 33 months for pirating ‘Fast &amp; Furious’   \n",
       "217                                                                                                                                                                                                                                                 Pope Francis is TIME’s Person of the Year for 2013   \n",
       "\n",
       "     Score  Komentarji                    Vir  \n",
       "380   4081        2417        theguardian.com  \n",
       "125   3610        2398        theguardian.com  \n",
       "192   3339        6268        dailymail.co.uk  \n",
       "224   2925        2453            reuters.com  \n",
       "40    2535        3187            reuters.com  \n",
       "94    2461        3934                bbc.com  \n",
       "326   2450        2918  middleeastmonitor.com  \n",
       "454   2412        4897                 cbc.ca  \n",
       "438   2410       10659             cphpost.dk  \n",
       "235   2396        3245                 rt.com  \n",
       "217   2326        3298           poy.time.com  "
      ]
     },
     "execution_count": 77,
     "metadata": {},
     "output_type": "execute_result"
    }
   ],
   "source": [
    "wnews_con[(wnews_con['Score']>2300)&(wnews_con['Komentarji']>2300)].sort_values(by='Score',ascending=False)"
   ]
  },
  {
   "cell_type": "code",
   "execution_count": 78,
   "metadata": {
    "collapsed": false
   },
   "outputs": [
    {
     "data": {
      "text/html": [
       "<div>\n",
       "<table border=\"1\" class=\"dataframe\">\n",
       "  <thead>\n",
       "    <tr style=\"text-align: right;\">\n",
       "      <th></th>\n",
       "      <th>Naslov</th>\n",
       "      <th>Score</th>\n",
       "      <th>Komentarji</th>\n",
       "      <th>Vir</th>\n",
       "    </tr>\n",
       "  </thead>\n",
       "  <tbody>\n",
       "    <tr>\n",
       "      <th>31</th>\n",
       "      <td>FCC approves net neutrality rules, reclassifies broadband as a utility</td>\n",
       "      <td>7372</td>\n",
       "      <td>7223</td>\n",
       "      <td>engadget.com</td>\n",
       "    </tr>\n",
       "    <tr>\n",
       "      <th>34</th>\n",
       "      <td>Senior Associate Justice Antonin Scalia found dead at West Texas ranch</td>\n",
       "      <td>7292</td>\n",
       "      <td>13895</td>\n",
       "      <td>mysanantonio.com</td>\n",
       "    </tr>\n",
       "    <tr>\n",
       "      <th>53</th>\n",
       "      <td>9-Year-Old Shot Dead in Ferguson While Sitting in Bed Doing Her Homework</td>\n",
       "      <td>7042</td>\n",
       "      <td>8671</td>\n",
       "      <td>people.com</td>\n",
       "    </tr>\n",
       "    <tr>\n",
       "      <th>75</th>\n",
       "      <td>Reporter &amp;amp; Crew shot on live tv. WDBJ7. Video in comments.</td>\n",
       "      <td>6780</td>\n",
       "      <td>23868</td>\n",
       "      <td>wdbj7.com</td>\n",
       "    </tr>\n",
       "  </tbody>\n",
       "</table>\n",
       "</div>"
      ],
      "text/plain": [
       "                                                                      Naslov  \\\n",
       "31    FCC approves net neutrality rules, reclassifies broadband as a utility   \n",
       "34    Senior Associate Justice Antonin Scalia found dead at West Texas ranch   \n",
       "53  9-Year-Old Shot Dead in Ferguson While Sitting in Bed Doing Her Homework   \n",
       "75            Reporter &amp; Crew shot on live tv. WDBJ7. Video in comments.   \n",
       "\n",
       "    Score  Komentarji               Vir  \n",
       "31   7372        7223      engadget.com  \n",
       "34   7292       13895  mysanantonio.com  \n",
       "53   7042        8671        people.com  \n",
       "75   6780       23868         wdbj7.com  "
      ]
     },
     "execution_count": 78,
     "metadata": {},
     "output_type": "execute_result"
    }
   ],
   "source": [
    "news_top[(news_top['Score']>6500)&(news_top['Komentarji']>6500)].sort_values(by='Score',ascending=False)"
   ]
  },
  {
   "cell_type": "code",
   "execution_count": 79,
   "metadata": {
    "collapsed": false
   },
   "outputs": [
    {
     "data": {
      "text/html": [
       "<div>\n",
       "<table border=\"1\" class=\"dataframe\">\n",
       "  <thead>\n",
       "    <tr style=\"text-align: right;\">\n",
       "      <th></th>\n",
       "      <th>Naslov</th>\n",
       "      <th>Score</th>\n",
       "      <th>Komentarji</th>\n",
       "      <th>Vir</th>\n",
       "    </tr>\n",
       "  </thead>\n",
       "  <tbody>\n",
       "    <tr>\n",
       "      <th>10</th>\n",
       "      <td>'Shootings' reported in central Paris: Reports of shooting and casualties in central Paris</td>\n",
       "      <td>9855</td>\n",
       "      <td>28667</td>\n",
       "      <td>bbc.co.uk</td>\n",
       "    </tr>\n",
       "    <tr>\n",
       "      <th>31</th>\n",
       "      <td>The United States will normalize diplomatic relations with Cuba, open embassy in Havana</td>\n",
       "      <td>8191</td>\n",
       "      <td>7306</td>\n",
       "      <td>thedailybeast.com</td>\n",
       "    </tr>\n",
       "    <tr>\n",
       "      <th>47</th>\n",
       "      <td>Reports of sexual assaults on women across European cities, including Cologne, Hamburg, Zürich, Salzburg, Helsinki during NYE festivities</td>\n",
       "      <td>7834</td>\n",
       "      <td>15149</td>\n",
       "      <td>self.worldnews</td>\n",
       "    </tr>\n",
       "    <tr>\n",
       "      <th>71</th>\n",
       "      <td>China declares war on ISIS after terrorists 'execute Chinese hostage'</td>\n",
       "      <td>7429</td>\n",
       "      <td>7043</td>\n",
       "      <td>mirror.co.uk</td>\n",
       "    </tr>\n",
       "    <tr>\n",
       "      <th>76</th>\n",
       "      <td>Vaping is 95% safer than smoking and could lead to the demise of the traditional cigarette, Public Health England (PHE) has said in the first official recognition that e-cigarettes are less damaging to health than smoking tobacco.</td>\n",
       "      <td>7360</td>\n",
       "      <td>6822</td>\n",
       "      <td>theguardian.com</td>\n",
       "    </tr>\n",
       "    <tr>\n",
       "      <th>123</th>\n",
       "      <td>A group of US Marines foiled a potential terror attack on a French train</td>\n",
       "      <td>6910</td>\n",
       "      <td>6587</td>\n",
       "      <td>uk.businessinsider.com</td>\n",
       "    </tr>\n",
       "    <tr>\n",
       "      <th>151</th>\n",
       "      <td>Canadians elect Liberal majority. Ending Stephen Harpers 9 year rule.</td>\n",
       "      <td>6694</td>\n",
       "      <td>11058</td>\n",
       "      <td>cbc.ca</td>\n",
       "    </tr>\n",
       "    <tr>\n",
       "      <th>178</th>\n",
       "      <td>Bill aiming to ban child marriages shot down in Pakistan as ‘anti-Islamic’ and ‘blasphemous’.</td>\n",
       "      <td>6533</td>\n",
       "      <td>6579</td>\n",
       "      <td>tribune.com.pk</td>\n",
       "    </tr>\n",
       "  </tbody>\n",
       "</table>\n",
       "</div>"
      ],
      "text/plain": [
       "                                                                                                                                                                                                                                     Naslov  \\\n",
       "10                                                                                                                                               'Shootings' reported in central Paris: Reports of shooting and casualties in central Paris   \n",
       "31                                                                                                                                                  The United States will normalize diplomatic relations with Cuba, open embassy in Havana   \n",
       "47                                                                                                Reports of sexual assaults on women across European cities, including Cologne, Hamburg, Zürich, Salzburg, Helsinki during NYE festivities   \n",
       "71                                                                                                                                                                    China declares war on ISIS after terrorists 'execute Chinese hostage'   \n",
       "76   Vaping is 95% safer than smoking and could lead to the demise of the traditional cigarette, Public Health England (PHE) has said in the first official recognition that e-cigarettes are less damaging to health than smoking tobacco.   \n",
       "123                                                                                                                                                                A group of US Marines foiled a potential terror attack on a French train   \n",
       "151                                                                                                                                                                   Canadians elect Liberal majority. Ending Stephen Harpers 9 year rule.   \n",
       "178                                                                                                                                           Bill aiming to ban child marriages shot down in Pakistan as ‘anti-Islamic’ and ‘blasphemous’.   \n",
       "\n",
       "     Score  Komentarji                     Vir  \n",
       "10    9855       28667               bbc.co.uk  \n",
       "31    8191        7306       thedailybeast.com  \n",
       "47    7834       15149          self.worldnews  \n",
       "71    7429        7043            mirror.co.uk  \n",
       "76    7360        6822         theguardian.com  \n",
       "123   6910        6587  uk.businessinsider.com  \n",
       "151   6694       11058                  cbc.ca  \n",
       "178   6533        6579          tribune.com.pk  "
      ]
     },
     "execution_count": 79,
     "metadata": {},
     "output_type": "execute_result"
    }
   ],
   "source": [
    "wnews_top[(wnews_top['Score']>6500)&(wnews_top['Komentarji']>6500)].sort_values(by='Score',ascending=False)"
   ]
  },
  {
   "cell_type": "code",
   "execution_count": null,
   "metadata": {
    "collapsed": true
   },
   "outputs": [],
   "source": []
  },
  {
   "cell_type": "code",
   "execution_count": null,
   "metadata": {
    "collapsed": true
   },
   "outputs": [],
   "source": []
  },
  {
   "cell_type": "code",
   "execution_count": null,
   "metadata": {
    "collapsed": true
   },
   "outputs": [],
   "source": []
  },
  {
   "cell_type": "code",
   "execution_count": null,
   "metadata": {
    "collapsed": true
   },
   "outputs": [],
   "source": []
  }
 ],
 "metadata": {
  "kernelspec": {
   "display_name": "Python 3",
   "language": "python",
   "name": "python3"
  },
  "language_info": {
   "codemirror_mode": {
    "name": "ipython",
    "version": 3
   },
   "file_extension": ".py",
   "mimetype": "text/x-python",
   "name": "python",
   "nbconvert_exporter": "python",
   "pygments_lexer": "ipython3",
   "version": "3.4.3"
  }
 },
 "nbformat": 4,
 "nbformat_minor": 0
}
