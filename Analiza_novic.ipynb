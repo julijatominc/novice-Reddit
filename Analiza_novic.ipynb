{
 "cells": [
  {
   "cell_type": "markdown",
   "metadata": {
    "collapsed": true
   },
   "source": [
    "# Analiza podstrani(subredditov) r/news in r/worldnews spletne strani Reddit"
   ]
  },
  {
   "cell_type": "markdown",
   "metadata": {},
   "source": [
    "Reddit je ameriška zabavna, družbena in novičarska spletna stran.\n",
    "Na Reddit uporabniki objavljajo razne povezave (večinoma na druge spletne strani), ki jih lahko drugi uporabniki ocenijo pozitivno (upvote) ali negativno (downvote) in komentirajo. Razdeljena je na več podstrani-subredditov.\n",
    "\n",
    "Podstrani r/news in r/worldnews sta privzeti. Objave privzetih strani se pokažejo neregistriranim in novim uporabnikom na naslovnici(front page), ker se večina uporabnikov od podstrani ne odjavi, le prijavi, imajo tako privzete strani avtomatsko največ uporabnikov.\n",
    "\n",
    "Primerjala sem novice dveh takih večjih podstrani r/news-novice in r/worldnews-svetovne novice. Podstrani so razdeljene na več delov, analizirala sem top-najboljše in contraversial-kontraverzno.\n",
    "\n",
    "## Hipoteze\n",
    "    - 1. r/news bo imel več ameriških virov novic kot r/worldnews.\n",
    "    - 2. Viri r/worldnews bodo kvalitetnejše od virov r/news. (The Guardian > FoxNews ) \n",
    "    - 3. Novice iz predela kontraverzno bodo iz tabloidov, rumenega tiska ali z zavajujočo vsebino.\n",
    "## Primerjave\n",
    "    - Primerjava povprečnih ocen in komentarjev vseh kategorji\n",
    "    - Primerjava povprečnih ocen in komentarjev najpogostejših virov\n",
    "    - Pregled 5 najbolj komentiranih in  najbolje ocenjenih novic posameznih kategorij"
   ]
  },
  {
   "cell_type": "code",
   "execution_count": 275,
   "metadata": {
    "collapsed": false
   },
   "outputs": [],
   "source": [
    "import pandas as pd\n",
    "%matplotlib inline\n",
    "pd.set_option('max_colwidth',400)"
   ]
  },
  {
   "cell_type": "code",
   "execution_count": 276,
   "metadata": {
    "collapsed": false
   },
   "outputs": [],
   "source": [
    "news_con=pd.read_csv('news_con.csv')\n",
    "news_top=pd.read_csv('news_top.csv')\n",
    "wnews_con=pd.read_csv('wnews_con.csv')\n",
    "wnews_top=pd.read_csv('wnews_top.csv')"
   ]
  },
  {
   "cell_type": "code",
   "execution_count": 277,
   "metadata": {
    "collapsed": false
   },
   "outputs": [],
   "source": [
    "news_con_viri=news_con.groupby(['Vir'],as_index=False)\n",
    "news_top_viri=news_top.groupby(['Vir'],as_index=False)\n",
    "wnews_con_viri=wnews_con.groupby(['Vir'],as_index=False)\n",
    "wnews_top_viri=wnews_top.groupby(['Vir'],as_index=False)"
   ]
  },
  {
   "cell_type": "markdown",
   "metadata": {},
   "source": [
    "### Hipoteza 1: r/news bo imel več ameriških virov novic kot r/worldnews\n",
    "Že v samem opisu podstrani r/worldnews je zapisano, da stran dovoljuje povezave na vse novice, razen notranjih zadev in politike ZDA. Tako še s preštetjem pojavitve virov potrdimo, da hipoteza drži."
   ]
  },
  {
   "cell_type": "markdown",
   "metadata": {},
   "source": [
    "Združila sem skupaj število novic posameznega vira r/news in r/worldnews. Tako sem dobila vpogled v seznam najpogostejših virov na posamezni strani."
   ]
  },
  {
   "cell_type": "code",
   "execution_count": 278,
   "metadata": {
    "collapsed": false
   },
   "outputs": [],
   "source": [
    "viri_news=pd.concat([news_con,news_top]).groupby(by='Vir',as_index=False).count()\n",
    "viri_wnews=pd.concat([wnews_con,wnews_top]).groupby(by='Vir',as_index=False).count()"
   ]
  },
  {
   "cell_type": "code",
   "execution_count": 279,
   "metadata": {
    "collapsed": false,
    "scrolled": true
   },
   "outputs": [
    {
     "data": {
      "text/html": [
       "<div>\n",
       "<table border=\"1\" class=\"dataframe\">\n",
       "  <thead>\n",
       "    <tr style=\"text-align: right;\">\n",
       "      <th></th>\n",
       "      <th>Vir</th>\n",
       "      <th>Naslov</th>\n",
       "    </tr>\n",
       "  </thead>\n",
       "  <tbody>\n",
       "    <tr>\n",
       "      <th>454</th>\n",
       "      <td>washingtonpost.com</td>\n",
       "      <td>58</td>\n",
       "    </tr>\n",
       "    <tr>\n",
       "      <th>404</th>\n",
       "      <td>theguardian.com</td>\n",
       "      <td>48</td>\n",
       "    </tr>\n",
       "    <tr>\n",
       "      <th>154</th>\n",
       "      <td>foxnews.com</td>\n",
       "      <td>25</td>\n",
       "    </tr>\n",
       "    <tr>\n",
       "      <th>323</th>\n",
       "      <td>nytimes.com</td>\n",
       "      <td>23</td>\n",
       "    </tr>\n",
       "    <tr>\n",
       "      <th>305</th>\n",
       "      <td>news.yahoo.com</td>\n",
       "      <td>22</td>\n",
       "    </tr>\n",
       "    <tr>\n",
       "      <th>290</th>\n",
       "      <td>nbcnews.com</td>\n",
       "      <td>21</td>\n",
       "    </tr>\n",
       "    <tr>\n",
       "      <th>12</th>\n",
       "      <td>abcnews.go.com</td>\n",
       "      <td>19</td>\n",
       "    </tr>\n",
       "    <tr>\n",
       "      <th>86</th>\n",
       "      <td>cnn.com</td>\n",
       "      <td>19</td>\n",
       "    </tr>\n",
       "    <tr>\n",
       "      <th>191</th>\n",
       "      <td>independent.co.uk</td>\n",
       "      <td>19</td>\n",
       "    </tr>\n",
       "    <tr>\n",
       "      <th>446</th>\n",
       "      <td>usatoday.com</td>\n",
       "      <td>17</td>\n",
       "    </tr>\n",
       "  </tbody>\n",
       "</table>\n",
       "</div>"
      ],
      "text/plain": [
       "                    Vir  Naslov\n",
       "454  washingtonpost.com      58\n",
       "404     theguardian.com      48\n",
       "154         foxnews.com      25\n",
       "323         nytimes.com      23\n",
       "305      news.yahoo.com      22\n",
       "290         nbcnews.com      21\n",
       "12       abcnews.go.com      19\n",
       "86              cnn.com      19\n",
       "191   independent.co.uk      19\n",
       "446        usatoday.com      17"
      ]
     },
     "execution_count": 279,
     "metadata": {},
     "output_type": "execute_result"
    }
   ],
   "source": [
    "viri_news[['Vir','Naslov']].sort_values(by='Naslov',ascending=False).head(n=10)"
   ]
  },
  {
   "cell_type": "code",
   "execution_count": 280,
   "metadata": {
    "collapsed": false,
    "scrolled": true
   },
   "outputs": [
    {
     "data": {
      "text/html": [
       "<div>\n",
       "<table border=\"1\" class=\"dataframe\">\n",
       "  <thead>\n",
       "    <tr style=\"text-align: right;\">\n",
       "      <th></th>\n",
       "      <th>Vir</th>\n",
       "      <th>Naslov</th>\n",
       "    </tr>\n",
       "  </thead>\n",
       "  <tbody>\n",
       "    <tr>\n",
       "      <th>371</th>\n",
       "      <td>theguardian.com</td>\n",
       "      <td>64</td>\n",
       "    </tr>\n",
       "    <tr>\n",
       "      <th>318</th>\n",
       "      <td>rt.com</td>\n",
       "      <td>54</td>\n",
       "    </tr>\n",
       "    <tr>\n",
       "      <th>31</th>\n",
       "      <td>bbc.co.uk</td>\n",
       "      <td>36</td>\n",
       "    </tr>\n",
       "    <tr>\n",
       "      <th>70</th>\n",
       "      <td>dailymail.co.uk</td>\n",
       "      <td>31</td>\n",
       "    </tr>\n",
       "    <tr>\n",
       "      <th>182</th>\n",
       "      <td>independent.co.uk</td>\n",
       "      <td>30</td>\n",
       "    </tr>\n",
       "    <tr>\n",
       "      <th>32</th>\n",
       "      <td>bbc.com</td>\n",
       "      <td>29</td>\n",
       "    </tr>\n",
       "    <tr>\n",
       "      <th>284</th>\n",
       "      <td>nytimes.com</td>\n",
       "      <td>24</td>\n",
       "    </tr>\n",
       "    <tr>\n",
       "      <th>316</th>\n",
       "      <td>reuters.com</td>\n",
       "      <td>21</td>\n",
       "    </tr>\n",
       "    <tr>\n",
       "      <th>334</th>\n",
       "      <td>self.worldnews</td>\n",
       "      <td>16</td>\n",
       "    </tr>\n",
       "    <tr>\n",
       "      <th>434</th>\n",
       "      <td>washingtonpost.com</td>\n",
       "      <td>15</td>\n",
       "    </tr>\n",
       "  </tbody>\n",
       "</table>\n",
       "</div>"
      ],
      "text/plain": [
       "                    Vir  Naslov\n",
       "371     theguardian.com      64\n",
       "318              rt.com      54\n",
       "31            bbc.co.uk      36\n",
       "70      dailymail.co.uk      31\n",
       "182   independent.co.uk      30\n",
       "32              bbc.com      29\n",
       "284         nytimes.com      24\n",
       "316         reuters.com      21\n",
       "334      self.worldnews      16\n",
       "434  washingtonpost.com      15"
      ]
     },
     "execution_count": 280,
     "metadata": {},
     "output_type": "execute_result"
    }
   ],
   "source": [
    "viri_wnews[['Vir','Naslov']].sort_values(by='Naslov',ascending=False).head(n=10)"
   ]
  },
  {
   "cell_type": "markdown",
   "metadata": {},
   "source": [
    "Komentar: \n",
    "(Analiziram samo 10 najpogostejših virov)\n",
    "V razdelku r/news se pojavi samo 2 neameriška vira (theguardian.com in independent.co.uk).\n",
    "V razdelku r/worldnews sta tudi samo 2 ameriška vira(nytimes.com, washingtonpost.com) uvrstila med 10 najpogostejših.\n",
    "\n",
    "Predvidevem lahko, da so bralci in naročniki r/news večinoma prebivalci ZDA, ki jih seveda zanimajo novice povezane z ZDA, bralci r/worldnews pa so ostali obiskovalci Reddita.\n",
    "\n",
    "Moja hipoteza je potrjena. V r/news je 8 ameriških virov, v r/wnews pa le 2."
   ]
  },
  {
   "cell_type": "markdown",
   "metadata": {},
   "source": [
    "###  Hipoteza 2:Viri r/worldnews bodo kvalitetnejše od virov r/news.\n"
   ]
  },
  {
   "cell_type": "markdown",
   "metadata": {},
   "source": [
    "S pomočjo prejšnih tabel ugotovimo, da se med najpogostejšimi viri r/news izstopa samo foxnews.com, za katerega bi lahko trdili, da ne poroča najbolj objektivneje.\n",
    "\n",
    "Med najpogostejšimi viri r/worldnews zasledimo 2, ki bi ju lahko uvrstili med pristranski in rumeni tisk. To sta na drugem mestu po pogostosti ruska spletna stran rt.com in britanski tabloid dailymail.co.uk.\n",
    "\n",
    "Moja hipoteza ne drži. Viri r/worldnews in r/news so si enakovredni."
   ]
  },
  {
   "cell_type": "markdown",
   "metadata": {},
   "source": [
    "### Hipoteza 3 : Novice iz predela kontraverzno bodo iz tabloidov, rumenega tiska ali z zavajujočo vsebino.\n",
    "Sedaj združim vire novic kontraverzno in najboljše."
   ]
  },
  {
   "cell_type": "code",
   "execution_count": 289,
   "metadata": {
    "collapsed": false
   },
   "outputs": [],
   "source": [
    "novice_kontraverzno=pd.concat([wnews_con,news_con])\n",
    "novice_najboljse=pd.concat([wnews_top,news_top])\n",
    "novice_kontraverzno_viri=pd.concat([wnews_con,news_con]).groupby(by='Vir',as_index=False).count()\n",
    "novice_najboljse_viri=pd.concat([wnews_top,news_top]).groupby(by='Vir',as_index=False).count()"
   ]
  },
  {
   "cell_type": "code",
   "execution_count": 296,
   "metadata": {
    "collapsed": false,
    "scrolled": true
   },
   "outputs": [
    {
     "data": {
      "text/html": [
       "<div>\n",
       "<table border=\"1\" class=\"dataframe\">\n",
       "  <thead>\n",
       "    <tr style=\"text-align: right;\">\n",
       "      <th></th>\n",
       "      <th>Vir</th>\n",
       "      <th>Naslov</th>\n",
       "    </tr>\n",
       "  </thead>\n",
       "  <tbody>\n",
       "    <tr>\n",
       "      <th>396</th>\n",
       "      <td>rt.com</td>\n",
       "      <td>50</td>\n",
       "    </tr>\n",
       "    <tr>\n",
       "      <th>95</th>\n",
       "      <td>dailymail.co.uk</td>\n",
       "      <td>34</td>\n",
       "    </tr>\n",
       "    <tr>\n",
       "      <th>440</th>\n",
       "      <td>theguardian.com</td>\n",
       "      <td>28</td>\n",
       "    </tr>\n",
       "    <tr>\n",
       "      <th>168</th>\n",
       "      <td>foxnews.com</td>\n",
       "      <td>22</td>\n",
       "    </tr>\n",
       "    <tr>\n",
       "      <th>508</th>\n",
       "      <td>washingtonpost.com</td>\n",
       "      <td>21</td>\n",
       "    </tr>\n",
       "    <tr>\n",
       "      <th>43</th>\n",
       "      <td>bbc.co.uk</td>\n",
       "      <td>20</td>\n",
       "    </tr>\n",
       "    <tr>\n",
       "      <th>328</th>\n",
       "      <td>news.yahoo.com</td>\n",
       "      <td>18</td>\n",
       "    </tr>\n",
       "    <tr>\n",
       "      <th>345</th>\n",
       "      <td>nytimes.com</td>\n",
       "      <td>17</td>\n",
       "    </tr>\n",
       "    <tr>\n",
       "      <th>215</th>\n",
       "      <td>independent.co.uk</td>\n",
       "      <td>16</td>\n",
       "    </tr>\n",
       "    <tr>\n",
       "      <th>469</th>\n",
       "      <td>timesofisrael.com</td>\n",
       "      <td>15</td>\n",
       "    </tr>\n",
       "  </tbody>\n",
       "</table>\n",
       "</div>"
      ],
      "text/plain": [
       "                    Vir  Naslov\n",
       "396              rt.com      50\n",
       "95      dailymail.co.uk      34\n",
       "440     theguardian.com      28\n",
       "168         foxnews.com      22\n",
       "508  washingtonpost.com      21\n",
       "43            bbc.co.uk      20\n",
       "328      news.yahoo.com      18\n",
       "345         nytimes.com      17\n",
       "215   independent.co.uk      16\n",
       "469   timesofisrael.com      15"
      ]
     },
     "execution_count": 296,
     "metadata": {},
     "output_type": "execute_result"
    }
   ],
   "source": [
    "naj10_con=novice_kontraverzno_viri[['Vir','Naslov']].sort_values(by='Naslov',ascending=False).head(n=10)\n",
    "naj10_con"
   ]
  },
  {
   "cell_type": "code",
   "execution_count": 297,
   "metadata": {
    "collapsed": false,
    "scrolled": false
   },
   "outputs": [
    {
     "data": {
      "text/html": [
       "<div>\n",
       "<table border=\"1\" class=\"dataframe\">\n",
       "  <thead>\n",
       "    <tr style=\"text-align: right;\">\n",
       "      <th></th>\n",
       "      <th>Vir</th>\n",
       "      <th>Naslov</th>\n",
       "    </tr>\n",
       "  </thead>\n",
       "  <tbody>\n",
       "    <tr>\n",
       "      <th>366</th>\n",
       "      <td>theguardian.com</td>\n",
       "      <td>84</td>\n",
       "    </tr>\n",
       "    <tr>\n",
       "      <th>415</th>\n",
       "      <td>washingtonpost.com</td>\n",
       "      <td>52</td>\n",
       "    </tr>\n",
       "    <tr>\n",
       "      <th>28</th>\n",
       "      <td>bbc.com</td>\n",
       "      <td>33</td>\n",
       "    </tr>\n",
       "    <tr>\n",
       "      <th>173</th>\n",
       "      <td>independent.co.uk</td>\n",
       "      <td>33</td>\n",
       "    </tr>\n",
       "    <tr>\n",
       "      <th>284</th>\n",
       "      <td>nytimes.com</td>\n",
       "      <td>30</td>\n",
       "    </tr>\n",
       "    <tr>\n",
       "      <th>309</th>\n",
       "      <td>reuters.com</td>\n",
       "      <td>27</td>\n",
       "    </tr>\n",
       "    <tr>\n",
       "      <th>27</th>\n",
       "      <td>bbc.co.uk</td>\n",
       "      <td>26</td>\n",
       "    </tr>\n",
       "    <tr>\n",
       "      <th>254</th>\n",
       "      <td>nbcnews.com</td>\n",
       "      <td>19</td>\n",
       "    </tr>\n",
       "    <tr>\n",
       "      <th>268</th>\n",
       "      <td>news.yahoo.com</td>\n",
       "      <td>18</td>\n",
       "    </tr>\n",
       "    <tr>\n",
       "      <th>31</th>\n",
       "      <td>bigstory.ap.org</td>\n",
       "      <td>17</td>\n",
       "    </tr>\n",
       "  </tbody>\n",
       "</table>\n",
       "</div>"
      ],
      "text/plain": [
       "                    Vir  Naslov\n",
       "366     theguardian.com      84\n",
       "415  washingtonpost.com      52\n",
       "28              bbc.com      33\n",
       "173   independent.co.uk      33\n",
       "284         nytimes.com      30\n",
       "309         reuters.com      27\n",
       "27            bbc.co.uk      26\n",
       "254         nbcnews.com      19\n",
       "268      news.yahoo.com      18\n",
       "31      bigstory.ap.org      17"
      ]
     },
     "execution_count": 297,
     "metadata": {},
     "output_type": "execute_result"
    }
   ],
   "source": [
    "naj10_top=novice_najboljse_viri[['Vir','Naslov']].sort_values(by='Naslov',ascending=False).head(n=10)\n",
    "naj10_top"
   ]
  },
  {
   "cell_type": "markdown",
   "metadata": {},
   "source": [
    "Na vrhu kontraverzno opazimo medij ruske vladne propagande. rt.com (Russia Today) slovi \n",
    "kot pristranska (seveda, v korist rusom) in zavajajoča novinarska hiša, znana po širjenju napačnih informacij.\n",
    "V spodnji tabeli je zapisanih 5 najbolje ocenjenih novic rt.com. Opazimo, da so novice nenaklonjene ZDA (85, 123,433) (ZDA ne marajo Snowdena...) in seveda vzmirjajočo novico za uporabnike spleta (235)."
   ]
  },
  {
   "cell_type": "code",
   "execution_count": 292,
   "metadata": {
    "collapsed": false,
    "scrolled": true
   },
   "outputs": [
    {
     "data": {
      "text/html": [
       "<div>\n",
       "<table border=\"1\" class=\"dataframe\">\n",
       "  <thead>\n",
       "    <tr style=\"text-align: right;\">\n",
       "      <th></th>\n",
       "      <th>Naslov</th>\n",
       "      <th>Score</th>\n",
       "      <th>Komentarji</th>\n",
       "      <th>Vir</th>\n",
       "    </tr>\n",
       "  </thead>\n",
       "  <tbody>\n",
       "    <tr>\n",
       "      <th>235</th>\n",
       "      <td>UK: Man jailed for 33 months for pirating ‘Fast &amp;amp; Furious’</td>\n",
       "      <td>2396</td>\n",
       "      <td>3245</td>\n",
       "      <td>rt.com</td>\n",
       "    </tr>\n",
       "    <tr>\n",
       "      <th>85</th>\n",
       "      <td>The US has been voted as the most significant threat to world peace in a survey across 68 different countries</td>\n",
       "      <td>2233</td>\n",
       "      <td>5979</td>\n",
       "      <td>rt.com</td>\n",
       "    </tr>\n",
       "    <tr>\n",
       "      <th>433</th>\n",
       "      <td>Snowden nominated for Nobel Peace Prize by Swedish professor. \"[H]eroic effort at great personal cost.”</td>\n",
       "      <td>2169</td>\n",
       "      <td>687</td>\n",
       "      <td>rt.com</td>\n",
       "    </tr>\n",
       "    <tr>\n",
       "      <th>123</th>\n",
       "      <td>New video: Edward Snowden receives award from NSA, CIA, FBI and DOJ officials, breaks silence on NSA programs for the first time in Russia. Reveals new details on how mass surveillance makes us less - not more - safe.</td>\n",
       "      <td>1593</td>\n",
       "      <td>575</td>\n",
       "      <td>rt.com</td>\n",
       "    </tr>\n",
       "    <tr>\n",
       "      <th>16</th>\n",
       "      <td>Obama considers ending NSA surveillance programs.</td>\n",
       "      <td>1252</td>\n",
       "      <td>1060</td>\n",
       "      <td>rt.com</td>\n",
       "    </tr>\n",
       "  </tbody>\n",
       "</table>\n",
       "</div>"
      ],
      "text/plain": [
       "                                                                                                                                                                                                                        Naslov  \\\n",
       "235                                                                                                                                                             UK: Man jailed for 33 months for pirating ‘Fast &amp; Furious’   \n",
       "85                                                                                                               The US has been voted as the most significant threat to world peace in a survey across 68 different countries   \n",
       "433                                                                                                                    Snowden nominated for Nobel Peace Prize by Swedish professor. \"[H]eroic effort at great personal cost.”   \n",
       "123  New video: Edward Snowden receives award from NSA, CIA, FBI and DOJ officials, breaks silence on NSA programs for the first time in Russia. Reveals new details on how mass surveillance makes us less - not more - safe.   \n",
       "16                                                                                                                                                                           Obama considers ending NSA surveillance programs.   \n",
       "\n",
       "     Score  Komentarji     Vir  \n",
       "235   2396        3245  rt.com  \n",
       "85    2233        5979  rt.com  \n",
       "433   2169         687  rt.com  \n",
       "123   1593         575  rt.com  \n",
       "16    1252        1060  rt.com  "
      ]
     },
     "execution_count": 292,
     "metadata": {},
     "output_type": "execute_result"
    }
   ],
   "source": [
    "novice_kontraverzno[novice_kontraverzno['Vir'] =='rt.com'].sort_values('Score', ascending=False).head()"
   ]
  },
  {
   "cell_type": "markdown",
   "metadata": {},
   "source": [
    "Na drugo mesto po pogostosti virov kontraverznih novic je britanski rumeni tračarski časopis dailymail.co.uk.\n",
    "Znani konservativni tabloid je znan po nenatančnem, pristranskem in senzacionalnem poročanju. To potrdi tudi seznam 4 najbolje ocenjenih novic. (Ena je bila na strani objavljena dvakrat). \n",
    "Novice so povezane s spolnim nasiljem(61), nasiljem (192,307) in krščanstvom(178). "
   ]
  },
  {
   "cell_type": "code",
   "execution_count": 293,
   "metadata": {
    "collapsed": false
   },
   "outputs": [
    {
     "data": {
      "text/html": [
       "<div>\n",
       "<table border=\"1\" class=\"dataframe\">\n",
       "  <thead>\n",
       "    <tr style=\"text-align: right;\">\n",
       "      <th></th>\n",
       "      <th>Naslov</th>\n",
       "      <th>Score</th>\n",
       "      <th>Komentarji</th>\n",
       "      <th>Vir</th>\n",
       "    </tr>\n",
       "  </thead>\n",
       "  <tbody>\n",
       "    <tr>\n",
       "      <th>192</th>\n",
       "      <td>Mobs of 'hundreds' of masked men rampage through Stockholm central station beating up refugee children</td>\n",
       "      <td>3339</td>\n",
       "      <td>6268</td>\n",
       "      <td>dailymail.co.uk</td>\n",
       "    </tr>\n",
       "    <tr>\n",
       "      <th>61</th>\n",
       "      <td>Roman Catholic church's paedophile investigator jailed for possessing thousnds of child porn images</td>\n",
       "      <td>772</td>\n",
       "      <td>784</td>\n",
       "      <td>dailymail.co.uk</td>\n",
       "    </tr>\n",
       "    <tr>\n",
       "      <th>307</th>\n",
       "      <td>'Someone's coming to get me': Terrified phone-hacking whistleblower feared for his life before he was found dead.\\r\\n</td>\n",
       "      <td>359</td>\n",
       "      <td>149</td>\n",
       "      <td>dailymail.co.uk</td>\n",
       "    </tr>\n",
       "    <tr>\n",
       "      <th>184</th>\n",
       "      <td>'Someone's coming to get me': Terrified phone-hacking whistleblower feared for his life before he was found dead.\\r\\n</td>\n",
       "      <td>246</td>\n",
       "      <td>87</td>\n",
       "      <td>dailymail.co.uk</td>\n",
       "    </tr>\n",
       "    <tr>\n",
       "      <th>178</th>\n",
       "      <td>Secret £14million Bible in which 'Jesus predicts coming of Prophet Muhammad' unearthed in Turkey</td>\n",
       "      <td>83</td>\n",
       "      <td>151</td>\n",
       "      <td>dailymail.co.uk</td>\n",
       "    </tr>\n",
       "  </tbody>\n",
       "</table>\n",
       "</div>"
      ],
      "text/plain": [
       "                                                                                                                    Naslov  \\\n",
       "192                 Mobs of 'hundreds' of masked men rampage through Stockholm central station beating up refugee children   \n",
       "61                     Roman Catholic church's paedophile investigator jailed for possessing thousnds of child porn images   \n",
       "307  'Someone's coming to get me': Terrified phone-hacking whistleblower feared for his life before he was found dead.\\r\\n   \n",
       "184  'Someone's coming to get me': Terrified phone-hacking whistleblower feared for his life before he was found dead.\\r\\n   \n",
       "178                       Secret £14million Bible in which 'Jesus predicts coming of Prophet Muhammad' unearthed in Turkey   \n",
       "\n",
       "     Score  Komentarji              Vir  \n",
       "192   3339        6268  dailymail.co.uk  \n",
       "61     772         784  dailymail.co.uk  \n",
       "307    359         149  dailymail.co.uk  \n",
       "184    246          87  dailymail.co.uk  \n",
       "178     83         151  dailymail.co.uk  "
      ]
     },
     "execution_count": 293,
     "metadata": {},
     "output_type": "execute_result"
    }
   ],
   "source": [
    "novice_kontraverzno[novice_kontraverzno['Vir'] =='dailymail.co.uk'].sort_values('Score', ascending=False).head()"
   ]
  },
  {
   "cell_type": "markdown",
   "metadata": {},
   "source": [
    "V kategoriji najboljše se med desetimi najpogostejšimi viri ne pojavi vir \"vprašljive\" kakovosti. \n",
    "Za primerjavo kakovosti novice, si poglejmo 5 najbolje ocenjenih novic vira guardian.com."
   ]
  },
  {
   "cell_type": "code",
   "execution_count": 295,
   "metadata": {
    "collapsed": false,
    "scrolled": true
   },
   "outputs": [
    {
     "data": {
      "text/html": [
       "<div>\n",
       "<table border=\"1\" class=\"dataframe\">\n",
       "  <thead>\n",
       "    <tr style=\"text-align: right;\">\n",
       "      <th></th>\n",
       "      <th>Naslov</th>\n",
       "      <th>Score</th>\n",
       "      <th>Komentarji</th>\n",
       "      <th>Vir</th>\n",
       "    </tr>\n",
       "  </thead>\n",
       "  <tbody>\n",
       "    <tr>\n",
       "      <th>5</th>\n",
       "      <td>ISIS beheads 81-year-old pioneer archaeologist and foremost scholar on ancient Syria. Held captive for 1 month, he refused to tell ISIS the location of the treasures of Palmyra unto death.</td>\n",
       "      <td>10512</td>\n",
       "      <td>1850</td>\n",
       "      <td>theguardian.com</td>\n",
       "    </tr>\n",
       "    <tr>\n",
       "      <th>9</th>\n",
       "      <td>France decrees new rooftops must be covered in plants or solar panels. All new buildings in commercial zones across the country must comply with new environmental legislation</td>\n",
       "      <td>9952</td>\n",
       "      <td>4038</td>\n",
       "      <td>theguardian.com</td>\n",
       "    </tr>\n",
       "    <tr>\n",
       "      <th>22</th>\n",
       "      <td>The first UN privacy chief has said the world needs a Geneva convention style law for the internet to safeguard data and combat the threat of massive clandestine digital surveillance.</td>\n",
       "      <td>8651</td>\n",
       "      <td>652</td>\n",
       "      <td>theguardian.com</td>\n",
       "    </tr>\n",
       "    <tr>\n",
       "      <th>34</th>\n",
       "      <td>John Kerry: Vietnam war was result of 'profound failure of diplomatic insight'.I’m reminded of conversations I’ve had recently with people who talk almost casually about the prospect of war with one country or another. I’m tempted to say: ‘You don’t have the first idea of what you’re talking about’</td>\n",
       "      <td>8053</td>\n",
       "      <td>2412</td>\n",
       "      <td>theguardian.com</td>\n",
       "    </tr>\n",
       "    <tr>\n",
       "      <th>35</th>\n",
       "      <td>Google to reorganize into new company called Alphabet</td>\n",
       "      <td>8030</td>\n",
       "      <td>2405</td>\n",
       "      <td>theguardian.com</td>\n",
       "    </tr>\n",
       "  </tbody>\n",
       "</table>\n",
       "</div>"
      ],
      "text/plain": [
       "                                                                                                                                                                                                                                                                                                         Naslov  \\\n",
       "5                                                                                                                  ISIS beheads 81-year-old pioneer archaeologist and foremost scholar on ancient Syria. Held captive for 1 month, he refused to tell ISIS the location of the treasures of Palmyra unto death.   \n",
       "9                                                                                                                                France decrees new rooftops must be covered in plants or solar panels. All new buildings in commercial zones across the country must comply with new environmental legislation   \n",
       "22                                                                                                                      The first UN privacy chief has said the world needs a Geneva convention style law for the internet to safeguard data and combat the threat of massive clandestine digital surveillance.   \n",
       "34  John Kerry: Vietnam war was result of 'profound failure of diplomatic insight'.I’m reminded of conversations I’ve had recently with people who talk almost casually about the prospect of war with one country or another. I’m tempted to say: ‘You don’t have the first idea of what you’re talking about’   \n",
       "35                                                                                                                                                                                                                                                        Google to reorganize into new company called Alphabet   \n",
       "\n",
       "    Score  Komentarji              Vir  \n",
       "5   10512        1850  theguardian.com  \n",
       "9    9952        4038  theguardian.com  \n",
       "22   8651         652  theguardian.com  \n",
       "34   8053        2412  theguardian.com  \n",
       "35   8030        2405  theguardian.com  "
      ]
     },
     "execution_count": 295,
     "metadata": {},
     "output_type": "execute_result"
    }
   ],
   "source": [
    "novice_najboljse[novice_najboljse['Vir'] =='theguardian.com'].sort_values('Score', ascending=False).head(n=5)"
   ]
  },
  {
   "cell_type": "markdown",
   "metadata": {},
   "source": [
    "Viri najboljse ne vsebujejo nobenega vira 'vprašljivega' porekla. "
   ]
  },
  {
   "cell_type": "markdown",
   "metadata": {},
   "source": [
    "### Primerjave\n",
    "Najprej raziščem, kakšna je razlika v komentarjih in ocenah za različne vire v naših kategorijah.\n",
    "Ker sem ugotovila, da viri se podobni viri pojavijo v skupnih podstraneh(najboljše in kontraverzno) bom primerjala r/news in r/worldnews kontraverzno in r/news in r/worldnews najboljše."
   ]
  },
  {
   "cell_type": "markdown",
   "metadata": {},
   "source": [
    "### Primerjave\n",
    "Najprej primerjam povprečne ocene in povprečno število komentarjev 10 najpogostejših virov (vseh novic). Primerjam kontaverzno in najboljše v posameznem podredditu."
   ]
  },
  {
   "cell_type": "code",
   "execution_count": 375,
   "metadata": {
    "collapsed": false
   },
   "outputs": [],
   "source": [
    "vse_novice=pd.concat([news_con,wnews_con,news_top,wnews_top])\n",
    "vse_novice_viri=vse_novice.groupby(by='Vir')"
   ]
  },
  {
   "cell_type": "code",
   "execution_count": 377,
   "metadata": {
    "collapsed": false
   },
   "outputs": [],
   "source": [
    "news_viri=pd.merge(news_con,news_top,on='Vir', suffixes=('_news_con', '_news_top')).groupby(by='Vir', as_index=False).mean()\n",
    "#povprecje_scor_news\n",
    "wnews_viri=pd.merge(wnews_con,wnews_top,on='Vir', suffixes=('_wnews_con', '_wnews_top')).groupby(by='Vir', as_index=False).mean()\n",
    "vsi_viri=pd.merge(news_viri,wnews_viri,on='Vir').groupby(by='Vir', as_index=False).mean()"
   ]
  },
  {
   "cell_type": "code",
   "execution_count": 378,
   "metadata": {
    "collapsed": true
   },
   "outputs": [
    {
     "data": {
      "text/html": [
       "<div>\n",
       "<table border=\"1\" class=\"dataframe\">\n",
       "  <thead>\n",
       "    <tr style=\"text-align: right;\">\n",
       "      <th></th>\n",
       "      <th>Vir</th>\n",
       "      <th>Score_news_con</th>\n",
       "      <th>Komentarji_news_con</th>\n",
       "      <th>Score_news_top</th>\n",
       "      <th>Komentarji_news_top</th>\n",
       "      <th>Score_wnews_con</th>\n",
       "      <th>Komentarji_wnews_con</th>\n",
       "      <th>Score_wnews_top</th>\n",
       "      <th>Komentarji_wnews_top</th>\n",
       "    </tr>\n",
       "  </thead>\n",
       "  <tbody>\n",
       "    <tr>\n",
       "      <th>0</th>\n",
       "      <td>bbc.co.uk</td>\n",
       "      <td>3.000000</td>\n",
       "      <td>10.142857</td>\n",
       "      <td>5651.333333</td>\n",
       "      <td>7501.000000</td>\n",
       "      <td>765.076923</td>\n",
       "      <td>1229.615385</td>\n",
       "      <td>6685.000000</td>\n",
       "      <td>4225.391304</td>\n",
       "    </tr>\n",
       "    <tr>\n",
       "      <th>1</th>\n",
       "      <td>bbc.com</td>\n",
       "      <td>9.500000</td>\n",
       "      <td>43.500000</td>\n",
       "      <td>6025.600000</td>\n",
       "      <td>3192.400000</td>\n",
       "      <td>2461.000000</td>\n",
       "      <td>3934.000000</td>\n",
       "      <td>6461.321429</td>\n",
       "      <td>3291.821429</td>\n",
       "    </tr>\n",
       "    <tr>\n",
       "      <th>2</th>\n",
       "      <td>bigstory.ap.org</td>\n",
       "      <td>4.000000</td>\n",
       "      <td>29.250000</td>\n",
       "      <td>6640.666667</td>\n",
       "      <td>1355.333333</td>\n",
       "      <td>0.000000</td>\n",
       "      <td>7.000000</td>\n",
       "      <td>7097.750000</td>\n",
       "      <td>1965.625000</td>\n",
       "    </tr>\n",
       "    <tr>\n",
       "      <th>3</th>\n",
       "      <td>bloomberg.com</td>\n",
       "      <td>0.000000</td>\n",
       "      <td>11.000000</td>\n",
       "      <td>6098.000000</td>\n",
       "      <td>3378.600000</td>\n",
       "      <td>0.000000</td>\n",
       "      <td>83.000000</td>\n",
       "      <td>6198.125000</td>\n",
       "      <td>2402.875000</td>\n",
       "    </tr>\n",
       "    <tr>\n",
       "      <th>4</th>\n",
       "      <td>cbc.ca</td>\n",
       "      <td>4.500000</td>\n",
       "      <td>42.500000</td>\n",
       "      <td>5951.333333</td>\n",
       "      <td>2889.000000</td>\n",
       "      <td>2412.000000</td>\n",
       "      <td>4897.000000</td>\n",
       "      <td>6652.111111</td>\n",
       "      <td>3714.222222</td>\n",
       "    </tr>\n",
       "    <tr>\n",
       "      <th>5</th>\n",
       "      <td>cnn.com</td>\n",
       "      <td>49.444444</td>\n",
       "      <td>116.222222</td>\n",
       "      <td>6275.900000</td>\n",
       "      <td>5913.000000</td>\n",
       "      <td>783.333333</td>\n",
       "      <td>830.000000</td>\n",
       "      <td>6047.285714</td>\n",
       "      <td>2420.142857</td>\n",
       "    </tr>\n",
       "    <tr>\n",
       "      <th>6</th>\n",
       "      <td>economist.com</td>\n",
       "      <td>0.000000</td>\n",
       "      <td>36.000000</td>\n",
       "      <td>5700.000000</td>\n",
       "      <td>2213.000000</td>\n",
       "      <td>14.000000</td>\n",
       "      <td>275.000000</td>\n",
       "      <td>6003.000000</td>\n",
       "      <td>738.000000</td>\n",
       "    </tr>\n",
       "    <tr>\n",
       "      <th>7</th>\n",
       "      <td>foxnews.com</td>\n",
       "      <td>19.428571</td>\n",
       "      <td>84.666667</td>\n",
       "      <td>5742.250000</td>\n",
       "      <td>2895.000000</td>\n",
       "      <td>1954.000000</td>\n",
       "      <td>9534.000000</td>\n",
       "      <td>6185.666667</td>\n",
       "      <td>3117.666667</td>\n",
       "    </tr>\n",
       "    <tr>\n",
       "      <th>8</th>\n",
       "      <td>guardian.co.uk</td>\n",
       "      <td>16.500000</td>\n",
       "      <td>31.500000</td>\n",
       "      <td>5595.000000</td>\n",
       "      <td>4404.000000</td>\n",
       "      <td>685.250000</td>\n",
       "      <td>753.750000</td>\n",
       "      <td>8866.000000</td>\n",
       "      <td>6151.000000</td>\n",
       "    </tr>\n",
       "    <tr>\n",
       "      <th>9</th>\n",
       "      <td>hosted.ap.org</td>\n",
       "      <td>0.500000</td>\n",
       "      <td>39.000000</td>\n",
       "      <td>7612.000000</td>\n",
       "      <td>3740.000000</td>\n",
       "      <td>3.000000</td>\n",
       "      <td>20.000000</td>\n",
       "      <td>5783.000000</td>\n",
       "      <td>1558.000000</td>\n",
       "    </tr>\n",
       "    <tr>\n",
       "      <th>10</th>\n",
       "      <td>independent.co.uk</td>\n",
       "      <td>424.666667</td>\n",
       "      <td>1176.083333</td>\n",
       "      <td>5840.285714</td>\n",
       "      <td>3614.142857</td>\n",
       "      <td>870.250000</td>\n",
       "      <td>961.000000</td>\n",
       "      <td>6549.346154</td>\n",
       "      <td>2818.692308</td>\n",
       "    </tr>\n",
       "    <tr>\n",
       "      <th>11</th>\n",
       "      <td>latimes.com</td>\n",
       "      <td>10.000000</td>\n",
       "      <td>31.500000</td>\n",
       "      <td>6123.500000</td>\n",
       "      <td>3223.500000</td>\n",
       "      <td>2.000000</td>\n",
       "      <td>13.000000</td>\n",
       "      <td>6586.000000</td>\n",
       "      <td>1510.000000</td>\n",
       "    </tr>\n",
       "    <tr>\n",
       "      <th>12</th>\n",
       "      <td>nbcnews.com</td>\n",
       "      <td>753.000000</td>\n",
       "      <td>552.600000</td>\n",
       "      <td>5620.937500</td>\n",
       "      <td>3399.125000</td>\n",
       "      <td>105.000000</td>\n",
       "      <td>449.000000</td>\n",
       "      <td>6374.000000</td>\n",
       "      <td>4043.000000</td>\n",
       "    </tr>\n",
       "    <tr>\n",
       "      <th>13</th>\n",
       "      <td>news.com.au</td>\n",
       "      <td>10.200000</td>\n",
       "      <td>34.600000</td>\n",
       "      <td>6032.250000</td>\n",
       "      <td>3059.750000</td>\n",
       "      <td>442.000000</td>\n",
       "      <td>218.666667</td>\n",
       "      <td>7471.000000</td>\n",
       "      <td>2794.500000</td>\n",
       "    </tr>\n",
       "    <tr>\n",
       "      <th>14</th>\n",
       "      <td>news.yahoo.com</td>\n",
       "      <td>24.083333</td>\n",
       "      <td>49.583333</td>\n",
       "      <td>5829.300000</td>\n",
       "      <td>2067.700000</td>\n",
       "      <td>100.666667</td>\n",
       "      <td>283.333333</td>\n",
       "      <td>6086.750000</td>\n",
       "      <td>2769.375000</td>\n",
       "    </tr>\n",
       "    <tr>\n",
       "      <th>15</th>\n",
       "      <td>nypost.com</td>\n",
       "      <td>3.857143</td>\n",
       "      <td>56.857143</td>\n",
       "      <td>5744.250000</td>\n",
       "      <td>3069.250000</td>\n",
       "      <td>15.000000</td>\n",
       "      <td>25.000000</td>\n",
       "      <td>6549.000000</td>\n",
       "      <td>2611.000000</td>\n",
       "    </tr>\n",
       "    <tr>\n",
       "      <th>16</th>\n",
       "      <td>nytimes.com</td>\n",
       "      <td>1167.250000</td>\n",
       "      <td>658.500000</td>\n",
       "      <td>5967.400000</td>\n",
       "      <td>3907.466667</td>\n",
       "      <td>198.111111</td>\n",
       "      <td>84.111111</td>\n",
       "      <td>6124.066667</td>\n",
       "      <td>3415.400000</td>\n",
       "    </tr>\n",
       "    <tr>\n",
       "      <th>17</th>\n",
       "      <td>reuters.com</td>\n",
       "      <td>13.500000</td>\n",
       "      <td>30.250000</td>\n",
       "      <td>5708.636364</td>\n",
       "      <td>2225.000000</td>\n",
       "      <td>1205.800000</td>\n",
       "      <td>1429.200000</td>\n",
       "      <td>6245.937500</td>\n",
       "      <td>3654.250000</td>\n",
       "    </tr>\n",
       "    <tr>\n",
       "      <th>18</th>\n",
       "      <td>smh.com.au</td>\n",
       "      <td>18.000000</td>\n",
       "      <td>41.000000</td>\n",
       "      <td>7272.000000</td>\n",
       "      <td>3732.000000</td>\n",
       "      <td>12.000000</td>\n",
       "      <td>83.666667</td>\n",
       "      <td>5924.666667</td>\n",
       "      <td>2609.666667</td>\n",
       "    </tr>\n",
       "    <tr>\n",
       "      <th>19</th>\n",
       "      <td>thedailybeast.com</td>\n",
       "      <td>28.200000</td>\n",
       "      <td>55.900000</td>\n",
       "      <td>5670.500000</td>\n",
       "      <td>5280.000000</td>\n",
       "      <td>127.000000</td>\n",
       "      <td>328.000000</td>\n",
       "      <td>6562.333333</td>\n",
       "      <td>3725.333333</td>\n",
       "    </tr>\n",
       "    <tr>\n",
       "      <th>20</th>\n",
       "      <td>theguardian.com</td>\n",
       "      <td>366.250000</td>\n",
       "      <td>248.937500</td>\n",
       "      <td>5903.562500</td>\n",
       "      <td>2376.343750</td>\n",
       "      <td>801.083333</td>\n",
       "      <td>459.666667</td>\n",
       "      <td>6587.096154</td>\n",
       "      <td>2732.557692</td>\n",
       "    </tr>\n",
       "    <tr>\n",
       "      <th>21</th>\n",
       "      <td>time.com</td>\n",
       "      <td>1223.000000</td>\n",
       "      <td>625.800000</td>\n",
       "      <td>5763.800000</td>\n",
       "      <td>2671.200000</td>\n",
       "      <td>145.000000</td>\n",
       "      <td>162.333333</td>\n",
       "      <td>6295.333333</td>\n",
       "      <td>2741.666667</td>\n",
       "    </tr>\n",
       "    <tr>\n",
       "      <th>22</th>\n",
       "      <td>usatoday.com</td>\n",
       "      <td>8.600000</td>\n",
       "      <td>31.000000</td>\n",
       "      <td>6047.285714</td>\n",
       "      <td>2181.142857</td>\n",
       "      <td>0.000000</td>\n",
       "      <td>9.000000</td>\n",
       "      <td>6937.000000</td>\n",
       "      <td>3002.500000</td>\n",
       "    </tr>\n",
       "    <tr>\n",
       "      <th>23</th>\n",
       "      <td>washingtonpost.com</td>\n",
       "      <td>453.500000</td>\n",
       "      <td>1039.900000</td>\n",
       "      <td>6238.000000</td>\n",
       "      <td>2651.447368</td>\n",
       "      <td>0.000000</td>\n",
       "      <td>24.000000</td>\n",
       "      <td>6253.142857</td>\n",
       "      <td>2728.928571</td>\n",
       "    </tr>\n",
       "  </tbody>\n",
       "</table>\n",
       "</div>"
      ],
      "text/plain": [
       "                   Vir  Score_news_con  Komentarji_news_con  Score_news_top  \\\n",
       "0            bbc.co.uk        3.000000            10.142857     5651.333333   \n",
       "1              bbc.com        9.500000            43.500000     6025.600000   \n",
       "2      bigstory.ap.org        4.000000            29.250000     6640.666667   \n",
       "3        bloomberg.com        0.000000            11.000000     6098.000000   \n",
       "4               cbc.ca        4.500000            42.500000     5951.333333   \n",
       "5              cnn.com       49.444444           116.222222     6275.900000   \n",
       "6        economist.com        0.000000            36.000000     5700.000000   \n",
       "7          foxnews.com       19.428571            84.666667     5742.250000   \n",
       "8       guardian.co.uk       16.500000            31.500000     5595.000000   \n",
       "9        hosted.ap.org        0.500000            39.000000     7612.000000   \n",
       "10   independent.co.uk      424.666667          1176.083333     5840.285714   \n",
       "11         latimes.com       10.000000            31.500000     6123.500000   \n",
       "12         nbcnews.com      753.000000           552.600000     5620.937500   \n",
       "13         news.com.au       10.200000            34.600000     6032.250000   \n",
       "14      news.yahoo.com       24.083333            49.583333     5829.300000   \n",
       "15          nypost.com        3.857143            56.857143     5744.250000   \n",
       "16         nytimes.com     1167.250000           658.500000     5967.400000   \n",
       "17         reuters.com       13.500000            30.250000     5708.636364   \n",
       "18          smh.com.au       18.000000            41.000000     7272.000000   \n",
       "19   thedailybeast.com       28.200000            55.900000     5670.500000   \n",
       "20     theguardian.com      366.250000           248.937500     5903.562500   \n",
       "21            time.com     1223.000000           625.800000     5763.800000   \n",
       "22        usatoday.com        8.600000            31.000000     6047.285714   \n",
       "23  washingtonpost.com      453.500000          1039.900000     6238.000000   \n",
       "\n",
       "    Komentarji_news_top  Score_wnews_con  Komentarji_wnews_con  \\\n",
       "0           7501.000000       765.076923           1229.615385   \n",
       "1           3192.400000      2461.000000           3934.000000   \n",
       "2           1355.333333         0.000000              7.000000   \n",
       "3           3378.600000         0.000000             83.000000   \n",
       "4           2889.000000      2412.000000           4897.000000   \n",
       "5           5913.000000       783.333333            830.000000   \n",
       "6           2213.000000        14.000000            275.000000   \n",
       "7           2895.000000      1954.000000           9534.000000   \n",
       "8           4404.000000       685.250000            753.750000   \n",
       "9           3740.000000         3.000000             20.000000   \n",
       "10          3614.142857       870.250000            961.000000   \n",
       "11          3223.500000         2.000000             13.000000   \n",
       "12          3399.125000       105.000000            449.000000   \n",
       "13          3059.750000       442.000000            218.666667   \n",
       "14          2067.700000       100.666667            283.333333   \n",
       "15          3069.250000        15.000000             25.000000   \n",
       "16          3907.466667       198.111111             84.111111   \n",
       "17          2225.000000      1205.800000           1429.200000   \n",
       "18          3732.000000        12.000000             83.666667   \n",
       "19          5280.000000       127.000000            328.000000   \n",
       "20          2376.343750       801.083333            459.666667   \n",
       "21          2671.200000       145.000000            162.333333   \n",
       "22          2181.142857         0.000000              9.000000   \n",
       "23          2651.447368         0.000000             24.000000   \n",
       "\n",
       "    Score_wnews_top  Komentarji_wnews_top  \n",
       "0       6685.000000           4225.391304  \n",
       "1       6461.321429           3291.821429  \n",
       "2       7097.750000           1965.625000  \n",
       "3       6198.125000           2402.875000  \n",
       "4       6652.111111           3714.222222  \n",
       "5       6047.285714           2420.142857  \n",
       "6       6003.000000            738.000000  \n",
       "7       6185.666667           3117.666667  \n",
       "8       8866.000000           6151.000000  \n",
       "9       5783.000000           1558.000000  \n",
       "10      6549.346154           2818.692308  \n",
       "11      6586.000000           1510.000000  \n",
       "12      6374.000000           4043.000000  \n",
       "13      7471.000000           2794.500000  \n",
       "14      6086.750000           2769.375000  \n",
       "15      6549.000000           2611.000000  \n",
       "16      6124.066667           3415.400000  \n",
       "17      6245.937500           3654.250000  \n",
       "18      5924.666667           2609.666667  \n",
       "19      6562.333333           3725.333333  \n",
       "20      6587.096154           2732.557692  \n",
       "21      6295.333333           2741.666667  \n",
       "22      6937.000000           3002.500000  \n",
       "23      6253.142857           2728.928571  "
      ]
     },
     "execution_count": 378,
     "metadata": {},
     "output_type": "execute_result"
    }
   ],
   "source": [
    "vsi_viri"
   ]
  },
  {
   "cell_type": "markdown",
   "metadata": {},
   "source": [
    "#### Kateri vir je najboljši v kateri posamezni kategoriji?"
   ]
  },
  {
   "cell_type": "code",
   "execution_count": 360,
   "metadata": {
    "collapsed": false,
    "scrolled": true
   },
   "outputs": [
    {
     "data": {
      "text/html": [
       "<div>\n",
       "<table border=\"1\" class=\"dataframe\">\n",
       "  <thead>\n",
       "    <tr style=\"text-align: right;\">\n",
       "      <th></th>\n",
       "      <th>Vir</th>\n",
       "      <th>Score</th>\n",
       "      <th>Komentarji</th>\n",
       "    </tr>\n",
       "  </thead>\n",
       "  <tbody>\n",
       "    <tr>\n",
       "      <th>84</th>\n",
       "      <td>fox26houston.com</td>\n",
       "      <td>4313</td>\n",
       "      <td>5955</td>\n",
       "    </tr>\n",
       "  </tbody>\n",
       "</table>\n",
       "</div>"
      ],
      "text/plain": [
       "                 Vir  Score  Komentarji\n",
       "84  fox26houston.com   4313        5955"
      ]
     },
     "execution_count": 360,
     "metadata": {},
     "output_type": "execute_result"
    }
   ],
   "source": [
    "#najpopularnejsi v r/news kontraverzno\n",
    "news_con_viri.mean().sort_values(['Score','Komentarji'],ascending=False)[0:1]"
   ]
  },
  {
   "cell_type": "code",
   "execution_count": 361,
   "metadata": {
    "collapsed": false
   },
   "outputs": [
    {
     "data": {
      "text/html": [
       "<div>\n",
       "<table border=\"1\" class=\"dataframe\">\n",
       "  <thead>\n",
       "    <tr style=\"text-align: right;\">\n",
       "      <th></th>\n",
       "      <th>Naslov</th>\n",
       "      <th>Score</th>\n",
       "      <th>Komentarji</th>\n",
       "      <th>Vir</th>\n",
       "    </tr>\n",
       "  </thead>\n",
       "  <tbody>\n",
       "    <tr>\n",
       "      <th>467</th>\n",
       "      <td>US Marshals arresting people for not paying their federal student loans</td>\n",
       "      <td>4313</td>\n",
       "      <td>5955</td>\n",
       "      <td>fox26houston.com</td>\n",
       "    </tr>\n",
       "  </tbody>\n",
       "</table>\n",
       "</div>"
      ],
      "text/plain": [
       "                                                                      Naslov  \\\n",
       "467  US Marshals arresting people for not paying their federal student loans   \n",
       "\n",
       "     Score  Komentarji               Vir  \n",
       "467   4313        5955  fox26houston.com  "
      ]
     },
     "execution_count": 361,
     "metadata": {},
     "output_type": "execute_result"
    }
   ],
   "source": [
    "#Kakšne novice ima?\n",
    "news_con[news_con['Vir']=='fox26houston.com']"
   ]
  },
  {
   "cell_type": "code",
   "execution_count": 362,
   "metadata": {
    "collapsed": false,
    "scrolled": false
   },
   "outputs": [
    {
     "data": {
      "text/html": [
       "<div>\n",
       "<table border=\"1\" class=\"dataframe\">\n",
       "  <thead>\n",
       "    <tr style=\"text-align: right;\">\n",
       "      <th></th>\n",
       "      <th>Vir</th>\n",
       "      <th>Score</th>\n",
       "      <th>Komentarji</th>\n",
       "    </tr>\n",
       "  </thead>\n",
       "  <tbody>\n",
       "    <tr>\n",
       "      <th>131</th>\n",
       "      <td>ktul.com</td>\n",
       "      <td>9709</td>\n",
       "      <td>3607</td>\n",
       "    </tr>\n",
       "  </tbody>\n",
       "</table>\n",
       "</div>"
      ],
      "text/plain": [
       "          Vir  Score  Komentarji\n",
       "131  ktul.com   9709        3607"
      ]
     },
     "execution_count": 362,
     "metadata": {},
     "output_type": "execute_result"
    }
   ],
   "source": [
    "#najpopularnejsi v r/news najboljse \n",
    "news_top_viri.mean().sort_values(['Score','Komentarji'],ascending=False)[0:1]"
   ]
  },
  {
   "cell_type": "code",
   "execution_count": 363,
   "metadata": {
    "collapsed": false
   },
   "outputs": [
    {
     "data": {
      "text/html": [
       "<div>\n",
       "<table border=\"1\" class=\"dataframe\">\n",
       "  <thead>\n",
       "    <tr style=\"text-align: right;\">\n",
       "      <th></th>\n",
       "      <th>Naslov</th>\n",
       "      <th>Score</th>\n",
       "      <th>Komentarji</th>\n",
       "      <th>Vir</th>\n",
       "    </tr>\n",
       "  </thead>\n",
       "  <tbody>\n",
       "    <tr>\n",
       "      <th>1</th>\n",
       "      <td>Cop stops influential business man for DUI. While on scene he receives a call from local leader to let the man go and the city manager even shows up on scene. The cop refuses and proceeds with the arrest, now the cop and his superior are being threatened with loss of their jobs.</td>\n",
       "      <td>9709</td>\n",
       "      <td>3607</td>\n",
       "      <td>ktul.com</td>\n",
       "    </tr>\n",
       "  </tbody>\n",
       "</table>\n",
       "</div>"
      ],
      "text/plain": [
       "                                                                                                                                                                                                                                                                                    Naslov  \\\n",
       "1  Cop stops influential business man for DUI. While on scene he receives a call from local leader to let the man go and the city manager even shows up on scene. The cop refuses and proceeds with the arrest, now the cop and his superior are being threatened with loss of their jobs.   \n",
       "\n",
       "   Score  Komentarji       Vir  \n",
       "1   9709        3607  ktul.com  "
      ]
     },
     "execution_count": 363,
     "metadata": {},
     "output_type": "execute_result"
    }
   ],
   "source": [
    "#Kakšne novice ima?\n",
    "news_top[news_top['Vir']=='ktul.com']"
   ]
  },
  {
   "cell_type": "code",
   "execution_count": 364,
   "metadata": {
    "collapsed": false
   },
   "outputs": [
    {
     "data": {
      "text/html": [
       "<div>\n",
       "<table border=\"1\" class=\"dataframe\">\n",
       "  <thead>\n",
       "    <tr style=\"text-align: right;\">\n",
       "      <th></th>\n",
       "      <th>Vir</th>\n",
       "      <th>Score</th>\n",
       "      <th>Komentarji</th>\n",
       "    </tr>\n",
       "  </thead>\n",
       "  <tbody>\n",
       "    <tr>\n",
       "      <th>233</th>\n",
       "      <td>techinsider.io</td>\n",
       "      <td>3194</td>\n",
       "      <td>989</td>\n",
       "    </tr>\n",
       "  </tbody>\n",
       "</table>\n",
       "</div>"
      ],
      "text/plain": [
       "                Vir  Score  Komentarji\n",
       "233  techinsider.io   3194         989"
      ]
     },
     "execution_count": 364,
     "metadata": {},
     "output_type": "execute_result"
    }
   ],
   "source": [
    "#najpopularnejsi v r/wnews kontraverzno\n",
    "wnews_con_viri.mean().sort_values(['Score','Komentarji'],ascending=False)[0:1]"
   ]
  },
  {
   "cell_type": "code",
   "execution_count": 365,
   "metadata": {
    "collapsed": false
   },
   "outputs": [
    {
     "data": {
      "text/html": [
       "<div>\n",
       "<table border=\"1\" class=\"dataframe\">\n",
       "  <thead>\n",
       "    <tr style=\"text-align: right;\">\n",
       "      <th></th>\n",
       "      <th>Naslov</th>\n",
       "      <th>Score</th>\n",
       "      <th>Komentarji</th>\n",
       "      <th>Vir</th>\n",
       "    </tr>\n",
       "  </thead>\n",
       "  <tbody>\n",
       "    <tr>\n",
       "      <th>553</th>\n",
       "      <td>Oslo just declared that it will become the first major city to ban cars</td>\n",
       "      <td>3194</td>\n",
       "      <td>989</td>\n",
       "      <td>techinsider.io</td>\n",
       "    </tr>\n",
       "  </tbody>\n",
       "</table>\n",
       "</div>"
      ],
      "text/plain": [
       "                                                                      Naslov  \\\n",
       "553  Oslo just declared that it will become the first major city to ban cars   \n",
       "\n",
       "     Score  Komentarji             Vir  \n",
       "553   3194         989  techinsider.io  "
      ]
     },
     "execution_count": 365,
     "metadata": {},
     "output_type": "execute_result"
    }
   ],
   "source": [
    "#Kakšne novice ima?\n",
    "wnews_con[wnews_con['Vir']=='techinsider.io']"
   ]
  },
  {
   "cell_type": "code",
   "execution_count": 366,
   "metadata": {
    "collapsed": false,
    "scrolled": true
   },
   "outputs": [
    {
     "data": {
      "text/html": [
       "<div>\n",
       "<table border=\"1\" class=\"dataframe\">\n",
       "  <thead>\n",
       "    <tr style=\"text-align: right;\">\n",
       "      <th></th>\n",
       "      <th>Vir</th>\n",
       "      <th>Score</th>\n",
       "      <th>Komentarji</th>\n",
       "    </tr>\n",
       "  </thead>\n",
       "  <tbody>\n",
       "    <tr>\n",
       "      <th>42</th>\n",
       "      <td>digitaljournal.com</td>\n",
       "      <td>13632.5</td>\n",
       "      <td>2521</td>\n",
       "    </tr>\n",
       "  </tbody>\n",
       "</table>\n",
       "</div>"
      ],
      "text/plain": [
       "                   Vir    Score  Komentarji\n",
       "42  digitaljournal.com  13632.5        2521"
      ]
     },
     "execution_count": 366,
     "metadata": {},
     "output_type": "execute_result"
    }
   ],
   "source": [
    "#najpopularnejsi v r/wnews najboljse \n",
    "wnews_top_viri.mean().sort_values(['Score','Komentarji'],ascending=False)[0:1]"
   ]
  },
  {
   "cell_type": "code",
   "execution_count": 367,
   "metadata": {
    "collapsed": false,
    "scrolled": true
   },
   "outputs": [
    {
     "data": {
      "text/html": [
       "<div>\n",
       "<table border=\"1\" class=\"dataframe\">\n",
       "  <thead>\n",
       "    <tr style=\"text-align: right;\">\n",
       "      <th></th>\n",
       "      <th>Naslov</th>\n",
       "      <th>Score</th>\n",
       "      <th>Komentarji</th>\n",
       "      <th>Vir</th>\n",
       "    </tr>\n",
       "  </thead>\n",
       "  <tbody>\n",
       "    <tr>\n",
       "      <th>0</th>\n",
       "      <td>A biotech startup has managed to 3-D print fake rhino horns that carry the same genetic fingerprint as the actual horn. The company plans to flood Chinese rhino horn market at one-eighth of the price of the original, undercutting the price poachers can get and forcing them out eventually.</td>\n",
       "      <td>21250</td>\n",
       "      <td>3876</td>\n",
       "      <td>digitaljournal.com</td>\n",
       "    </tr>\n",
       "    <tr>\n",
       "      <th>343</th>\n",
       "      <td>Indonesia is planning to build a prison island guarded by meat-hungry crocodiles for drug convicts. The reason for using the deadly reptiles as prison guards is that crocodiles cannot be bribed unlike human guards.</td>\n",
       "      <td>6015</td>\n",
       "      <td>1166</td>\n",
       "      <td>digitaljournal.com</td>\n",
       "    </tr>\n",
       "  </tbody>\n",
       "</table>\n",
       "</div>"
      ],
      "text/plain": [
       "                                                                                                                                                                                                                                                                                                Naslov  \\\n",
       "0    A biotech startup has managed to 3-D print fake rhino horns that carry the same genetic fingerprint as the actual horn. The company plans to flood Chinese rhino horn market at one-eighth of the price of the original, undercutting the price poachers can get and forcing them out eventually.   \n",
       "343                                                                             Indonesia is planning to build a prison island guarded by meat-hungry crocodiles for drug convicts. The reason for using the deadly reptiles as prison guards is that crocodiles cannot be bribed unlike human guards.   \n",
       "\n",
       "     Score  Komentarji                 Vir  \n",
       "0    21250        3876  digitaljournal.com  \n",
       "343   6015        1166  digitaljournal.com  "
      ]
     },
     "execution_count": 367,
     "metadata": {},
     "output_type": "execute_result"
    }
   ],
   "source": [
    "#Kakšne novice ima?\n",
    "wnews_top[wnews_top['Vir']=='digitaljournal.com']"
   ]
  },
  {
   "cell_type": "markdown",
   "metadata": {},
   "source": [
    "Kateri pa je najbolj popularen vir vseh novic?"
   ]
  },
  {
   "cell_type": "code",
   "execution_count": 368,
   "metadata": {
    "collapsed": false,
    "scrolled": true
   },
   "outputs": [
    {
     "data": {
      "text/html": [
       "<div>\n",
       "<table border=\"1\" class=\"dataframe\">\n",
       "  <thead>\n",
       "    <tr style=\"text-align: right;\">\n",
       "      <th></th>\n",
       "      <th>Score</th>\n",
       "      <th>Komentarji</th>\n",
       "    </tr>\n",
       "    <tr>\n",
       "      <th>Vir</th>\n",
       "      <th></th>\n",
       "      <th></th>\n",
       "    </tr>\n",
       "  </thead>\n",
       "  <tbody>\n",
       "    <tr>\n",
       "      <th>sydneycriminallawyers.com.au</th>\n",
       "      <td>12334</td>\n",
       "      <td>1978</td>\n",
       "    </tr>\n",
       "  </tbody>\n",
       "</table>\n",
       "</div>"
      ],
      "text/plain": [
       "                              Score  Komentarji\n",
       "Vir                                            \n",
       "sydneycriminallawyers.com.au  12334        1978"
      ]
     },
     "execution_count": 368,
     "metadata": {},
     "output_type": "execute_result"
    }
   ],
   "source": [
    "vse_novice_viri.mean().sort_values(['Score','Komentarji'],ascending=False)[0:1]"
   ]
  },
  {
   "cell_type": "code",
   "execution_count": 369,
   "metadata": {
    "collapsed": false,
    "scrolled": false
   },
   "outputs": [
    {
     "data": {
      "text/html": [
       "<div>\n",
       "<table border=\"1\" class=\"dataframe\">\n",
       "  <thead>\n",
       "    <tr style=\"text-align: right;\">\n",
       "      <th></th>\n",
       "      <th>Naslov</th>\n",
       "      <th>Score</th>\n",
       "      <th>Komentarji</th>\n",
       "      <th>Vir</th>\n",
       "    </tr>\n",
       "  </thead>\n",
       "  <tbody>\n",
       "    <tr>\n",
       "      <th>2</th>\n",
       "      <td>The police officer who leaked the footage of the surfers paradise police brutality, where the victims blood was washed away by officers, has been criminally charged for bringing it to the publics view. Officers who did the bashing get nothing.</td>\n",
       "      <td>12334</td>\n",
       "      <td>1978</td>\n",
       "      <td>sydneycriminallawyers.com.au</td>\n",
       "    </tr>\n",
       "  </tbody>\n",
       "</table>\n",
       "</div>"
      ],
      "text/plain": [
       "                                                                                                                                                                                                                                                Naslov  \\\n",
       "2  The police officer who leaked the footage of the surfers paradise police brutality, where the victims blood was washed away by officers, has been criminally charged for bringing it to the publics view. Officers who did the bashing get nothing.   \n",
       "\n",
       "   Score  Komentarji                           Vir  \n",
       "2  12334        1978  sydneycriminallawyers.com.au  "
      ]
     },
     "execution_count": 369,
     "metadata": {},
     "output_type": "execute_result"
    }
   ],
   "source": [
    "#Zakaj? Poglejmo si novice tega vira.\n",
    "vse_novice[vse_novice['Vir'] =='sydneycriminallawyers.com.au'].sort_values('Score', ascending=False).head()"
   ]
  },
  {
   "cell_type": "markdown",
   "metadata": {},
   "source": [
    "Vsak najbolje ocenjen vir (iz posamezne kategorije in nasplošno) ima po eno novico (razen digitaljournal.com, ki ima 2). Pojavitev ene same novice enostavno pojasnii visoko povprečje novice, saj nobena slabše ocenjena novica ne pokvari povprečja kot pri virih z več novicami."
   ]
  },
  {
   "cell_type": "markdown",
   "metadata": {},
   "source": [
    "#### Kateri vir najbolj odstopa?"
   ]
  },
  {
   "cell_type": "code",
   "execution_count": 379,
   "metadata": {
    "collapsed": false
   },
   "outputs": [],
   "source": [
    "povprecje_kategorij=vsi_viri.mean()\n",
    "seznam_kategorij=list (povprecje_kategorij.reset_index()['index'])"
   ]
  },
  {
   "cell_type": "code",
   "execution_count": 380,
   "metadata": {
    "collapsed": false
   },
   "outputs": [],
   "source": [
    "#relativne ocene in komentarji posameznega vira za vsako kategorijo\n",
    "for i in seznam_kategorij:\n",
    "    vsi_viri['{0}'.format(i)] = vsi_viri['{0}'.format(i)]/(vsi_viri.mean()['{0}'.format(i)])"
   ]
  },
  {
   "cell_type": "code",
   "execution_count": 381,
   "metadata": {
    "collapsed": false,
    "scrolled": true
   },
   "outputs": [],
   "source": [
    "#seštejem razlike\n",
    "vsi_viri['rel']=sum([vsi_viri['{0}'.format(i)] for i in seznam_kategorij])/len(seznam_kategorij)"
   ]
  },
  {
   "cell_type": "code",
   "execution_count": 382,
   "metadata": {
    "collapsed": false
   },
   "outputs": [
    {
     "data": {
      "text/plain": [
       "Score_news_con           192.124173\n",
       "Komentarji_news_con      211.512211\n",
       "Score_news_top          6043.907964\n",
       "Komentarji_news_top     3372.475076\n",
       "Score_wnews_con          545.898807\n",
       "Komentarji_wnews_con    1087.222632\n",
       "Score_wnews_top         6521.872191\n",
       "Komentarji_wnews_top    2947.567280\n",
       "dtype: float64"
      ]
     },
     "execution_count": 382,
     "metadata": {},
     "output_type": "execute_result"
    }
   ],
   "source": [
    "povprecje_kategorij"
   ]
  },
  {
   "cell_type": "code",
   "execution_count": 387,
   "metadata": {
    "collapsed": false,
    "scrolled": false
   },
   "outputs": [
    {
     "data": {
      "text/html": [
       "<div>\n",
       "<table border=\"1\" class=\"dataframe\">\n",
       "  <thead>\n",
       "    <tr style=\"text-align: right;\">\n",
       "      <th></th>\n",
       "      <th>Vir</th>\n",
       "      <th>rel</th>\n",
       "    </tr>\n",
       "  </thead>\n",
       "  <tbody>\n",
       "    <tr>\n",
       "      <th>7</th>\n",
       "      <td>foxnews.com</td>\n",
       "      <td>2.083079</td>\n",
       "    </tr>\n",
       "    <tr>\n",
       "      <th>10</th>\n",
       "      <td>independent.co.uk</td>\n",
       "      <td>1.780907</td>\n",
       "    </tr>\n",
       "    <tr>\n",
       "      <th>16</th>\n",
       "      <td>nytimes.com</td>\n",
       "      <td>1.734095</td>\n",
       "    </tr>\n",
       "    <tr>\n",
       "      <th>21</th>\n",
       "      <td>time.com</td>\n",
       "      <td>1.672553</td>\n",
       "    </tr>\n",
       "    <tr>\n",
       "      <th>4</th>\n",
       "      <td>cbc.ca</td>\n",
       "      <td>1.658536</td>\n",
       "    </tr>\n",
       "  </tbody>\n",
       "</table>\n",
       "</div>"
      ],
      "text/plain": [
       "                  Vir       rel\n",
       "7         foxnews.com  2.083079\n",
       "10  independent.co.uk  1.780907\n",
       "16        nytimes.com  1.734095\n",
       "21           time.com  1.672553\n",
       "4              cbc.ca  1.658536"
      ]
     },
     "execution_count": 387,
     "metadata": {},
     "output_type": "execute_result"
    }
   ],
   "source": [
    "#poglejmo si 5 virov z največjo razliko\n",
    "vsi_viri[['Vir','rel']].sort_values(by='rel',ascending=False).head()"
   ]
  },
  {
   "cell_type": "markdown",
   "metadata": {},
   "source": [
    "Oglejmo si podatke vira foxnews.com "
   ]
  },
  {
   "cell_type": "code",
   "execution_count": 389,
   "metadata": {
    "collapsed": false
   },
   "outputs": [
    {
     "data": {
      "text/html": [
       "<div>\n",
       "<table border=\"1\" class=\"dataframe\">\n",
       "  <thead>\n",
       "    <tr style=\"text-align: right;\">\n",
       "      <th></th>\n",
       "      <th>Vir</th>\n",
       "      <th>Score_news_con</th>\n",
       "      <th>Komentarji_news_con</th>\n",
       "      <th>Score_news_top</th>\n",
       "      <th>Komentarji_news_top</th>\n",
       "      <th>Score_wnews_con</th>\n",
       "      <th>Komentarji_wnews_con</th>\n",
       "      <th>Score_wnews_top</th>\n",
       "      <th>Komentarji_wnews_top</th>\n",
       "      <th>rel</th>\n",
       "    </tr>\n",
       "  </thead>\n",
       "  <tbody>\n",
       "    <tr>\n",
       "      <th>7</th>\n",
       "      <td>foxnews.com</td>\n",
       "      <td>0.101125</td>\n",
       "      <td>0.400292</td>\n",
       "      <td>0.950089</td>\n",
       "      <td>0.85842</td>\n",
       "      <td>3.579418</td>\n",
       "      <td>8.769133</td>\n",
       "      <td>0.94845</td>\n",
       "      <td>1.057708</td>\n",
       "      <td>2.083079</td>\n",
       "    </tr>\n",
       "  </tbody>\n",
       "</table>\n",
       "</div>"
      ],
      "text/plain": [
       "           Vir  Score_news_con  Komentarji_news_con  Score_news_top  \\\n",
       "7  foxnews.com        0.101125             0.400292        0.950089   \n",
       "\n",
       "   Komentarji_news_top  Score_wnews_con  Komentarji_wnews_con  \\\n",
       "7              0.85842         3.579418              8.769133   \n",
       "\n",
       "   Score_wnews_top  Komentarji_wnews_top       rel  \n",
       "7          0.94845              1.057708  2.083079  "
      ]
     },
     "execution_count": 389,
     "metadata": {},
     "output_type": "execute_result"
    }
   ],
   "source": [
    "vsi_viri[vsi_viri['Vir']=='foxnews.com']"
   ]
  },
  {
   "cell_type": "code",
   "execution_count": 385,
   "metadata": {
    "collapsed": false,
    "scrolled": true
   },
   "outputs": [
    {
     "data": {
      "text/html": [
       "<div>\n",
       "<table border=\"1\" class=\"dataframe\">\n",
       "  <thead>\n",
       "    <tr style=\"text-align: right;\">\n",
       "      <th></th>\n",
       "      <th>Vir</th>\n",
       "      <th>Score_news_con</th>\n",
       "      <th>Komentarji_news_con</th>\n",
       "      <th>Score_news_top</th>\n",
       "      <th>Komentarji_news_top</th>\n",
       "      <th>Score_wnews_con</th>\n",
       "      <th>Komentarji_wnews_con</th>\n",
       "      <th>Score_wnews_top</th>\n",
       "      <th>Komentarji_wnews_top</th>\n",
       "      <th>rel</th>\n",
       "    </tr>\n",
       "  </thead>\n",
       "  <tbody>\n",
       "  </tbody>\n",
       "</table>\n",
       "</div>"
      ],
      "text/plain": [
       "Empty DataFrame\n",
       "Columns: [Vir, Score_news_con, Komentarji_news_con, Score_news_top, Komentarji_news_top, Score_wnews_con, Komentarji_wnews_con, Score_wnews_top, Komentarji_wnews_top, rel]\n",
       "Index: []"
      ]
     },
     "execution_count": 385,
     "metadata": {},
     "output_type": "execute_result"
    }
   ],
   "source": [
    "vsi_viri[vsi_viri['Vir']=='nj.com']"
   ]
  },
  {
   "cell_type": "code",
   "execution_count": 386,
   "metadata": {
    "collapsed": false
   },
   "outputs": [
    {
     "data": {
      "text/html": [
       "<div>\n",
       "<table border=\"1\" class=\"dataframe\">\n",
       "  <thead>\n",
       "    <tr style=\"text-align: right;\">\n",
       "      <th></th>\n",
       "      <th>Vir</th>\n",
       "      <th>Score_news_con</th>\n",
       "      <th>Komentarji_news_con</th>\n",
       "      <th>Score_news_top</th>\n",
       "      <th>Komentarji_news_top</th>\n",
       "      <th>Score_wnews_con</th>\n",
       "      <th>Komentarji_wnews_con</th>\n",
       "      <th>Score_wnews_top</th>\n",
       "      <th>Komentarji_wnews_top</th>\n",
       "      <th>rel</th>\n",
       "    </tr>\n",
       "  </thead>\n",
       "  <tbody>\n",
       "  </tbody>\n",
       "</table>\n",
       "</div>"
      ],
      "text/plain": [
       "Empty DataFrame\n",
       "Columns: [Vir, Score_news_con, Komentarji_news_con, Score_news_top, Komentarji_news_top, Score_wnews_con, Komentarji_wnews_con, Score_wnews_top, Komentarji_wnews_top, rel]\n",
       "Index: []"
      ]
     },
     "execution_count": 386,
     "metadata": {},
     "output_type": "execute_result"
    }
   ],
   "source": [
    "vsi_viri[vsi_viri['Vir']=='money.cnn.com']"
   ]
  },
  {
   "cell_type": "code",
   "execution_count": null,
   "metadata": {
    "collapsed": true
   },
   "outputs": [],
   "source": []
  },
  {
   "cell_type": "code",
   "execution_count": 247,
   "metadata": {
    "collapsed": false
   },
   "outputs": [
    {
     "data": {
      "text/html": [
       "<div>\n",
       "<table border=\"1\" class=\"dataframe\">\n",
       "  <thead>\n",
       "    <tr style=\"text-align: right;\">\n",
       "      <th></th>\n",
       "      <th>Vir</th>\n",
       "      <th>rel</th>\n",
       "    </tr>\n",
       "  </thead>\n",
       "  <tbody>\n",
       "    <tr>\n",
       "      <th>46</th>\n",
       "      <td>nbcnewyork.com</td>\n",
       "      <td>0.310279</td>\n",
       "    </tr>\n",
       "    <tr>\n",
       "      <th>50</th>\n",
       "      <td>newscientist.com</td>\n",
       "      <td>0.317963</td>\n",
       "    </tr>\n",
       "    <tr>\n",
       "      <th>68</th>\n",
       "      <td>thesource.com</td>\n",
       "      <td>0.347984</td>\n",
       "    </tr>\n",
       "    <tr>\n",
       "      <th>20</th>\n",
       "      <td>digitaljournal.com</td>\n",
       "      <td>0.375458</td>\n",
       "    </tr>\n",
       "    <tr>\n",
       "      <th>47</th>\n",
       "      <td>nbcwashington.com</td>\n",
       "      <td>0.383512</td>\n",
       "    </tr>\n",
       "  </tbody>\n",
       "</table>\n",
       "</div>"
      ],
      "text/plain": [
       "                   Vir       rel\n",
       "46      nbcnewyork.com  0.310279\n",
       "50    newscientist.com  0.317963\n",
       "68       thesource.com  0.347984\n",
       "20  digitaljournal.com  0.375458\n",
       "47   nbcwashington.com  0.383512"
      ]
     },
     "execution_count": 247,
     "metadata": {},
     "output_type": "execute_result"
    }
   ],
   "source": [
    "#poglejmo si 5 virov z najmanjšo razliko\n",
    "vsi_viri[['Vir','rel']].sort_values(by='rel').head()"
   ]
  },
  {
   "cell_type": "markdown",
   "metadata": {},
   "source": [
    "Kateri vir ima najboljše povprečje ocen?"
   ]
  },
  {
   "cell_type": "code",
   "execution_count": 248,
   "metadata": {
    "collapsed": false,
    "scrolled": true
   },
   "outputs": [
    {
     "data": {
      "text/html": [
       "<div>\n",
       "<table border=\"1\" class=\"dataframe\">\n",
       "  <thead>\n",
       "    <tr style=\"text-align: right;\">\n",
       "      <th></th>\n",
       "      <th>Score</th>\n",
       "      <th>Komentarji</th>\n",
       "    </tr>\n",
       "    <tr>\n",
       "      <th>Vir</th>\n",
       "      <th></th>\n",
       "      <th></th>\n",
       "    </tr>\n",
       "  </thead>\n",
       "  <tbody>\n",
       "    <tr>\n",
       "      <th>sydneycriminallawyers.com.au</th>\n",
       "      <td>12334</td>\n",
       "      <td>1978</td>\n",
       "    </tr>\n",
       "  </tbody>\n",
       "</table>\n",
       "</div>"
      ],
      "text/plain": [
       "                              Score  Komentarji\n",
       "Vir                                            \n",
       "sydneycriminallawyers.com.au  12334        1978"
      ]
     },
     "execution_count": 248,
     "metadata": {},
     "output_type": "execute_result"
    }
   ],
   "source": [
    "vse_novice.groupby(['Vir']).mean().sort_values('Score',ascending=False).head(n=1)"
   ]
  },
  {
   "cell_type": "code",
   "execution_count": 390,
   "metadata": {
    "collapsed": false,
    "scrolled": true
   },
   "outputs": [
    {
     "data": {
      "text/html": [
       "<div>\n",
       "<table border=\"1\" class=\"dataframe\">\n",
       "  <thead>\n",
       "    <tr style=\"text-align: right;\">\n",
       "      <th></th>\n",
       "      <th>Naslov</th>\n",
       "      <th>Score</th>\n",
       "      <th>Komentarji</th>\n",
       "      <th>Vir</th>\n",
       "    </tr>\n",
       "  </thead>\n",
       "  <tbody>\n",
       "    <tr>\n",
       "      <th>2</th>\n",
       "      <td>The police officer who leaked the footage of the surfers paradise police brutality, where the victims blood was washed away by officers, has been criminally charged for bringing it to the publics view. Officers who did the bashing get nothing.</td>\n",
       "      <td>12334</td>\n",
       "      <td>1978</td>\n",
       "      <td>sydneycriminallawyers.com.au</td>\n",
       "    </tr>\n",
       "  </tbody>\n",
       "</table>\n",
       "</div>"
      ],
      "text/plain": [
       "                                                                                                                                                                                                                                                Naslov  \\\n",
       "2  The police officer who leaked the footage of the surfers paradise police brutality, where the victims blood was washed away by officers, has been criminally charged for bringing it to the publics view. Officers who did the bashing get nothing.   \n",
       "\n",
       "   Score  Komentarji                           Vir  \n",
       "2  12334        1978  sydneycriminallawyers.com.au  "
      ]
     },
     "execution_count": 390,
     "metadata": {},
     "output_type": "execute_result"
    }
   ],
   "source": [
    "#Zakaj? Poglejmo si novice tega vira.\n",
    "vse_novice[vse_novice['Vir'] =='sydneycriminallawyers.com.au'].sort_values('Score', ascending=False).head(n=5)"
   ]
  },
  {
   "cell_type": "markdown",
   "metadata": {},
   "source": [
    "Ugotovimo, da ima samo eno novico. Nima ostalih novic, ki bi znižale povprečje. \n",
    "\n",
    "Kateri vir je najbolj komentiran?"
   ]
  },
  {
   "cell_type": "code",
   "execution_count": 391,
   "metadata": {
    "collapsed": false,
    "scrolled": true
   },
   "outputs": [
    {
     "data": {
      "text/html": [
       "<div>\n",
       "<table border=\"1\" class=\"dataframe\">\n",
       "  <thead>\n",
       "    <tr style=\"text-align: right;\">\n",
       "      <th></th>\n",
       "      <th>Score</th>\n",
       "      <th>Komentarji</th>\n",
       "    </tr>\n",
       "    <tr>\n",
       "      <th>Vir</th>\n",
       "      <th></th>\n",
       "      <th></th>\n",
       "    </tr>\n",
       "  </thead>\n",
       "  <tbody>\n",
       "    <tr>\n",
       "      <th>ktla.com</th>\n",
       "      <td>5823.5</td>\n",
       "      <td>27226</td>\n",
       "    </tr>\n",
       "  </tbody>\n",
       "</table>\n",
       "</div>"
      ],
      "text/plain": [
       "           Score  Komentarji\n",
       "Vir                         \n",
       "ktla.com  5823.5       27226"
      ]
     },
     "execution_count": 391,
     "metadata": {},
     "output_type": "execute_result"
    }
   ],
   "source": [
    "vse_novice.groupby(['Vir']).mean().sort_values('Komentarji',ascending=False).head(n=1)"
   ]
  },
  {
   "cell_type": "code",
   "execution_count": 392,
   "metadata": {
    "collapsed": true
   },
   "outputs": [],
   "source": [
    "#KTLA je vir iz Los Angelesa. Poglejmo si novice tega vira."
   ]
  },
  {
   "cell_type": "code",
   "execution_count": 393,
   "metadata": {
    "collapsed": false
   },
   "outputs": [
    {
     "data": {
      "text/html": [
       "<div>\n",
       "<table border=\"1\" class=\"dataframe\">\n",
       "  <thead>\n",
       "    <tr style=\"text-align: right;\">\n",
       "      <th></th>\n",
       "      <th>Naslov</th>\n",
       "      <th>Score</th>\n",
       "      <th>Komentarji</th>\n",
       "      <th>Vir</th>\n",
       "    </tr>\n",
       "  </thead>\n",
       "  <tbody>\n",
       "    <tr>\n",
       "      <th>198</th>\n",
       "      <td>Authorities Respond to “20 Victim Shooting” Incident in San Bernardino: Fire Dept.</td>\n",
       "      <td>6076</td>\n",
       "      <td>48770</td>\n",
       "      <td>ktla.com</td>\n",
       "    </tr>\n",
       "    <tr>\n",
       "      <th>392</th>\n",
       "      <td>9 Arrested After Black Lives Matter Activists Shut Down Southbound 405 Fwy Near LAX</td>\n",
       "      <td>5571</td>\n",
       "      <td>5682</td>\n",
       "      <td>ktla.com</td>\n",
       "    </tr>\n",
       "  </tbody>\n",
       "</table>\n",
       "</div>"
      ],
      "text/plain": [
       "                                                                                  Naslov  \\\n",
       "198   Authorities Respond to “20 Victim Shooting” Incident in San Bernardino: Fire Dept.   \n",
       "392  9 Arrested After Black Lives Matter Activists Shut Down Southbound 405 Fwy Near LAX   \n",
       "\n",
       "     Score  Komentarji       Vir  \n",
       "198   6076       48770  ktla.com  \n",
       "392   5571        5682  ktla.com  "
      ]
     },
     "execution_count": 393,
     "metadata": {},
     "output_type": "execute_result"
    }
   ],
   "source": [
    "vse_novice[vse_novice['Vir'] =='ktla.com'].sort_values('Score', ascending=False).head(n=5)"
   ]
  },
  {
   "cell_type": "markdown",
   "metadata": {},
   "source": [
    "###Primerjava povprečnih ocen in komentarjev najpogostejših virov, ki se pojavijo v vseh kategorijah"
   ]
  },
  {
   "cell_type": "code",
   "execution_count": 394,
   "metadata": {
    "collapsed": false,
    "scrolled": true
   },
   "outputs": [],
   "source": [
    "#združimo po skupinah najboljše in kontraverzno po virih\n",
    "kontraverznoV=vsi_viri[['Vir','Score_news_con','Komentarji_news_con','Score_wnews_con','Komentarji_wnews_con','rel']]\n",
    "najboljseV=vsi_viri[['Vir','Score_news_top','Komentarji_news_top','Score_wnews_top','Komentarji_wnews_top','rel']]\n",
    "sez_naj10_con=list (naj10_con['Vir'])\n",
    "sez_naj10_top=list (naj10_top['Vir'])"
   ]
  },
  {
   "cell_type": "code",
   "execution_count": 396,
   "metadata": {
    "collapsed": false
   },
   "outputs": [
    {
     "data": {
      "text/html": [
       "<div>\n",
       "<table border=\"1\" class=\"dataframe\">\n",
       "  <thead>\n",
       "    <tr style=\"text-align: right;\">\n",
       "      <th></th>\n",
       "      <th>Vir</th>\n",
       "      <th>Score_news_con</th>\n",
       "      <th>Komentarji_news_con</th>\n",
       "      <th>Score_wnews_con</th>\n",
       "      <th>Komentarji_wnews_con</th>\n",
       "      <th>rel</th>\n",
       "    </tr>\n",
       "  </thead>\n",
       "  <tbody>\n",
       "    <tr>\n",
       "      <th>0</th>\n",
       "      <td>bbc.co.uk</td>\n",
       "      <td>0.015615</td>\n",
       "      <td>0.047954</td>\n",
       "      <td>1.401500</td>\n",
       "      <td>1.130969</td>\n",
       "      <td>1.026725</td>\n",
       "    </tr>\n",
       "    <tr>\n",
       "      <th>7</th>\n",
       "      <td>foxnews.com</td>\n",
       "      <td>0.101125</td>\n",
       "      <td>0.400292</td>\n",
       "      <td>3.579418</td>\n",
       "      <td>8.769133</td>\n",
       "      <td>2.083079</td>\n",
       "    </tr>\n",
       "    <tr>\n",
       "      <th>10</th>\n",
       "      <td>independent.co.uk</td>\n",
       "      <td>2.210376</td>\n",
       "      <td>5.560357</td>\n",
       "      <td>1.594160</td>\n",
       "      <td>0.883904</td>\n",
       "      <td>1.780907</td>\n",
       "    </tr>\n",
       "    <tr>\n",
       "      <th>14</th>\n",
       "      <td>news.yahoo.com</td>\n",
       "      <td>0.125353</td>\n",
       "      <td>0.234423</td>\n",
       "      <td>0.184405</td>\n",
       "      <td>0.260603</td>\n",
       "      <td>0.531902</td>\n",
       "    </tr>\n",
       "    <tr>\n",
       "      <th>16</th>\n",
       "      <td>nytimes.com</td>\n",
       "      <td>6.075498</td>\n",
       "      <td>3.113295</td>\n",
       "      <td>0.362908</td>\n",
       "      <td>0.077363</td>\n",
       "      <td>1.734095</td>\n",
       "    </tr>\n",
       "    <tr>\n",
       "      <th>20</th>\n",
       "      <td>theguardian.com</td>\n",
       "      <td>1.906319</td>\n",
       "      <td>1.176942</td>\n",
       "      <td>1.467458</td>\n",
       "      <td>0.422790</td>\n",
       "      <td>1.073997</td>\n",
       "    </tr>\n",
       "    <tr>\n",
       "      <th>23</th>\n",
       "      <td>washingtonpost.com</td>\n",
       "      <td>2.360453</td>\n",
       "      <td>4.916501</td>\n",
       "      <td>0.000000</td>\n",
       "      <td>0.022075</td>\n",
       "      <td>1.375245</td>\n",
       "    </tr>\n",
       "  </tbody>\n",
       "</table>\n",
       "</div>"
      ],
      "text/plain": [
       "                   Vir  Score_news_con  Komentarji_news_con  Score_wnews_con  \\\n",
       "0            bbc.co.uk        0.015615             0.047954         1.401500   \n",
       "7          foxnews.com        0.101125             0.400292         3.579418   \n",
       "10   independent.co.uk        2.210376             5.560357         1.594160   \n",
       "14      news.yahoo.com        0.125353             0.234423         0.184405   \n",
       "16         nytimes.com        6.075498             3.113295         0.362908   \n",
       "20     theguardian.com        1.906319             1.176942         1.467458   \n",
       "23  washingtonpost.com        2.360453             4.916501         0.000000   \n",
       "\n",
       "    Komentarji_wnews_con       rel  \n",
       "0               1.130969  1.026725  \n",
       "7               8.769133  2.083079  \n",
       "10              0.883904  1.780907  \n",
       "14              0.260603  0.531902  \n",
       "16              0.077363  1.734095  \n",
       "20              0.422790  1.073997  \n",
       "23              0.022075  1.375245  "
      ]
     },
     "execution_count": 396,
     "metadata": {},
     "output_type": "execute_result"
    }
   ],
   "source": [
    "Kontraverzno_pogosti=kontraverznoV[(kontraverznoV['Vir']==sez_naj10_con[0])|\n",
    "              (kontraverznoV['Vir']==sez_naj10_con[1])|\n",
    "              (kontraverznoV['Vir']==sez_naj10_con[2])|\n",
    "              (kontraverznoV['Vir']==sez_naj10_con[3])|\n",
    "              (kontraverznoV['Vir']==sez_naj10_con[4])|\n",
    "              (kontraverznoV['Vir']==sez_naj10_con[5])|\n",
    "              (kontraverznoV['Vir']==sez_naj10_con[6])|\n",
    "              (kontraverznoV['Vir']==sez_naj10_con[7])|\n",
    "              (kontraverznoV['Vir']==sez_naj10_con[8])|\n",
    "              (kontraverznoV['Vir']==sez_naj10_con[9])\n",
    "             ]\n",
    "Kontraverzno_pogosti"
   ]
  },
  {
   "cell_type": "code",
   "execution_count": 397,
   "metadata": {
    "collapsed": true
   },
   "outputs": [
    {
     "data": {
      "text/plain": [
       "<matplotlib.axes._subplots.AxesSubplot at 0x7f92aa20e048>"
      ]
     },
     "execution_count": 397,
     "metadata": {},
     "output_type": "execute_result"
    },
    {
     "data": {
      "image/png": "[encoded data removed]",
      "text/plain": [
       "<matplotlib.figure.Figure at 0x7f92a2896978>"
      ]
     },
     "metadata": {},
     "output_type": "display_data"
    }
   ],
   "source": [
    "#primerjava komentarjev\n",
    "Kontraverzno_pogosti[['Vir','Komentarji_news_con','Komentarji_wnews_con']].plot(x='Vir',kind='barh',stacked=False,figsize=(20,20),fontsize=25)"
   ]
  },
  {
   "cell_type": "code",
   "execution_count": 402,
   "metadata": {
    "collapsed": true
   },
   "outputs": [
    {
     "data": {
      "text/plain": [
       "<matplotlib.axes._subplots.AxesSubplot at 0x7f92a2759e48>"
      ]
     },
     "execution_count": 402,
     "metadata": {},
     "output_type": "execute_result"
    },
    {
     "data": {
      "image/png": "[encoded data removed]",
      "text/plain": [
       "<matplotlib.figure.Figure at 0x7f92a27257f0>"
      ]
     },
     "metadata": {},
     "output_type": "display_data"
    }
   ],
   "source": [
    "#primerjava ocen kontraverzno\n",
    "Kontraverzno_pogosti[['Vir','Score_news_con','Score_wnews_con']].plot(x='Vir',kind='barh',stacked=False,figsize=(20,20),fontsize=25)"
   ]
  },
  {
   "cell_type": "code",
   "execution_count": 399,
   "metadata": {
    "collapsed": false,
    "scrolled": true
   },
   "outputs": [
    {
     "data": {
      "text/html": [
       "<div>\n",
       "<table border=\"1\" class=\"dataframe\">\n",
       "  <thead>\n",
       "    <tr style=\"text-align: right;\">\n",
       "      <th></th>\n",
       "      <th>Vir</th>\n",
       "      <th>Score_news_top</th>\n",
       "      <th>Komentarji_news_top</th>\n",
       "      <th>Score_wnews_top</th>\n",
       "      <th>Komentarji_wnews_top</th>\n",
       "      <th>rel</th>\n",
       "    </tr>\n",
       "  </thead>\n",
       "  <tbody>\n",
       "    <tr>\n",
       "      <th>0</th>\n",
       "      <td>bbc.co.uk</td>\n",
       "      <td>0.935046</td>\n",
       "      <td>2.224182</td>\n",
       "      <td>1.025012</td>\n",
       "      <td>1.433518</td>\n",
       "      <td>1.026725</td>\n",
       "    </tr>\n",
       "    <tr>\n",
       "      <th>1</th>\n",
       "      <td>bbc.com</td>\n",
       "      <td>0.996971</td>\n",
       "      <td>0.946604</td>\n",
       "      <td>0.990716</td>\n",
       "      <td>1.116793</td>\n",
       "      <td>1.554094</td>\n",
       "    </tr>\n",
       "    <tr>\n",
       "      <th>2</th>\n",
       "      <td>bigstory.ap.org</td>\n",
       "      <td>1.098737</td>\n",
       "      <td>0.401881</td>\n",
       "      <td>1.088299</td>\n",
       "      <td>0.666863</td>\n",
       "      <td>0.427666</td>\n",
       "    </tr>\n",
       "    <tr>\n",
       "      <th>10</th>\n",
       "      <td>independent.co.uk</td>\n",
       "      <td>0.966310</td>\n",
       "      <td>1.071659</td>\n",
       "      <td>1.004213</td>\n",
       "      <td>0.956278</td>\n",
       "      <td>1.780907</td>\n",
       "    </tr>\n",
       "    <tr>\n",
       "      <th>12</th>\n",
       "      <td>nbcnews.com</td>\n",
       "      <td>0.930017</td>\n",
       "      <td>1.007902</td>\n",
       "      <td>0.977327</td>\n",
       "      <td>1.371640</td>\n",
       "      <td>1.428020</td>\n",
       "    </tr>\n",
       "    <tr>\n",
       "      <th>14</th>\n",
       "      <td>news.yahoo.com</td>\n",
       "      <td>0.964492</td>\n",
       "      <td>0.613111</td>\n",
       "      <td>0.933283</td>\n",
       "      <td>0.939546</td>\n",
       "      <td>0.531902</td>\n",
       "    </tr>\n",
       "    <tr>\n",
       "      <th>16</th>\n",
       "      <td>nytimes.com</td>\n",
       "      <td>0.987341</td>\n",
       "      <td>1.158635</td>\n",
       "      <td>0.939004</td>\n",
       "      <td>1.158718</td>\n",
       "      <td>1.734095</td>\n",
       "    </tr>\n",
       "    <tr>\n",
       "      <th>17</th>\n",
       "      <td>reuters.com</td>\n",
       "      <td>0.944527</td>\n",
       "      <td>0.659753</td>\n",
       "      <td>0.957691</td>\n",
       "      <td>1.239751</td>\n",
       "      <td>0.942298</td>\n",
       "    </tr>\n",
       "    <tr>\n",
       "      <th>20</th>\n",
       "      <td>theguardian.com</td>\n",
       "      <td>0.976779</td>\n",
       "      <td>0.704629</td>\n",
       "      <td>1.010001</td>\n",
       "      <td>0.927055</td>\n",
       "      <td>1.073997</td>\n",
       "    </tr>\n",
       "    <tr>\n",
       "      <th>23</th>\n",
       "      <td>washingtonpost.com</td>\n",
       "      <td>1.032114</td>\n",
       "      <td>0.786202</td>\n",
       "      <td>0.958796</td>\n",
       "      <td>0.925824</td>\n",
       "      <td>1.375245</td>\n",
       "    </tr>\n",
       "  </tbody>\n",
       "</table>\n",
       "</div>"
      ],
      "text/plain": [
       "                   Vir  Score_news_top  Komentarji_news_top  Score_wnews_top  \\\n",
       "0            bbc.co.uk        0.935046             2.224182         1.025012   \n",
       "1              bbc.com        0.996971             0.946604         0.990716   \n",
       "2      bigstory.ap.org        1.098737             0.401881         1.088299   \n",
       "10   independent.co.uk        0.966310             1.071659         1.004213   \n",
       "12         nbcnews.com        0.930017             1.007902         0.977327   \n",
       "14      news.yahoo.com        0.964492             0.613111         0.933283   \n",
       "16         nytimes.com        0.987341             1.158635         0.939004   \n",
       "17         reuters.com        0.944527             0.659753         0.957691   \n",
       "20     theguardian.com        0.976779             0.704629         1.010001   \n",
       "23  washingtonpost.com        1.032114             0.786202         0.958796   \n",
       "\n",
       "    Komentarji_wnews_top       rel  \n",
       "0               1.433518  1.026725  \n",
       "1               1.116793  1.554094  \n",
       "2               0.666863  0.427666  \n",
       "10              0.956278  1.780907  \n",
       "12              1.371640  1.428020  \n",
       "14              0.939546  0.531902  \n",
       "16              1.158718  1.734095  \n",
       "17              1.239751  0.942298  \n",
       "20              0.927055  1.073997  \n",
       "23              0.925824  1.375245  "
      ]
     },
     "execution_count": 399,
     "metadata": {},
     "output_type": "execute_result"
    }
   ],
   "source": [
    "Najboljse_pogosti=najboljseV[(najboljseV['Vir']==sez_naj10_top[0])|\n",
    "              (najboljseV['Vir']==sez_naj10_top[1])|\n",
    "              (najboljseV['Vir']==sez_naj10_top[2])|\n",
    "              (najboljseV['Vir']==sez_naj10_top[3])|\n",
    "              (najboljseV['Vir']==sez_naj10_top[4])|\n",
    "              (najboljseV['Vir']==sez_naj10_top[5])|\n",
    "              (najboljseV['Vir']==sez_naj10_top[6])|\n",
    "              (najboljseV['Vir']==sez_naj10_top[7])|\n",
    "              (najboljseV['Vir']==sez_naj10_top[8])|\n",
    "              (najboljseV['Vir']==sez_naj10_top[9])]\n",
    "Najboljse_pogosti"
   ]
  },
  {
   "cell_type": "code",
   "execution_count": 401,
   "metadata": {
    "collapsed": true
   },
   "outputs": [
    {
     "data": {
      "text/plain": [
       "<matplotlib.axes._subplots.AxesSubplot at 0x7f92a27b6ba8>"
      ]
     },
     "execution_count": 401,
     "metadata": {},
     "output_type": "execute_result"
    },
    {
     "data": {
      "image/png": "[encoded data removed]",
      "text/plain": [
       "<matplotlib.figure.Figure at 0x7f92a284c978>"
      ]
     },
     "metadata": {},
     "output_type": "display_data"
    }
   ],
   "source": [
    "#primerjava komentarjev najboljse\n",
    "Najboljse_pogosti[['Vir','Komentarji_news_top','Komentarji_wnews_top']].plot(x='Vir',kind='barh',stacked=False,figsize=(20,20),fontsize=25)"
   ]
  },
  {
   "cell_type": "code",
   "execution_count": 404,
   "metadata": {
    "collapsed": false
   },
   "outputs": [
    {
     "data": {
      "text/plain": [
       "<matplotlib.axes._subplots.AxesSubplot at 0x7f92a2704518>"
      ]
     },
     "execution_count": 404,
     "metadata": {},
     "output_type": "execute_result"
    },
    {
     "data": {
      "image/png": "[encoded data removed]",
      "text/plain": [
       "<matplotlib.figure.Figure at 0x7f92a270a9b0>"
      ]
     },
     "metadata": {},
     "output_type": "display_data"
    }
   ],
   "source": [
    "#primerjava ocen najboljse\n",
    "Najboljse_pogosti[['Vir','Score_news_top','Score_wnews_top']].plot(x='Vir',kind='barh',stacked=False,figsize=(20,20),fontsize=25)"
   ]
  },
  {
   "cell_type": "code",
   "execution_count": 30,
   "metadata": {
    "collapsed": false
   },
   "outputs": [
    {
     "data": {
      "text/html": [
       "<div>\n",
       "<table border=\"1\" class=\"dataframe\">\n",
       "  <thead>\n",
       "    <tr style=\"text-align: right;\">\n",
       "      <th></th>\n",
       "      <th>Naslov</th>\n",
       "      <th>Score</th>\n",
       "      <th>Komentarji</th>\n",
       "      <th>Vir</th>\n",
       "    </tr>\n",
       "  </thead>\n",
       "  <tbody>\n",
       "    <tr>\n",
       "      <th>338</th>\n",
       "      <td>Supreme Court legalizes gay marriage</td>\n",
       "      <td>5170</td>\n",
       "      <td>17086</td>\n",
       "      <td>washingtonpost.com</td>\n",
       "    </tr>\n",
       "    <tr>\n",
       "      <th>353</th>\n",
       "      <td>[CNN Money] Ellen Pao resignation petition reaches 150,000 signatures</td>\n",
       "      <td>4604</td>\n",
       "      <td>4511</td>\n",
       "      <td>money.cnn.com</td>\n",
       "    </tr>\n",
       "    <tr>\n",
       "      <th>467</th>\n",
       "      <td>US Marshals arresting people for not paying their federal student loans</td>\n",
       "      <td>4313</td>\n",
       "      <td>5955</td>\n",
       "      <td>fox26houston.com</td>\n",
       "    </tr>\n",
       "    <tr>\n",
       "      <th>377</th>\n",
       "      <td>Danish teen fought off her attacker - now she'll face fine. A 17-year-old girl who was physically and sexually attacked in Sønderborg will herself face charges for using pepper spray to fend off her assailant.</td>\n",
       "      <td>4138</td>\n",
       "      <td>10511</td>\n",
       "      <td>thelocal.dk</td>\n",
       "    </tr>\n",
       "    <tr>\n",
       "      <th>156</th>\n",
       "      <td>Ahmed Mohamed demands $15m compensation and written apology for homemade clock arrest</td>\n",
       "      <td>3711</td>\n",
       "      <td>10919</td>\n",
       "      <td>independent.co.uk</td>\n",
       "    </tr>\n",
       "    <tr>\n",
       "      <th>448</th>\n",
       "      <td>50,000 people sign petition to stop Kanye West from playing Pan Am Games closing ceremony</td>\n",
       "      <td>3569</td>\n",
       "      <td>3210</td>\n",
       "      <td>nme.com</td>\n",
       "    </tr>\n",
       "    <tr>\n",
       "      <th>225</th>\n",
       "      <td>The family of 24-year-old Jessica Ghawi, a victim in the 2012 movie theater shooting in Aurora, Colorado, is faced with more than $200,000 in legal costs after a federal judge ordered them to pay attorney’s fees for four ammunition dealers the family attempted to sue.</td>\n",
       "      <td>3307</td>\n",
       "      <td>4782</td>\n",
       "      <td>nbcbayarea.com</td>\n",
       "    </tr>\n",
       "    <tr>\n",
       "      <th>240</th>\n",
       "      <td>The Powerball winning numbers are in. The numbers are: 8, 27, 34, 4, 19; The Powerball is: 10</td>\n",
       "      <td>3306</td>\n",
       "      <td>4227</td>\n",
       "      <td>nj.com</td>\n",
       "    </tr>\n",
       "  </tbody>\n",
       "</table>\n",
       "</div>"
      ],
      "text/plain": [
       "                                                                                                                                                                                                                                                                           Naslov  \\\n",
       "338                                                                                                                                                                                                                                          Supreme Court legalizes gay marriage   \n",
       "353                                                                                                                                                                                                         [CNN Money] Ellen Pao resignation petition reaches 150,000 signatures   \n",
       "467                                                                                                                                                                                                       US Marshals arresting people for not paying their federal student loans   \n",
       "377                                                             Danish teen fought off her attacker - now she'll face fine. A 17-year-old girl who was physically and sexually attacked in Sønderborg will herself face charges for using pepper spray to fend off her assailant.   \n",
       "156                                                                                                                                                                                         Ahmed Mohamed demands $15m compensation and written apology for homemade clock arrest   \n",
       "448                                                                                                                                                                                     50,000 people sign petition to stop Kanye West from playing Pan Am Games closing ceremony   \n",
       "225  The family of 24-year-old Jessica Ghawi, a victim in the 2012 movie theater shooting in Aurora, Colorado, is faced with more than $200,000 in legal costs after a federal judge ordered them to pay attorney’s fees for four ammunition dealers the family attempted to sue.   \n",
       "240                                                                                                                                                                                 The Powerball winning numbers are in. The numbers are: 8, 27, 34, 4, 19; The Powerball is: 10   \n",
       "\n",
       "     Score  Komentarji                 Vir  \n",
       "338   5170       17086  washingtonpost.com  \n",
       "353   4604        4511       money.cnn.com  \n",
       "467   4313        5955    fox26houston.com  \n",
       "377   4138       10511         thelocal.dk  \n",
       "156   3711       10919   independent.co.uk  \n",
       "448   3569        3210             nme.com  \n",
       "225   3307        4782      nbcbayarea.com  \n",
       "240   3306        4227              nj.com  "
      ]
     },
     "execution_count": 30,
     "metadata": {},
     "output_type": "execute_result"
    }
   ],
   "source": [
    "news_con[(news_con['Score']>3000)&(news_con['Komentarji']>3000)].sort_values(by='Score',ascending=False)"
   ]
  },
  {
   "cell_type": "code",
   "execution_count": 31,
   "metadata": {
    "collapsed": false
   },
   "outputs": [
    {
     "data": {
      "text/html": [
       "<div>\n",
       "<table border=\"1\" class=\"dataframe\">\n",
       "  <thead>\n",
       "    <tr style=\"text-align: right;\">\n",
       "      <th></th>\n",
       "      <th>Naslov</th>\n",
       "      <th>Score</th>\n",
       "      <th>Komentarji</th>\n",
       "      <th>Vir</th>\n",
       "    </tr>\n",
       "  </thead>\n",
       "  <tbody>\n",
       "    <tr>\n",
       "      <th>380</th>\n",
       "      <td>Mercedes-Benz, Honda, Mazda and Mitsubishi have been found to be part of the diesel emission scandal.</td>\n",
       "      <td>4081</td>\n",
       "      <td>2417</td>\n",
       "      <td>theguardian.com</td>\n",
       "    </tr>\n",
       "    <tr>\n",
       "      <th>125</th>\n",
       "      <td>Microsoft co-founder's yacht tears up protected coral reef in Cayman Islands. Paul Allen’s 330ft vessel destroys 80% of reef in protected zone</td>\n",
       "      <td>3610</td>\n",
       "      <td>2398</td>\n",
       "      <td>theguardian.com</td>\n",
       "    </tr>\n",
       "    <tr>\n",
       "      <th>192</th>\n",
       "      <td>Mobs of 'hundreds' of masked men rampage through Stockholm central station beating up refugee children</td>\n",
       "      <td>3339</td>\n",
       "      <td>6268</td>\n",
       "      <td>dailymail.co.uk</td>\n",
       "    </tr>\n",
       "    <tr>\n",
       "      <th>224</th>\n",
       "      <td>One in three Germans say capitalism to blame for poverty, hunger | The survey found that more than 60 percent of Germans believe there is no genuine democracy in their country because industry has too much political influence and that the voice of the voters plays only a subordinate role.</td>\n",
       "      <td>2925</td>\n",
       "      <td>2453</td>\n",
       "      <td>reuters.com</td>\n",
       "    </tr>\n",
       "    <tr>\n",
       "      <th>40</th>\n",
       "      <td>Forty percent of Germans want Merkel to resign over refugee policy</td>\n",
       "      <td>2535</td>\n",
       "      <td>3187</td>\n",
       "      <td>reuters.com</td>\n",
       "    </tr>\n",
       "    <tr>\n",
       "      <th>94</th>\n",
       "      <td>Germany 1 - 0 Argentina. Germany win the 2014 FIFA World Cup!</td>\n",
       "      <td>2461</td>\n",
       "      <td>3934</td>\n",
       "      <td>bbc.com</td>\n",
       "    </tr>\n",
       "    <tr>\n",
       "      <th>326</th>\n",
       "      <td>62% of British public says Israel committing war crimes, as polls show sympathy for Palestinians</td>\n",
       "      <td>2450</td>\n",
       "      <td>2918</td>\n",
       "      <td>middleeastmonitor.com</td>\n",
       "    </tr>\n",
       "    <tr>\n",
       "      <th>454</th>\n",
       "      <td>Taxing the rich is good for the economy, IMF says - Business</td>\n",
       "      <td>2412</td>\n",
       "      <td>4897</td>\n",
       "      <td>cbc.ca</td>\n",
       "    </tr>\n",
       "    <tr>\n",
       "      <th>438</th>\n",
       "      <td>Denmark may soon be the first country in the world to issue a ban on non-therapeutic circumcision of boys. Calls it \"Genital Mutilation\". Meanwhile, Israel tries hard to block changes that are broadly perceived in Europe as a clear step forward in children's human rights.</td>\n",
       "      <td>2410</td>\n",
       "      <td>10659</td>\n",
       "      <td>cphpost.dk</td>\n",
       "    </tr>\n",
       "    <tr>\n",
       "      <th>235</th>\n",
       "      <td>UK: Man jailed for 33 months for pirating ‘Fast &amp;amp; Furious’</td>\n",
       "      <td>2396</td>\n",
       "      <td>3245</td>\n",
       "      <td>rt.com</td>\n",
       "    </tr>\n",
       "    <tr>\n",
       "      <th>217</th>\n",
       "      <td>Pope Francis is TIME’s Person of the Year for 2013</td>\n",
       "      <td>2326</td>\n",
       "      <td>3298</td>\n",
       "      <td>poy.time.com</td>\n",
       "    </tr>\n",
       "  </tbody>\n",
       "</table>\n",
       "</div>"
      ],
      "text/plain": [
       "                                                                                                                                                                                                                                                                                                Naslov  \\\n",
       "380                                                                                                                                                                                              Mercedes-Benz, Honda, Mazda and Mitsubishi have been found to be part of the diesel emission scandal.   \n",
       "125                                                                                                                                                     Microsoft co-founder's yacht tears up protected coral reef in Cayman Islands. Paul Allen’s 330ft vessel destroys 80% of reef in protected zone   \n",
       "192                                                                                                                                                                                             Mobs of 'hundreds' of masked men rampage through Stockholm central station beating up refugee children   \n",
       "224  One in three Germans say capitalism to blame for poverty, hunger | The survey found that more than 60 percent of Germans believe there is no genuine democracy in their country because industry has too much political influence and that the voice of the voters plays only a subordinate role.   \n",
       "40                                                                                                                                                                                                                                  Forty percent of Germans want Merkel to resign over refugee policy   \n",
       "94                                                                                                                                                                                                                                       Germany 1 - 0 Argentina. Germany win the 2014 FIFA World Cup!   \n",
       "326                                                                                                                                                                                                   62% of British public says Israel committing war crimes, as polls show sympathy for Palestinians   \n",
       "454                                                                                                                                                                                                                                       Taxing the rich is good for the economy, IMF says - Business   \n",
       "438                   Denmark may soon be the first country in the world to issue a ban on non-therapeutic circumcision of boys. Calls it \"Genital Mutilation\". Meanwhile, Israel tries hard to block changes that are broadly perceived in Europe as a clear step forward in children's human rights.   \n",
       "235                                                                                                                                                                                                                                     UK: Man jailed for 33 months for pirating ‘Fast &amp; Furious’   \n",
       "217                                                                                                                                                                                                                                                 Pope Francis is TIME’s Person of the Year for 2013   \n",
       "\n",
       "     Score  Komentarji                    Vir  \n",
       "380   4081        2417        theguardian.com  \n",
       "125   3610        2398        theguardian.com  \n",
       "192   3339        6268        dailymail.co.uk  \n",
       "224   2925        2453            reuters.com  \n",
       "40    2535        3187            reuters.com  \n",
       "94    2461        3934                bbc.com  \n",
       "326   2450        2918  middleeastmonitor.com  \n",
       "454   2412        4897                 cbc.ca  \n",
       "438   2410       10659             cphpost.dk  \n",
       "235   2396        3245                 rt.com  \n",
       "217   2326        3298           poy.time.com  "
      ]
     },
     "execution_count": 31,
     "metadata": {},
     "output_type": "execute_result"
    }
   ],
   "source": [
    "wnews_con[(wnews_con['Score']>2300)&(wnews_con['Komentarji']>2300)].sort_values(by='Score',ascending=False)"
   ]
  },
  {
   "cell_type": "code",
   "execution_count": 32,
   "metadata": {
    "collapsed": false
   },
   "outputs": [
    {
     "data": {
      "text/html": [
       "<div>\n",
       "<table border=\"1\" class=\"dataframe\">\n",
       "  <thead>\n",
       "    <tr style=\"text-align: right;\">\n",
       "      <th></th>\n",
       "      <th>Naslov</th>\n",
       "      <th>Score</th>\n",
       "      <th>Komentarji</th>\n",
       "      <th>Vir</th>\n",
       "    </tr>\n",
       "  </thead>\n",
       "  <tbody>\n",
       "    <tr>\n",
       "      <th>31</th>\n",
       "      <td>FCC approves net neutrality rules, reclassifies broadband as a utility</td>\n",
       "      <td>7372</td>\n",
       "      <td>7223</td>\n",
       "      <td>engadget.com</td>\n",
       "    </tr>\n",
       "    <tr>\n",
       "      <th>34</th>\n",
       "      <td>Senior Associate Justice Antonin Scalia found dead at West Texas ranch</td>\n",
       "      <td>7292</td>\n",
       "      <td>13895</td>\n",
       "      <td>mysanantonio.com</td>\n",
       "    </tr>\n",
       "    <tr>\n",
       "      <th>53</th>\n",
       "      <td>9-Year-Old Shot Dead in Ferguson While Sitting in Bed Doing Her Homework</td>\n",
       "      <td>7042</td>\n",
       "      <td>8671</td>\n",
       "      <td>people.com</td>\n",
       "    </tr>\n",
       "    <tr>\n",
       "      <th>75</th>\n",
       "      <td>Reporter &amp;amp; Crew shot on live tv. WDBJ7. Video in comments.</td>\n",
       "      <td>6780</td>\n",
       "      <td>23868</td>\n",
       "      <td>wdbj7.com</td>\n",
       "    </tr>\n",
       "  </tbody>\n",
       "</table>\n",
       "</div>"
      ],
      "text/plain": [
       "                                                                      Naslov  \\\n",
       "31    FCC approves net neutrality rules, reclassifies broadband as a utility   \n",
       "34    Senior Associate Justice Antonin Scalia found dead at West Texas ranch   \n",
       "53  9-Year-Old Shot Dead in Ferguson While Sitting in Bed Doing Her Homework   \n",
       "75            Reporter &amp; Crew shot on live tv. WDBJ7. Video in comments.   \n",
       "\n",
       "    Score  Komentarji               Vir  \n",
       "31   7372        7223      engadget.com  \n",
       "34   7292       13895  mysanantonio.com  \n",
       "53   7042        8671        people.com  \n",
       "75   6780       23868         wdbj7.com  "
      ]
     },
     "execution_count": 32,
     "metadata": {},
     "output_type": "execute_result"
    }
   ],
   "source": [
    "news_top[(news_top['Score']>6500)&(news_top['Komentarji']>6500)].sort_values(by='Score',ascending=False)"
   ]
  },
  {
   "cell_type": "code",
   "execution_count": 33,
   "metadata": {
    "collapsed": false
   },
   "outputs": [
    {
     "data": {
      "text/html": [
       "<div>\n",
       "<table border=\"1\" class=\"dataframe\">\n",
       "  <thead>\n",
       "    <tr style=\"text-align: right;\">\n",
       "      <th></th>\n",
       "      <th>Naslov</th>\n",
       "      <th>Score</th>\n",
       "      <th>Komentarji</th>\n",
       "      <th>Vir</th>\n",
       "    </tr>\n",
       "  </thead>\n",
       "  <tbody>\n",
       "    <tr>\n",
       "      <th>10</th>\n",
       "      <td>'Shootings' reported in central Paris: Reports of shooting and casualties in central Paris</td>\n",
       "      <td>9855</td>\n",
       "      <td>28667</td>\n",
       "      <td>bbc.co.uk</td>\n",
       "    </tr>\n",
       "    <tr>\n",
       "      <th>31</th>\n",
       "      <td>The United States will normalize diplomatic relations with Cuba, open embassy in Havana</td>\n",
       "      <td>8191</td>\n",
       "      <td>7306</td>\n",
       "      <td>thedailybeast.com</td>\n",
       "    </tr>\n",
       "    <tr>\n",
       "      <th>47</th>\n",
       "      <td>Reports of sexual assaults on women across European cities, including Cologne, Hamburg, Zürich, Salzburg, Helsinki during NYE festivities</td>\n",
       "      <td>7834</td>\n",
       "      <td>15149</td>\n",
       "      <td>self.worldnews</td>\n",
       "    </tr>\n",
       "    <tr>\n",
       "      <th>71</th>\n",
       "      <td>China declares war on ISIS after terrorists 'execute Chinese hostage'</td>\n",
       "      <td>7429</td>\n",
       "      <td>7043</td>\n",
       "      <td>mirror.co.uk</td>\n",
       "    </tr>\n",
       "    <tr>\n",
       "      <th>76</th>\n",
       "      <td>Vaping is 95% safer than smoking and could lead to the demise of the traditional cigarette, Public Health England (PHE) has said in the first official recognition that e-cigarettes are less damaging to health than smoking tobacco.</td>\n",
       "      <td>7360</td>\n",
       "      <td>6822</td>\n",
       "      <td>theguardian.com</td>\n",
       "    </tr>\n",
       "    <tr>\n",
       "      <th>123</th>\n",
       "      <td>A group of US Marines foiled a potential terror attack on a French train</td>\n",
       "      <td>6910</td>\n",
       "      <td>6587</td>\n",
       "      <td>uk.businessinsider.com</td>\n",
       "    </tr>\n",
       "    <tr>\n",
       "      <th>151</th>\n",
       "      <td>Canadians elect Liberal majority. Ending Stephen Harpers 9 year rule.</td>\n",
       "      <td>6694</td>\n",
       "      <td>11058</td>\n",
       "      <td>cbc.ca</td>\n",
       "    </tr>\n",
       "    <tr>\n",
       "      <th>178</th>\n",
       "      <td>Bill aiming to ban child marriages shot down in Pakistan as ‘anti-Islamic’ and ‘blasphemous’.</td>\n",
       "      <td>6533</td>\n",
       "      <td>6579</td>\n",
       "      <td>tribune.com.pk</td>\n",
       "    </tr>\n",
       "  </tbody>\n",
       "</table>\n",
       "</div>"
      ],
      "text/plain": [
       "                                                                                                                                                                                                                                     Naslov  \\\n",
       "10                                                                                                                                               'Shootings' reported in central Paris: Reports of shooting and casualties in central Paris   \n",
       "31                                                                                                                                                  The United States will normalize diplomatic relations with Cuba, open embassy in Havana   \n",
       "47                                                                                                Reports of sexual assaults on women across European cities, including Cologne, Hamburg, Zürich, Salzburg, Helsinki during NYE festivities   \n",
       "71                                                                                                                                                                    China declares war on ISIS after terrorists 'execute Chinese hostage'   \n",
       "76   Vaping is 95% safer than smoking and could lead to the demise of the traditional cigarette, Public Health England (PHE) has said in the first official recognition that e-cigarettes are less damaging to health than smoking tobacco.   \n",
       "123                                                                                                                                                                A group of US Marines foiled a potential terror attack on a French train   \n",
       "151                                                                                                                                                                   Canadians elect Liberal majority. Ending Stephen Harpers 9 year rule.   \n",
       "178                                                                                                                                           Bill aiming to ban child marriages shot down in Pakistan as ‘anti-Islamic’ and ‘blasphemous’.   \n",
       "\n",
       "     Score  Komentarji                     Vir  \n",
       "10    9855       28667               bbc.co.uk  \n",
       "31    8191        7306       thedailybeast.com  \n",
       "47    7834       15149          self.worldnews  \n",
       "71    7429        7043            mirror.co.uk  \n",
       "76    7360        6822         theguardian.com  \n",
       "123   6910        6587  uk.businessinsider.com  \n",
       "151   6694       11058                  cbc.ca  \n",
       "178   6533        6579          tribune.com.pk  "
      ]
     },
     "execution_count": 33,
     "metadata": {},
     "output_type": "execute_result"
    }
   ],
   "source": [
    "wnews_top[(wnews_top['Score']>6500)&(wnews_top['Komentarji']>6500)].sort_values(by='Score',ascending=False)"
   ]
  },
  {
   "cell_type": "code",
   "execution_count": null,
   "metadata": {
    "collapsed": true
   },
   "outputs": [],
   "source": []
  },
  {
   "cell_type": "code",
   "execution_count": null,
   "metadata": {
    "collapsed": true
   },
   "outputs": [],
   "source": []
  },
  {
   "cell_type": "code",
   "execution_count": null,
   "metadata": {
    "collapsed": true
   },
   "outputs": [],
   "source": []
  },
  {
   "cell_type": "code",
   "execution_count": null,
   "metadata": {
    "collapsed": true
   },
   "outputs": [],
   "source": []
  }
 ],
 "metadata": {
  "kernelspec": {
   "display_name": "Python 3",
   "language": "python",
   "name": "python3"
  },
  "language_info": {
   "codemirror_mode": {
    "name": "ipython",
    "version": 3
   },
   "file_extension": ".py",
   "mimetype": "text/x-python",
   "name": "python",
   "nbconvert_exporter": "python",
   "pygments_lexer": "ipython3",
   "version": "3.4.3"
  }
 },
 "nbformat": 4,
 "nbformat_minor": 0
}
