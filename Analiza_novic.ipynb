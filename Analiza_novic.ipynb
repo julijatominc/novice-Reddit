{
 "cells": [
  {
   "cell_type": "markdown",
   "metadata": {
    "collapsed": true
   },
   "source": [
    "# Analiza podstrani(subredditov) r/news in r/worldnews spletne strani Reddit"
   ]
  },
  {
   "cell_type": "markdown",
   "metadata": {},
   "source": [
    "<a href=\"www.reddit.com]\">Reddit</a> je ameriška zabavna, družbena in novičarska spletna stran.\n",
    "Na Reddit uporabniki objavljajo razne povezave (večinoma na druge spletne strani), ki jih lahko drugi uporabniki ocenijo pozitivno (upvote) ali negativno (downvote) in komentirajo. Razdeljena je na več podstrani-subredditov.\n",
    "\n",
    "Podstrani r/news in r/worldnews sta privzeti. Objave privzetih strani se pokažejo neregistriranim in novim uporabnikom na naslovnici(front page), ker se večina uporabnikov od podstrani ne odjavi, le prijavi, imajo tako privzete strani avtomatsko največ uporabnikov.\n",
    "\n",
    "Primerjala sem novice dveh takih večjih podstrani r/news-novice in r/worldnews-svetovne novice. Podstrani so razdeljene na več kategorij, analizirala sem top-najboljše in controversial-kontroverzno.\n",
    "\n",
    "## Hipoteze\n",
    "    - 1. r/news bo imel več ameriških virov novic kot r/worldnews.\n",
    "    - 2. Viri r/worldnews bodo kvalitetnejše od virov r/news. (The Guardian > FoxNews ) \n",
    "    - 3. Novice iz kategorije kontroverzno bodo iz tabloidov, rumenega tiska ali z zavajujočo vsebino*.\n",
    "## Zanimivosti\n",
    "    - Kateri viri so najbolje ocenjeni v posamezni kategoriji?\n",
    "    - Kratek pregled 5 najbolje ocenjenih novic vsake kategorije\n",
    "    - Kateri vir je najbolje ocenjen v r/news in r/worldnews skupaj\n",
    "    - Kateri viri najbolj odstopajo (so izrazito bolje ocenjeni v posamezni kategoriji)\n",
    "    - Primerjava povprečnih ocen in komentarjev najpogostejših virov, ki se pojavljajo v kategorijah kontroverzno in najboljse\n",
    "    - Pogostost besed v kontroverzno in najboljše\n",
    "    \n",
    "\\* Kontroverzne/manj kvalitetnejše vire sem določila s pomočjo lastnih izkušenj prebiranja novic in s pomočjo opisov škandalov posameznega vira na \n",
    "<a href=\" https://en.wikipedia.org/wiki/Main_Page]\"> Wikipediji </a>."
   ]
  },
  {
   "cell_type": "code",
   "execution_count": 141,
   "metadata": {
    "collapsed": false
   },
   "outputs": [],
   "source": [
    "import pandas as pd\n",
    "\n",
    "%matplotlib inline\n",
    "pd.set_option('max_colwidth',400)"
   ]
  },
  {
   "cell_type": "code",
   "execution_count": 9,
   "metadata": {
    "collapsed": false
   },
   "outputs": [],
   "source": [
    "news_con=pd.read_csv('news_con.csv')\n",
    "news_top=pd.read_csv('news_top.csv')\n",
    "wnews_con=pd.read_csv('wnews_con.csv')\n",
    "wnews_top=pd.read_csv('wnews_top.csv')"
   ]
  },
  {
   "cell_type": "code",
   "execution_count": 10,
   "metadata": {
    "collapsed": false
   },
   "outputs": [],
   "source": [
    "news_con_viri=news_con.groupby(['Vir'],as_index=False)\n",
    "news_top_viri=news_top.groupby(['Vir'],as_index=False)\n",
    "wnews_con_viri=wnews_con.groupby(['Vir'],as_index=False)\n",
    "wnews_top_viri=wnews_top.groupby(['Vir'],as_index=False)"
   ]
  },
  {
   "cell_type": "markdown",
   "metadata": {},
   "source": [
    "## Pregled podatkov\n",
    "Zbrala sem 4 datoteke novic s spletne strani reddit in sicer: r/news-kontroverzno (news_con), r/news-najboljše(news_top), r/worldnews-kontroverzno (wnews_con) in r/worldnews-najboljše (wnews_top).\n",
    "V vsaki kategoriji je 975 naslovov novic, vsaka novica ima svojo oceno (upvote-downvote), število komentarjev in vir.\n",
    "Primer izgleda tabele:"
   ]
  },
  {
   "cell_type": "code",
   "execution_count": 11,
   "metadata": {
    "collapsed": false
   },
   "outputs": [
    {
     "data": {
      "text/html": [
       "<div>\n",
       "<table border=\"1\" class=\"dataframe\">\n",
       "  <thead>\n",
       "    <tr style=\"text-align: right;\">\n",
       "      <th></th>\n",
       "      <th>Naslov</th>\n",
       "      <th>Score</th>\n",
       "      <th>Komentarji</th>\n",
       "      <th>Vir</th>\n",
       "    </tr>\n",
       "  </thead>\n",
       "  <tbody>\n",
       "    <tr>\n",
       "      <th>0</th>\n",
       "      <td>Congress creates a bill that will give NASA a great budget for 2016. Also hides the entirety of CISA in the bill.</td>\n",
       "      <td>11547</td>\n",
       "      <td>3217</td>\n",
       "      <td>wired.com</td>\n",
       "    </tr>\n",
       "    <tr>\n",
       "      <th>1</th>\n",
       "      <td>Cop stops influential business man for DUI. While on scene he receives a call from local leader to let the man go and the city manager even shows up on scene. The cop refuses and proceeds with the arrest, now the cop and his superior are being threatened with loss of their jobs.</td>\n",
       "      <td>9704</td>\n",
       "      <td>3605</td>\n",
       "      <td>ktul.com</td>\n",
       "    </tr>\n",
       "    <tr>\n",
       "      <th>2</th>\n",
       "      <td>It’s unconstitutional to ban the homeless from sleeping outside, the federal government says</td>\n",
       "      <td>9400</td>\n",
       "      <td>4564</td>\n",
       "      <td>washingtonpost.com</td>\n",
       "    </tr>\n",
       "    <tr>\n",
       "      <th>3</th>\n",
       "      <td>A Government Error Just Revealed Snowden Was the Target in the Lavabit Case</td>\n",
       "      <td>9254</td>\n",
       "      <td>1953</td>\n",
       "      <td>wired.com</td>\n",
       "    </tr>\n",
       "    <tr>\n",
       "      <th>4</th>\n",
       "      <td>A toddler got meningitis. His anti-vac parents gave him an herbal remedy. The toddler died. Now his parents are on trial.</td>\n",
       "      <td>9210</td>\n",
       "      <td>5801</td>\n",
       "      <td>washingtonpost.com</td>\n",
       "    </tr>\n",
       "  </tbody>\n",
       "</table>\n",
       "</div>"
      ],
      "text/plain": [
       "                                                                                                                                                                                                                                                                                    Naslov  \\\n",
       "0                                                                                                                                                                        Congress creates a bill that will give NASA a great budget for 2016. Also hides the entirety of CISA in the bill.   \n",
       "1  Cop stops influential business man for DUI. While on scene he receives a call from local leader to let the man go and the city manager even shows up on scene. The cop refuses and proceeds with the arrest, now the cop and his superior are being threatened with loss of their jobs.   \n",
       "2                                                                                                                                                                                             It’s unconstitutional to ban the homeless from sleeping outside, the federal government says   \n",
       "3                                                                                                                                                                                                              A Government Error Just Revealed Snowden Was the Target in the Lavabit Case   \n",
       "4                                                                                                                                                                A toddler got meningitis. His anti-vac parents gave him an herbal remedy. The toddler died. Now his parents are on trial.   \n",
       "\n",
       "   Score  Komentarji                 Vir  \n",
       "0  11547        3217           wired.com  \n",
       "1   9704        3605            ktul.com  \n",
       "2   9400        4564  washingtonpost.com  \n",
       "3   9254        1953           wired.com  \n",
       "4   9210        5801  washingtonpost.com  "
      ]
     },
     "execution_count": 11,
     "metadata": {},
     "output_type": "execute_result"
    }
   ],
   "source": [
    "news_top.head()"
   ]
  },
  {
   "cell_type": "markdown",
   "metadata": {},
   "source": [
    "V naslednjih datotekah sem združila novice po virih v posamezni kategoriji. Viri r/news-kontroverzno (news_con_viri), Viri r/news-najboljše(news_top_viri), Viri r/worldnews-kontroverzno (wnews_con_viri) in Viri r/worldnews-najboljše (wnews_top_viri).\n",
    "Primer: news_top_viri"
   ]
  },
  {
   "cell_type": "code",
   "execution_count": 12,
   "metadata": {
    "collapsed": false
   },
   "outputs": [
    {
     "data": {
      "text/html": [
       "<div>\n",
       "<table border=\"1\" class=\"dataframe\">\n",
       "  <thead>\n",
       "    <tr style=\"text-align: right;\">\n",
       "      <th></th>\n",
       "      <th>Vir</th>\n",
       "      <th>Score</th>\n",
       "      <th>Komentarji</th>\n",
       "    </tr>\n",
       "  </thead>\n",
       "  <tbody>\n",
       "    <tr>\n",
       "      <th>0</th>\n",
       "      <td>1027jackfm.iheart.com</td>\n",
       "      <td>5509.0</td>\n",
       "      <td>2578.0</td>\n",
       "    </tr>\n",
       "    <tr>\n",
       "      <th>1</th>\n",
       "      <td>11alive.com</td>\n",
       "      <td>5965.5</td>\n",
       "      <td>2804.5</td>\n",
       "    </tr>\n",
       "    <tr>\n",
       "      <th>2</th>\n",
       "      <td>12news.com</td>\n",
       "      <td>5072.0</td>\n",
       "      <td>1497.0</td>\n",
       "    </tr>\n",
       "    <tr>\n",
       "      <th>3</th>\n",
       "      <td>13wmaz.com</td>\n",
       "      <td>5742.0</td>\n",
       "      <td>5884.0</td>\n",
       "    </tr>\n",
       "    <tr>\n",
       "      <th>4</th>\n",
       "      <td>abajournal.com</td>\n",
       "      <td>6309.0</td>\n",
       "      <td>1954.0</td>\n",
       "    </tr>\n",
       "  </tbody>\n",
       "</table>\n",
       "</div>"
      ],
      "text/plain": [
       "                     Vir   Score  Komentarji\n",
       "0  1027jackfm.iheart.com  5509.0      2578.0\n",
       "1            11alive.com  5965.5      2804.5\n",
       "2             12news.com  5072.0      1497.0\n",
       "3             13wmaz.com  5742.0      5884.0\n",
       "4         abajournal.com  6309.0      1954.0"
      ]
     },
     "execution_count": 12,
     "metadata": {},
     "output_type": "execute_result"
    }
   ],
   "source": [
    "#V stolpcih Score in Komentarji je popvrečje komentarjev in ocene vseh novic danega vira.\n",
    "news_top_viri.mean().head()"
   ]
  },
  {
   "cell_type": "markdown",
   "metadata": {},
   "source": [
    "### Hipoteza 1: r/news bo imel več ameriških virov novic kot r/worldnews\n",
    "Že v samem opisu podstrani r/worldnews je zapisano, da stran dovoljuje povezave na vse novice, razen notranjih zadev in politike ZDA. Tako še s preštetjem pojavitve virov potrdimo, da hipoteza drži."
   ]
  },
  {
   "cell_type": "markdown",
   "metadata": {},
   "source": [
    "Združila sem skupaj število novic posameznega vira r/news in r/worldnews. Tako sem dobila vpogled v seznam najpogostejših virov na posamezni posamezni podstrani."
   ]
  },
  {
   "cell_type": "code",
   "execution_count": 13,
   "metadata": {
    "collapsed": false
   },
   "outputs": [],
   "source": [
    "#preštejem število naslovov za posamezen vir\n",
    "viri_news=pd.concat([news_con,news_top]).groupby(by='Vir',as_index=False).count()\n",
    "viri_wnews=pd.concat([wnews_con,wnews_top]).groupby(by='Vir',as_index=False).count()"
   ]
  },
  {
   "cell_type": "code",
   "execution_count": 14,
   "metadata": {
    "collapsed": false,
    "scrolled": false
   },
   "outputs": [
    {
     "data": {
      "text/html": [
       "<div>\n",
       "<table border=\"1\" class=\"dataframe\">\n",
       "  <thead>\n",
       "    <tr style=\"text-align: right;\">\n",
       "      <th></th>\n",
       "      <th>Naslov</th>\n",
       "    </tr>\n",
       "    <tr>\n",
       "      <th>Vir</th>\n",
       "      <th></th>\n",
       "    </tr>\n",
       "  </thead>\n",
       "  <tbody>\n",
       "    <tr>\n",
       "      <th>washingtonpost.com</th>\n",
       "      <td>104</td>\n",
       "    </tr>\n",
       "    <tr>\n",
       "      <th>theguardian.com</th>\n",
       "      <td>85</td>\n",
       "    </tr>\n",
       "    <tr>\n",
       "      <th>nytimes.com</th>\n",
       "      <td>44</td>\n",
       "    </tr>\n",
       "    <tr>\n",
       "      <th>foxnews.com</th>\n",
       "      <td>43</td>\n",
       "    </tr>\n",
       "    <tr>\n",
       "      <th>independent.co.uk</th>\n",
       "      <td>43</td>\n",
       "    </tr>\n",
       "    <tr>\n",
       "      <th>cnn.com</th>\n",
       "      <td>39</td>\n",
       "    </tr>\n",
       "    <tr>\n",
       "      <th>abcnews.go.com</th>\n",
       "      <td>39</td>\n",
       "    </tr>\n",
       "    <tr>\n",
       "      <th>arstechnica.com</th>\n",
       "      <td>33</td>\n",
       "    </tr>\n",
       "    <tr>\n",
       "      <th>usatoday.com</th>\n",
       "      <td>32</td>\n",
       "    </tr>\n",
       "    <tr>\n",
       "      <th>nbcnews.com</th>\n",
       "      <td>31</td>\n",
       "    </tr>\n",
       "  </tbody>\n",
       "</table>\n",
       "</div>"
      ],
      "text/plain": [
       "                    Naslov\n",
       "Vir                       \n",
       "washingtonpost.com     104\n",
       "theguardian.com         85\n",
       "nytimes.com             44\n",
       "foxnews.com             43\n",
       "independent.co.uk       43\n",
       "cnn.com                 39\n",
       "abcnews.go.com          39\n",
       "arstechnica.com         33\n",
       "usatoday.com            32\n",
       "nbcnews.com             31"
      ]
     },
     "execution_count": 14,
     "metadata": {},
     "output_type": "execute_result"
    }
   ],
   "source": [
    "#najpogostejši viri za r/news\n",
    "pogosti_news=viri_news[['Vir','Naslov']].sort_values(by='Naslov',ascending=False).head(n=10).set_index(['Vir'])\n",
    "pogosti_news"
   ]
  },
  {
   "cell_type": "code",
   "execution_count": 15,
   "metadata": {
    "collapsed": false,
    "scrolled": true
   },
   "outputs": [
    {
     "data": {
      "text/plain": [
       "<matplotlib.axes._subplots.AxesSubplot at 0x7f0425b90080>"
      ]
     },
     "execution_count": 15,
     "metadata": {},
     "output_type": "execute_result"
    },
    {
     "data": {
      "image/png": "[encoded data removed]",
      "text/plain": [
       "<matplotlib.figure.Figure at 0x7f04264dbb38>"
      ]
     },
     "metadata": {},
     "output_type": "display_data"
    }
   ],
   "source": [
    "pogosti_news.plot(kind='barh',figsize =(13,7),fontsize=13)"
   ]
  },
  {
   "cell_type": "code",
   "execution_count": 16,
   "metadata": {
    "collapsed": false,
    "scrolled": false
   },
   "outputs": [
    {
     "data": {
      "text/html": [
       "<div>\n",
       "<table border=\"1\" class=\"dataframe\">\n",
       "  <thead>\n",
       "    <tr style=\"text-align: right;\">\n",
       "      <th></th>\n",
       "      <th>Naslov</th>\n",
       "    </tr>\n",
       "    <tr>\n",
       "      <th>Vir</th>\n",
       "      <th></th>\n",
       "    </tr>\n",
       "  </thead>\n",
       "  <tbody>\n",
       "    <tr>\n",
       "      <th>theguardian.com</th>\n",
       "      <td>110</td>\n",
       "    </tr>\n",
       "    <tr>\n",
       "      <th>rt.com</th>\n",
       "      <td>91</td>\n",
       "    </tr>\n",
       "    <tr>\n",
       "      <th>independent.co.uk</th>\n",
       "      <td>73</td>\n",
       "    </tr>\n",
       "    <tr>\n",
       "      <th>dailymail.co.uk</th>\n",
       "      <td>51</td>\n",
       "    </tr>\n",
       "    <tr>\n",
       "      <th>bbc.co.uk</th>\n",
       "      <td>51</td>\n",
       "    </tr>\n",
       "    <tr>\n",
       "      <th>bbc.com</th>\n",
       "      <td>45</td>\n",
       "    </tr>\n",
       "    <tr>\n",
       "      <th>reuters.com</th>\n",
       "      <td>43</td>\n",
       "    </tr>\n",
       "    <tr>\n",
       "      <th>nytimes.com</th>\n",
       "      <td>37</td>\n",
       "    </tr>\n",
       "    <tr>\n",
       "      <th>washingtonpost.com</th>\n",
       "      <td>27</td>\n",
       "    </tr>\n",
       "    <tr>\n",
       "      <th>news.yahoo.com</th>\n",
       "      <td>24</td>\n",
       "    </tr>\n",
       "  </tbody>\n",
       "</table>\n",
       "</div>"
      ],
      "text/plain": [
       "                    Naslov\n",
       "Vir                       \n",
       "theguardian.com        110\n",
       "rt.com                  91\n",
       "independent.co.uk       73\n",
       "dailymail.co.uk         51\n",
       "bbc.co.uk               51\n",
       "bbc.com                 45\n",
       "reuters.com             43\n",
       "nytimes.com             37\n",
       "washingtonpost.com      27\n",
       "news.yahoo.com          24"
      ]
     },
     "execution_count": 16,
     "metadata": {},
     "output_type": "execute_result"
    }
   ],
   "source": [
    "#najpogostejši viri za r/worldnews\n",
    "pogosti_wnews=viri_wnews[['Vir','Naslov']].sort_values(by='Naslov',ascending=False).head(n=10).set_index(['Vir'])\n",
    "pogosti_wnews"
   ]
  },
  {
   "cell_type": "code",
   "execution_count": 17,
   "metadata": {
    "collapsed": false
   },
   "outputs": [
    {
     "data": {
      "text/plain": [
       "<matplotlib.axes._subplots.AxesSubplot at 0x7f0424205e80>"
      ]
     },
     "execution_count": 17,
     "metadata": {},
     "output_type": "execute_result"
    },
    {
     "data": {
      "image/png": "[encoded data removed]",
      "text/plain": [
       "<matplotlib.figure.Figure at 0x7f04255fe5f8>"
      ]
     },
     "metadata": {},
     "output_type": "display_data"
    }
   ],
   "source": [
    "pogosti_wnews.plot(kind='barh',figsize =(10,7),fontsize=13)"
   ]
  },
  {
   "cell_type": "markdown",
   "metadata": {},
   "source": [
    "Komentar: \n",
    "(Analiziram samo 10 najpogostejših virov)\n",
    "\n",
    "V podstrani r/news se pojavita samo 2 neameriška vira (theguardian.com in independent.co.uk).\n",
    "V razdelku r/worldnews sta se tudi samo 2 ameriška vira (nytimes.com, washingtonpost.com) uvrstila med 10 najpogostejših.\n",
    "\n",
    "Predvidevem lahko, da so bralci in naročniki r/news večinoma prebivalci ZDA, ki jih seveda zanimajo novice povezane z ZDA, bralci r/worldnews pa so ostali obiskovalci Reddita.\n",
    "\n",
    "Moja hipoteza je potrjena. V r/news je 8 ameriških virov, v r/wnews pa le 2."
   ]
  },
  {
   "cell_type": "markdown",
   "metadata": {},
   "source": [
    "###  Hipoteza 2:Viri r/worldnews bodo kvalitetnejše od virov r/news.\n"
   ]
  },
  {
   "cell_type": "markdown",
   "metadata": {},
   "source": [
    "S pomočjo prejšnih tabel ugotovimo, da se med najpogostejšimi viri r/news izstopa samo foxnews.com, za katerega bi lahko trdili, da ne poroča najbolj objektivneje.\n",
    "\n",
    "Med najpogostejšimi viri r/worldnews zasledimo 2, ki bi ju lahko uvrstili med pristranski in rumeni tisk. To sta na drugem mestu po pogostosti ruska spletna stran rt.com in britanski tabloid dailymail.co.uk.\n",
    "\n",
    "Moja hipoteza ne drži. Viri r/worldnews in r/news so si enakovredni."
   ]
  },
  {
   "cell_type": "markdown",
   "metadata": {},
   "source": [
    "### Hipoteza 3 : Novice iz predela kontroverzno bodo iz tabloidov, rumenega tiska ali z zavajujočo vsebino.\n",
    "Sedaj združim vire novic glede na kategoriji kontroverzno in najboljše."
   ]
  },
  {
   "cell_type": "code",
   "execution_count": 18,
   "metadata": {
    "collapsed": false
   },
   "outputs": [],
   "source": [
    "novice_kontroverzno=pd.concat([wnews_con,news_con])\n",
    "novice_najboljse=pd.concat([wnews_top,news_top])\n",
    "#preštejem naslove posameznega vira\n",
    "novice_kontroverzno_viri=novice_kontroverzno.groupby(by='Vir',as_index=False).count()\n",
    "novice_najboljse_viri=novice_najboljse.groupby(by='Vir',as_index=False).count()\n",
    "#nov stolpec, ki je povprečje komentarjev in ocene\n",
    "novice_kontroverzno['povprecje']=(novice_kontroverzno.Komentarji+novice_kontroverzno.Score)/2\n",
    "novice_najboljse['povprecje']=(novice_najboljse.Komentarji+novice_najboljse.Score)/2"
   ]
  },
  {
   "cell_type": "code",
   "execution_count": 19,
   "metadata": {
    "collapsed": false,
    "scrolled": true
   },
   "outputs": [
    {
     "data": {
      "text/html": [
       "<div>\n",
       "<table border=\"1\" class=\"dataframe\">\n",
       "  <thead>\n",
       "    <tr style=\"text-align: right;\">\n",
       "      <th></th>\n",
       "      <th>Vir</th>\n",
       "      <th>Naslov</th>\n",
       "    </tr>\n",
       "  </thead>\n",
       "  <tbody>\n",
       "    <tr>\n",
       "      <th>577</th>\n",
       "      <td>rt.com</td>\n",
       "      <td>84</td>\n",
       "    </tr>\n",
       "    <tr>\n",
       "      <th>146</th>\n",
       "      <td>dailymail.co.uk</td>\n",
       "      <td>56</td>\n",
       "    </tr>\n",
       "    <tr>\n",
       "      <th>733</th>\n",
       "      <td>washingtonpost.com</td>\n",
       "      <td>47</td>\n",
       "    </tr>\n",
       "    <tr>\n",
       "      <th>640</th>\n",
       "      <td>theguardian.com</td>\n",
       "      <td>44</td>\n",
       "    </tr>\n",
       "    <tr>\n",
       "      <th>252</th>\n",
       "      <td>foxnews.com</td>\n",
       "      <td>39</td>\n",
       "    </tr>\n",
       "    <tr>\n",
       "      <th>514</th>\n",
       "      <td>nytimes.com</td>\n",
       "      <td>31</td>\n",
       "    </tr>\n",
       "    <tr>\n",
       "      <th>322</th>\n",
       "      <td>independent.co.uk</td>\n",
       "      <td>31</td>\n",
       "    </tr>\n",
       "    <tr>\n",
       "      <th>123</th>\n",
       "      <td>cnn.com</td>\n",
       "      <td>29</td>\n",
       "    </tr>\n",
       "    <tr>\n",
       "      <th>57</th>\n",
       "      <td>bbc.co.uk</td>\n",
       "      <td>29</td>\n",
       "    </tr>\n",
       "    <tr>\n",
       "      <th>491</th>\n",
       "      <td>news.yahoo.com</td>\n",
       "      <td>28</td>\n",
       "    </tr>\n",
       "  </tbody>\n",
       "</table>\n",
       "</div>"
      ],
      "text/plain": [
       "                    Vir  Naslov\n",
       "577              rt.com      84\n",
       "146     dailymail.co.uk      56\n",
       "733  washingtonpost.com      47\n",
       "640     theguardian.com      44\n",
       "252         foxnews.com      39\n",
       "514         nytimes.com      31\n",
       "322   independent.co.uk      31\n",
       "123             cnn.com      29\n",
       "57            bbc.co.uk      29\n",
       "491      news.yahoo.com      28"
      ]
     },
     "execution_count": 19,
     "metadata": {},
     "output_type": "execute_result"
    }
   ],
   "source": [
    "#10 najpogostejših virov kategorije kotraverzno\n",
    "naj10_con=novice_kontroverzno_viri[['Vir','Naslov']].sort_values(by='Naslov',ascending=False).head(n=10)\n",
    "naj10_con"
   ]
  },
  {
   "cell_type": "code",
   "execution_count": 20,
   "metadata": {
    "collapsed": false,
    "scrolled": false
   },
   "outputs": [
    {
     "data": {
      "text/html": [
       "<div>\n",
       "<table border=\"1\" class=\"dataframe\">\n",
       "  <thead>\n",
       "    <tr style=\"text-align: right;\">\n",
       "      <th></th>\n",
       "      <th>Vir</th>\n",
       "      <th>Naslov</th>\n",
       "    </tr>\n",
       "  </thead>\n",
       "  <tbody>\n",
       "    <tr>\n",
       "      <th>516</th>\n",
       "      <td>theguardian.com</td>\n",
       "      <td>151</td>\n",
       "    </tr>\n",
       "    <tr>\n",
       "      <th>237</th>\n",
       "      <td>independent.co.uk</td>\n",
       "      <td>85</td>\n",
       "    </tr>\n",
       "    <tr>\n",
       "      <th>578</th>\n",
       "      <td>washingtonpost.com</td>\n",
       "      <td>84</td>\n",
       "    </tr>\n",
       "    <tr>\n",
       "      <th>40</th>\n",
       "      <td>bbc.com</td>\n",
       "      <td>55</td>\n",
       "    </tr>\n",
       "    <tr>\n",
       "      <th>438</th>\n",
       "      <td>reuters.com</td>\n",
       "      <td>51</td>\n",
       "    </tr>\n",
       "    <tr>\n",
       "      <th>394</th>\n",
       "      <td>nytimes.com</td>\n",
       "      <td>50</td>\n",
       "    </tr>\n",
       "    <tr>\n",
       "      <th>39</th>\n",
       "      <td>bbc.co.uk</td>\n",
       "      <td>40</td>\n",
       "    </tr>\n",
       "    <tr>\n",
       "      <th>31</th>\n",
       "      <td>arstechnica.com</td>\n",
       "      <td>31</td>\n",
       "    </tr>\n",
       "    <tr>\n",
       "      <th>350</th>\n",
       "      <td>nbcnews.com</td>\n",
       "      <td>28</td>\n",
       "    </tr>\n",
       "    <tr>\n",
       "      <th>94</th>\n",
       "      <td>cnn.com</td>\n",
       "      <td>28</td>\n",
       "    </tr>\n",
       "  </tbody>\n",
       "</table>\n",
       "</div>"
      ],
      "text/plain": [
       "                    Vir  Naslov\n",
       "516     theguardian.com     151\n",
       "237   independent.co.uk      85\n",
       "578  washingtonpost.com      84\n",
       "40              bbc.com      55\n",
       "438         reuters.com      51\n",
       "394         nytimes.com      50\n",
       "39            bbc.co.uk      40\n",
       "31      arstechnica.com      31\n",
       "350         nbcnews.com      28\n",
       "94              cnn.com      28"
      ]
     },
     "execution_count": 20,
     "metadata": {},
     "output_type": "execute_result"
    }
   ],
   "source": [
    "#10 najpogostejših virov kategorije najboljše\n",
    "naj10_top=novice_najboljse_viri[['Vir','Naslov']].sort_values(by='Naslov',ascending=False).head(n=10)\n",
    "naj10_top"
   ]
  },
  {
   "cell_type": "markdown",
   "metadata": {},
   "source": [
    "Na vrhu kontroverzno opazimo medij ruske vladne propagande. rt.com (Russia Today) slovi \n",
    "kot pristranska (seveda, v korist rusom) in zavajajoča novinarska hiša, znana po širjenju napačnih informacij.\n",
    "V spodnji tabeli je zapisanih 5 najbolje ocenjenih novic rt.com. Opazimo, da so novice nenaklonjene ZDA (85, 459, 16, 124) (ZDA ne marajo Snowdena...) in seveda vzmirjajočo novico za uporabnike spleta (242)."
   ]
  },
  {
   "cell_type": "code",
   "execution_count": 21,
   "metadata": {
    "collapsed": false,
    "scrolled": true
   },
   "outputs": [
    {
     "data": {
      "text/html": [
       "<div>\n",
       "<table border=\"1\" class=\"dataframe\">\n",
       "  <thead>\n",
       "    <tr style=\"text-align: right;\">\n",
       "      <th></th>\n",
       "      <th>Naslov</th>\n",
       "      <th>Score</th>\n",
       "      <th>Komentarji</th>\n",
       "      <th>Vir</th>\n",
       "      <th>povprecje</th>\n",
       "    </tr>\n",
       "  </thead>\n",
       "  <tbody>\n",
       "    <tr>\n",
       "      <th>85</th>\n",
       "      <td>The US has been voted as the most significant threat to world peace in a survey across 68 different countries</td>\n",
       "      <td>2229</td>\n",
       "      <td>5969</td>\n",
       "      <td>rt.com</td>\n",
       "      <td>4099.0</td>\n",
       "    </tr>\n",
       "    <tr>\n",
       "      <th>242</th>\n",
       "      <td>UK: Man jailed for 33 months for pirating ‘Fast &amp;amp; Furious’</td>\n",
       "      <td>2387</td>\n",
       "      <td>3244</td>\n",
       "      <td>rt.com</td>\n",
       "      <td>2815.5</td>\n",
       "    </tr>\n",
       "    <tr>\n",
       "      <th>459</th>\n",
       "      <td>Snowden nominated for Nobel Peace Prize by Swedish professor. \"[H]eroic effort at great personal cost.”</td>\n",
       "      <td>2166</td>\n",
       "      <td>687</td>\n",
       "      <td>rt.com</td>\n",
       "      <td>1426.5</td>\n",
       "    </tr>\n",
       "    <tr>\n",
       "      <th>16</th>\n",
       "      <td>Obama considers ending NSA surveillance programs.</td>\n",
       "      <td>1248</td>\n",
       "      <td>1059</td>\n",
       "      <td>rt.com</td>\n",
       "      <td>1153.5</td>\n",
       "    </tr>\n",
       "    <tr>\n",
       "      <th>124</th>\n",
       "      <td>New video: Edward Snowden receives award from NSA, CIA, FBI and DOJ officials, breaks silence on NSA programs for the first time in Russia. Reveals new details on how mass surveillance makes us less - not more - safe.</td>\n",
       "      <td>1603</td>\n",
       "      <td>574</td>\n",
       "      <td>rt.com</td>\n",
       "      <td>1088.5</td>\n",
       "    </tr>\n",
       "  </tbody>\n",
       "</table>\n",
       "</div>"
      ],
      "text/plain": [
       "                                                                                                                                                                                                                        Naslov  \\\n",
       "85                                                                                                               The US has been voted as the most significant threat to world peace in a survey across 68 different countries   \n",
       "242                                                                                                                                                             UK: Man jailed for 33 months for pirating ‘Fast &amp; Furious’   \n",
       "459                                                                                                                    Snowden nominated for Nobel Peace Prize by Swedish professor. \"[H]eroic effort at great personal cost.”   \n",
       "16                                                                                                                                                                           Obama considers ending NSA surveillance programs.   \n",
       "124  New video: Edward Snowden receives award from NSA, CIA, FBI and DOJ officials, breaks silence on NSA programs for the first time in Russia. Reveals new details on how mass surveillance makes us less - not more - safe.   \n",
       "\n",
       "     Score  Komentarji     Vir  povprecje  \n",
       "85    2229        5969  rt.com     4099.0  \n",
       "242   2387        3244  rt.com     2815.5  \n",
       "459   2166         687  rt.com     1426.5  \n",
       "16    1248        1059  rt.com     1153.5  \n",
       "124   1603         574  rt.com     1088.5  "
      ]
     },
     "execution_count": 21,
     "metadata": {},
     "output_type": "execute_result"
    }
   ],
   "source": [
    "novice_kontroverzno[novice_kontroverzno['Vir'] =='rt.com'].sort_values('povprecje', ascending=False).head()"
   ]
  },
  {
   "cell_type": "markdown",
   "metadata": {},
   "source": [
    "Na drugo mesto po pogostosti virov kontroverznih novic je britanski rumeni tračarski časopis dailymail.co.uk.\n",
    "Neslavni konservativni tabloid je znan po nenatančnem, pristranskem in senzacionalističnem poročanju. Večkrat se zatekajo k razdvajanju javnosti in napihovanju težav. To potrdi tudi seznam 5 najbolje ocenjenih novic. \n",
    "Novice so povezane s tožbami(599), nasiljem (201, 318), pedofilijo(178) in življenskimi nepravicami(811). "
   ]
  },
  {
   "cell_type": "code",
   "execution_count": 22,
   "metadata": {
    "collapsed": false
   },
   "outputs": [
    {
     "data": {
      "text/html": [
       "<div>\n",
       "<table border=\"1\" class=\"dataframe\">\n",
       "  <thead>\n",
       "    <tr style=\"text-align: right;\">\n",
       "      <th></th>\n",
       "      <th>Naslov</th>\n",
       "      <th>Score</th>\n",
       "      <th>Komentarji</th>\n",
       "      <th>Vir</th>\n",
       "      <th>povprecje</th>\n",
       "    </tr>\n",
       "  </thead>\n",
       "  <tbody>\n",
       "    <tr>\n",
       "      <th>201</th>\n",
       "      <td>Mobs of 'hundreds' of masked men rampage through Stockholm central station beating up refugee children</td>\n",
       "      <td>3341</td>\n",
       "      <td>6192</td>\n",
       "      <td>dailymail.co.uk</td>\n",
       "      <td>4766.5</td>\n",
       "    </tr>\n",
       "    <tr>\n",
       "      <th>599</th>\n",
       "      <td>British man sues gym over \"sexist women-only hours\"</td>\n",
       "      <td>1947</td>\n",
       "      <td>6567</td>\n",
       "      <td>dailymail.co.uk</td>\n",
       "      <td>4257.0</td>\n",
       "    </tr>\n",
       "    <tr>\n",
       "      <th>811</th>\n",
       "      <td>British couple who spent most of the money they made from canabis growing on paying for life changing operations and schooling for people in a poor Kenyan village gets sent to prison for 3 years.</td>\n",
       "      <td>1818</td>\n",
       "      <td>1644</td>\n",
       "      <td>dailymail.co.uk</td>\n",
       "      <td>1731.0</td>\n",
       "    </tr>\n",
       "    <tr>\n",
       "      <th>61</th>\n",
       "      <td>Roman Catholic church's paedophile investigator jailed for possessing thousnds of child porn images</td>\n",
       "      <td>769</td>\n",
       "      <td>783</td>\n",
       "      <td>dailymail.co.uk</td>\n",
       "      <td>776.0</td>\n",
       "    </tr>\n",
       "    <tr>\n",
       "      <th>318</th>\n",
       "      <td>'Someone's coming to get me': Terrified phone-hacking whistleblower feared for his life before he was found dead.\\r\\n</td>\n",
       "      <td>362</td>\n",
       "      <td>149</td>\n",
       "      <td>dailymail.co.uk</td>\n",
       "      <td>255.5</td>\n",
       "    </tr>\n",
       "  </tbody>\n",
       "</table>\n",
       "</div>"
      ],
      "text/plain": [
       "                                                                                                                                                                                                  Naslov  \\\n",
       "201                                                                                               Mobs of 'hundreds' of masked men rampage through Stockholm central station beating up refugee children   \n",
       "599                                                                                                                                                  British man sues gym over \"sexist women-only hours\"   \n",
       "811  British couple who spent most of the money they made from canabis growing on paying for life changing operations and schooling for people in a poor Kenyan village gets sent to prison for 3 years.   \n",
       "61                                                                                                   Roman Catholic church's paedophile investigator jailed for possessing thousnds of child porn images   \n",
       "318                                                                                'Someone's coming to get me': Terrified phone-hacking whistleblower feared for his life before he was found dead.\\r\\n   \n",
       "\n",
       "     Score  Komentarji              Vir  povprecje  \n",
       "201   3341        6192  dailymail.co.uk     4766.5  \n",
       "599   1947        6567  dailymail.co.uk     4257.0  \n",
       "811   1818        1644  dailymail.co.uk     1731.0  \n",
       "61     769         783  dailymail.co.uk      776.0  \n",
       "318    362         149  dailymail.co.uk      255.5  "
      ]
     },
     "execution_count": 22,
     "metadata": {},
     "output_type": "execute_result"
    }
   ],
   "source": [
    "novice_kontroverzno[novice_kontroverzno['Vir'] =='dailymail.co.uk'].sort_values('Score', ascending=False).head()"
   ]
  },
  {
   "cell_type": "markdown",
   "metadata": {},
   "source": [
    "V kategoriji najboljše se med desetimi najpogostejšimi viri proti repu lestvice pojavi cnn.com (News Network Company). Nagibajo se na liberalno stran in pogosto blatijo republikance. Obstaja celotna stran wikipedije namenjena <a href=\" https://en.wikipedia.org/wiki/CNN_controversies]\">CNN \"napakam\"</a>.\n",
    "Na prvem mestu prednjači theguardian.com. Da se prepričamo o razliki, primerjamo novice theguardian.com in dailymail.com."
   ]
  },
  {
   "cell_type": "code",
   "execution_count": 23,
   "metadata": {
    "collapsed": false,
    "scrolled": false
   },
   "outputs": [
    {
     "data": {
      "text/html": [
       "<div>\n",
       "<table border=\"1\" class=\"dataframe\">\n",
       "  <thead>\n",
       "    <tr style=\"text-align: right;\">\n",
       "      <th></th>\n",
       "      <th>Naslov</th>\n",
       "      <th>Score</th>\n",
       "      <th>Komentarji</th>\n",
       "      <th>Vir</th>\n",
       "      <th>povprecje</th>\n",
       "    </tr>\n",
       "  </thead>\n",
       "  <tbody>\n",
       "    <tr>\n",
       "      <th>213</th>\n",
       "      <td>Revealed: the 30-year economic betrayal dragging down Generation Y’s income. Exclusive new data shows how debt, unemployment and property prices have combined to stop millennials taking their share of western wealth.</td>\n",
       "      <td>6754</td>\n",
       "      <td>13387</td>\n",
       "      <td>theguardian.com</td>\n",
       "      <td>10070.5</td>\n",
       "    </tr>\n",
       "    <tr>\n",
       "      <th>362</th>\n",
       "      <td>Putin calls Turkey 'accomplices of terrorists' after Russian jet shot down</td>\n",
       "      <td>6307</td>\n",
       "      <td>11112</td>\n",
       "      <td>theguardian.com</td>\n",
       "      <td>8709.5</td>\n",
       "    </tr>\n",
       "    <tr>\n",
       "      <th>509</th>\n",
       "      <td>Death tolls reach 158 in Paris.</td>\n",
       "      <td>5984</td>\n",
       "      <td>9341</td>\n",
       "      <td>theguardian.com</td>\n",
       "      <td>7662.5</td>\n",
       "    </tr>\n",
       "    <tr>\n",
       "      <th>111</th>\n",
       "      <td>Vaping is 95% safer than smoking and could lead to the demise of the traditional cigarette, Public Health England (PHE) has said in the first official recognition that e-cigarettes are less damaging to health than smoking tobacco.</td>\n",
       "      <td>7361</td>\n",
       "      <td>6803</td>\n",
       "      <td>theguardian.com</td>\n",
       "      <td>7082.0</td>\n",
       "    </tr>\n",
       "    <tr>\n",
       "      <th>13</th>\n",
       "      <td>France decrees new rooftops must be covered in plants or solar panels. All new buildings in commercial zones across the country must comply with new environmental legislation</td>\n",
       "      <td>9954</td>\n",
       "      <td>4022</td>\n",
       "      <td>theguardian.com</td>\n",
       "      <td>6988.0</td>\n",
       "    </tr>\n",
       "  </tbody>\n",
       "</table>\n",
       "</div>"
      ],
      "text/plain": [
       "                                                                                                                                                                                                                                     Naslov  \\\n",
       "213                Revealed: the 30-year economic betrayal dragging down Generation Y’s income. Exclusive new data shows how debt, unemployment and property prices have combined to stop millennials taking their share of western wealth.   \n",
       "362                                                                                                                                                              Putin calls Turkey 'accomplices of terrorists' after Russian jet shot down   \n",
       "509                                                                                                                                                                                                         Death tolls reach 158 in Paris.   \n",
       "111  Vaping is 95% safer than smoking and could lead to the demise of the traditional cigarette, Public Health England (PHE) has said in the first official recognition that e-cigarettes are less damaging to health than smoking tobacco.   \n",
       "13                                                           France decrees new rooftops must be covered in plants or solar panels. All new buildings in commercial zones across the country must comply with new environmental legislation   \n",
       "\n",
       "     Score  Komentarji              Vir  povprecje  \n",
       "213   6754       13387  theguardian.com    10070.5  \n",
       "362   6307       11112  theguardian.com     8709.5  \n",
       "509   5984        9341  theguardian.com     7662.5  \n",
       "111   7361        6803  theguardian.com     7082.0  \n",
       "13    9954        4022  theguardian.com     6988.0  "
      ]
     },
     "execution_count": 23,
     "metadata": {},
     "output_type": "execute_result"
    }
   ],
   "source": [
    "novice_najboljse[novice_najboljse['Vir'] =='theguardian.com'].sort_values('povprecje', ascending=False).head()"
   ]
  },
  {
   "cell_type": "markdown",
   "metadata": {},
   "source": [
    "V primerjavi guardian.com in dailymail.co.uk je najbolj opazna razlika v jeziku. Guadrianovi naslovi so daljši, objektivni in jezik je na 'višjem nivoju'. \n",
    "\n",
    "Primer: **Gurardian(359)** *'Death tolls reach 158 in Paris.'*  Naslov nam pove vse o novici. Če nas zanima več podrobnosti jo kliknemo. Medtem pa **dailymail.com(307)** *''Someone's coming to get me': Terrified phone-hacking whistleblower feared for his life before he was found dead.'*  uborabi sezancionalistični naslov, ki bralca pritegne, a mu ne razkrije osnovnih informacij o novici. (clickbait novica). Po hitrem preledu novic na spletni strani dailymail.co.uk sem ugotovila, da pogosteje uporabljajo pogovorni jezik in tvorijo preprostejše stavke.\n",
    "   "
   ]
  },
  {
   "cell_type": "markdown",
   "metadata": {},
   "source": [
    "Kaže, da je moja hipoteza pravilna, vendar je slabo podprta.\n",
    "Ustvarila bom še seznam 'manj' kvalitetnih virov in preverila, kolikokrat se pojavijo v kontroverzno in kolikokrat v najboljse."
   ]
  },
  {
   "cell_type": "code",
   "execution_count": 24,
   "metadata": {
    "collapsed": true
   },
   "outputs": [],
   "source": [
    "seznam_mviri=['foxnews.com','rt.com','dailymail.com','mirror.co.uk','timesofisrael.com','tmz.com','msnbc.msn.com','haaretz.com','wnd.com']"
   ]
  },
  {
   "cell_type": "code",
   "execution_count": 25,
   "metadata": {
    "collapsed": false,
    "scrolled": false
   },
   "outputs": [
    {
     "data": {
      "text/plain": [
       "186"
      ]
     },
     "execution_count": 25,
     "metadata": {},
     "output_type": "execute_result"
    }
   ],
   "source": [
    "#število pojavitev naslovov virov s seznama seznam_mviri za kontroverzno\n",
    "novice_kontroverzno[(novice_kontroverzno['Vir'] == seznam_mviri[0]) |\n",
    "                    (novice_kontroverzno['Vir'] == seznam_mviri[1]) |\n",
    "                    (novice_kontroverzno['Vir'] == seznam_mviri[2]) | \n",
    "                    (novice_kontroverzno['Vir'] == seznam_mviri[3]) |\n",
    "                    (novice_kontroverzno['Vir'] == seznam_mviri[4]) | \n",
    "                    (novice_kontroverzno['Vir'] == seznam_mviri[5]) |\n",
    "                    (novice_kontroverzno['Vir'] == seznam_mviri[6]) | \n",
    "                    (novice_kontroverzno['Vir'] == seznam_mviri[7]) |\n",
    "                    (novice_kontroverzno['Vir'] == seznam_mviri[8]) \n",
    "                   ].count()['Naslov']"
   ]
  },
  {
   "cell_type": "code",
   "execution_count": 26,
   "metadata": {
    "collapsed": false
   },
   "outputs": [
    {
     "data": {
      "text/plain": [
       "40"
      ]
     },
     "execution_count": 26,
     "metadata": {},
     "output_type": "execute_result"
    }
   ],
   "source": [
    "#število pojavitev naslovov virov s seznama seznam_mviri za kontroverzno\n",
    "novice_najboljse[(novice_najboljse['Vir'] == seznam_mviri[0]) |\n",
    "                    (novice_najboljse['Vir'] == seznam_mviri[1]) |\n",
    "                    (novice_najboljse['Vir'] == seznam_mviri[2]) | \n",
    "                    (novice_najboljse['Vir'] == seznam_mviri[3]) |\n",
    "                    (novice_najboljse['Vir'] == seznam_mviri[4]) | \n",
    "                    (novice_najboljse['Vir'] == seznam_mviri[5]) |\n",
    "                    (novice_najboljse['Vir'] == seznam_mviri[6]) | \n",
    "                    (novice_najboljse['Vir'] == seznam_mviri[7]) |\n",
    "                    (novice_najboljse['Vir'] == seznam_mviri[8]) \n",
    "                   ].count()['Naslov']"
   ]
  },
  {
   "cell_type": "markdown",
   "metadata": {},
   "source": [
    "Moja hipoteza je potrjena. V kontroverzno se pojavi veliko več novic kontroverznih virov kot v najboljše."
   ]
  },
  {
   "cell_type": "markdown",
   "metadata": {},
   "source": [
    "### Zanimivosti"
   ]
  },
  {
   "cell_type": "code",
   "execution_count": 27,
   "metadata": {
    "collapsed": false
   },
   "outputs": [],
   "source": [
    "#tabela vseh novic\n",
    "vse_novice=pd.concat([news_con,wnews_con,news_top,wnews_top])\n",
    "#tabela vseh virov\n",
    "vse_novice_viri=vse_novice.groupby(by='Vir')"
   ]
  },
  {
   "cell_type": "code",
   "execution_count": 28,
   "metadata": {
    "collapsed": false
   },
   "outputs": [],
   "source": [
    "#vse 4 datoteke združene na skupen vir\n",
    "news_viri=pd.merge(news_con,news_top,on='Vir', suffixes=('_news_con', '_news_top')).groupby(by='Vir', as_index=False).mean()\n",
    "wnews_viri=pd.merge(wnews_con,wnews_top,on='Vir', suffixes=('_wnews_con', '_wnews_top')).groupby(by='Vir', as_index=False).mean()\n",
    "vsi_viri=pd.merge(news_viri,wnews_viri,on='Vir').groupby(by='Vir', as_index=False).mean()"
   ]
  },
  {
   "cell_type": "markdown",
   "metadata": {},
   "source": [
    "#### Kateri vir je najboljši v kateri posamezni kategoriji?\n",
    "Izračunam ga glede na povprečje povprečja komentarjev in ocen posameznega vira."
   ]
  },
  {
   "cell_type": "markdown",
   "metadata": {},
   "source": [
    "##### Najboljši v r/news kontroverzno."
   ]
  },
  {
   "cell_type": "code",
   "execution_count": 38,
   "metadata": {
    "collapsed": false,
    "scrolled": false
   },
   "outputs": [
    {
     "data": {
      "text/html": [
       "<div>\n",
       "<table border=\"1\" class=\"dataframe\">\n",
       "  <thead>\n",
       "    <tr style=\"text-align: right;\">\n",
       "      <th></th>\n",
       "      <th>Vir</th>\n",
       "      <th>Score</th>\n",
       "      <th>Komentarji</th>\n",
       "      <th>povprecje</th>\n",
       "    </tr>\n",
       "  </thead>\n",
       "  <tbody>\n",
       "    <tr>\n",
       "      <th>360</th>\n",
       "      <td>thelocal.dk</td>\n",
       "      <td>4139.0</td>\n",
       "      <td>10426.0</td>\n",
       "      <td>7282.5</td>\n",
       "    </tr>\n",
       "    <tr>\n",
       "      <th>129</th>\n",
       "      <td>fox26houston.com</td>\n",
       "      <td>4332.0</td>\n",
       "      <td>5804.0</td>\n",
       "      <td>5068.0</td>\n",
       "    </tr>\n",
       "    <tr>\n",
       "      <th>253</th>\n",
       "      <td>nbcbayarea.com</td>\n",
       "      <td>3311.0</td>\n",
       "      <td>4770.0</td>\n",
       "      <td>4040.5</td>\n",
       "    </tr>\n",
       "    <tr>\n",
       "      <th>277</th>\n",
       "      <td>nj.com</td>\n",
       "      <td>3312.0</td>\n",
       "      <td>4174.0</td>\n",
       "      <td>3743.0</td>\n",
       "    </tr>\n",
       "    <tr>\n",
       "      <th>189</th>\n",
       "      <td>kansasfirstnews.com</td>\n",
       "      <td>2612.0</td>\n",
       "      <td>4794.0</td>\n",
       "      <td>3703.0</td>\n",
       "    </tr>\n",
       "  </tbody>\n",
       "</table>\n",
       "</div>"
      ],
      "text/plain": [
       "                     Vir   Score  Komentarji  povprecje\n",
       "360          thelocal.dk  4139.0     10426.0     7282.5\n",
       "129     fox26houston.com  4332.0      5804.0     5068.0\n",
       "253       nbcbayarea.com  3311.0      4770.0     4040.5\n",
       "277               nj.com  3312.0      4174.0     3743.0\n",
       "189  kansasfirstnews.com  2612.0      4794.0     3703.0"
      ]
     },
     "execution_count": 38,
     "metadata": {},
     "output_type": "execute_result"
    }
   ],
   "source": [
    "viri_povprecje_con=news_con_viri.mean()\n",
    "#dodam še stolpec povprečje\n",
    "viri_povprecje_con['povprecje']=viri_povprecje_con.iloc[:, 1:3].mean(axis=1)\n",
    "#5 najboljših virov news-kontroverzno\n",
    "naj5_news_con=viri_povprecje_con.sort_values(['povprecje'],ascending=False).head()\n",
    "naj5_news_con"
   ]
  },
  {
   "cell_type": "code",
   "execution_count": 45,
   "metadata": {
    "collapsed": false
   },
   "outputs": [],
   "source": [
    "#novice_vira vrne tabelo novic vira v datoteki \n",
    "def novice_vira(dat,vir):\n",
    "    return dat[dat['Vir']==vir]\n",
    "#prvi vir vrne prvi vir v tabeli\n",
    "def prvi_vir(dat,n):\n",
    "    return dat.reset_index().Vir[n]"
   ]
  },
  {
   "cell_type": "code",
   "execution_count": 46,
   "metadata": {
    "collapsed": false,
    "scrolled": true
   },
   "outputs": [
    {
     "data": {
      "text/html": [
       "<div>\n",
       "<table border=\"1\" class=\"dataframe\">\n",
       "  <thead>\n",
       "    <tr style=\"text-align: right;\">\n",
       "      <th></th>\n",
       "      <th>Naslov</th>\n",
       "      <th>Score</th>\n",
       "      <th>Komentarji</th>\n",
       "      <th>Vir</th>\n",
       "    </tr>\n",
       "  </thead>\n",
       "  <tbody>\n",
       "    <tr>\n",
       "      <th>403</th>\n",
       "      <td>Danish teen fought off her attacker - now she'll face fine. A 17-year-old girl who was physically and sexually attacked in Sønderborg will herself face charges for using pepper spray to fend off her assailant.</td>\n",
       "      <td>4139</td>\n",
       "      <td>10426</td>\n",
       "      <td>thelocal.dk</td>\n",
       "    </tr>\n",
       "  </tbody>\n",
       "</table>\n",
       "</div>"
      ],
      "text/plain": [
       "                                                                                                                                                                                                                Naslov  \\\n",
       "403  Danish teen fought off her attacker - now she'll face fine. A 17-year-old girl who was physically and sexually attacked in Sønderborg will herself face charges for using pepper spray to fend off her assailant.   \n",
       "\n",
       "     Score  Komentarji          Vir  \n",
       "403   4139       10426  thelocal.dk  "
      ]
     },
     "execution_count": 46,
     "metadata": {},
     "output_type": "execute_result"
    }
   ],
   "source": [
    "#Kakšne novice ima?\n",
    "novice_vira(news_con,prvi_vir(naj5_news_con,0))\n",
    "#Na prvem mestu je novica danskega vira. Na prvem mestu je predvsem zaradi šokantne zgodbe."
   ]
  },
  {
   "cell_type": "markdown",
   "metadata": {},
   "source": [
    "###### Najboljši v r/news najboljse "
   ]
  },
  {
   "cell_type": "code",
   "execution_count": 42,
   "metadata": {
    "collapsed": false
   },
   "outputs": [
    {
     "data": {
      "text/html": [
       "<div>\n",
       "<table border=\"1\" class=\"dataframe\">\n",
       "  <thead>\n",
       "    <tr style=\"text-align: right;\">\n",
       "      <th></th>\n",
       "      <th>Vir</th>\n",
       "      <th>Score</th>\n",
       "      <th>Komentarji</th>\n",
       "      <th>povprecje</th>\n",
       "    </tr>\n",
       "  </thead>\n",
       "  <tbody>\n",
       "    <tr>\n",
       "      <th>362</th>\n",
       "      <td>wdbj7.com</td>\n",
       "      <td>6768.000000</td>\n",
       "      <td>23756.0</td>\n",
       "      <td>15262.000000</td>\n",
       "    </tr>\n",
       "    <tr>\n",
       "      <th>182</th>\n",
       "      <td>ktla.com</td>\n",
       "      <td>5626.333333</td>\n",
       "      <td>18992.0</td>\n",
       "      <td>12309.166667</td>\n",
       "    </tr>\n",
       "    <tr>\n",
       "      <th>220</th>\n",
       "      <td>mysanantonio.com</td>\n",
       "      <td>7396.000000</td>\n",
       "      <td>13653.0</td>\n",
       "      <td>10524.500000</td>\n",
       "    </tr>\n",
       "    <tr>\n",
       "      <th>177</th>\n",
       "      <td>krdo.com</td>\n",
       "      <td>5522.000000</td>\n",
       "      <td>14886.0</td>\n",
       "      <td>10204.000000</td>\n",
       "    </tr>\n",
       "    <tr>\n",
       "      <th>79</th>\n",
       "      <td>dailykos.com</td>\n",
       "      <td>5344.000000</td>\n",
       "      <td>10594.0</td>\n",
       "      <td>7969.000000</td>\n",
       "    </tr>\n",
       "  </tbody>\n",
       "</table>\n",
       "</div>"
      ],
      "text/plain": [
       "                  Vir        Score  Komentarji     povprecje\n",
       "362         wdbj7.com  6768.000000     23756.0  15262.000000\n",
       "182          ktla.com  5626.333333     18992.0  12309.166667\n",
       "220  mysanantonio.com  7396.000000     13653.0  10524.500000\n",
       "177          krdo.com  5522.000000     14886.0  10204.000000\n",
       "79       dailykos.com  5344.000000     10594.0   7969.000000"
      ]
     },
     "execution_count": 42,
     "metadata": {},
     "output_type": "execute_result"
    }
   ],
   "source": [
    "viri_povprecje_top=news_top_viri.mean()\n",
    "viri_povprecje_top['povprecje']=viri_povprecje_top.iloc[:, 1:3].mean(axis=1)\n",
    "#5 Najboljših virov news_top\n",
    "naj5_news_top=viri_povprecje_top.sort_values(['povprecje'],ascending=False).head()\n",
    "naj5_news_top"
   ]
  },
  {
   "cell_type": "code",
   "execution_count": 43,
   "metadata": {
    "collapsed": false,
    "scrolled": true
   },
   "outputs": [
    {
     "data": {
      "text/html": [
       "<div>\n",
       "<table border=\"1\" class=\"dataframe\">\n",
       "  <thead>\n",
       "    <tr style=\"text-align: right;\">\n",
       "      <th></th>\n",
       "      <th>Naslov</th>\n",
       "      <th>Score</th>\n",
       "      <th>Komentarji</th>\n",
       "      <th>Vir</th>\n",
       "    </tr>\n",
       "  </thead>\n",
       "  <tbody>\n",
       "    <tr>\n",
       "      <th>100</th>\n",
       "      <td>Reporter &amp;amp; Crew shot on live tv. WDBJ7. Video in comments.</td>\n",
       "      <td>6768</td>\n",
       "      <td>23756</td>\n",
       "      <td>wdbj7.com</td>\n",
       "    </tr>\n",
       "  </tbody>\n",
       "</table>\n",
       "</div>"
      ],
      "text/plain": [
       "                                                             Naslov  Score  \\\n",
       "100  Reporter &amp; Crew shot on live tv. WDBJ7. Video in comments.   6768   \n",
       "\n",
       "     Komentarji        Vir  \n",
       "100       23756  wdbj7.com  "
      ]
     },
     "execution_count": 43,
     "metadata": {},
     "output_type": "execute_result"
    }
   ],
   "source": [
    "#Kakšne novice ima?\n",
    "novice_vira(news_top,prvi_vir(naj5_news_top))\n",
    "#Novica o uboju novinarske ekipe pred kamero je sprožila ogromno debato. Ali je to tudi najboljkomentirana novica?"
   ]
  },
  {
   "cell_type": "markdown",
   "metadata": {},
   "source": [
    "###### Najboljši v r/wnews kontroverzno"
   ]
  },
  {
   "cell_type": "code",
   "execution_count": 50,
   "metadata": {
    "collapsed": false
   },
   "outputs": [
    {
     "data": {
      "text/html": [
       "<div>\n",
       "<table border=\"1\" class=\"dataframe\">\n",
       "  <thead>\n",
       "    <tr style=\"text-align: right;\">\n",
       "      <th></th>\n",
       "      <th>Vir</th>\n",
       "      <th>Score</th>\n",
       "      <th>Komentarji</th>\n",
       "      <th>povprecje</th>\n",
       "    </tr>\n",
       "  </thead>\n",
       "  <tbody>\n",
       "    <tr>\n",
       "      <th>177</th>\n",
       "      <td>ibtimes.com</td>\n",
       "      <td>3921.0</td>\n",
       "      <td>9618.0</td>\n",
       "      <td>6769.5</td>\n",
       "    </tr>\n",
       "    <tr>\n",
       "      <th>63</th>\n",
       "      <td>cphpost.dk</td>\n",
       "      <td>2404.0</td>\n",
       "      <td>10656.0</td>\n",
       "      <td>6530.0</td>\n",
       "    </tr>\n",
       "    <tr>\n",
       "      <th>350</th>\n",
       "      <td>thehill.com</td>\n",
       "      <td>2211.0</td>\n",
       "      <td>6491.0</td>\n",
       "      <td>4351.0</td>\n",
       "    </tr>\n",
       "    <tr>\n",
       "      <th>367</th>\n",
       "      <td>theweek.co.uk</td>\n",
       "      <td>1299.0</td>\n",
       "      <td>5287.0</td>\n",
       "      <td>3293.0</td>\n",
       "    </tr>\n",
       "    <tr>\n",
       "      <th>334</th>\n",
       "      <td>standard.co.uk</td>\n",
       "      <td>1343.0</td>\n",
       "      <td>5128.0</td>\n",
       "      <td>3235.5</td>\n",
       "    </tr>\n",
       "  </tbody>\n",
       "</table>\n",
       "</div>"
      ],
      "text/plain": [
       "                Vir   Score  Komentarji  povprecje\n",
       "177     ibtimes.com  3921.0      9618.0     6769.5\n",
       "63       cphpost.dk  2404.0     10656.0     6530.0\n",
       "350     thehill.com  2211.0      6491.0     4351.0\n",
       "367   theweek.co.uk  1299.0      5287.0     3293.0\n",
       "334  standard.co.uk  1343.0      5128.0     3235.5"
      ]
     },
     "execution_count": 50,
     "metadata": {},
     "output_type": "execute_result"
    }
   ],
   "source": [
    "viri_povprecje_wcon=wnews_con_viri.mean()\n",
    "viri_povprecje_wcon['povprecje']=viri_povprecje_wcon.iloc[:, 1:3].mean(axis=1)\n",
    "#5 Najboljših\n",
    "naj5_wnews_con=viri_povprecje_wcon.sort_values(['povprecje'],ascending=False).head()\n",
    "naj5_wnews_con"
   ]
  },
  {
   "cell_type": "code",
   "execution_count": 51,
   "metadata": {
    "collapsed": false,
    "scrolled": true
   },
   "outputs": [
    {
     "data": {
      "text/html": [
       "<div>\n",
       "<table border=\"1\" class=\"dataframe\">\n",
       "  <thead>\n",
       "    <tr style=\"text-align: right;\">\n",
       "      <th></th>\n",
       "      <th>Naslov</th>\n",
       "      <th>Score</th>\n",
       "      <th>Komentarji</th>\n",
       "      <th>Vir</th>\n",
       "    </tr>\n",
       "  </thead>\n",
       "  <tbody>\n",
       "    <tr>\n",
       "      <th>207</th>\n",
       "      <td>Donald Trump A ‘Threat To Peace And Prosperity,’ German Vice Chancellor Says</td>\n",
       "      <td>3921</td>\n",
       "      <td>9618</td>\n",
       "      <td>ibtimes.com</td>\n",
       "    </tr>\n",
       "  </tbody>\n",
       "</table>\n",
       "</div>"
      ],
      "text/plain": [
       "                                                                           Naslov  \\\n",
       "207  Donald Trump A ‘Threat To Peace And Prosperity,’ German Vice Chancellor Says   \n",
       "\n",
       "     Score  Komentarji          Vir  \n",
       "207   3921        9618  ibtimes.com  "
      ]
     },
     "execution_count": 51,
     "metadata": {},
     "output_type": "execute_result"
    }
   ],
   "source": [
    "#Kakšne novice ima?\n",
    "novice_vira(wnews_con,prvi_vir(naj5_wnews_con,0))"
   ]
  },
  {
   "cell_type": "markdown",
   "metadata": {},
   "source": [
    "##### Najboljši v r/wnews najboljse "
   ]
  },
  {
   "cell_type": "code",
   "execution_count": 86,
   "metadata": {
    "collapsed": false,
    "scrolled": true
   },
   "outputs": [
    {
     "data": {
      "text/html": [
       "<div>\n",
       "<table border=\"1\" class=\"dataframe\">\n",
       "  <thead>\n",
       "    <tr style=\"text-align: right;\">\n",
       "      <th></th>\n",
       "      <th>Vir</th>\n",
       "      <th>Score</th>\n",
       "      <th>Komentarji</th>\n",
       "      <th>povprecje</th>\n",
       "    </tr>\n",
       "  </thead>\n",
       "  <tbody>\n",
       "    <tr>\n",
       "      <th>191</th>\n",
       "      <td>panamapapers.sueddeutsche.de</td>\n",
       "      <td>11883.0</td>\n",
       "      <td>12842.0</td>\n",
       "      <td>12362.5</td>\n",
       "    </tr>\n",
       "    <tr>\n",
       "      <th>223</th>\n",
       "      <td>self.worldnews</td>\n",
       "      <td>7880.0</td>\n",
       "      <td>14908.0</td>\n",
       "      <td>11394.0</td>\n",
       "    </tr>\n",
       "    <tr>\n",
       "      <th>282</th>\n",
       "      <td>translate.google.com</td>\n",
       "      <td>5588.0</td>\n",
       "      <td>15399.0</td>\n",
       "      <td>10493.5</td>\n",
       "    </tr>\n",
       "    <tr>\n",
       "      <th>254</th>\n",
       "      <td>theglobeandmail.com</td>\n",
       "      <td>5318.0</td>\n",
       "      <td>12789.0</td>\n",
       "      <td>9053.5</td>\n",
       "    </tr>\n",
       "    <tr>\n",
       "      <th>100</th>\n",
       "      <td>gu.com</td>\n",
       "      <td>9417.0</td>\n",
       "      <td>5784.0</td>\n",
       "      <td>7600.5</td>\n",
       "    </tr>\n",
       "  </tbody>\n",
       "</table>\n",
       "</div>"
      ],
      "text/plain": [
       "                              Vir    Score  Komentarji  povprecje\n",
       "191  panamapapers.sueddeutsche.de  11883.0     12842.0    12362.5\n",
       "223                self.worldnews   7880.0     14908.0    11394.0\n",
       "282          translate.google.com   5588.0     15399.0    10493.5\n",
       "254           theglobeandmail.com   5318.0     12789.0     9053.5\n",
       "100                        gu.com   9417.0      5784.0     7600.5"
      ]
     },
     "execution_count": 86,
     "metadata": {},
     "output_type": "execute_result"
    }
   ],
   "source": [
    "viri_povprecje_wtop=wnews_top_viri.mean()\n",
    "viri_povprecje_wtop['povprecje']=viri_povprecje_wtop.iloc[:, 1:3].mean(axis=1)\n",
    "# Najboljših 5\n",
    "naj5_wnews_top=viri_povprecje_wtop.sort_values(['povprecje'],ascending=False).head()\n",
    "naj5_wnews_top"
   ]
  },
  {
   "cell_type": "code",
   "execution_count": 88,
   "metadata": {
    "collapsed": false,
    "scrolled": true
   },
   "outputs": [
    {
     "data": {
      "text/html": [
       "<div>\n",
       "<table border=\"1\" class=\"dataframe\">\n",
       "  <thead>\n",
       "    <tr style=\"text-align: right;\">\n",
       "      <th></th>\n",
       "      <th>Naslov</th>\n",
       "      <th>Score</th>\n",
       "      <th>Komentarji</th>\n",
       "      <th>Vir</th>\n",
       "    </tr>\n",
       "  </thead>\n",
       "  <tbody>\n",
       "    <tr>\n",
       "      <th>3</th>\n",
       "      <td>2.6 terabyte leak of Panamanian shell company data reveals \"how a global industry led by major banks, legal firms, and asset management companies secretly manages the estates of politicians, Fifa officials, fraudsters and drug smugglers, celebrities and professional athletes.\"</td>\n",
       "      <td>11883</td>\n",
       "      <td>12842</td>\n",
       "      <td>panamapapers.sueddeutsche.de</td>\n",
       "    </tr>\n",
       "  </tbody>\n",
       "</table>\n",
       "</div>"
      ],
      "text/plain": [
       "                                                                                                                                                                                                                                                                                  Naslov  \\\n",
       "3  2.6 terabyte leak of Panamanian shell company data reveals \"how a global industry led by major banks, legal firms, and asset management companies secretly manages the estates of politicians, Fifa officials, fraudsters and drug smugglers, celebrities and professional athletes.\"   \n",
       "\n",
       "   Score  Komentarji                           Vir  \n",
       "3  11883       12842  panamapapers.sueddeutsche.de  "
      ]
     },
     "execution_count": 88,
     "metadata": {},
     "output_type": "execute_result"
    }
   ],
   "source": [
    "#Kakšne novice ima?\n",
    "novice_vira(wnews_top,prvi_vir(naj5_wnews_top,0))\n"
   ]
  },
  {
   "cell_type": "markdown",
   "metadata": {},
   "source": [
    "Na prvem mestu je udarna novica o razkritju panamskih dokumentov. Dokumenti so razkrili in omajali ugled različnim svetnovnim politikom, športnikom in zvezdnikom. Velik zalogaj infomacij odkriva pranje denarja v 'slamantih podjetjih' v Panami.\n"
   ]
  },
  {
   "cell_type": "markdown",
   "metadata": {},
   "source": [
    "self.worldnews ni vir novic, to so administratorji podstrani r/worldnews. Objava s tem naslovom vključuje več povezav na različne vire novice povezane s to temo. \n",
    "\n",
    "Vsak najbolje ocenjen vir (iz posamezne kategorije in nasplošno) ima po eno novico (razen ktla.com, ki ima 2). Pojavitev ene same novice enostavno pojasnii visoko povprečje novice, saj nobena slabše ocenjena novica ne pokvari povprečja kot pri virih z več novicami."
   ]
  },
  {
   "cell_type": "markdown",
   "metadata": {},
   "source": [
    "#### Najboljši vir nasploh\n",
    "Poiščem najbolje ocenjen in komentiran vir v vseh kategorijah. \n",
    "Sedaj se odločim poiskati rezultat s pomočjo mediane. "
   ]
  },
  {
   "cell_type": "code",
   "execution_count": 89,
   "metadata": {
    "collapsed": false
   },
   "outputs": [],
   "source": [
    "povprecje_kategorij=vsi_viri.mean()\n",
    "seznam_kategorij=list (povprecje_kategorij.reset_index()['index'])\n",
    "#relativne ocene in komentarji posameznega vira za vsako kategorijo\n",
    "for i in seznam_kategorij:\n",
    "    vsi_viri[i] = vsi_viri[i]/(vsi_viri.mean()[i])"
   ]
  },
  {
   "cell_type": "code",
   "execution_count": 90,
   "metadata": {
    "collapsed": false
   },
   "outputs": [],
   "source": [
    "#Vire razvrstim glede na mediano in glede na povprecje\n",
    "vsi_viri['povprecje']=vsi_viri.iloc[:, 1:].mean(axis=1)\n",
    "vsi_viri['median']=vsi_viri.iloc[:, 1:].median(axis=1)"
   ]
  },
  {
   "cell_type": "code",
   "execution_count": 91,
   "metadata": {
    "collapsed": false,
    "scrolled": true
   },
   "outputs": [
    {
     "data": {
      "text/html": [
       "<div>\n",
       "<table border=\"1\" class=\"dataframe\">\n",
       "  <thead>\n",
       "    <tr style=\"text-align: right;\">\n",
       "      <th></th>\n",
       "      <th>Vir</th>\n",
       "      <th>Score_news_con</th>\n",
       "      <th>Komentarji_news_con</th>\n",
       "      <th>Score_news_top</th>\n",
       "      <th>Komentarji_news_top</th>\n",
       "      <th>Score_wnews_con</th>\n",
       "      <th>Komentarji_wnews_con</th>\n",
       "      <th>Score_wnews_top</th>\n",
       "      <th>Komentarji_wnews_top</th>\n",
       "      <th>median</th>\n",
       "      <th>povprecje</th>\n",
       "    </tr>\n",
       "  </thead>\n",
       "  <tbody>\n",
       "    <tr>\n",
       "      <th>29</th>\n",
       "      <td>washingtonpost.com</td>\n",
       "      <td>2.794582</td>\n",
       "      <td>3.974554</td>\n",
       "      <td>1.031985</td>\n",
       "      <td>1.064776</td>\n",
       "      <td>4.504999</td>\n",
       "      <td>3.644675</td>\n",
       "      <td>0.942680</td>\n",
       "      <td>0.842814</td>\n",
       "      <td>2.533711</td>\n",
       "      <td>2.383553</td>\n",
       "    </tr>\n",
       "    <tr>\n",
       "      <th>12</th>\n",
       "      <td>independent.co.uk</td>\n",
       "      <td>3.060866</td>\n",
       "      <td>5.990779</td>\n",
       "      <td>0.995196</td>\n",
       "      <td>1.016629</td>\n",
       "      <td>2.472533</td>\n",
       "      <td>2.378561</td>\n",
       "      <td>0.983348</td>\n",
       "      <td>0.796377</td>\n",
       "      <td>2.310900</td>\n",
       "      <td>2.243238</td>\n",
       "    </tr>\n",
       "    <tr>\n",
       "      <th>4</th>\n",
       "      <td>businessinsider.com</td>\n",
       "      <td>4.388717</td>\n",
       "      <td>5.910062</td>\n",
       "      <td>0.866241</td>\n",
       "      <td>1.433373</td>\n",
       "      <td>0.726593</td>\n",
       "      <td>0.542777</td>\n",
       "      <td>0.991492</td>\n",
       "      <td>0.701615</td>\n",
       "      <td>1.061892</td>\n",
       "      <td>1.863865</td>\n",
       "    </tr>\n",
       "    <tr>\n",
       "      <th>1</th>\n",
       "      <td>bbc.com</td>\n",
       "      <td>0.029828</td>\n",
       "      <td>0.182754</td>\n",
       "      <td>0.976346</td>\n",
       "      <td>1.091468</td>\n",
       "      <td>5.300548</td>\n",
       "      <td>5.654239</td>\n",
       "      <td>0.976878</td>\n",
       "      <td>0.919038</td>\n",
       "      <td>1.034173</td>\n",
       "      <td>1.813846</td>\n",
       "    </tr>\n",
       "    <tr>\n",
       "      <th>6</th>\n",
       "      <td>cbc.ca</td>\n",
       "      <td>0.573695</td>\n",
       "      <td>0.466023</td>\n",
       "      <td>1.023239</td>\n",
       "      <td>0.998891</td>\n",
       "      <td>2.602928</td>\n",
       "      <td>3.620671</td>\n",
       "      <td>0.977917</td>\n",
       "      <td>0.940261</td>\n",
       "      <td>1.011065</td>\n",
       "      <td>1.374509</td>\n",
       "    </tr>\n",
       "  </tbody>\n",
       "</table>\n",
       "</div>"
      ],
      "text/plain": [
       "                    Vir  Score_news_con  Komentarji_news_con  Score_news_top  \\\n",
       "29   washingtonpost.com        2.794582             3.974554        1.031985   \n",
       "12    independent.co.uk        3.060866             5.990779        0.995196   \n",
       "4   businessinsider.com        4.388717             5.910062        0.866241   \n",
       "1               bbc.com        0.029828             0.182754        0.976346   \n",
       "6                cbc.ca        0.573695             0.466023        1.023239   \n",
       "\n",
       "    Komentarji_news_top  Score_wnews_con  Komentarji_wnews_con  \\\n",
       "29             1.064776         4.504999              3.644675   \n",
       "12             1.016629         2.472533              2.378561   \n",
       "4              1.433373         0.726593              0.542777   \n",
       "1              1.091468         5.300548              5.654239   \n",
       "6              0.998891         2.602928              3.620671   \n",
       "\n",
       "    Score_wnews_top  Komentarji_wnews_top    median  povprecje  \n",
       "29         0.942680              0.842814  2.533711   2.383553  \n",
       "12         0.983348              0.796377  2.310900   2.243238  \n",
       "4          0.991492              0.701615  1.061892   1.863865  \n",
       "1          0.976878              0.919038  1.034173   1.813846  \n",
       "6          0.977917              0.940261  1.011065   1.374509  "
      ]
     },
     "execution_count": 91,
     "metadata": {},
     "output_type": "execute_result"
    }
   ],
   "source": [
    "#5 najboljših virov glede na povprecje\n",
    "naj_viri_5=vsi_viri.sort_values(by='povprecje',ascending=False).head()\n",
    "naj_viri_5"
   ]
  },
  {
   "cell_type": "code",
   "execution_count": 93,
   "metadata": {
    "collapsed": false,
    "scrolled": true
   },
   "outputs": [
    {
     "data": {
      "text/html": [
       "<div>\n",
       "<table border=\"1\" class=\"dataframe\">\n",
       "  <thead>\n",
       "    <tr style=\"text-align: right;\">\n",
       "      <th></th>\n",
       "      <th>Vir</th>\n",
       "      <th>Score_news_con</th>\n",
       "      <th>Komentarji_news_con</th>\n",
       "      <th>Score_news_top</th>\n",
       "      <th>Komentarji_news_top</th>\n",
       "      <th>Score_wnews_con</th>\n",
       "      <th>Komentarji_wnews_con</th>\n",
       "      <th>Score_wnews_top</th>\n",
       "      <th>Komentarji_wnews_top</th>\n",
       "      <th>median</th>\n",
       "      <th>povprecje</th>\n",
       "    </tr>\n",
       "  </thead>\n",
       "  <tbody>\n",
       "    <tr>\n",
       "      <th>29</th>\n",
       "      <td>washingtonpost.com</td>\n",
       "      <td>2.794582</td>\n",
       "      <td>3.974554</td>\n",
       "      <td>1.031985</td>\n",
       "      <td>1.064776</td>\n",
       "      <td>4.504999</td>\n",
       "      <td>3.644675</td>\n",
       "      <td>0.942680</td>\n",
       "      <td>0.842814</td>\n",
       "      <td>2.533711</td>\n",
       "      <td>2.383553</td>\n",
       "    </tr>\n",
       "    <tr>\n",
       "      <th>12</th>\n",
       "      <td>independent.co.uk</td>\n",
       "      <td>3.060866</td>\n",
       "      <td>5.990779</td>\n",
       "      <td>0.995196</td>\n",
       "      <td>1.016629</td>\n",
       "      <td>2.472533</td>\n",
       "      <td>2.378561</td>\n",
       "      <td>0.983348</td>\n",
       "      <td>0.796377</td>\n",
       "      <td>2.310900</td>\n",
       "      <td>2.243238</td>\n",
       "    </tr>\n",
       "    <tr>\n",
       "      <th>15</th>\n",
       "      <td>nbcnews.com</td>\n",
       "      <td>2.668910</td>\n",
       "      <td>2.183621</td>\n",
       "      <td>0.971637</td>\n",
       "      <td>1.225671</td>\n",
       "      <td>0.232424</td>\n",
       "      <td>0.645211</td>\n",
       "      <td>0.977657</td>\n",
       "      <td>1.145569</td>\n",
       "      <td>1.185620</td>\n",
       "      <td>1.261553</td>\n",
       "    </tr>\n",
       "    <tr>\n",
       "      <th>7</th>\n",
       "      <td>cnn.com</td>\n",
       "      <td>0.100940</td>\n",
       "      <td>0.324234</td>\n",
       "      <td>1.012450</td>\n",
       "      <td>1.539156</td>\n",
       "      <td>2.093605</td>\n",
       "      <td>1.995642</td>\n",
       "      <td>0.915253</td>\n",
       "      <td>1.068030</td>\n",
       "      <td>1.104035</td>\n",
       "      <td>1.140039</td>\n",
       "    </tr>\n",
       "    <tr>\n",
       "      <th>0</th>\n",
       "      <td>bbc.co.uk</td>\n",
       "      <td>0.013002</td>\n",
       "      <td>0.058185</td>\n",
       "      <td>0.933541</td>\n",
       "      <td>1.849072</td>\n",
       "      <td>1.348944</td>\n",
       "      <td>1.446234</td>\n",
       "      <td>0.984177</td>\n",
       "      <td>1.262370</td>\n",
       "      <td>1.064034</td>\n",
       "      <td>1.000975</td>\n",
       "    </tr>\n",
       "  </tbody>\n",
       "</table>\n",
       "</div>"
      ],
      "text/plain": [
       "                   Vir  Score_news_con  Komentarji_news_con  Score_news_top  \\\n",
       "29  washingtonpost.com        2.794582             3.974554        1.031985   \n",
       "12   independent.co.uk        3.060866             5.990779        0.995196   \n",
       "15         nbcnews.com        2.668910             2.183621        0.971637   \n",
       "7              cnn.com        0.100940             0.324234        1.012450   \n",
       "0            bbc.co.uk        0.013002             0.058185        0.933541   \n",
       "\n",
       "    Komentarji_news_top  Score_wnews_con  Komentarji_wnews_con  \\\n",
       "29             1.064776         4.504999              3.644675   \n",
       "12             1.016629         2.472533              2.378561   \n",
       "15             1.225671         0.232424              0.645211   \n",
       "7              1.539156         2.093605              1.995642   \n",
       "0              1.849072         1.348944              1.446234   \n",
       "\n",
       "    Score_wnews_top  Komentarji_wnews_top    median  povprecje  \n",
       "29         0.942680              0.842814  2.533711   2.383553  \n",
       "12         0.983348              0.796377  2.310900   2.243238  \n",
       "15         0.977657              1.145569  1.185620   1.261553  \n",
       "7          0.915253              1.068030  1.104035   1.140039  \n",
       "0          0.984177              1.262370  1.064034   1.000975  "
      ]
     },
     "execution_count": 93,
     "metadata": {},
     "output_type": "execute_result"
    }
   ],
   "source": [
    "#5 najboljših virov glede na mediano\n",
    "naj_viri_5=vsi_viri.sort_values(by='median',ascending=False).head()\n",
    "naj_viri_5"
   ]
  },
  {
   "cell_type": "code",
   "execution_count": 94,
   "metadata": {
    "collapsed": false
   },
   "outputs": [
    {
     "data": {
      "text/plain": [
       "<matplotlib.axes._subplots.AxesSubplot at 0x7f0420ff97b8>"
      ]
     },
     "execution_count": 94,
     "metadata": {},
     "output_type": "execute_result"
    },
    {
     "data": {
      "image/png": "[encoded data removed]",
      "text/plain": [
       "<matplotlib.figure.Figure at 0x7f0420fe82e8>"
      ]
     },
     "metadata": {},
     "output_type": "display_data"
    }
   ],
   "source": [
    "naj_viri_5[['Vir','povprecje']].plot(kind='barh',x='Vir', y='povprecje',figsize=(10,7))"
   ]
  },
  {
   "cell_type": "code",
   "execution_count": 97,
   "metadata": {
    "collapsed": false
   },
   "outputs": [
    {
     "data": {
      "text/html": [
       "<div>\n",
       "<table border=\"1\" class=\"dataframe\">\n",
       "  <thead>\n",
       "    <tr style=\"text-align: right;\">\n",
       "      <th></th>\n",
       "      <th>Naslov</th>\n",
       "      <th>Score</th>\n",
       "      <th>Komentarji</th>\n",
       "      <th>Vir</th>\n",
       "      <th>povprecje</th>\n",
       "    </tr>\n",
       "  </thead>\n",
       "  <tbody>\n",
       "    <tr>\n",
       "      <th>823</th>\n",
       "      <td>Supreme Court legalizes gay marriage</td>\n",
       "      <td>5175</td>\n",
       "      <td>17029</td>\n",
       "      <td>washingtonpost.com</td>\n",
       "      <td>11102.0</td>\n",
       "    </tr>\n",
       "    <tr>\n",
       "      <th>360</th>\n",
       "      <td>Supreme Court legalizes gay marriage</td>\n",
       "      <td>5169</td>\n",
       "      <td>17029</td>\n",
       "      <td>washingtonpost.com</td>\n",
       "      <td>11099.0</td>\n",
       "    </tr>\n",
       "    <tr>\n",
       "      <th>7</th>\n",
       "      <td>An ‘unarmed’ white teen was shot dead by police. His family asks: Where is the outrage? -- Hammond’s family released the results of a private autopsy, which concluded that both bullets entered Hammond’s body from the back.</td>\n",
       "      <td>8935</td>\n",
       "      <td>6352</td>\n",
       "      <td>washingtonpost.com</td>\n",
       "      <td>7643.5</td>\n",
       "    </tr>\n",
       "    <tr>\n",
       "      <th>4</th>\n",
       "      <td>A toddler got meningitis. His anti-vac parents gave him an herbal remedy. The toddler died. Now his parents are on trial.</td>\n",
       "      <td>9210</td>\n",
       "      <td>5801</td>\n",
       "      <td>washingtonpost.com</td>\n",
       "      <td>7505.5</td>\n",
       "    </tr>\n",
       "    <tr>\n",
       "      <th>892</th>\n",
       "      <td>Kansas wants to ban welfare recipients from seeing movies, going swimming on government’s dime</td>\n",
       "      <td>5079</td>\n",
       "      <td>9562</td>\n",
       "      <td>washingtonpost.com</td>\n",
       "      <td>7320.5</td>\n",
       "    </tr>\n",
       "  </tbody>\n",
       "</table>\n",
       "</div>"
      ],
      "text/plain": [
       "                                                                                                                                                                                                                             Naslov  \\\n",
       "823                                                                                                                                                                                            Supreme Court legalizes gay marriage   \n",
       "360                                                                                                                                                                                            Supreme Court legalizes gay marriage   \n",
       "7    An ‘unarmed’ white teen was shot dead by police. His family asks: Where is the outrage? -- Hammond’s family released the results of a private autopsy, which concluded that both bullets entered Hammond’s body from the back.   \n",
       "4                                                                                                         A toddler got meningitis. His anti-vac parents gave him an herbal remedy. The toddler died. Now his parents are on trial.   \n",
       "892                                                                                                                                  Kansas wants to ban welfare recipients from seeing movies, going swimming on government’s dime   \n",
       "\n",
       "     Score  Komentarji                 Vir  povprecje  \n",
       "823   5175       17029  washingtonpost.com    11102.0  \n",
       "360   5169       17029  washingtonpost.com    11099.0  \n",
       "7     8935        6352  washingtonpost.com     7643.5  \n",
       "4     9210        5801  washingtonpost.com     7505.5  \n",
       "892   5079        9562  washingtonpost.com     7320.5  "
      ]
     },
     "execution_count": 97,
     "metadata": {},
     "output_type": "execute_result"
    }
   ],
   "source": [
    "vse_novice['povprecje']=vse_novice.iloc[:, 1:].mean(axis=1)\n",
    "novice_vira(vse_novice,prvi_vir(naj_viri_5,0)).sort_values(['povprecje'],ascending=False).head()"
   ]
  },
  {
   "cell_type": "raw",
   "metadata": {},
   "source": [
    "Opazimo, da se novica o legalizaciji istospolnih porok pojavi dvakrat. Temu lahko pripišemo tako visoko mesto washingtonposta. \n",
    "\n",
    "Ugotovila sem , da je najbolje ocenjen in komentiran vir. Washington post je eden izmed najstarejših ameriških časpoisov. Najraje se nagibajo na loberalnejšo stran ameriške politike in so glasnipodporniki demokratov. Zato je razumljivo, da kot vir ugajajo demografiki Reddita. Bralci in bralke Reddita so večinoma stari med 18 in 36 let. Za to generacijo je značilno liberalno razmišljanje, kar se odraža tudi na spletni strani. Pričakovano je, da je na prvem mestu vir, ki ustreza liberalnemu razmišljenju milenijcev."
   ]
  },
  {
   "cell_type": "markdown",
   "metadata": {},
   "source": [
    "#### Primerjava median ocen in komentarjev najpogostejših virov, ki se pojavijo v  kategorijah kontroverzno in najboljše "
   ]
  },
  {
   "cell_type": "code",
   "execution_count": 122,
   "metadata": {
    "collapsed": false
   },
   "outputs": [],
   "source": [
    "#združimo po skupinah najboljše in kontroverzno po virih\n",
    "kontroverznoV=pd.merge(news_con_viri.mean(),wnews_con_viri.mean(),on='Vir', how = 'left', suffixes=('_wnews_con', '_news_con'))\n",
    "najboljseV=pd.merge(news_top_viri.mean(),wnews_top_viri.mean(),on='Vir', how ='left', suffixes=('_wnews_top', '_news_top'))\n",
    "#nova stolpca za mediano kontroverzno in najboljše\n",
    "kontroverznoV['povprecje_con']=kontroverznoV.mean(axis=1)\n",
    "najboljseV['povprecje_top']=najboljseV.mean(axis=1)\n",
    "# seznam najpogostejših virov\n",
    "sez_naj10_con=list (naj10_con['Vir'])\n",
    "sez_naj10_top=list (naj10_top['Vir'])"
   ]
  },
  {
   "cell_type": "code",
   "execution_count": 123,
   "metadata": {
    "collapsed": false
   },
   "outputs": [
    {
     "data": {
      "text/html": [
       "<div>\n",
       "<table border=\"1\" class=\"dataframe\">\n",
       "  <thead>\n",
       "    <tr style=\"text-align: right;\">\n",
       "      <th></th>\n",
       "      <th>Vir</th>\n",
       "      <th>Score_wnews_con</th>\n",
       "      <th>Komentarji_wnews_con</th>\n",
       "      <th>Score_news_con</th>\n",
       "      <th>Komentarji_news_con</th>\n",
       "      <th>povprecje_con</th>\n",
       "    </tr>\n",
       "  </thead>\n",
       "  <tbody>\n",
       "    <tr>\n",
       "      <th>35</th>\n",
       "      <td>bbc.co.uk</td>\n",
       "      <td>0.010489</td>\n",
       "      <td>0.039927</td>\n",
       "      <td>1.826026</td>\n",
       "      <td>2.055413</td>\n",
       "      <td>1.395273</td>\n",
       "    </tr>\n",
       "    <tr>\n",
       "      <th>79</th>\n",
       "      <td>cnn.com</td>\n",
       "      <td>0.081429</td>\n",
       "      <td>0.222494</td>\n",
       "      <td>2.834051</td>\n",
       "      <td>2.836240</td>\n",
       "      <td>2.071755</td>\n",
       "    </tr>\n",
       "    <tr>\n",
       "      <th>94</th>\n",
       "      <td>dailymail.co.uk</td>\n",
       "      <td>0.100762</td>\n",
       "      <td>0.104725</td>\n",
       "      <td>0.657872</td>\n",
       "      <td>0.890478</td>\n",
       "      <td>0.607329</td>\n",
       "    </tr>\n",
       "    <tr>\n",
       "      <th>137</th>\n",
       "      <td>foxnews.com</td>\n",
       "      <td>0.049907</td>\n",
       "      <td>0.203112</td>\n",
       "      <td>1.899402</td>\n",
       "      <td>6.608570</td>\n",
       "      <td>3.351396</td>\n",
       "    </tr>\n",
       "    <tr>\n",
       "      <th>173</th>\n",
       "      <td>independent.co.uk</td>\n",
       "      <td>2.469214</td>\n",
       "      <td>4.110962</td>\n",
       "      <td>3.346994</td>\n",
       "      <td>3.380452</td>\n",
       "      <td>3.898315</td>\n",
       "    </tr>\n",
       "    <tr>\n",
       "      <th>269</th>\n",
       "      <td>news.yahoo.com</td>\n",
       "      <td>0.089232</td>\n",
       "      <td>0.172219</td>\n",
       "      <td>0.158526</td>\n",
       "      <td>0.310438</td>\n",
       "      <td>0.235591</td>\n",
       "    </tr>\n",
       "    <tr>\n",
       "      <th>284</th>\n",
       "      <td>nytimes.com</td>\n",
       "      <td>2.920030</td>\n",
       "      <td>1.497161</td>\n",
       "      <td>0.404262</td>\n",
       "      <td>0.133202</td>\n",
       "      <td>1.154956</td>\n",
       "    </tr>\n",
       "    <tr>\n",
       "      <th>318</th>\n",
       "      <td>rt.com</td>\n",
       "      <td>1.552834</td>\n",
       "      <td>0.728763</td>\n",
       "      <td>0.393320</td>\n",
       "      <td>0.410447</td>\n",
       "      <td>0.790426</td>\n",
       "    </tr>\n",
       "    <tr>\n",
       "      <th>355</th>\n",
       "      <td>theguardian.com</td>\n",
       "      <td>0.878133</td>\n",
       "      <td>0.560984</td>\n",
       "      <td>2.577148</td>\n",
       "      <td>1.814947</td>\n",
       "      <td>1.824671</td>\n",
       "    </tr>\n",
       "    <tr>\n",
       "      <th>404</th>\n",
       "      <td>washingtonpost.com</td>\n",
       "      <td>2.254402</td>\n",
       "      <td>2.727398</td>\n",
       "      <td>6.098284</td>\n",
       "      <td>5.179874</td>\n",
       "      <td>5.062668</td>\n",
       "    </tr>\n",
       "  </tbody>\n",
       "</table>\n",
       "</div>"
      ],
      "text/plain": [
       "                    Vir  Score_wnews_con  Komentarji_wnews_con  \\\n",
       "35            bbc.co.uk         0.010489              0.039927   \n",
       "79              cnn.com         0.081429              0.222494   \n",
       "94      dailymail.co.uk         0.100762              0.104725   \n",
       "137         foxnews.com         0.049907              0.203112   \n",
       "173   independent.co.uk         2.469214              4.110962   \n",
       "269      news.yahoo.com         0.089232              0.172219   \n",
       "284         nytimes.com         2.920030              1.497161   \n",
       "318              rt.com         1.552834              0.728763   \n",
       "355     theguardian.com         0.878133              0.560984   \n",
       "404  washingtonpost.com         2.254402              2.727398   \n",
       "\n",
       "     Score_news_con  Komentarji_news_con  povprecje_con  \n",
       "35         1.826026             2.055413       1.395273  \n",
       "79         2.834051             2.836240       2.071755  \n",
       "94         0.657872             0.890478       0.607329  \n",
       "137        1.899402             6.608570       3.351396  \n",
       "173        3.346994             3.380452       3.898315  \n",
       "269        0.158526             0.310438       0.235591  \n",
       "284        0.404262             0.133202       1.154956  \n",
       "318        0.393320             0.410447       0.790426  \n",
       "355        2.577148             1.814947       1.824671  \n",
       "404        6.098284             5.179874       5.062668  "
      ]
     },
     "execution_count": 123,
     "metadata": {},
     "output_type": "execute_result"
    }
   ],
   "source": [
    "seznam_kategorij2=list (kontroverznoV.mean().reset_index()['index'])\n",
    "\n",
    "for i in seznam_kategorij2:\n",
    "    kontroverznoV[i] = kontroverznoV[i]/(kontroverznoV.mean()[i])\n",
    "\n",
    "Kontroverzno_pogosti=kontroverznoV[(kontroverznoV['Vir']==sez_naj10_con[0])|\n",
    "              (kontroverznoV['Vir']==sez_naj10_con[1])|\n",
    "              (kontroverznoV['Vir']==sez_naj10_con[2])|\n",
    "              (kontroverznoV['Vir']==sez_naj10_con[3])|\n",
    "              (kontroverznoV['Vir']==sez_naj10_con[4])|\n",
    "              (kontroverznoV['Vir']==sez_naj10_con[5])|\n",
    "              (kontroverznoV['Vir']==sez_naj10_con[6])|\n",
    "              (kontroverznoV['Vir']==sez_naj10_con[7])|\n",
    "              (kontroverznoV['Vir']==sez_naj10_con[8])|\n",
    "              (kontroverznoV['Vir']==sez_naj10_con[9])]\n",
    "Kontroverzno_pogosti"
   ]
  },
  {
   "cell_type": "code",
   "execution_count": 124,
   "metadata": {
    "collapsed": false,
    "scrolled": true
   },
   "outputs": [
    {
     "data": {
      "text/plain": [
       "<matplotlib.axes._subplots.AxesSubplot at 0x7f0420292198>"
      ]
     },
     "execution_count": 124,
     "metadata": {},
     "output_type": "execute_result"
    },
    {
     "data": {
      "image/png": "[encoded data removed]",
      "text/plain": [
       "<matplotlib.figure.Figure at 0x7f0420324208>"
      ]
     },
     "metadata": {},
     "output_type": "display_data"
    }
   ],
   "source": [
    "#primerjava komentarjev in ocen kategorije kontroverzno\n",
    "Kontroverzno_pogosti[['Vir','Komentarji_news_con','Komentarji_wnews_con','Score_news_con','Score_wnews_con']].plot(x='Vir',kind='barh',stacked=False,figsize=(20,20),fontsize=25)"
   ]
  },
  {
   "cell_type": "code",
   "execution_count": 125,
   "metadata": {
    "collapsed": false,
    "scrolled": true
   },
   "outputs": [
    {
     "data": {
      "text/html": [
       "<div>\n",
       "<table border=\"1\" class=\"dataframe\">\n",
       "  <thead>\n",
       "    <tr style=\"text-align: right;\">\n",
       "      <th></th>\n",
       "      <th>Naslov</th>\n",
       "      <th>Score</th>\n",
       "      <th>Komentarji</th>\n",
       "      <th>Vir</th>\n",
       "      <th>povprecje</th>\n",
       "    </tr>\n",
       "  </thead>\n",
       "  <tbody>\n",
       "    <tr>\n",
       "      <th>27</th>\n",
       "      <td>Registered gun owners in the United Kingdom are now subject to unannounced visits to their homes under new guidance that allows police to inspect firearms storage without a warrant</td>\n",
       "      <td>1950</td>\n",
       "      <td>9505</td>\n",
       "      <td>foxnews.com</td>\n",
       "      <td>5727.5</td>\n",
       "    </tr>\n",
       "    <tr>\n",
       "      <th>758</th>\n",
       "      <td>Mississippi school district fined $7500 for opening assembly with prayer</td>\n",
       "      <td>5286</td>\n",
       "      <td>5316</td>\n",
       "      <td>foxnews.com</td>\n",
       "      <td>5301.0</td>\n",
       "    </tr>\n",
       "    <tr>\n",
       "      <th>312</th>\n",
       "      <td>'Severe blow': Al Qaeda suicide bomber takes out leadership of key ISIS brigade</td>\n",
       "      <td>6423</td>\n",
       "      <td>4549</td>\n",
       "      <td>foxnews.com</td>\n",
       "      <td>5486.0</td>\n",
       "    </tr>\n",
       "    <tr>\n",
       "      <th>893</th>\n",
       "      <td>At least 1,000 doctors say Dr. Oz should resign</td>\n",
       "      <td>5078</td>\n",
       "      <td>3416</td>\n",
       "      <td>foxnews.com</td>\n",
       "      <td>4247.0</td>\n",
       "    </tr>\n",
       "    <tr>\n",
       "      <th>584</th>\n",
       "      <td>Canada tries to cut cost of US drug, gets sued</td>\n",
       "      <td>5868</td>\n",
       "      <td>3032</td>\n",
       "      <td>foxnews.com</td>\n",
       "      <td>4450.0</td>\n",
       "    </tr>\n",
       "  </tbody>\n",
       "</table>\n",
       "</div>"
      ],
      "text/plain": [
       "                                                                                                                                                                                   Naslov  \\\n",
       "27   Registered gun owners in the United Kingdom are now subject to unannounced visits to their homes under new guidance that allows police to inspect firearms storage without a warrant   \n",
       "758                                                                                                              Mississippi school district fined $7500 for opening assembly with prayer   \n",
       "312                                                                                                       'Severe blow': Al Qaeda suicide bomber takes out leadership of key ISIS brigade   \n",
       "893                                                                                                                                       At least 1,000 doctors say Dr. Oz should resign   \n",
       "584                                                                                                                                        Canada tries to cut cost of US drug, gets sued   \n",
       "\n",
       "     Score  Komentarji          Vir  povprecje  \n",
       "27    1950        9505  foxnews.com     5727.5  \n",
       "758   5286        5316  foxnews.com     5301.0  \n",
       "312   6423        4549  foxnews.com     5486.0  \n",
       "893   5078        3416  foxnews.com     4247.0  \n",
       "584   5868        3032  foxnews.com     4450.0  "
      ]
     },
     "execution_count": 125,
     "metadata": {},
     "output_type": "execute_result"
    }
   ],
   "source": [
    "#Opazimo velik skok pri foxnews.com.\n",
    "#Zanimajo nas naslovi novic.\n",
    "vse_novice[vse_novice['Vir']=='foxnews.com'].sort_values(['Komentarji'],ascending=False).head()"
   ]
  },
  {
   "cell_type": "markdown",
   "metadata": {},
   "source": [
    "Foxnews.com nam ponudi veliko perečih tem o katerih prebivalci ZDA radi debatirajo. O orožju, povezavi med vero in šolstvom, resničnostnih šovih in seveda vojaških posredovanjih. "
   ]
  },
  {
   "cell_type": "code",
   "execution_count": 126,
   "metadata": {
    "collapsed": false
   },
   "outputs": [
    {
     "data": {
      "text/html": [
       "<div>\n",
       "<table border=\"1\" class=\"dataframe\">\n",
       "  <thead>\n",
       "    <tr style=\"text-align: right;\">\n",
       "      <th></th>\n",
       "      <th>Vir</th>\n",
       "      <th>Score_wnews_top</th>\n",
       "      <th>Komentarji_wnews_top</th>\n",
       "      <th>Score_news_top</th>\n",
       "      <th>Komentarji_news_top</th>\n",
       "      <th>povprecje_top</th>\n",
       "    </tr>\n",
       "  </thead>\n",
       "  <tbody>\n",
       "    <tr>\n",
       "      <th>23</th>\n",
       "      <td>arstechnica.com</td>\n",
       "      <td>0.999677</td>\n",
       "      <td>0.717964</td>\n",
       "      <td>1.008425</td>\n",
       "      <td>0.385569</td>\n",
       "      <td>0.888801</td>\n",
       "    </tr>\n",
       "    <tr>\n",
       "      <th>28</th>\n",
       "      <td>bbc.co.uk</td>\n",
       "      <td>0.929899</td>\n",
       "      <td>1.919720</td>\n",
       "      <td>0.975866</td>\n",
       "      <td>1.420705</td>\n",
       "      <td>1.202796</td>\n",
       "    </tr>\n",
       "    <tr>\n",
       "      <th>29</th>\n",
       "      <td>bbc.com</td>\n",
       "      <td>0.972537</td>\n",
       "      <td>1.133170</td>\n",
       "      <td>0.968629</td>\n",
       "      <td>1.034310</td>\n",
       "      <td>1.029956</td>\n",
       "    </tr>\n",
       "    <tr>\n",
       "      <th>67</th>\n",
       "      <td>cnn.com</td>\n",
       "      <td>1.008501</td>\n",
       "      <td>1.597963</td>\n",
       "      <td>0.907524</td>\n",
       "      <td>1.201990</td>\n",
       "      <td>1.118820</td>\n",
       "    </tr>\n",
       "    <tr>\n",
       "      <th>149</th>\n",
       "      <td>independent.co.uk</td>\n",
       "      <td>0.991314</td>\n",
       "      <td>1.055471</td>\n",
       "      <td>0.975044</td>\n",
       "      <td>0.896264</td>\n",
       "      <td>1.005219</td>\n",
       "    </tr>\n",
       "    <tr>\n",
       "      <th>228</th>\n",
       "      <td>nbcnews.com</td>\n",
       "      <td>0.967846</td>\n",
       "      <td>1.272501</td>\n",
       "      <td>0.969401</td>\n",
       "      <td>1.289253</td>\n",
       "      <td>1.089804</td>\n",
       "    </tr>\n",
       "    <tr>\n",
       "      <th>261</th>\n",
       "      <td>nytimes.com</td>\n",
       "      <td>0.961672</td>\n",
       "      <td>1.033648</td>\n",
       "      <td>0.937487</td>\n",
       "      <td>1.173143</td>\n",
       "      <td>1.019899</td>\n",
       "    </tr>\n",
       "    <tr>\n",
       "      <th>286</th>\n",
       "      <td>reuters.com</td>\n",
       "      <td>1.011844</td>\n",
       "      <td>0.708854</td>\n",
       "      <td>0.928217</td>\n",
       "      <td>1.143101</td>\n",
       "      <td>0.976882</td>\n",
       "    </tr>\n",
       "    <tr>\n",
       "      <th>324</th>\n",
       "      <td>theguardian.com</td>\n",
       "      <td>0.980827</td>\n",
       "      <td>0.749995</td>\n",
       "      <td>0.974220</td>\n",
       "      <td>0.935236</td>\n",
       "      <td>0.958591</td>\n",
       "    </tr>\n",
       "    <tr>\n",
       "      <th>357</th>\n",
       "      <td>washingtonpost.com</td>\n",
       "      <td>1.027960</td>\n",
       "      <td>1.105458</td>\n",
       "      <td>0.934720</td>\n",
       "      <td>0.948526</td>\n",
       "      <td>1.018332</td>\n",
       "    </tr>\n",
       "  </tbody>\n",
       "</table>\n",
       "</div>"
      ],
      "text/plain": [
       "                    Vir  Score_wnews_top  Komentarji_wnews_top  \\\n",
       "23      arstechnica.com         0.999677              0.717964   \n",
       "28            bbc.co.uk         0.929899              1.919720   \n",
       "29              bbc.com         0.972537              1.133170   \n",
       "67              cnn.com         1.008501              1.597963   \n",
       "149   independent.co.uk         0.991314              1.055471   \n",
       "228         nbcnews.com         0.967846              1.272501   \n",
       "261         nytimes.com         0.961672              1.033648   \n",
       "286         reuters.com         1.011844              0.708854   \n",
       "324     theguardian.com         0.980827              0.749995   \n",
       "357  washingtonpost.com         1.027960              1.105458   \n",
       "\n",
       "     Score_news_top  Komentarji_news_top  povprecje_top  \n",
       "23         1.008425             0.385569       0.888801  \n",
       "28         0.975866             1.420705       1.202796  \n",
       "29         0.968629             1.034310       1.029956  \n",
       "67         0.907524             1.201990       1.118820  \n",
       "149        0.975044             0.896264       1.005219  \n",
       "228        0.969401             1.289253       1.089804  \n",
       "261        0.937487             1.173143       1.019899  \n",
       "286        0.928217             1.143101       0.976882  \n",
       "324        0.974220             0.935236       0.958591  \n",
       "357        0.934720             0.948526       1.018332  "
      ]
     },
     "execution_count": 126,
     "metadata": {},
     "output_type": "execute_result"
    }
   ],
   "source": [
    "seznam_kategorij3 = list (najboljseV.mean().reset_index()['index'])\n",
    "\n",
    "for i in seznam_kategorij3:\n",
    "    najboljseV[i] = najboljseV[i]/(najboljseV.mean()[i])\n",
    "\n",
    "Najboljse_pogosti=najboljseV[(najboljseV['Vir']==sez_naj10_top[0])|\n",
    "              (najboljseV['Vir']==sez_naj10_top[1])|\n",
    "              (najboljseV['Vir']==sez_naj10_top[2])|\n",
    "              (najboljseV['Vir']==sez_naj10_top[3])|\n",
    "              (najboljseV['Vir']==sez_naj10_top[4])|\n",
    "              (najboljseV['Vir']==sez_naj10_top[5])|\n",
    "              (najboljseV['Vir']==sez_naj10_top[6])|\n",
    "              (najboljseV['Vir']==sez_naj10_top[7])|\n",
    "              (najboljseV['Vir']==sez_naj10_top[8])|\n",
    "              (najboljseV['Vir']==sez_naj10_top[9])]\n",
    "Najboljse_pogosti\n"
   ]
  },
  {
   "cell_type": "code",
   "execution_count": 127,
   "metadata": {
    "collapsed": false
   },
   "outputs": [
    {
     "data": {
      "text/plain": [
       "<matplotlib.axes._subplots.AxesSubplot at 0x7f042017ac18>"
      ]
     },
     "execution_count": 127,
     "metadata": {},
     "output_type": "execute_result"
    },
    {
     "data": {
      "image/png": "[encoded data removed]",
      "text/plain": [
       "<matplotlib.figure.Figure at 0x7f04201b6c18>"
      ]
     },
     "metadata": {},
     "output_type": "display_data"
    }
   ],
   "source": [
    "#primerjava komentarjev najboljse\n",
    "Najboljse_pogosti[['Vir','Komentarji_news_top','Komentarji_wnews_top','Score_news_top','Score_wnews_top']].plot(x='Vir',kind='barh',stacked=False,figsize=(20,20),fontsize=25)"
   ]
  },
  {
   "cell_type": "markdown",
   "metadata": {},
   "source": []
  },
  {
   "cell_type": "markdown",
   "metadata": {},
   "source": [
    "V kategoriji najboljše ima bbc.co.uk na splošno največ komentarjev. "
   ]
  },
  {
   "cell_type": "code",
   "execution_count": 128,
   "metadata": {
    "collapsed": false,
    "scrolled": true
   },
   "outputs": [
    {
     "data": {
      "text/html": [
       "<div>\n",
       "<table border=\"1\" class=\"dataframe\">\n",
       "  <thead>\n",
       "    <tr style=\"text-align: right;\">\n",
       "      <th></th>\n",
       "      <th>Naslov</th>\n",
       "      <th>Score</th>\n",
       "      <th>Komentarji</th>\n",
       "      <th>Vir</th>\n",
       "      <th>povprecje</th>\n",
       "    </tr>\n",
       "  </thead>\n",
       "  <tbody>\n",
       "    <tr>\n",
       "      <th>11</th>\n",
       "      <td>'Shootings' reported in central Paris: Reports of shooting and casualties in central Paris</td>\n",
       "      <td>9968</td>\n",
       "      <td>28493</td>\n",
       "      <td>bbc.co.uk</td>\n",
       "      <td>19230.5</td>\n",
       "    </tr>\n",
       "    <tr>\n",
       "      <th>531</th>\n",
       "      <td>Co-pilot has voluntarily crashed the plane, says investigation</td>\n",
       "      <td>5589</td>\n",
       "      <td>11007</td>\n",
       "      <td>bbc.co.uk</td>\n",
       "      <td>8298.0</td>\n",
       "    </tr>\n",
       "    <tr>\n",
       "      <th>751</th>\n",
       "      <td>US oil falls below $50 a barrel</td>\n",
       "      <td>5594</td>\n",
       "      <td>8289</td>\n",
       "      <td>bbc.co.uk</td>\n",
       "      <td>6941.5</td>\n",
       "    </tr>\n",
       "    <tr>\n",
       "      <th>298</th>\n",
       "      <td>'Shootings' reported in central Paris</td>\n",
       "      <td>6066</td>\n",
       "      <td>7767</td>\n",
       "      <td>bbc.co.uk</td>\n",
       "      <td>6916.5</td>\n",
       "    </tr>\n",
       "    <tr>\n",
       "      <th>817</th>\n",
       "      <td>Germanwings plane crash: Co-pilot 'started descent'</td>\n",
       "      <td>5515</td>\n",
       "      <td>7700</td>\n",
       "      <td>bbc.co.uk</td>\n",
       "      <td>6607.5</td>\n",
       "    </tr>\n",
       "  </tbody>\n",
       "</table>\n",
       "</div>"
      ],
      "text/plain": [
       "                                                                                         Naslov  \\\n",
       "11   'Shootings' reported in central Paris: Reports of shooting and casualties in central Paris   \n",
       "531                              Co-pilot has voluntarily crashed the plane, says investigation   \n",
       "751                                                             US oil falls below $50 a barrel   \n",
       "298                                                       'Shootings' reported in central Paris   \n",
       "817                                         Germanwings plane crash: Co-pilot 'started descent'   \n",
       "\n",
       "     Score  Komentarji        Vir  povprecje  \n",
       "11    9968       28493  bbc.co.uk    19230.5  \n",
       "531   5589       11007  bbc.co.uk     8298.0  \n",
       "751   5594        8289  bbc.co.uk     6941.5  \n",
       "298   6066        7767  bbc.co.uk     6916.5  \n",
       "817   5515        7700  bbc.co.uk     6607.5  "
      ]
     },
     "execution_count": 128,
     "metadata": {},
     "output_type": "execute_result"
    }
   ],
   "source": [
    "#Zanimajo nas naslovi novic.\n",
    "vse_novice[vse_novice['Vir']=='bbc.co.uk'].sort_values(['Komentarji'],ascending=False).head()"
   ]
  },
  {
   "cell_type": "markdown",
   "metadata": {},
   "source": [
    "Skok povzroči novica o terorističnem napadu v Parizu(11), ki ima skoraj trikrat več komentarjev komentarjev kot novica(531).\n",
    "Opazimo tudi, da sta med 5 najbolj komentiranih novic bbc.co.uk dva para zapisov o isti novici. \n",
    "(11) in (298)o napadu v Parizu in (531) in (817) o strmoglavljenju letala Gremanwigs."
   ]
  },
  {
   "cell_type": "markdown",
   "metadata": {},
   "source": [
    "#### Kateri viri so izrazito kontroverzni?"
   ]
  },
  {
   "cell_type": "code",
   "execution_count": 130,
   "metadata": {
    "collapsed": false
   },
   "outputs": [],
   "source": [
    "skupna_viri=pd.merge(kontroverznoV,najboljseV,on= 'Vir', how = 'left')\n",
    "skupna_viri['relativno']=skupna_viri.povprecje_con-skupna_viri.povprecje_top"
   ]
  },
  {
   "cell_type": "code",
   "execution_count": 131,
   "metadata": {
    "collapsed": false,
    "scrolled": false
   },
   "outputs": [
    {
     "data": {
      "text/html": [
       "<div>\n",
       "<table border=\"1\" class=\"dataframe\">\n",
       "  <thead>\n",
       "    <tr style=\"text-align: right;\">\n",
       "      <th></th>\n",
       "      <th>Vir</th>\n",
       "      <th>relativno</th>\n",
       "    </tr>\n",
       "  </thead>\n",
       "  <tbody>\n",
       "    <tr>\n",
       "      <th>129</th>\n",
       "      <td>fox26houston.com</td>\n",
       "      <td>16.302675</td>\n",
       "    </tr>\n",
       "    <tr>\n",
       "      <th>277</th>\n",
       "      <td>nj.com</td>\n",
       "      <td>11.841107</td>\n",
       "    </tr>\n",
       "    <tr>\n",
       "      <th>294</th>\n",
       "      <td>perezhilton.com</td>\n",
       "      <td>7.802102</td>\n",
       "    </tr>\n",
       "    <tr>\n",
       "      <th>234</th>\n",
       "      <td>money.cnn.com</td>\n",
       "      <td>7.648140</td>\n",
       "    </tr>\n",
       "    <tr>\n",
       "      <th>37</th>\n",
       "      <td>bgr.com</td>\n",
       "      <td>5.866691</td>\n",
       "    </tr>\n",
       "  </tbody>\n",
       "</table>\n",
       "</div>"
      ],
      "text/plain": [
       "                  Vir  relativno\n",
       "129  fox26houston.com  16.302675\n",
       "277            nj.com  11.841107\n",
       "294   perezhilton.com   7.802102\n",
       "234     money.cnn.com   7.648140\n",
       "37            bgr.com   5.866691"
      ]
     },
     "execution_count": 131,
     "metadata": {},
     "output_type": "execute_result"
    }
   ],
   "source": [
    "skupna_viri.sort_values('relativno',ascending=False)[['Vir','relativno']].head()"
   ]
  },
  {
   "cell_type": "code",
   "execution_count": 136,
   "metadata": {
    "collapsed": false,
    "scrolled": false
   },
   "outputs": [
    {
     "data": {
      "text/html": [
       "<div>\n",
       "<table border=\"1\" class=\"dataframe\">\n",
       "  <thead>\n",
       "    <tr style=\"text-align: right;\">\n",
       "      <th></th>\n",
       "      <th>Naslov</th>\n",
       "      <th>Score</th>\n",
       "      <th>Komentarji</th>\n",
       "      <th>Vir</th>\n",
       "      <th>povprecje</th>\n",
       "    </tr>\n",
       "  </thead>\n",
       "  <tbody>\n",
       "    <tr>\n",
       "      <th>501</th>\n",
       "      <td>US Marshals arresting people for not paying their federal student loans</td>\n",
       "      <td>4332</td>\n",
       "      <td>5804</td>\n",
       "      <td>fox26houston.com</td>\n",
       "      <td>5068.0</td>\n",
       "    </tr>\n",
       "    <tr>\n",
       "      <th>494</th>\n",
       "      <td>No indictment against Planned Parenthood. This grand jury cleared PPGC of breaking the law. However, the grand jury did hand down indictments for two individuals who were involved in making the allegations against PPGC public via covert recordings made in April 2015.</td>\n",
       "      <td>5641</td>\n",
       "      <td>2101</td>\n",
       "      <td>fox26houston.com</td>\n",
       "      <td>3871.0</td>\n",
       "    </tr>\n",
       "  </tbody>\n",
       "</table>\n",
       "</div>"
      ],
      "text/plain": [
       "                                                                                                                                                                                                                                                                          Naslov  \\\n",
       "501                                                                                                                                                                                                      US Marshals arresting people for not paying their federal student loans   \n",
       "494  No indictment against Planned Parenthood. This grand jury cleared PPGC of breaking the law. However, the grand jury did hand down indictments for two individuals who were involved in making the allegations against PPGC public via covert recordings made in April 2015.   \n",
       "\n",
       "     Score  Komentarji               Vir  povprecje  \n",
       "501   4332        5804  fox26houston.com     5068.0  \n",
       "494   5641        2101  fox26houston.com     3871.0  "
      ]
     },
     "execution_count": 136,
     "metadata": {},
     "output_type": "execute_result"
    }
   ],
   "source": [
    "vse_novice[vse_novice['Vir']=='fox26houston.com'].sort_values(['Komentarji'],ascending=False).head()"
   ]
  },
  {
   "cell_type": "markdown",
   "metadata": {},
   "source": [
    "#### Kateri viri so izrazito najboljsi?"
   ]
  },
  {
   "cell_type": "code",
   "execution_count": 132,
   "metadata": {
    "collapsed": false,
    "scrolled": false
   },
   "outputs": [
    {
     "data": {
      "text/html": [
       "<div>\n",
       "<table border=\"1\" class=\"dataframe\">\n",
       "  <thead>\n",
       "    <tr style=\"text-align: right;\">\n",
       "      <th></th>\n",
       "      <th>Vir</th>\n",
       "      <th>relativno</th>\n",
       "    </tr>\n",
       "  </thead>\n",
       "  <tbody>\n",
       "    <tr>\n",
       "      <th>245</th>\n",
       "      <td>mysanantonio.com</td>\n",
       "      <td>-2.356385</td>\n",
       "    </tr>\n",
       "    <tr>\n",
       "      <th>93</th>\n",
       "      <td>dailykos.com</td>\n",
       "      <td>-1.776639</td>\n",
       "    </tr>\n",
       "    <tr>\n",
       "      <th>426</th>\n",
       "      <td>wsj.com</td>\n",
       "      <td>-1.498144</td>\n",
       "    </tr>\n",
       "    <tr>\n",
       "      <th>119</th>\n",
       "      <td>ew.com</td>\n",
       "      <td>-1.458813</td>\n",
       "    </tr>\n",
       "    <tr>\n",
       "      <th>354</th>\n",
       "      <td>theglobeandmail.com</td>\n",
       "      <td>-1.389063</td>\n",
       "    </tr>\n",
       "  </tbody>\n",
       "</table>\n",
       "</div>"
      ],
      "text/plain": [
       "                     Vir  relativno\n",
       "245     mysanantonio.com  -2.356385\n",
       "93          dailykos.com  -1.776639\n",
       "426              wsj.com  -1.498144\n",
       "119               ew.com  -1.458813\n",
       "354  theglobeandmail.com  -1.389063"
      ]
     },
     "execution_count": 132,
     "metadata": {},
     "output_type": "execute_result"
    }
   ],
   "source": [
    "skupna_viri.sort_values('relativno')[['Vir','relativno']].head()"
   ]
  },
  {
   "cell_type": "markdown",
   "metadata": {},
   "source": [
    "Oglejmo si še na katero stan se nagibajo prej omenjeni viri:"
   ]
  },
  {
   "cell_type": "code",
   "execution_count": 133,
   "metadata": {
    "collapsed": false,
    "scrolled": false
   },
   "outputs": [
    {
     "data": {
      "text/html": [
       "<div>\n",
       "<table border=\"1\" class=\"dataframe\">\n",
       "  <thead>\n",
       "    <tr style=\"text-align: right;\">\n",
       "      <th></th>\n",
       "      <th>Vir</th>\n",
       "      <th>Score_wnews_con</th>\n",
       "      <th>Komentarji_wnews_con</th>\n",
       "      <th>Score_news_con</th>\n",
       "      <th>Komentarji_news_con</th>\n",
       "      <th>povprecje_con</th>\n",
       "      <th>Score_wnews_top</th>\n",
       "      <th>Komentarji_wnews_top</th>\n",
       "      <th>Score_news_top</th>\n",
       "      <th>Komentarji_news_top</th>\n",
       "      <th>povprecje_top</th>\n",
       "      <th>relativno</th>\n",
       "    </tr>\n",
       "  </thead>\n",
       "  <tbody>\n",
       "    <tr>\n",
       "      <th>355</th>\n",
       "      <td>theguardian.com</td>\n",
       "      <td>0.878133</td>\n",
       "      <td>0.560984</td>\n",
       "      <td>2.577148</td>\n",
       "      <td>1.814947</td>\n",
       "      <td>1.824671</td>\n",
       "      <td>0.980827</td>\n",
       "      <td>0.749995</td>\n",
       "      <td>0.97422</td>\n",
       "      <td>0.935236</td>\n",
       "      <td>0.958591</td>\n",
       "      <td>0.86608</td>\n",
       "    </tr>\n",
       "  </tbody>\n",
       "</table>\n",
       "</div>"
      ],
      "text/plain": [
       "                 Vir  Score_wnews_con  Komentarji_wnews_con  Score_news_con  \\\n",
       "355  theguardian.com         0.878133              0.560984        2.577148   \n",
       "\n",
       "     Komentarji_news_con  povprecje_con  Score_wnews_top  \\\n",
       "355             1.814947       1.824671         0.980827   \n",
       "\n",
       "     Komentarji_wnews_top  Score_news_top  Komentarji_news_top  povprecje_top  \\\n",
       "355              0.749995         0.97422             0.935236       0.958591   \n",
       "\n",
       "     relativno  \n",
       "355    0.86608  "
      ]
     },
     "execution_count": 133,
     "metadata": {},
     "output_type": "execute_result"
    }
   ],
   "source": [
    "#The Guardian \n",
    "skupna_viri[skupna_viri['Vir']=='theguardian.com']"
   ]
  },
  {
   "cell_type": "code",
   "execution_count": 134,
   "metadata": {
    "collapsed": false,
    "scrolled": true
   },
   "outputs": [
    {
     "data": {
      "text/html": [
       "<div>\n",
       "<table border=\"1\" class=\"dataframe\">\n",
       "  <thead>\n",
       "    <tr style=\"text-align: right;\">\n",
       "      <th></th>\n",
       "      <th>Vir</th>\n",
       "      <th>Score_wnews_con</th>\n",
       "      <th>Komentarji_wnews_con</th>\n",
       "      <th>Score_news_con</th>\n",
       "      <th>Komentarji_news_con</th>\n",
       "      <th>povprecje_con</th>\n",
       "      <th>Score_wnews_top</th>\n",
       "      <th>Komentarji_wnews_top</th>\n",
       "      <th>Score_news_top</th>\n",
       "      <th>Komentarji_news_top</th>\n",
       "      <th>povprecje_top</th>\n",
       "      <th>relativno</th>\n",
       "    </tr>\n",
       "  </thead>\n",
       "  <tbody>\n",
       "    <tr>\n",
       "      <th>318</th>\n",
       "      <td>rt.com</td>\n",
       "      <td>1.552834</td>\n",
       "      <td>0.728763</td>\n",
       "      <td>0.39332</td>\n",
       "      <td>0.410447</td>\n",
       "      <td>0.790426</td>\n",
       "      <td>NaN</td>\n",
       "      <td>NaN</td>\n",
       "      <td>NaN</td>\n",
       "      <td>NaN</td>\n",
       "      <td>NaN</td>\n",
       "      <td>NaN</td>\n",
       "    </tr>\n",
       "  </tbody>\n",
       "</table>\n",
       "</div>"
      ],
      "text/plain": [
       "        Vir  Score_wnews_con  Komentarji_wnews_con  Score_news_con  \\\n",
       "318  rt.com         1.552834              0.728763         0.39332   \n",
       "\n",
       "     Komentarji_news_con  povprecje_con  Score_wnews_top  \\\n",
       "318             0.410447       0.790426              NaN   \n",
       "\n",
       "     Komentarji_wnews_top  Score_news_top  Komentarji_news_top  povprecje_top  \\\n",
       "318                   NaN             NaN                  NaN            NaN   \n",
       "\n",
       "     relativno  \n",
       "318        NaN  "
      ]
     },
     "execution_count": 134,
     "metadata": {},
     "output_type": "execute_result"
    }
   ],
   "source": [
    "#Russia Today \n",
    "skupna_viri[skupna_viri['Vir']=='rt.com']"
   ]
  },
  {
   "cell_type": "code",
   "execution_count": 135,
   "metadata": {
    "collapsed": false,
    "scrolled": true
   },
   "outputs": [
    {
     "data": {
      "text/html": [
       "<div>\n",
       "<table border=\"1\" class=\"dataframe\">\n",
       "  <thead>\n",
       "    <tr style=\"text-align: right;\">\n",
       "      <th></th>\n",
       "      <th>Vir</th>\n",
       "      <th>Score_wnews_con</th>\n",
       "      <th>Komentarji_wnews_con</th>\n",
       "      <th>Score_news_con</th>\n",
       "      <th>Komentarji_news_con</th>\n",
       "      <th>povprecje_con</th>\n",
       "      <th>Score_wnews_top</th>\n",
       "      <th>Komentarji_wnews_top</th>\n",
       "      <th>Score_news_top</th>\n",
       "      <th>Komentarji_news_top</th>\n",
       "      <th>povprecje_top</th>\n",
       "      <th>relativno</th>\n",
       "    </tr>\n",
       "  </thead>\n",
       "  <tbody>\n",
       "    <tr>\n",
       "      <th>94</th>\n",
       "      <td>dailymail.co.uk</td>\n",
       "      <td>0.100762</td>\n",
       "      <td>0.104725</td>\n",
       "      <td>0.657872</td>\n",
       "      <td>0.890478</td>\n",
       "      <td>0.607329</td>\n",
       "      <td>NaN</td>\n",
       "      <td>NaN</td>\n",
       "      <td>NaN</td>\n",
       "      <td>NaN</td>\n",
       "      <td>NaN</td>\n",
       "      <td>NaN</td>\n",
       "    </tr>\n",
       "  </tbody>\n",
       "</table>\n",
       "</div>"
      ],
      "text/plain": [
       "                Vir  Score_wnews_con  Komentarji_wnews_con  Score_news_con  \\\n",
       "94  dailymail.co.uk         0.100762              0.104725        0.657872   \n",
       "\n",
       "    Komentarji_news_con  povprecje_con  Score_wnews_top  Komentarji_wnews_top  \\\n",
       "94             0.890478       0.607329              NaN                   NaN   \n",
       "\n",
       "    Score_news_top  Komentarji_news_top  povprecje_top  relativno  \n",
       "94             NaN                  NaN            NaN        NaN  "
      ]
     },
     "execution_count": 135,
     "metadata": {},
     "output_type": "execute_result"
    }
   ],
   "source": [
    "# The Dailymail\n",
    "skupna_viri[skupna_viri['Vir']=='dailymail.co.uk']"
   ]
  },
  {
   "cell_type": "markdown",
   "metadata": {},
   "source": [
    "Še dodatno lahko utrdimo hipotezo 3, saj vidimo, da se dailymail.com in rt.com sploh ne pojavita v kateoriji najboljše!"
   ]
  },
  {
   "cell_type": "markdown",
   "metadata": {},
   "source": [
    "### Najpogostejše besede v naslovih \n",
    "vse_novice"
   ]
  },
  {
   "cell_type": "code",
   "execution_count": 178,
   "metadata": {
    "collapsed": true
   },
   "outputs": [],
   "source": [
    "from collections import Counter\n",
    "pogostost_besed_con =Counter(\" \".join(novice_kontroverzno[\"Naslov\"]).lower().split()).most_common(100)\n",
    "pogostost_besed_top =Counter(\" \".join(novice_najboljse[\"Naslov\"]).lower().split()).most_common(100)"
   ]
  },
  {
   "cell_type": "code",
   "execution_count": 179,
   "metadata": {
    "collapsed": false,
    "scrolled": true
   },
   "outputs": [
    {
     "data": {
      "text/plain": [
       "[('to', 1142),\n",
       " ('the', 1123),\n",
       " ('of', 846),\n",
       " ('in', 812),\n",
       " ('a', 723),\n",
       " ('and', 509),\n",
       " ('for', 498),\n",
       " ('on', 296),\n",
       " ('is', 244),\n",
       " ('that', 216),\n",
       " ('with', 215),\n",
       " ('has', 196),\n",
       " ('from', 186),\n",
       " ('after', 186),\n",
       " ('as', 169),\n",
       " ('by', 168),\n",
       " ('police', 154),\n",
       " ('who', 152),\n",
       " ('at', 151),\n",
       " ('have', 124),\n",
       " ('be', 121),\n",
       " ('was', 120),\n",
       " ('new', 106),\n",
       " ('will', 104),\n",
       " ('are', 103),\n",
       " ('it', 103),\n",
       " ('says', 102),\n",
       " ('an', 101),\n",
       " ('over', 93),\n",
       " ('man', 93),\n",
       " ('not', 89),\n",
       " ('-', 88),\n",
       " ('their', 88),\n",
       " ('his', 88),\n",
       " ('he', 87),\n",
       " ('been', 84),\n",
       " ('us', 83),\n",
       " ('its', 77),\n",
       " ('first', 76),\n",
       " ('they', 71),\n",
       " ('than', 70),\n",
       " ('years', 68),\n",
       " ('government', 66),\n",
       " ('all', 64),\n",
       " ('u.s.', 63),\n",
       " ('marijuana', 61),\n",
       " ('up', 61),\n",
       " ('state', 61),\n",
       " ('out', 60),\n",
       " ('more', 59),\n",
       " ('million', 58),\n",
       " ('into', 57),\n",
       " ('people', 56),\n",
       " ('no', 55),\n",
       " ('against', 54),\n",
       " ('court', 53),\n",
       " ('found', 53),\n",
       " ('were', 53),\n",
       " ('now', 51),\n",
       " ('saudi', 50),\n",
       " ('bill', 50),\n",
       " ('isis', 50),\n",
       " ('law', 49),\n",
       " ('her', 49),\n",
       " ('about', 48),\n",
       " ('or', 48),\n",
       " ('drug', 46),\n",
       " ('would', 46),\n",
       " ('this', 45),\n",
       " ('year', 45),\n",
       " ('said', 44),\n",
       " ('city', 44),\n",
       " ('one', 43),\n",
       " ('down', 43),\n",
       " ('oil', 43),\n",
       " ('two', 42),\n",
       " ('them', 42),\n",
       " ('because', 42),\n",
       " ('world', 42),\n",
       " ('just', 41),\n",
       " ('off', 41),\n",
       " ('officer', 40),\n",
       " ('public', 39),\n",
       " ('being', 39),\n",
       " ('killed', 39),\n",
       " ('woman', 39),\n",
       " ('during', 39),\n",
       " ('pay', 37),\n",
       " ('water', 37),\n",
       " ('north', 36),\n",
       " ('video', 36),\n",
       " ('prison', 35),\n",
       " ('him', 35),\n",
       " ('could', 34),\n",
       " ('president', 34),\n",
       " ('california', 34),\n",
       " ('death', 33),\n",
       " ('judge', 33),\n",
       " ('under', 33),\n",
       " ('report', 33)]"
      ]
     },
     "execution_count": 179,
     "metadata": {},
     "output_type": "execute_result"
    }
   ],
   "source": [
    "pogostost_besed_top"
   ]
  },
  {
   "cell_type": "markdown",
   "metadata": {},
   "source": [
    "Med najpogostejšimi besedami najboljše najdemo: police, government, US, marijuana, state, people"
   ]
  },
  {
   "cell_type": "code",
   "execution_count": 180,
   "metadata": {
    "collapsed": false,
    "scrolled": true
   },
   "outputs": [
    {
     "data": {
      "text/plain": [
       "[('the', 845),\n",
       " ('to', 740),\n",
       " ('of', 634),\n",
       " ('in', 621),\n",
       " ('a', 434),\n",
       " ('and', 358),\n",
       " ('for', 275),\n",
       " ('on', 251),\n",
       " ('is', 218),\n",
       " ('by', 174),\n",
       " ('from', 151),\n",
       " ('with', 149),\n",
       " ('at', 149),\n",
       " ('that', 127),\n",
       " ('israel', 122),\n",
       " ('-', 121),\n",
       " ('israeli', 114),\n",
       " ('have', 113),\n",
       " ('are', 107),\n",
       " ('as', 107),\n",
       " ('was', 102),\n",
       " ('be', 100),\n",
       " ('says', 95),\n",
       " ('after', 93),\n",
       " ('has', 89),\n",
       " ('us', 86),\n",
       " ('who', 83),\n",
       " ('gaza', 83),\n",
       " ('an', 81),\n",
       " ('it', 79),\n",
       " ('than', 78),\n",
       " ('not', 75),\n",
       " ('his', 74),\n",
       " ('you', 72),\n",
       " ('more', 68),\n",
       " ('new', 67),\n",
       " ('this', 64),\n",
       " ('they', 63),\n",
       " ('man', 62),\n",
       " ('over', 60),\n",
       " ('their', 60),\n",
       " ('people', 58),\n",
       " ('out', 57),\n",
       " ('no', 57),\n",
       " ('palestinian', 56),\n",
       " ('killed', 55),\n",
       " ('all', 52),\n",
       " ('i', 52),\n",
       " ('into', 51),\n",
       " ('about', 51),\n",
       " ('obama', 50),\n",
       " ('been', 49),\n",
       " ('will', 49),\n",
       " ('her', 46),\n",
       " ('against', 46),\n",
       " ('were', 45),\n",
       " ('gun', 44),\n",
       " ('if', 44),\n",
       " ('now', 44),\n",
       " ('world', 42),\n",
       " ('attack', 42),\n",
       " ('police', 41),\n",
       " ('u.s.', 41),\n",
       " ('hamas', 39),\n",
       " ('up', 39),\n",
       " ('one', 38),\n",
       " ('just', 37),\n",
       " ('white', 36),\n",
       " ('he', 35),\n",
       " ('children', 35),\n",
       " ('but', 35),\n",
       " ('girl', 35),\n",
       " ('nuclear', 35),\n",
       " ('war', 35),\n",
       " ('black', 33),\n",
       " ('we', 33),\n",
       " ('russian', 33),\n",
       " ('shooting', 33),\n",
       " ('school', 32),\n",
       " ('year', 32),\n",
       " ('muslim', 32),\n",
       " ('its', 32),\n",
       " ('shot', 31),\n",
       " ('news', 31),\n",
       " ('state', 31),\n",
       " ('russia', 30),\n",
       " ('found', 30),\n",
       " ('down', 30),\n",
       " ('dead', 30),\n",
       " ('being', 29),\n",
       " ('first', 29),\n",
       " ('during', 29),\n",
       " ('kill', 28),\n",
       " ('had', 28),\n",
       " ('because', 28),\n",
       " ('million', 28),\n",
       " ('get', 27),\n",
       " ('your', 27),\n",
       " ('while', 27),\n",
       " ('american', 27)]"
      ]
     },
     "execution_count": 180,
     "metadata": {},
     "output_type": "execute_result"
    }
   ],
   "source": [
    "pogostost_besed_con"
   ]
  },
  {
   "cell_type": "markdown",
   "metadata": {},
   "source": [
    "Med najpogostejšimi besedami kontroverzno najdemo : Israel, Gaza, palestinian, people, killed\n",
    "\n",
    "Razlika s seznamom besed kategorije najboljše je očitna. \n",
    "\n",
    "Dodatno lahko ugotovimo tudi, da je konflikt Izraela in Palestine eden izmed najkontroverznejših tem na Redditu."
   ]
  },
  {
   "cell_type": "markdown",
   "metadata": {},
   "source": [
    "#### Zaključek\n",
    "Analiza novic je potrdila 2 moji hipotezi in eno ovrgla. Skozi celotno analizo se je kazala očitna razlika med kategorijama najboljše in kontroverzno. Prva razlika se pojavi v kakovosti virov. Druga velika pa v pogostosti besed. V razdelku kontroverzno se pojavijo pogosteje besede, ki so pač kontroverzne. \n",
    "Ugotavljam, da je Reddit levo usmerjena platfoma z prostorom za debatiranje o kontraveznejših temah."
   ]
  },
  {
   "cell_type": "markdown",
   "metadata": {},
   "source": []
  }
 ],
 "metadata": {
  "kernelspec": {
   "display_name": "Python 3",
   "language": "python",
   "name": "python3"
  },
  "language_info": {
   "codemirror_mode": {
    "name": "ipython",
    "version": 3
   },
   "file_extension": ".py",
   "mimetype": "text/x-python",
   "name": "python",
   "nbconvert_exporter": "python",
   "pygments_lexer": "ipython3",
   "version": "3.5.1"
  }
 },
 "nbformat": 4,
 "nbformat_minor": 0
}
