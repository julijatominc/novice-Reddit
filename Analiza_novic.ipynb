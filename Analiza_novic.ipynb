{
 "cells": [
  {
   "cell_type": "markdown",
   "metadata": {
    "collapsed": true
   },
   "source": [
    "# Analiza podstrani(subredditov) r/news in r/worldnews spletne strani Reddit"
   ]
  },
  {
   "cell_type": "markdown",
   "metadata": {},
   "source": [
    "Reddit je ameriška zabavna, družbena in novičarska spletna stran.\n",
    "Na Reddit uporabniki objavljajo razne povezave (večinoma na druge spletne strani), ki jih lahko drugi uporabniki ocenijo pozitivno (upvote) ali negativno (downvote) in komentirajo. Razdeljena je na več podstrani-subredditov.\n",
    "\n",
    "Podstrani r/news in r/worldnews sta privzeti. Objave privzetih strani se pokažejo neregistriranim in novim uporabnikom na naslovnici(front page), ker se večina uporabnikov od podstrani ne odjavi, le prijavi, imajo tako privzete strani avtomatsko največ uporabnikov.\n",
    "\n",
    "Primerjala sem novice dveh takih večjih podstrani r/news-novice in r/worldnews-svetovne novice. Podstrani so razdeljene na več delov, analizirala sem top-najboljše in contraversial-kontraverzno.\n",
    "\n",
    "##Hipoteze\n",
    "    -1. r/news bo imel več ameriških virov novic kot r/worldnews.\n",
    "    -2. Viri r/worldnews bodo kvalitetnejše od virov r/news. (The Guardian > FoxNews ) \n",
    "    -3. Novice iz predela kontraverzno bodo iz tabloidov, rumenega tiska ali z zavajujočo vsebino.\n",
    "##Primerjave\n",
    "    -Primerjala bom iste novice iz obeh podstrani na podlagi komentarjev in točk.\n",
    "    -Primerjala bom, katere so najbolj komentirane in  najbolj pozitivno ocenjene novice."
   ]
  },
  {
   "cell_type": "code",
   "execution_count": 2,
   "metadata": {
    "collapsed": true
   },
   "outputs": [],
   "source": [
    "import pandas as pd"
   ]
  },
  {
   "cell_type": "code",
   "execution_count": 52,
   "metadata": {
    "collapsed": false
   },
   "outputs": [],
   "source": [
    "news_con=pd.read_csv('news_con.csv')\n",
    "news_top=pd.read_csv('news_top.csv')\n",
    "wnews_con=pd.read_csv('wnews_con.csv')\n",
    "wnews_top=pd.read_csv('wnews_top.csv')"
   ]
  },
  {
   "cell_type": "code",
   "execution_count": 74,
   "metadata": {
    "collapsed": false
   },
   "outputs": [],
   "source": [
    "news_con_viri=news_con.groupby(['Vir'],as_index=False)\n",
    "news_top_viri=news_top.groupby(['Vir'],as_index=False)\n",
    "wnews_con_viri=wnews_con.groupby(['Vir'],as_index=False)\n",
    "wnews_top_viri=wnews_top.groupby(['Vir'],as_index=False)"
   ]
  },
  {
   "cell_type": "markdown",
   "metadata": {},
   "source": [
    "###Hipoteza 1: r/news bo imel več ameriških virov novic kot r/worldnews\n",
    "Že v samem opisu podstrani r/worldnews je zapisano, da stran dovoljuje povezave na vse novice, razen notranjih zadev in politike ZDA. Tako še s preštetjem pojavitve virov potrdimo, da hipoteza drži."
   ]
  },
  {
   "cell_type": "code",
   "execution_count": 106,
   "metadata": {
    "collapsed": false
   },
   "outputs": [
    {
     "data": {
      "text/plain": [
       "Vir\n",
       "washingtonpost.com    38\n",
       "theguardian.com       32\n",
       "nbcnews.com           16\n",
       "nytimes.com           15\n",
       "arstechnica.com       13\n",
       "reuters.com           11\n",
       "cnn.com               10\n",
       "news.yahoo.com        10\n",
       "bigstory.ap.org        9\n",
       "latimes.com            8\n",
       "dtype: int64"
      ]
     },
     "execution_count": 106,
     "metadata": {},
     "output_type": "execute_result"
    }
   ],
   "source": [
    "news_con_viri['Vir'].size().sort_values(ascending=False).head(n=10)"
   ]
  },
  {
   "cell_type": "code",
   "execution_count": 103,
   "metadata": {
    "collapsed": false
   },
   "outputs": [
    {
     "data": {
      "text/plain": [
       "Vir\n",
       "washingtonpost.com    38\n",
       "theguardian.com       32\n",
       "nbcnews.com           16\n",
       "nytimes.com           15\n",
       "arstechnica.com       13\n",
       "reuters.com           11\n",
       "cnn.com               10\n",
       "news.yahoo.com        10\n",
       "bigstory.ap.org        9\n",
       "latimes.com            8\n",
       "dtype: int64"
      ]
     },
     "execution_count": 103,
     "metadata": {},
     "output_type": "execute_result"
    }
   ],
   "source": [
    "news_top_viri['Vir'].size().sort_values(ascending=False).head(n=10)"
   ]
  },
  {
   "cell_type": "code",
   "execution_count": 104,
   "metadata": {
    "collapsed": false,
    "scrolled": true
   },
   "outputs": [
    {
     "data": {
      "text/plain": [
       "Vir\n",
       "theguardian.com       52\n",
       "bbc.com               28\n",
       "independent.co.uk     26\n",
       "bbc.co.uk             23\n",
       "reuters.com           16\n",
       "nytimes.com           15\n",
       "washingtonpost.com    14\n",
       "rt.com                10\n",
       "cbc.ca                 9\n",
       "news.yahoo.com         8\n",
       "dtype: int64"
      ]
     },
     "execution_count": 104,
     "metadata": {},
     "output_type": "execute_result"
    }
   ],
   "source": [
    "wnews_top_viri['Vir'].size().sort_values(ascending=False).head(n=10)"
   ]
  },
  {
   "cell_type": "code",
   "execution_count": 105,
   "metadata": {
    "collapsed": false
   },
   "outputs": [
    {
     "data": {
      "text/plain": [
       "Vir\n",
       "rt.com                    44\n",
       "dailymail.co.uk           23\n",
       "self.worldnews            15\n",
       "timesofisrael.com         13\n",
       "bbc.co.uk                 13\n",
       "theguardian.com           12\n",
       "telegraph.co.uk           10\n",
       "news.bbc.co.uk            10\n",
       "israelnationalnews.com    10\n",
       "nytimes.com                9\n",
       "dtype: int64"
      ]
     },
     "execution_count": 105,
     "metadata": {},
     "output_type": "execute_result"
    }
   ],
   "source": [
    "wnews_con_viri['Vir'].size().sort_values(ascending=False).head(n=10)"
   ]
  },
  {
   "cell_type": "markdown",
   "metadata": {},
   "source": [
    "Komentar: \n",
    "(Analiziram samo 10 najpogostejših virov)\n",
    "V razdelku najboljše r/news se pojavi samo 1 neameriški vir (theguardian.com). V razdelku kontraverzno r/news jih je več (3: theguardian.com, independent.co.uk,dailymail.co.uk), vendar sta ameriška vira na prvih dveh mestih po pogostosti.\n",
    "Opaznejša je razlika v r/worldnews. V obeh razdelkih skupaj sta se samo 2 ameriška vira(nytimes.com, washingtonpost.com) uvrstila med 10 najpogostejših.\n",
    "\n",
    "Predvidevem lahko, da so bralci in naročniki r/news večinoma prebivalci ZDA, ki jih seveda zanimajo novice povezane z ZDA, bralci r/worldnews pa so ostali obiskovalci Reddita."
   ]
  },
  {
   "cell_type": "markdown",
   "metadata": {},
   "source": [
    "###Viri r/worldnews bodo kvalitetnejše od virov r/news.\n"
   ]
  },
  {
   "cell_type": "markdown",
   "metadata": {},
   "source": [
    "Že na začetku opazimo ameriško novičarsko stran foxnews.com na prvem mestu v kategoriji r/news kontraverzno. To ni nič presenetljivega, saj je bil kanal že večkrat obtožen prikrivanja in napihovanja informacij in pristranskega poročanja. To velikokrat vodi do 'clickbait' novic, ki zelo hitro pritegnejo bralca. Tukaj je izpisanih 5 najbolj komentiranih novic vira foxnews.com.\n",
    "Ugotovimo, da so kar 'kontraverzni'."
   ]
  },
  {
   "cell_type": "code",
   "execution_count": 107,
   "metadata": {
    "collapsed": false
   },
   "outputs": [
    {
     "data": {
      "text/html": [
       "<div>\n",
       "<table border=\"1\" class=\"dataframe\">\n",
       "  <thead>\n",
       "    <tr style=\"text-align: right;\">\n",
       "      <th></th>\n",
       "      <th>Naslov</th>\n",
       "      <th>Score</th>\n",
       "      <th>Komentarji</th>\n",
       "      <th>Vir</th>\n",
       "    </tr>\n",
       "  </thead>\n",
       "  <tbody>\n",
       "    <tr>\n",
       "      <th>362</th>\n",
       "      <td>Missouri cop was badly beaten before shooting ...</td>\n",
       "      <td>313</td>\n",
       "      <td>992</td>\n",
       "      <td>foxnews.com</td>\n",
       "    </tr>\n",
       "    <tr>\n",
       "      <th>558</th>\n",
       "      <td>Study: Murder rate drops as concealed carry pe...</td>\n",
       "      <td>41</td>\n",
       "      <td>63</td>\n",
       "      <td>foxnews.com</td>\n",
       "    </tr>\n",
       "    <tr>\n",
       "      <th>178</th>\n",
       "      <td>Tom Cruise: My work as an actor is as hard as ...</td>\n",
       "      <td>18</td>\n",
       "      <td>34</td>\n",
       "      <td>foxnews.com</td>\n",
       "    </tr>\n",
       "    <tr>\n",
       "      <th>535</th>\n",
       "      <td>2 NYPD cops shot in car, both critically injured</td>\n",
       "      <td>15</td>\n",
       "      <td>58</td>\n",
       "      <td>foxnews.com</td>\n",
       "    </tr>\n",
       "    <tr>\n",
       "      <th>534</th>\n",
       "      <td>Republicans envy the Holocaust industry and ha...</td>\n",
       "      <td>8</td>\n",
       "      <td>13</td>\n",
       "      <td>foxnews.com</td>\n",
       "    </tr>\n",
       "  </tbody>\n",
       "</table>\n",
       "</div>"
      ],
      "text/plain": [
       "                                                Naslov  Score  Komentarji          Vir\n",
       "362  Missouri cop was badly beaten before shooting ...    313         992  foxnews.com\n",
       "558  Study: Murder rate drops as concealed carry pe...     41          63  foxnews.com\n",
       "178  Tom Cruise: My work as an actor is as hard as ...     18          34  foxnews.com\n",
       "535   2 NYPD cops shot in car, both critically injured     15          58  foxnews.com\n",
       "534  Republicans envy the Holocaust industry and ha...      8          13  foxnews.com"
      ]
     },
     "execution_count": 107,
     "metadata": {},
     "output_type": "execute_result"
    }
   ],
   "source": [
    "news_con[news_con['Vir'] =='foxnews.com'].sort_values('Score', ascending=False).head(n=5)\n",
    "\n",
    "#news_con[news_con['Vir'] =='foxnews.com'].sort_values('Komentarji', ascending=False).head(n=5)"
   ]
  },
  {
   "cell_type": "markdown",
   "metadata": {},
   "source": [
    "Drugi najbolj pogosti vir je washingtonpost.com. Ta vir je eden izmed vodilnih ameriških medijev predvsem se je uveljavils poročanjem iz bele hiše. Ugotovimo, da je najbolj komentirana novica o legalizaciji istospolnih porok. "
   ]
  },
  {
   "cell_type": "code",
   "execution_count": 108,
   "metadata": {
    "collapsed": false,
    "scrolled": true
   },
   "outputs": [
    {
     "data": {
      "text/html": [
       "<div>\n",
       "<table border=\"1\" class=\"dataframe\">\n",
       "  <thead>\n",
       "    <tr style=\"text-align: right;\">\n",
       "      <th></th>\n",
       "      <th>Naslov</th>\n",
       "      <th>Score</th>\n",
       "      <th>Komentarji</th>\n",
       "      <th>Vir</th>\n",
       "    </tr>\n",
       "  </thead>\n",
       "  <tbody>\n",
       "    <tr>\n",
       "      <th>338</th>\n",
       "      <td>Supreme Court legalizes gay marriage</td>\n",
       "      <td>5170</td>\n",
       "      <td>17086</td>\n",
       "      <td>washingtonpost.com</td>\n",
       "    </tr>\n",
       "    <tr>\n",
       "      <th>211</th>\n",
       "      <td>Police get called on suicidal teenager cutting...</td>\n",
       "      <td>597</td>\n",
       "      <td>1574</td>\n",
       "      <td>washingtonpost.com</td>\n",
       "    </tr>\n",
       "    <tr>\n",
       "      <th>20</th>\n",
       "      <td>Pope Francis tells family that drove 13,000 mi...</td>\n",
       "      <td>2075</td>\n",
       "      <td>857</td>\n",
       "      <td>washingtonpost.com</td>\n",
       "    </tr>\n",
       "    <tr>\n",
       "      <th>95</th>\n",
       "      <td>Reddit bans subreddit for finding the Navy Yar...</td>\n",
       "      <td>1134</td>\n",
       "      <td>716</td>\n",
       "      <td>washingtonpost.com</td>\n",
       "    </tr>\n",
       "    <tr>\n",
       "      <th>148</th>\n",
       "      <td>There have been 334 days and 351 mass shooting...</td>\n",
       "      <td>11</td>\n",
       "      <td>117</td>\n",
       "      <td>washingtonpost.com</td>\n",
       "    </tr>\n",
       "  </tbody>\n",
       "</table>\n",
       "</div>"
      ],
      "text/plain": [
       "                                                Naslov  Score  Komentarji                 Vir\n",
       "338               Supreme Court legalizes gay marriage   5170       17086  washingtonpost.com\n",
       "211  Police get called on suicidal teenager cutting...    597        1574  washingtonpost.com\n",
       "20   Pope Francis tells family that drove 13,000 mi...   2075         857  washingtonpost.com\n",
       "95   Reddit bans subreddit for finding the Navy Yar...   1134         716  washingtonpost.com\n",
       "148  There have been 334 days and 351 mass shooting...     11         117  washingtonpost.com"
      ]
     },
     "execution_count": 108,
     "metadata": {},
     "output_type": "execute_result"
    }
   ],
   "source": [
    "news_con[news_con['Vir'] =='washingtonpost.com'].sort_values('Komentarji', ascending=False).head(n=5)"
   ]
  },
  {
   "cell_type": "markdown",
   "metadata": {},
   "source": [
    "V kategoriji r/news najboljše in r/worldnews so vsi viri iz zanesljivih uglednih virov. \n",
    "Razlika se ponovno pojavi v kategoriji r/worldnews kontraverzno. Tukaj prevladujeta ruski portal rt.com in dailymail.co.uk. Prvi je svetu poznana kot je svetu poznan kot propagandni medij ruske vlade, drugi je britanski tabloid z tračarsko vsebino."
   ]
  },
  {
   "cell_type": "code",
   "execution_count": 109,
   "metadata": {
    "collapsed": false
   },
   "outputs": [
    {
     "data": {
      "text/html": [
       "<div>\n",
       "<table border=\"1\" class=\"dataframe\">\n",
       "  <thead>\n",
       "    <tr style=\"text-align: right;\">\n",
       "      <th></th>\n",
       "      <th>Naslov</th>\n",
       "      <th>Score</th>\n",
       "      <th>Komentarji</th>\n",
       "      <th>Vir</th>\n",
       "    </tr>\n",
       "  </thead>\n",
       "  <tbody>\n",
       "    <tr>\n",
       "      <th>85</th>\n",
       "      <td>The US has been voted as the most significant ...</td>\n",
       "      <td>2233</td>\n",
       "      <td>5979</td>\n",
       "      <td>rt.com</td>\n",
       "    </tr>\n",
       "    <tr>\n",
       "      <th>235</th>\n",
       "      <td>UK: Man jailed for 33 months for pirating ‘Fas...</td>\n",
       "      <td>2396</td>\n",
       "      <td>3245</td>\n",
       "      <td>rt.com</td>\n",
       "    </tr>\n",
       "    <tr>\n",
       "      <th>135</th>\n",
       "      <td>Russell Brand: ‘Fanatical, terrorist, propagan...</td>\n",
       "      <td>1004</td>\n",
       "      <td>987</td>\n",
       "      <td>rt.com</td>\n",
       "    </tr>\n",
       "    <tr>\n",
       "      <th>123</th>\n",
       "      <td>New video: Edward Snowden receives award from ...</td>\n",
       "      <td>1593</td>\n",
       "      <td>575</td>\n",
       "      <td>rt.com</td>\n",
       "    </tr>\n",
       "    <tr>\n",
       "      <th>222</th>\n",
       "      <td>400 US mercenaries 'deployed on ground' in Ukr...</td>\n",
       "      <td>312</td>\n",
       "      <td>557</td>\n",
       "      <td>rt.com</td>\n",
       "    </tr>\n",
       "  </tbody>\n",
       "</table>\n",
       "</div>"
      ],
      "text/plain": [
       "                                                Naslov  Score  Komentarji     Vir\n",
       "85   The US has been voted as the most significant ...   2233        5979  rt.com\n",
       "235  UK: Man jailed for 33 months for pirating ‘Fas...   2396        3245  rt.com\n",
       "135  Russell Brand: ‘Fanatical, terrorist, propagan...   1004         987  rt.com\n",
       "123  New video: Edward Snowden receives award from ...   1593         575  rt.com\n",
       "222  400 US mercenaries 'deployed on ground' in Ukr...    312         557  rt.com"
      ]
     },
     "execution_count": 109,
     "metadata": {},
     "output_type": "execute_result"
    }
   ],
   "source": [
    "wnews_con[wnews_con['Vir'] =='rt.com'].sort_values('Komentarji', ascending=False).head(n=5)"
   ]
  },
  {
   "cell_type": "code",
   "execution_count": 110,
   "metadata": {
    "collapsed": false,
    "scrolled": true
   },
   "outputs": [
    {
     "data": {
      "text/html": [
       "<div>\n",
       "<table border=\"1\" class=\"dataframe\">\n",
       "  <thead>\n",
       "    <tr style=\"text-align: right;\">\n",
       "      <th></th>\n",
       "      <th>Naslov</th>\n",
       "      <th>Score</th>\n",
       "      <th>Komentarji</th>\n",
       "      <th>Vir</th>\n",
       "    </tr>\n",
       "  </thead>\n",
       "  <tbody>\n",
       "    <tr>\n",
       "      <th>192</th>\n",
       "      <td>Mobs of 'hundreds' of masked men rampage throu...</td>\n",
       "      <td>3339</td>\n",
       "      <td>6268</td>\n",
       "      <td>dailymail.co.uk</td>\n",
       "    </tr>\n",
       "    <tr>\n",
       "      <th>61</th>\n",
       "      <td>Roman Catholic church's paedophile investigato...</td>\n",
       "      <td>772</td>\n",
       "      <td>784</td>\n",
       "      <td>dailymail.co.uk</td>\n",
       "    </tr>\n",
       "    <tr>\n",
       "      <th>57</th>\n",
       "      <td>'No porn or prostitution': Islamic extremists ...</td>\n",
       "      <td>16</td>\n",
       "      <td>204</td>\n",
       "      <td>dailymail.co.uk</td>\n",
       "    </tr>\n",
       "    <tr>\n",
       "      <th>178</th>\n",
       "      <td>Secret £14million Bible in which 'Jesus predic...</td>\n",
       "      <td>83</td>\n",
       "      <td>151</td>\n",
       "      <td>dailymail.co.uk</td>\n",
       "    </tr>\n",
       "    <tr>\n",
       "      <th>307</th>\n",
       "      <td>'Someone's coming to get me': Terrified phone-...</td>\n",
       "      <td>359</td>\n",
       "      <td>149</td>\n",
       "      <td>dailymail.co.uk</td>\n",
       "    </tr>\n",
       "  </tbody>\n",
       "</table>\n",
       "</div>"
      ],
      "text/plain": [
       "                                                Naslov  Score  Komentarji              Vir\n",
       "192  Mobs of 'hundreds' of masked men rampage throu...   3339        6268  dailymail.co.uk\n",
       "61   Roman Catholic church's paedophile investigato...    772         784  dailymail.co.uk\n",
       "57   'No porn or prostitution': Islamic extremists ...     16         204  dailymail.co.uk\n",
       "178  Secret £14million Bible in which 'Jesus predic...     83         151  dailymail.co.uk\n",
       "307  'Someone's coming to get me': Terrified phone-...    359         149  dailymail.co.uk"
      ]
     },
     "execution_count": 110,
     "metadata": {},
     "output_type": "execute_result"
    }
   ],
   "source": [
    "wnews_con[wnews_con['Vir'] =='dailymail.co.uk'].sort_values('Komentarji', ascending=False).head(n=5)"
   ]
  },
  {
   "cell_type": "markdown",
   "metadata": {},
   "source": [
    "Komentar:\n",
    "Moja hipoteza je ovržena. Izkazalo se je, da se razlika pojavi v kategoriji kontraverzo. "
   ]
  },
  {
   "cell_type": "markdown",
   "metadata": {},
   "source": [
    "###Hipoteza3: Novice iz predela kontraverzno bodo iz tabloidov, rumenega tiska ali z zavajujočo vsebino."
   ]
  },
  {
   "cell_type": "markdown",
   "metadata": {},
   "source": [
    "To smo ravnokar ugotovili."
   ]
  },
  {
   "cell_type": "code",
   "execution_count": 38,
   "metadata": {
    "collapsed": false
   },
   "outputs": [
    {
     "data": {
      "text/html": [
       "<div>\n",
       "<table border=\"1\" class=\"dataframe\">\n",
       "  <thead>\n",
       "    <tr style=\"text-align: right;\">\n",
       "      <th></th>\n",
       "      <th>Score</th>\n",
       "      <th>Komentarji</th>\n",
       "    </tr>\n",
       "    <tr>\n",
       "      <th>Vir</th>\n",
       "      <th></th>\n",
       "      <th></th>\n",
       "    </tr>\n",
       "  </thead>\n",
       "  <tbody>\n",
       "    <tr>\n",
       "      <th>thelocal.dk</th>\n",
       "      <td>4138</td>\n",
       "      <td>10511</td>\n",
       "    </tr>\n",
       "    <tr>\n",
       "      <th>fox26houston.com</th>\n",
       "      <td>4313</td>\n",
       "      <td>5955</td>\n",
       "    </tr>\n",
       "    <tr>\n",
       "      <th>kansasfirstnews.com</th>\n",
       "      <td>2604</td>\n",
       "      <td>5371</td>\n",
       "    </tr>\n",
       "    <tr>\n",
       "      <th>nbcbayarea.com</th>\n",
       "      <td>3307</td>\n",
       "      <td>4782</td>\n",
       "    </tr>\n",
       "    <tr>\n",
       "      <th>clickorlando.com</th>\n",
       "      <td>1258</td>\n",
       "      <td>4416</td>\n",
       "    </tr>\n",
       "    <tr>\n",
       "      <th>news-medical.net</th>\n",
       "      <td>2252</td>\n",
       "      <td>4336</td>\n",
       "    </tr>\n",
       "    <tr>\n",
       "      <th>nj.com</th>\n",
       "      <td>3306</td>\n",
       "      <td>4227</td>\n",
       "    </tr>\n",
       "    <tr>\n",
       "      <th>nbcmiami.com</th>\n",
       "      <td>735</td>\n",
       "      <td>3669</td>\n",
       "    </tr>\n",
       "    <tr>\n",
       "      <th>tv.yahoo.com</th>\n",
       "      <td>991</td>\n",
       "      <td>3369</td>\n",
       "    </tr>\n",
       "    <tr>\n",
       "      <th>nme.com</th>\n",
       "      <td>3569</td>\n",
       "      <td>3210</td>\n",
       "    </tr>\n",
       "  </tbody>\n",
       "</table>\n",
       "</div>"
      ],
      "text/plain": [
       "                     Score  Komentarji\n",
       "Vir                                   \n",
       "thelocal.dk           4138       10511\n",
       "fox26houston.com      4313        5955\n",
       "kansasfirstnews.com   2604        5371\n",
       "nbcbayarea.com        3307        4782\n",
       "clickorlando.com      1258        4416\n",
       "news-medical.net      2252        4336\n",
       "nj.com                3306        4227\n",
       "nbcmiami.com           735        3669\n",
       "tv.yahoo.com           991        3369\n",
       "nme.com               3569        3210"
      ]
     },
     "execution_count": 38,
     "metadata": {},
     "output_type": "execute_result"
    }
   ],
   "source": [
    "news_con_viri.mean().sort_values(by='Score',ascending=False).head(n=10)\n",
    "news_con_viri.mean().sort_values(by='Komentarji',ascending=False).head(n=10)"
   ]
  },
  {
   "cell_type": "markdown",
   "metadata": {},
   "source": [
    "###Primerjava povprečnih komenarjev in točk virov vseh 4 datotek\n"
   ]
  },
  {
   "cell_type": "code",
   "execution_count": 118,
   "metadata": {
    "collapsed": false
   },
   "outputs": [],
   "source": [
    "#povprečje komentarjev in ocen za vsak vir\n",
    "news_con_viri2=news_con_viri.mean()\n",
    "news_top_viri2=news_top_viri.mean()\n",
    "wnews_con_viri2=wnews_con_viri.mean()\n",
    "wnews_top_viri2=wnews_top_viri.mean()\n"
   ]
  },
  {
   "cell_type": "code",
   "execution_count": 135,
   "metadata": {
    "collapsed": false
   },
   "outputs": [],
   "source": [
    "s=pd.merge(news_con_viri2,wnews_con_viri2,on='Vir', suffixes=('_wnews_con', '_news_con'))"
   ]
  },
  {
   "cell_type": "code",
   "execution_count": 153,
   "metadata": {
    "collapsed": true
   },
   "outputs": [],
   "source": [
    "%matplotlib inline"
   ]
  },
  {
   "cell_type": "code",
   "execution_count": 164,
   "metadata": {
    "collapsed": false
   },
   "outputs": [
    {
     "data": {
      "text/html": [
       "<div>\n",
       "<table border=\"1\" class=\"dataframe\">\n",
       "  <thead>\n",
       "    <tr style=\"text-align: right;\">\n",
       "      <th></th>\n",
       "      <th>Vir</th>\n",
       "      <th>Score_wnews_con</th>\n",
       "      <th>Komentarji_wnews_con</th>\n",
       "      <th>Score_news_con</th>\n",
       "      <th>Komentarji_news_con</th>\n",
       "    </tr>\n",
       "  </thead>\n",
       "  <tbody>\n",
       "    <tr>\n",
       "      <th>5</th>\n",
       "      <td>bgr.com</td>\n",
       "      <td>2925.000000</td>\n",
       "      <td>1183.000000</td>\n",
       "      <td>1345.000000</td>\n",
       "      <td>2391.000000</td>\n",
       "    </tr>\n",
       "    <tr>\n",
       "      <th>24</th>\n",
       "      <td>i.imgur.com</td>\n",
       "      <td>100.000000</td>\n",
       "      <td>100.000000</td>\n",
       "      <td>308.000000</td>\n",
       "      <td>302.000000</td>\n",
       "    </tr>\n",
       "    <tr>\n",
       "      <th>25</th>\n",
       "      <td>independent.co.uk</td>\n",
       "      <td>424.666667</td>\n",
       "      <td>1176.083333</td>\n",
       "      <td>870.250000</td>\n",
       "      <td>961.000000</td>\n",
       "    </tr>\n",
       "    <tr>\n",
       "      <th>29</th>\n",
       "      <td>marketwatch.com</td>\n",
       "      <td>99.000000</td>\n",
       "      <td>251.000000</td>\n",
       "      <td>750.000000</td>\n",
       "      <td>853.000000</td>\n",
       "    </tr>\n",
       "    <tr>\n",
       "      <th>33</th>\n",
       "      <td>nbcnews.com</td>\n",
       "      <td>753.000000</td>\n",
       "      <td>552.600000</td>\n",
       "      <td>105.000000</td>\n",
       "      <td>449.000000</td>\n",
       "    </tr>\n",
       "    <tr>\n",
       "      <th>39</th>\n",
       "      <td>nytimes.com</td>\n",
       "      <td>1167.250000</td>\n",
       "      <td>658.500000</td>\n",
       "      <td>198.111111</td>\n",
       "      <td>84.111111</td>\n",
       "    </tr>\n",
       "    <tr>\n",
       "      <th>42</th>\n",
       "      <td>rt.com</td>\n",
       "      <td>635.833333</td>\n",
       "      <td>330.500000</td>\n",
       "      <td>191.681818</td>\n",
       "      <td>297.386364</td>\n",
       "    </tr>\n",
       "    <tr>\n",
       "      <th>46</th>\n",
       "      <td>theguardian.com</td>\n",
       "      <td>366.250000</td>\n",
       "      <td>248.937500</td>\n",
       "      <td>801.083333</td>\n",
       "      <td>459.666667</td>\n",
       "    </tr>\n",
       "    <tr>\n",
       "      <th>47</th>\n",
       "      <td>theregister.co.uk</td>\n",
       "      <td>131.000000</td>\n",
       "      <td>208.500000</td>\n",
       "      <td>90.000000</td>\n",
       "      <td>60.000000</td>\n",
       "    </tr>\n",
       "    <tr>\n",
       "      <th>49</th>\n",
       "      <td>time.com</td>\n",
       "      <td>1223.000000</td>\n",
       "      <td>625.800000</td>\n",
       "      <td>145.000000</td>\n",
       "      <td>162.333333</td>\n",
       "    </tr>\n",
       "    <tr>\n",
       "      <th>52</th>\n",
       "      <td>twitter.com</td>\n",
       "      <td>104.000000</td>\n",
       "      <td>142.000000</td>\n",
       "      <td>944.500000</td>\n",
       "      <td>1895.000000</td>\n",
       "    </tr>\n",
       "    <tr>\n",
       "      <th>56</th>\n",
       "      <td>washingtontimes.com</td>\n",
       "      <td>181.250000</td>\n",
       "      <td>225.375000</td>\n",
       "      <td>617.500000</td>\n",
       "      <td>959.500000</td>\n",
       "    </tr>\n",
       "  </tbody>\n",
       "</table>\n",
       "</div>"
      ],
      "text/plain": [
       "                    Vir  Score_wnews_con  Komentarji_wnews_con  Score_news_con  Komentarji_news_con\n",
       "5               bgr.com      2925.000000           1183.000000     1345.000000          2391.000000\n",
       "24          i.imgur.com       100.000000            100.000000      308.000000           302.000000\n",
       "25    independent.co.uk       424.666667           1176.083333      870.250000           961.000000\n",
       "29      marketwatch.com        99.000000            251.000000      750.000000           853.000000\n",
       "33          nbcnews.com       753.000000            552.600000      105.000000           449.000000\n",
       "39          nytimes.com      1167.250000            658.500000      198.111111            84.111111\n",
       "42               rt.com       635.833333            330.500000      191.681818           297.386364\n",
       "46      theguardian.com       366.250000            248.937500      801.083333           459.666667\n",
       "47    theregister.co.uk       131.000000            208.500000       90.000000            60.000000\n",
       "49             time.com      1223.000000            625.800000      145.000000           162.333333\n",
       "52          twitter.com       104.000000            142.000000      944.500000          1895.000000\n",
       "56  washingtontimes.com       181.250000            225.375000      617.500000           959.500000"
      ]
     },
     "execution_count": 164,
     "metadata": {},
     "output_type": "execute_result"
    }
   ],
   "source": [
    "#naredimo izbor primernih virov, ki se povsod enakomerno povavijo\n",
    "s[((s['Score_wnews_con']>50) & (s['Score_news_con']>50)& (s['Komentarji_news_con']>40)& (s['Komentarji_wnews_con']>40))]"
   ]
  },
  {
   "cell_type": "code",
   "execution_count": 166,
   "metadata": {
    "collapsed": false
   },
   "outputs": [],
   "source": [
    "s1=s.set_index(['Vir'])"
   ]
  },
  {
   "cell_type": "code",
   "execution_count": 167,
   "metadata": {
    "collapsed": false
   },
   "outputs": [
    {
     "data": {
      "text/plain": [
       "<matplotlib.axes._subplots.AxesSubplot at 0x7f6877417cc0>"
      ]
     },
     "execution_count": 167,
     "metadata": {},
     "output_type": "execute_result"
    },
    {
     "data": {
      "image/png": "[encoded data removed]",
      "text/plain": [
       "<matplotlib.figure.Figure at 0x7f68773e2160>"
      ]
     },
     "metadata": {},
     "output_type": "display_data"
    }
   ],
   "source": [
    "s1.plot()"
   ]
  },
  {
   "cell_type": "code",
   "execution_count": null,
   "metadata": {
    "collapsed": true
   },
   "outputs": [],
   "source": []
  }
 ],
 "metadata": {
  "kernelspec": {
   "display_name": "Python 3",
   "language": "python",
   "name": "python3"
  },
  "language_info": {
   "codemirror_mode": {
    "name": "ipython",
    "version": 3
   },
   "file_extension": ".py",
   "mimetype": "text/x-python",
   "name": "python",
   "nbconvert_exporter": "python",
   "pygments_lexer": "ipython3",
   "version": "3.4.3"
  }
 },
 "nbformat": 4,
 "nbformat_minor": 0
}
